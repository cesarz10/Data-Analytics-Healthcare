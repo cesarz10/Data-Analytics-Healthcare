{
 "cells": [
  {
   "cell_type": "markdown",
   "metadata": {},
   "source": [
    "### Submission guidelines"
   ]
  },
  {
   "cell_type": "markdown",
   "metadata": {},
   "source": [
    "1. Fill in your name in the notebook in the top cell.\n",
    "2. Fill in the gaps in the code where indicated. <br> Make sure that you:<br> - fill in any place that says `YOUR CODE HERE` or \"YOUR ANSWER HERE\" <br> - **do not leave any `raise NotImplementedErrors`** in the code\n",
    "3. Do **NOT change the variable names**, however, you can add comments in the code.\n",
    "4. Do **NOT remove any of the cells** of the notebook!\n",
    "5. Discussion is allowed, but every student needs to hand a personal version of the lab. Plagiarism will be sanctioned!   \n",
    "6. Before submitting, restart your kernel & **make sure that every cell runs**.<br>Code that doesn't run will not be scored.<br>The notebooks with all source code, and optional extra files need to be handed in using Ufora.<br> Make sure all your notebooks are already executed when you upload them (i.e. there should be output after the cells). \n",
    "7. **Zip** your lab assignment folder and name the archive: `Surname_Name.zip` <br> Keep the same folder structure as the provided lab assignment!<br><span style='color: red'>Do not rename any of the notebooks or files</span>!<br>\n",
    "\n"
   ]
  },
  {
   "cell_type": "code",
   "execution_count": null,
   "metadata": {},
   "outputs": [],
   "source": [
    "NAME = \"\""
   ]
  },
  {
   "cell_type": "markdown",
   "metadata": {},
   "source": [
    "\n",
    "Final tip: make sure you have answered every question and filled in all the required code by running through the notebook and searching for *YOUR ANSWER HERE* and *YOUR CODE HERE*!\n",
    "\n",
    "Good luck!"
   ]
  },
  {
   "cell_type": "markdown",
   "metadata": {},
   "source": [
    "---"
   ]
  },
  {
   "cell_type": "markdown",
   "metadata": {
    "deletable": false,
    "editable": false,
    "nbgrader": {
     "cell_type": "markdown",
     "checksum": "ca2698b228a1a97427a17dfe3c172f30",
     "grade": false,
     "grade_id": "cell-1c35cfead761c820",
     "locked": true,
     "schema_version": 3,
     "solution": false,
     "task": false
    },
    "tags": []
   },
   "source": [
    "## Part 1: Linear Regression\n",
    "\n",
    "> Classification predicts only nominal values for the target variable. With regression analysis the value of a continuous target variable $y$ can be predicted by means of one or more input variables $x$. The most common and most basic form of regression analysis is **linear regression** analysis. The goal of this lab is to become acquainted with linear regression analysis applied with Python.\n",
    "You will be using stochastic gradient descent to optimize a linear regression model. This has been discussed in the lecture.\n",
    "\n",
    "The following topics will be covered in this lab:\n",
    "- Implementing a (univariate) linear regression model with the gradient descent algorithm\n",
    "- Testing the linear regression on a toy dataset\n",
    "- Apply univariate linear regression on a real dataset\n",
    "- Apply multivariate linear regression on a real dataset"
   ]
  },
  {
   "cell_type": "markdown",
   "metadata": {
    "deletable": false,
    "editable": false,
    "nbgrader": {
     "cell_type": "markdown",
     "checksum": "cc781aca9a274c4b1fc3d1e0bed45780",
     "grade": false,
     "grade_id": "cell-3f861fb648d1163f",
     "locked": true,
     "schema_version": 3,
     "solution": false,
     "task": false
    }
   },
   "source": [
    "## Imports"
   ]
  },
  {
   "cell_type": "code",
   "execution_count": null,
   "metadata": {
    "deletable": false,
    "editable": false,
    "nbgrader": {
     "cell_type": "code",
     "checksum": "9c8e10e66e31d33ba381c7bc90ae44c5",
     "grade": false,
     "grade_id": "cell-df20b1cb313784b5",
     "locked": true,
     "schema_version": 3,
     "solution": false,
     "task": false
    },
    "tags": []
   },
   "outputs": [],
   "source": [
    "import numpy as np\n",
    "import matplotlib.pylab as plt\n",
    "import pandas as pd"
   ]
  },
  {
   "cell_type": "markdown",
   "metadata": {
    "deletable": false,
    "editable": false,
    "nbgrader": {
     "cell_type": "markdown",
     "checksum": "83b3108f39d9bdc2b0a3ce302b9bd86e",
     "grade": false,
     "grade_id": "cell-8a1c1d5a401c41d6",
     "locked": true,
     "schema_version": 3,
     "solution": false,
     "task": false
    }
   },
   "source": [
    "# Exercise 1: Creating a (univariate) linear regression model"
   ]
  },
  {
   "cell_type": "markdown",
   "metadata": {
    "deletable": false,
    "editable": false,
    "nbgrader": {
     "cell_type": "markdown",
     "checksum": "3d4f3ec4570eeea8f1741c5d6687dc43",
     "grade": false,
     "grade_id": "cell-edf4292c89df3d44",
     "locked": true,
     "schema_version": 3,
     "solution": false,
     "task": false
    }
   },
   "source": [
    "## Generate the data\n",
    "We will generate some sample data here.  \n",
    "X is the independent variable (input)  \n",
    "y is the dependent variable (output)"
   ]
  },
  {
   "cell_type": "code",
   "execution_count": null,
   "metadata": {
    "deletable": false,
    "editable": false,
    "nbgrader": {
     "cell_type": "code",
     "checksum": "13ca15ccfad4ec94a8d276b3c5f59fbc",
     "grade": false,
     "grade_id": "cell-b524b6887ba73be1",
     "locked": true,
     "schema_version": 3,
     "solution": false,
     "task": false
    },
    "tags": []
   },
   "outputs": [],
   "source": [
    "y = np.array([ 19 , 20 , 20.5 , 21.5 , 22 , 23 , 23 , 25.5 , 24 , 25])\n",
    "X = np.arange(0,len(y)).reshape((len(y),1))"
   ]
  },
  {
   "cell_type": "markdown",
   "metadata": {
    "deletable": false,
    "editable": false,
    "nbgrader": {
     "cell_type": "markdown",
     "checksum": "a0e3cbf2296b788b2146f0658e1941c0",
     "grade": false,
     "grade_id": "cell-462f984b19ceab6f",
     "locked": true,
     "schema_version": 3,
     "solution": false,
     "task": false
    }
   },
   "source": [
    "## Plotting the data\n",
    "Let's start by plotting the generated data:\n",
    "- Create a scatter plot of the generated data\n"
   ]
  },
  {
   "cell_type": "code",
   "execution_count": null,
   "metadata": {
    "deletable": false,
    "nbgrader": {
     "cell_type": "code",
     "checksum": "2f40f965ef541fbe1b7562528cc05fff",
     "grade": true,
     "grade_id": "cell-c4cd0c8fbf0559e4",
     "locked": false,
     "points": 0.5,
     "schema_version": 3,
     "solution": true,
     "task": false
    },
    "tags": []
   },
   "outputs": [],
   "source": [
    "# YOUR CODE HERE\n",
    "raise NotImplementedError()"
   ]
  },
  {
   "cell_type": "markdown",
   "metadata": {
    "deletable": false,
    "editable": false,
    "nbgrader": {
     "cell_type": "markdown",
     "checksum": "0adbcc8123b718ae552cafa00bf66cdf",
     "grade": false,
     "grade_id": "cell-fbc4ceff83f3940a",
     "locked": true,
     "schema_version": 3,
     "solution": false,
     "task": false
    }
   },
   "source": [
    "You should see on the plot that the generated data roughly forms a line. The objective of linear regression is to find the parameters ($\\beta_0$ and $\\beta_1$) of a line:\n",
    "$$h(x) = \\beta_0 + \\beta_1 x$$\n",
    "so that the line best fits our data. "
   ]
  },
  {
   "cell_type": "markdown",
   "metadata": {
    "deletable": false,
    "editable": false,
    "nbgrader": {
     "cell_type": "markdown",
     "checksum": "6a3c1fcf95b815020d04635bc7b940e8",
     "grade": false,
     "grade_id": "cell-3e77aa215f04db81",
     "locked": true,
     "schema_version": 3,
     "solution": false,
     "task": false
    }
   },
   "source": [
    "To find the best fitting line, we need a metric that measures how well our line fits the data. As you have seen in the lecture, we can use the **mean squared of errors** for this. We call this function, the **cost function** or **loss**:  \n",
    " >$J(\\beta)=\\frac{1}{m}\\sum \\limits_{i=1}^{m} (h(x^{(i)})-y^{(i)})^2$  \n",
    " \n",
    "Where m is the number of datapoints, $x^{(i)}$ the $i^{th}$ input sample, $y^{(i)}$ the $i^{th}$ output sample and $h()$ is our model.\n",
    "- Implement this cost function, try to avoid using a for loop (**hint: You can use numpy operations, such as [np.sum](https://numpy.org/doc/stable/reference/generated/numpy.sum.html) and [np.newaxis](https://numpy.org/doc/stable/reference/constants.html?highlight=newaxis#numpy.newaxis) to make the dimensions of the X and y array match.**)"
   ]
  },
  {
   "cell_type": "code",
   "execution_count": null,
   "metadata": {
    "deletable": false,
    "nbgrader": {
     "cell_type": "code",
     "checksum": "c1d2c2da01c97951edb9f135a66b832e",
     "grade": true,
     "grade_id": "cell-cec93a785a1bb89e",
     "locked": false,
     "points": 1,
     "schema_version": 3,
     "solution": true,
     "task": false
    },
    "tags": []
   },
   "outputs": [],
   "source": [
    "def cost_function(X, y, b0, b1):\n",
    "    \"\"\"\n",
    "    Calculate the cost for the given data and parameters.\n",
    "\n",
    "    Parameters\n",
    "    ----------\n",
    "    X : {array-like}, shape (n_samples, n_features)\n",
    "        Training data\n",
    "\n",
    "    y : ndarray of shape (n_samples,)\n",
    "        Target values\n",
    "\n",
    "    b0 : float\n",
    "        Intercept\n",
    "\n",
    "    b1 : float\n",
    "        Coefficient\n",
    "    \"\"\"\n",
    "    # YOUR CODE HERE\n",
    "    raise NotImplementedError()\n",
    "    return cost"
   ]
  },
  {
   "cell_type": "code",
   "execution_count": null,
   "metadata": {
    "deletable": false,
    "editable": false,
    "nbgrader": {
     "cell_type": "code",
     "checksum": "374aaabf955e8c009142f4471508e564",
     "grade": true,
     "grade_id": "cell-2f7227c432d61900",
     "locked": true,
     "points": 1,
     "schema_version": 3,
     "solution": false,
     "task": false
    },
    "tags": []
   },
   "outputs": [],
   "source": [
    "\"\"\"Check that the mean_squared_errors method returns the correct output for several inputs\"\"\"\n",
    "assert round(cost_function(X, y, 0, 0)) == 504\n",
    "assert round(cost_function(X, y, 1, 1)) == 285\n",
    "assert round(cost_function(X, y, -10, -10)) == 6925\n"
   ]
  },
  {
   "cell_type": "markdown",
   "metadata": {
    "deletable": false,
    "editable": false,
    "nbgrader": {
     "cell_type": "markdown",
     "checksum": "5afac2b43284f436f6dd663347126756",
     "grade": false,
     "grade_id": "cell-ad84a2e2b053e5b9",
     "locked": true,
     "schema_version": 3,
     "solution": false,
     "task": false
    }
   },
   "source": [
    "Now that we have a cost function that can evaluate how well our model fit's the data, let's pretend you are the training algorithm. Use the *cost_function* method to find good values for $\\beta_0$ and $\\beta_1$ to achieve a cost (Mean Squared Error) lower than 1(**hint: look at the data you plotted above**). "
   ]
  },
  {
   "cell_type": "code",
   "execution_count": null,
   "metadata": {
    "deletable": false,
    "nbgrader": {
     "cell_type": "code",
     "checksum": "a49b713c5ea667bc8b69667720e9182a",
     "grade": false,
     "grade_id": "cell-2f3bc5877d3f7b1b",
     "locked": false,
     "schema_version": 3,
     "solution": true,
     "task": false
    },
    "tags": []
   },
   "outputs": [],
   "source": [
    "# YOUR CODE HERE\n",
    "raise NotImplementedError()\n",
    "b0 = 0\n",
    "b1 = 0\n",
    "\n",
    "print(\"b0:{}, b1:{} -> MSE: {}\".format(b0, b1, cost))"
   ]
  },
  {
   "cell_type": "code",
   "execution_count": null,
   "metadata": {
    "deletable": false,
    "nbgrader": {
     "cell_type": "code",
     "checksum": "b14992d4b4b94acea56e4b054ce88938",
     "grade": false,
     "grade_id": "cell-19afdbe833730284",
     "locked": false,
     "schema_version": 3,
     "solution": true,
     "task": false
    }
   },
   "outputs": [],
   "source": [
    "# YOUR CODE HERE\n",
    "raise NotImplementedError()"
   ]
  },
  {
   "cell_type": "markdown",
   "metadata": {
    "deletable": false,
    "editable": false,
    "nbgrader": {
     "cell_type": "markdown",
     "checksum": "08f0a42ebb9f191bd82089c87000d6e4",
     "grade": false,
     "grade_id": "cell-d7dbf7dc8ee3ea7f",
     "locked": true,
     "schema_version": 3,
     "solution": false,
     "task": false
    }
   },
   "source": [
    "Now, instead of finding good values for $\\beta_0$ and $\\beta_1$ ourselves, we will implement an algorithm that will find the best values for us. Therefore, we will use the gradient descent algorithm as you've seen in the lecture."
   ]
  },
  {
   "cell_type": "markdown",
   "metadata": {
    "deletable": false,
    "editable": false,
    "nbgrader": {
     "cell_type": "markdown",
     "checksum": "104b97dfb6499f6f8c9de971fe8dda2a",
     "grade": false,
     "grade_id": "cell-83e5b239826fa29a",
     "locked": true,
     "schema_version": 3,
     "solution": false,
     "task": false
    }
   },
   "source": [
    "## Quick recap of gradient descent\n",
    "As you have seen in the lecture, gradient descent is an optimization algorithm that allows to find a **local minimum** of a function. In our case we want to find the minimum MSE for our linear regressor model. The cost function we want to minimize is $J(\\beta)$ and the parameters we can change are $\\beta_0$ and $\\beta_1$. Remember that for linear regression the function we want to optimize has only one global minimum, which is very nice for gradient descent. The cost function with respect to the parameters $\\beta_0$ and $\\beta_1$ will be similar to the plot below."
   ]
  },
  {
   "cell_type": "code",
   "execution_count": null,
   "metadata": {
    "deletable": false,
    "editable": false,
    "nbgrader": {
     "cell_type": "code",
     "checksum": "909ec836a3c9725c0441607aca0c92e1",
     "grade": false,
     "grade_id": "cell-2503888a8d890df0",
     "locked": true,
     "schema_version": 3,
     "solution": false,
     "task": false
    },
    "tags": []
   },
   "outputs": [],
   "source": [
    "# Here is some code to make a simple 3D plot, pay attention to this code as you will have to plot 3D surfaces yourself afterwards.\n",
    "from matplotlib import cm\n",
    "resolution = 20 \n",
    "xx, yy = np.meshgrid(np.linspace(-10, 10, num=resolution), np.linspace(-10, 10, num=resolution))\n",
    "zz = (xx**2 + yy**2)\n",
    "\n",
    "fig = plt.figure(figsize=(10, 10))\n",
    "ax = fig.add_subplot(111, projection='3d')\n",
    "ax.plot_surface(xx, yy , zz, cmap=cm.Spectral)\n",
    "\n",
    "ax.set_xlabel(r'$\\beta_0$', size=20)\n",
    "ax.set_ylabel(r'$\\beta_1$', size=20)\n",
    "ax.set_zlabel(r'$J(\\beta)$', size=20)"
   ]
  },
  {
   "attachments": {
    "image.png": {
     "image/png": "[encoded data removed]"
    }
   },
   "cell_type": "markdown",
   "metadata": {
    "deletable": false,
    "editable": false,
    "nbgrader": {
     "cell_type": "markdown",
     "checksum": "605764cb2b6a922e709fd369cfb97f5f",
     "grade": false,
     "grade_id": "cell-35069bab2f227c74",
     "locked": true,
     "schema_version": 3,
     "solution": false,
     "task": false
    }
   },
   "source": [
    "With gradient descent we will update $\\beta_0$ and $\\beta_1$ in the direction of the descent. This will be repeated until a minimum is reached. Imagine a ball placed anywhere on the curve rolling down to the bottom, this is the path that the gradient descent algorithm will take.  \n",
    "But how do we know in which direction the minimum is? We can use derivatives to calculate the slope at any point on he surface. As shown in the figure below, in order to reach the minimum we need to take steps proportional to the **negative** of the gradient. We use a parameter $\\alpha$ (the learning rate) in order to control the step size.\n",
    "![image.png](attachment:image.png)"
   ]
  },
  {
   "cell_type": "markdown",
   "metadata": {
    "deletable": false,
    "editable": false,
    "nbgrader": {
     "cell_type": "markdown",
     "checksum": "2f57b5d73d03a0f692c3ca7368ff10e1",
     "grade": false,
     "grade_id": "cell-f3052e0df9045dbb",
     "locked": true,
     "schema_version": 3,
     "solution": false,
     "task": false
    }
   },
   "source": [
    "- If you want more information about gradient descent there are many great resources out there: \n",
    "    - https://en.wikipedia.org/wiki/Gradient_descent\n",
    "    - StatQuest gradient descent: https://www.youtube.com/watch?v=sDv4f4s2SB8\n",
    "    - (In a neural network context, but is a great series to gain insight into neural networks) https://youtu.be/IHZwWFHWa-w?t=415"
   ]
  },
  {
   "cell_type": "markdown",
   "metadata": {
    "deletable": false,
    "editable": false,
    "nbgrader": {
     "cell_type": "markdown",
     "checksum": "ac138c019a4744ba65e09937a076671b",
     "grade": false,
     "grade_id": "cell-6718a2dfa976d7f0",
     "locked": true,
     "schema_version": 3,
     "solution": false,
     "task": false
    }
   },
   "source": [
    "## Implementing gradient descent\n",
    "\n",
    "Now we will implement a gradient descent update step.\n",
    "\n",
    "### Step 1: Derive the partial derivative for all the the parameters, with respect to the cost function. We give you the formula's here:\n",
    "> Cost function: $$J(\\beta)=\\frac{1}{m}\\sum \\limits_{i=1}^{m} ((\\beta_0 + \\beta_1 x^{(i)})-y^{(i)})^2$$  \n",
    "\n",
    "\n",
    "$$\n",
    "\\begin{align} \n",
    "\\frac{\\delta J(\\beta)}{\\delta \\beta_0} &= \\frac{\\delta}{\\delta \\beta_0} \\frac{1}{m}\\sum \\limits_{i=1}^{m} ((\\beta_0 + \\beta_1 x^{(i)})-y^{(i)})^2 \\\\\n",
    "&= \\frac{1}{m}\\sum \\limits_{i=1}^{m} 2((\\beta_0 + \\beta_1 x^{(i)})-y^{(i)}) \\frac{\\delta}{\\delta \\beta_0}((\\beta_0 + \\beta_1 x^{(i)})-y^{(i)}) \\\\\n",
    "&= \\frac{1}{m}\\sum \\limits_{i=1}^{m} 2((\\beta_0 + \\beta_1 x^{(i)})-y^{(i)}) \n",
    "\\end{align}\n",
    "$$  \n",
    "\n",
    "\n",
    "$$\n",
    "\\begin{align}\n",
    "\\frac{\\delta J(\\beta)}{\\delta \\beta_1} &=\\frac{\\delta}{\\delta \\beta_1} \\frac{1}{m}\\sum \\limits_{i=1}^{m} ((\\beta_0 + \\beta_1 x^{(i)})-y^{(i)})^2 \\\\\n",
    "&= \\frac{1}{m}\\sum \\limits_{i=1}^{m} 2((\\beta_0 + \\beta_1 x^{(i)})-y^{(i)}) \\frac{\\delta}{\\delta \\beta_1}((\\beta_0 + \\beta_1 x^{(i)})-y^{(i)})\\\\\n",
    "&= \\frac{1}{m}\\sum \\limits_{i=1}^{m} 2x^{(i)}((\\beta_0 + \\beta_1 x^{(i)})-y^{(i)})\n",
    "\\end{align}\n",
    "$$\n",
    "\n",
    "### Step 2: Update the weights in the \"direction\" of the slope with a certain learning rate $\\alpha$:\n",
    "$$\n",
    "\\beta_j := \\beta_j - \\alpha \\frac{\\delta}{\\delta \\beta_j} J(\\beta) \\ \\ (for\\ j=0\\ and\\ j=1)\n",
    "$$\n",
    "\n",
    "> Implement a gradient descent step in the function underneath. Avoid using for loops."
   ]
  },
  {
   "cell_type": "code",
   "execution_count": null,
   "metadata": {
    "deletable": false,
    "nbgrader": {
     "cell_type": "code",
     "checksum": "344dd6db4bf3dabf686b47f353a3f4f8",
     "grade": true,
     "grade_id": "cell-bd57caadf8ececef",
     "locked": false,
     "points": 2,
     "schema_version": 3,
     "solution": true,
     "task": false
    },
    "tags": []
   },
   "outputs": [],
   "source": [
    "def gradient_descent_step(X, y, b0, b1, learning_rate):\n",
    "\n",
    "    # YOUR CODE HERE\n",
    "    raise NotImplementedError()\n",
    "    return b0, b1"
   ]
  },
  {
   "cell_type": "code",
   "execution_count": null,
   "metadata": {
    "deletable": false,
    "editable": false,
    "nbgrader": {
     "cell_type": "code",
     "checksum": "bce3b08ce1f6a9dd6f2b6440cbbd8a3c",
     "grade": true,
     "grade_id": "cell-fade16ee71a4732d",
     "locked": true,
     "points": 1,
     "schema_version": 3,
     "solution": false,
     "task": false
    },
    "tags": []
   },
   "outputs": [],
   "source": [
    "\"\"\"Checking the gradient descent step method with some precomputed values.\"\"\"\n",
    "s = f\"`gradient_descent_step` returns a wrong result, check your implementation!\"\n",
    "\n",
    "assert (np.round(gradient_descent_step(X, y, 1, 1, 0.001), decimals=3) == np.round((1.0337, 1.1464), decimals=3)).all(), s\n",
    "assert (np.round(gradient_descent_step(X, y, 1, 1, 0.1), decimals=3) == np.round((4.370000000000001, 15.64), decimals=3)).all(), s\n",
    "assert (np.round(gradient_descent_step(X, y, 19, 0.5, 0.1), decimals=3) == np.round((19.22, 1.79), decimals=3)).all(), s\n",
    "assert (np.round(gradient_descent_step(X, y, -10, 0.5, 0.1), decimals=3) == np.round((-3.9799999999999995, 27.89), decimals=3)).all(), s"
   ]
  },
  {
   "cell_type": "markdown",
   "metadata": {
    "deletable": false,
    "editable": false,
    "nbgrader": {
     "cell_type": "markdown",
     "checksum": "d1af1c2aacf4f8818b6463fef52fbc77",
     "grade": false,
     "grade_id": "cell-6fe64a55ec362c33",
     "locked": true,
     "schema_version": 3,
     "solution": false,
     "task": false
    }
   },
   "source": [
    "## Fitting a linear regressor on the data\n",
    "Now we will use the method you implemented above in a custom gradient descent univariate regressor class. This class is implemented for you below.  \n",
    "The **fit** method trains the model by calling the *gradient_descent_step method* a certain number of times (defined by the n_iter parameter). It also prints the MSE value every 50 iterations, so that you can see if your model trains correctly.  \n",
    "The **predict** method, predicts the values of y based on the input and the trained parameters."
   ]
  },
  {
   "cell_type": "code",
   "execution_count": null,
   "metadata": {
    "deletable": false,
    "editable": false,
    "nbgrader": {
     "cell_type": "code",
     "checksum": "066ef32ab2faf443d73b8f1f318a59b0",
     "grade": false,
     "grade_id": "cell-e7cac76c2b81d811",
     "locked": true,
     "schema_version": 3,
     "solution": false,
     "task": false
    },
    "tags": []
   },
   "outputs": [],
   "source": [
    "class customGDRegressor():\n",
    "    def __init__(self, n_iter, learning_rate):\n",
    "        self.n_iter = n_iter\n",
    "        self.learning_rate = learning_rate\n",
    "\n",
    "        # initialize b0 and b1\n",
    "        self.b0 = 0\n",
    "        self.b1 = 0\n",
    "    \n",
    "    def fit(self, X, y):\n",
    "        for i in range(self.n_iter):         \n",
    "            self.b0, self.b1 = gradient_descent_step(X, y, self.b0, self.b1, self.learning_rate)\n",
    "            \n",
    "            if (i % 50 == 0) or (i == (self.n_iter - 1)):\n",
    "                cost = cost_function(X, y, self.b0, self.b1)\n",
    "                print(\"Iteration {}/{}, MSE : {}\".format(i, self.n_iter, cost))   \n",
    "            \n",
    "    def predict(self, X):\n",
    "        y_pred = self.b0 + self.b1 * X\n",
    "        return y_pred"
   ]
  },
  {
   "cell_type": "markdown",
   "metadata": {
    "deletable": false,
    "editable": false,
    "nbgrader": {
     "cell_type": "markdown",
     "checksum": "7fe1cf0b5d31578fa1ed1a27bc0257c0",
     "grade": false,
     "grade_id": "cell-35933280d4e98dcf",
     "locked": true,
     "schema_version": 3,
     "solution": false,
     "task": false
    }
   },
   "source": [
    "Let's now use our univariate regressor on the sample data. \n",
    "- Train the model above on our sample dataset, play around with the number of iterations and learning rate. \n",
    "- Try to achieve an MSE value **lower than 0.5**. \n",
    "- Store the obtained values for b0 and b1 in **variables called b0 and b1 respectively** and print those."
   ]
  },
  {
   "cell_type": "code",
   "execution_count": null,
   "metadata": {
    "deletable": false,
    "nbgrader": {
     "cell_type": "code",
     "checksum": "54ab7e6c0f09904ea7583a00a4910ecc",
     "grade": false,
     "grade_id": "cell-afffe5fb8119f8d6",
     "locked": false,
     "schema_version": 3,
     "solution": true,
     "task": false
    },
    "tags": []
   },
   "outputs": [],
   "source": [
    "b0 = 0\n",
    "b1 = 0\n",
    "\n",
    "# YOUR CODE HERE\n",
    "raise NotImplementedError()"
   ]
  },
  {
   "cell_type": "code",
   "execution_count": null,
   "metadata": {
    "deletable": false,
    "editable": false,
    "nbgrader": {
     "cell_type": "code",
     "checksum": "2a89bdcde49d6883fd8c13147d73f5ce",
     "grade": true,
     "grade_id": "cell-9c85bdb1a3375f8a",
     "locked": true,
     "points": 2,
     "schema_version": 3,
     "solution": false,
     "task": false
    },
    "tags": []
   },
   "outputs": [],
   "source": [
    "assert b0, \"b0 is 0, are you sure you stored the model parameter to a variable called b0?\"\n",
    "assert b1, \"b1 is 0, are you sure you stored the model parameter to a variable called b1?\""
   ]
  },
  {
   "cell_type": "markdown",
   "metadata": {
    "deletable": false,
    "editable": false,
    "nbgrader": {
     "cell_type": "markdown",
     "checksum": "2e0b6bdfcddb9fc0b3fa6c04f5a8abdf",
     "grade": false,
     "grade_id": "cell-1c52622854cf27be",
     "locked": true,
     "schema_version": 3,
     "solution": false,
     "task": false
    }
   },
   "source": [
    "## Plot the data\n",
    "\n",
    "> Create a scatter plot of the data (X,y)\n",
    "\n",
    "> Plot the line you have just fitted."
   ]
  },
  {
   "cell_type": "code",
   "execution_count": null,
   "metadata": {
    "deletable": false,
    "nbgrader": {
     "cell_type": "code",
     "checksum": "893b15169a887dcc7be253d5eb74a185",
     "grade": true,
     "grade_id": "cell-4268de900bd4c946",
     "locked": false,
     "points": 0.5,
     "schema_version": 3,
     "solution": true,
     "task": false
    },
    "tags": []
   },
   "outputs": [],
   "source": [
    "# YOUR CODE HERE\n",
    "raise NotImplementedError()"
   ]
  },
  {
   "cell_type": "markdown",
   "metadata": {
    "deletable": false,
    "nbgrader": {
     "cell_type": "markdown",
     "checksum": "72f1635bf32ab95678b4d71fc9f3a7ce",
     "grade": true,
     "grade_id": "cell-9b50c7c66574a51a",
     "locked": false,
     "points": 1,
     "schema_version": 3,
     "solution": true,
     "task": false
    }
   },
   "source": [
    "**Question: Can the MSE value reach 0 in this example, what determines the lowest MSE value we can achieve?**\n",
    "\n",
    "YOUR ANSWER HERE"
   ]
  },
  {
   "cell_type": "code",
   "execution_count": null,
   "metadata": {
    "tags": []
   },
   "outputs": [],
   "source": [
    "#This cell is intended to draw you attention to the previous' cell question.\n",
    "dummy_var = False\n",
    "assert dummy_var, \"Do not forget to answer the previous' cell question, once you have done that set dummy_var to True to continue\""
   ]
  },
  {
   "cell_type": "markdown",
   "metadata": {
    "deletable": false,
    "editable": false,
    "nbgrader": {
     "cell_type": "markdown",
     "checksum": "81933993e840b5fd5c44c47fa7296357",
     "grade": false,
     "grade_id": "cell-cc6b0f53211067dc",
     "locked": true,
     "schema_version": 3,
     "solution": false,
     "task": false
    }
   },
   "source": [
    "# Exercise 2: Linear regression on real data\n",
    "\n",
    "> So far, no forecasting has been done. The regression line was fitted and evaluated on the same data. In this exercise, the data will be divided into training data and test data. The model wil be fitted on the test data and it's performance evaluated on the test data. This ensures that the measured performance of the model is representative for new unseen data.\n",
    "\n",
    "> In this exercise, you will work with the California Housing dataset, where the objective is to estimate the house value for California districts.\n"
   ]
  },
  {
   "cell_type": "markdown",
   "metadata": {
    "deletable": false,
    "editable": false,
    "nbgrader": {
     "cell_type": "markdown",
     "checksum": "612a1bc8d93c7af46c67352d7191191b",
     "grade": false,
     "grade_id": "cell-5757997f2bd57aaa",
     "locked": true,
     "schema_version": 3,
     "solution": false,
     "task": false
    }
   },
   "source": [
    "## Data prepration\n",
    "### Data exploration"
   ]
  },
  {
   "cell_type": "code",
   "execution_count": null,
   "metadata": {
    "deletable": false,
    "editable": false,
    "nbgrader": {
     "cell_type": "code",
     "checksum": "e545e7c964244e03b78d9fcf2d56855f",
     "grade": false,
     "grade_id": "cell-c93e0fa376cf7dd9",
     "locked": true,
     "schema_version": 3,
     "solution": false,
     "task": false
    },
    "tags": []
   },
   "outputs": [],
   "source": [
    "from sklearn.datasets import load_diabetes, fetch_california_housing"
   ]
  },
  {
   "cell_type": "code",
   "execution_count": null,
   "metadata": {
    "ExecuteTime": {
     "end_time": "2020-10-01T12:04:10.455323Z",
     "start_time": "2020-10-01T12:04:10.426858Z"
    },
    "deletable": false,
    "editable": false,
    "nbgrader": {
     "cell_type": "code",
     "checksum": "b10f114be92f2457e1fddd59d500b8da",
     "grade": false,
     "grade_id": "cell-512e2b696b8296ce",
     "locked": true,
     "schema_version": 3,
     "solution": false,
     "task": false
    },
    "tags": []
   },
   "outputs": [],
   "source": [
    "housing_data = fetch_california_housing(return_X_y=False)\n",
    "print(housing_data.DESCR)"
   ]
  },
  {
   "cell_type": "code",
   "execution_count": null,
   "metadata": {
    "deletable": false,
    "editable": false,
    "nbgrader": {
     "cell_type": "code",
     "checksum": "b6dc34433e1efb1d004b157f2731d8d3",
     "grade": false,
     "grade_id": "cell-eb71faf94f302be7",
     "locked": true,
     "schema_version": 3,
     "solution": false,
     "task": false
    },
    "tags": []
   },
   "outputs": [],
   "source": [
    "# Target values\n",
    "housing_data.target"
   ]
  },
  {
   "cell_type": "code",
   "execution_count": null,
   "metadata": {
    "deletable": false,
    "editable": false,
    "nbgrader": {
     "cell_type": "code",
     "checksum": "cba30e58fa507f88678aa26b75a3fea0",
     "grade": false,
     "grade_id": "cell-67a4255547cfe18c",
     "locked": true,
     "schema_version": 3,
     "solution": false,
     "task": false
    },
    "tags": []
   },
   "outputs": [],
   "source": [
    "# The features\n",
    "housing_data.data"
   ]
  },
  {
   "cell_type": "code",
   "execution_count": null,
   "metadata": {
    "deletable": false,
    "editable": false,
    "nbgrader": {
     "cell_type": "code",
     "checksum": "a9f5d529f8a5e8deeb9c6f8f430f464e",
     "grade": false,
     "grade_id": "cell-7942af0e1fbac930",
     "locked": true,
     "schema_version": 3,
     "solution": false,
     "task": false
    },
    "tags": []
   },
   "outputs": [],
   "source": [
    "# The feature names\n",
    "housing_data.feature_names"
   ]
  },
  {
   "cell_type": "markdown",
   "metadata": {
    "deletable": false,
    "editable": false,
    "nbgrader": {
     "cell_type": "markdown",
     "checksum": "bfadd2c5a13a127a4c2680f0766da574",
     "grade": false,
     "grade_id": "cell-0ee8e4a42e8f88dd",
     "locked": true,
     "schema_version": 3,
     "solution": false,
     "task": false
    }
   },
   "source": [
    "The data we loaded is not contained in a nice dataframe as we are used to, start by making a dataframe from the boston dataset and show the **first 10 rows** of the data. Don't forget to include the target data (Median House Value) into your dataframe, name this column **MHV**. (**Hint: You can use [np.concatenate](https://numpy.org/doc/stable/reference/generated/numpy.concatenate.html) to concat numpy arrays**)"
   ]
  },
  {
   "cell_type": "code",
   "execution_count": null,
   "metadata": {
    "deletable": false,
    "nbgrader": {
     "cell_type": "code",
     "checksum": "bb7886d24f0e1d1802903e7c47220f13",
     "grade": true,
     "grade_id": "cell-ba1297d06dd9c618",
     "locked": false,
     "points": 1,
     "schema_version": 3,
     "solution": true,
     "task": false
    },
    "tags": []
   },
   "outputs": [],
   "source": [
    "df = None\n",
    "# YOUR CODE HERE\n",
    "raise NotImplementedError()\n",
    "\n",
    "df.head(n=10)"
   ]
  },
  {
   "cell_type": "markdown",
   "metadata": {
    "deletable": false,
    "editable": false,
    "nbgrader": {
     "cell_type": "markdown",
     "checksum": "ff3ecf68e07e04760417288af121b45c",
     "grade": false,
     "grade_id": "cell-6268b3ebe2f78e41",
     "locked": true,
     "schema_version": 3,
     "solution": false,
     "task": false
    },
    "tags": []
   },
   "source": [
    "**Question: What is the range of the age column (minimum and maximum)?**"
   ]
  },
  {
   "cell_type": "code",
   "execution_count": null,
   "metadata": {
    "ExecuteTime": {
     "end_time": "2020-10-01T11:42:39.432087Z",
     "start_time": "2020-10-01T11:42:39.419750Z"
    },
    "deletable": false,
    "nbgrader": {
     "cell_type": "code",
     "checksum": "e27a8f39d5df29e32c99892fd6b87e41",
     "grade": false,
     "grade_id": "cell-095973d4a1696601",
     "locked": false,
     "schema_version": 3,
     "solution": true,
     "task": false
    },
    "tags": []
   },
   "outputs": [],
   "source": [
    "min_age = None\n",
    "max_age = None\n",
    "# YOUR CODE HERE\n",
    "raise NotImplementedError()"
   ]
  },
  {
   "cell_type": "code",
   "execution_count": null,
   "metadata": {
    "deletable": false,
    "editable": false,
    "nbgrader": {
     "cell_type": "code",
     "checksum": "58ace5aec7329b1e4f47abb1edfc9a1c",
     "grade": true,
     "grade_id": "cell-1c8eedcc806f4168",
     "locked": true,
     "points": 0.5,
     "schema_version": 3,
     "solution": false,
     "task": false
    },
    "tags": []
   },
   "outputs": [],
   "source": [
    "print(f\"Min age: {min_age}\")\n",
    "print(f\"Max age: {max_age}\")"
   ]
  },
  {
   "cell_type": "markdown",
   "metadata": {
    "ExecuteTime": {
     "end_time": "2020-10-01T11:38:35.622644Z",
     "start_time": "2020-10-01T11:38:35.611192Z"
    },
    "deletable": false,
    "editable": false,
    "nbgrader": {
     "cell_type": "markdown",
     "checksum": "545e395e40495b685df26dedd7dde5f6",
     "grade": false,
     "grade_id": "cell-a84965c6dbd3bdf5",
     "locked": true,
     "schema_version": 3,
     "solution": false,
     "task": false
    }
   },
   "source": [
    "**Question: Do any of the features or target variable have NULL values?**"
   ]
  },
  {
   "cell_type": "code",
   "execution_count": null,
   "metadata": {
    "ExecuteTime": {
     "end_time": "2020-10-01T11:45:13.040503Z",
     "start_time": "2020-10-01T11:45:13.025308Z"
    },
    "deletable": false,
    "nbgrader": {
     "cell_type": "code",
     "checksum": "591f063c9a7f212fc6de289f1cf8ee89",
     "grade": true,
     "grade_id": "cell-43f80b4c5682225b",
     "locked": false,
     "points": 0.5,
     "schema_version": 3,
     "solution": true,
     "task": false
    },
    "tags": []
   },
   "outputs": [],
   "source": [
    "# YOUR CODE HERE\n",
    "raise NotImplementedError()"
   ]
  },
  {
   "cell_type": "markdown",
   "metadata": {
    "deletable": false,
    "editable": false,
    "nbgrader": {
     "cell_type": "markdown",
     "checksum": "b2f6e3e2cd47ccd6647ff99ad41fd30d",
     "grade": false,
     "grade_id": "cell-92bfcec7a3d76b05",
     "locked": true,
     "schema_version": 3,
     "solution": false,
     "task": false
    }
   },
   "source": [
    "**Question: Make a summary of the dataset: min, max, mean, std,... per column.**"
   ]
  },
  {
   "cell_type": "code",
   "execution_count": null,
   "metadata": {
    "ExecuteTime": {
     "end_time": "2020-10-01T11:50:43.281685Z",
     "start_time": "2020-10-01T11:50:43.097120Z"
    },
    "deletable": false,
    "nbgrader": {
     "cell_type": "code",
     "checksum": "14679f5afaf91d68744704bf0c2e6d36",
     "grade": true,
     "grade_id": "cell-d3f3ca88a1e05e2c",
     "locked": false,
     "points": 0.5,
     "schema_version": 3,
     "solution": true,
     "task": false
    },
    "tags": []
   },
   "outputs": [],
   "source": [
    "# YOUR CODE HERE\n",
    "raise NotImplementedError()"
   ]
  },
  {
   "cell_type": "markdown",
   "metadata": {
    "deletable": false,
    "editable": false,
    "nbgrader": {
     "cell_type": "markdown",
     "checksum": "c5a3fc39321e91376617393b27c9558e",
     "grade": false,
     "grade_id": "cell-35ac15442fb15582",
     "locked": true,
     "schema_version": 3,
     "solution": false,
     "task": false
    }
   },
   "source": [
    "**Question: Make a boxplot for the different columns, the Y-axis should be logarithmic**\n",
    " - Tip: Matplotlib has already been imported."
   ]
  },
  {
   "cell_type": "code",
   "execution_count": null,
   "metadata": {
    "ExecuteTime": {
     "end_time": "2020-10-01T11:48:56.972703Z",
     "start_time": "2020-10-01T11:48:56.141068Z"
    },
    "deletable": false,
    "nbgrader": {
     "cell_type": "code",
     "checksum": "6274dbfcb47a00dc436c8d1706540f0d",
     "grade": true,
     "grade_id": "cell-6ecd3127d5f2919f",
     "locked": false,
     "points": 1,
     "schema_version": 3,
     "solution": true,
     "task": false
    },
    "tags": []
   },
   "outputs": [],
   "source": [
    "# YOUR CODE HERE\n",
    "raise NotImplementedError()"
   ]
  },
  {
   "cell_type": "markdown",
   "metadata": {
    "deletable": false,
    "editable": false,
    "nbgrader": {
     "cell_type": "markdown",
     "checksum": "e104c09eb0ea1b3144fe2bec26ad786c",
     "grade": false,
     "grade_id": "cell-3a6f9c3dd4d68198",
     "locked": true,
     "schema_version": 3,
     "solution": false,
     "task": false
    }
   },
   "source": [
    "**Question: Explore the dataset by making scatter plots of some features with respect to the target value. Plot at least the following pairs:**\n",
    "- Median Income - MHV\n",
    "- Population - MHV"
   ]
  },
  {
   "cell_type": "code",
   "execution_count": null,
   "metadata": {
    "deletable": false,
    "nbgrader": {
     "cell_type": "code",
     "checksum": "ec403be1b4536f904c6cc0785fec2681",
     "grade": true,
     "grade_id": "cell-e1aaaf95e74979c2",
     "locked": false,
     "points": 1,
     "schema_version": 3,
     "solution": true,
     "task": false
    },
    "tags": []
   },
   "outputs": [],
   "source": [
    "# YOUR CODE HERE\n",
    "raise NotImplementedError()"
   ]
  },
  {
   "cell_type": "markdown",
   "metadata": {
    "deletable": false,
    "editable": false,
    "nbgrader": {
     "cell_type": "markdown",
     "checksum": "e5c2fffbdd5f95301e5bdaf785e6a194",
     "grade": false,
     "grade_id": "cell-511f8973501a79ce",
     "locked": true,
     "schema_version": 3,
     "solution": false,
     "task": false
    }
   },
   "source": [
    "### Correlation between features, and target value\n",
    "\n",
    ">The Pearson Correlation is a measure of the linear dependence (correlation) between two variables. The result is a value between +1 and -1 inclusive. It can be used to examine the linear dependence of a target variable $y$ and the input variable $X$ in order to determine the suitability of input data to be used for linear models.\n",
    "\n",
    "**Question:**\n",
    " - **Calculate the pearson correlation between the different features and the target variable**\n",
    " - **Plot the correlation matrix (Tip: You can use [matshow](https://matplotlib.org/stable/api/_as_gen/matplotlib.pyplot.matshow.html) or [pcolor](https://matplotlib.org/stable/api/_as_gen/matplotlib.pyplot.pcolor.html) functions).**"
   ]
  },
  {
   "cell_type": "code",
   "execution_count": null,
   "metadata": {
    "ExecuteTime": {
     "end_time": "2020-10-01T12:30:34.105184Z",
     "start_time": "2020-10-01T12:30:33.814628Z"
    },
    "deletable": false,
    "nbgrader": {
     "cell_type": "code",
     "checksum": "f62039eb77bc99ccbb207628bec4168d",
     "grade": true,
     "grade_id": "cell-110d10ecc5d9f3b8",
     "locked": false,
     "points": 1,
     "schema_version": 3,
     "solution": true,
     "task": false
    },
    "tags": []
   },
   "outputs": [],
   "source": [
    "# YOUR CODE HERE\n",
    "raise NotImplementedError()"
   ]
  },
  {
   "cell_type": "markdown",
   "metadata": {
    "deletable": false,
    "nbgrader": {
     "cell_type": "markdown",
     "checksum": "4d4e4f87a5ef3df8b4d44360111bb5e6",
     "grade": true,
     "grade_id": "cell-f6509bbf55bb1806",
     "locked": false,
     "points": 2,
     "schema_version": 3,
     "solution": true,
     "task": false
    }
   },
   "source": [
    "**Question: Which feature has the highest (abs) correlation with the variable we want to predict? What does it say about the relation of those two variables?**\n",
    "\n",
    "YOUR ANSWER HERE"
   ]
  },
  {
   "cell_type": "code",
   "execution_count": null,
   "metadata": {
    "tags": []
   },
   "outputs": [],
   "source": [
    "#This cell is intended to draw you attention to the previous' cell question.\n",
    "dummy_var = False\n",
    "assert dummy_var, \"Do not forget to answer the previous' cell question, once you have done that set dummy_var to True to continue\""
   ]
  },
  {
   "cell_type": "markdown",
   "metadata": {
    "deletable": false,
    "editable": false,
    "nbgrader": {
     "cell_type": "markdown",
     "checksum": "7fface71f1fa2d2f30f76a182a35dcd3",
     "grade": false,
     "grade_id": "cell-98f69e0148b0946d",
     "locked": true,
     "schema_version": 3,
     "solution": false,
     "task": false
    }
   },
   "source": [
    "### Create train and test data\n",
    "\n",
    "- In order to evaluate the performance of the linear regressor, you’ll have to split the data into training and test data. Use the **train_test_split()** method from scikit-learn in order to get the X_train, X_test, y_train and y_test subsets. You’ll have to set the method’s train_size parameter for determining the percentage of data to be used for training the model and how many data to be left for testing the model. Set the amount of training data on 80%.\n",
    "\n",
    "- Set the **random_state** parameter of **train test split()** method to **777** in order to assure that the data is always divided in the same way. Otherwise, your results will differ each time you start the script (and therefore not fit with the sample solution for this exercise).\n",
    "\n",
    "- Make sure the X variable has the following shape: (n_rows,n_cols), n_cols will be equal to 1 at the moment."
   ]
  },
  {
   "cell_type": "code",
   "execution_count": null,
   "metadata": {
    "deletable": false,
    "nbgrader": {
     "cell_type": "code",
     "checksum": "48c20845ec91ffbe2cb34553315297be",
     "grade": false,
     "grade_id": "cell-ab9acc48dfe92548",
     "locked": false,
     "schema_version": 3,
     "solution": true,
     "task": false
    },
    "tags": []
   },
   "outputs": [],
   "source": [
    "from sklearn.model_selection import train_test_split\n",
    "\n",
    "# YOUR CODE HERE\n",
    "raise NotImplementedError()"
   ]
  },
  {
   "cell_type": "code",
   "execution_count": null,
   "metadata": {
    "deletable": false,
    "editable": false,
    "nbgrader": {
     "cell_type": "code",
     "checksum": "925bfb0a4efc2b460a61841274f72562",
     "grade": true,
     "grade_id": "cell-368d6d5e3e0b1b58",
     "locked": true,
     "points": 1,
     "schema_version": 3,
     "solution": false,
     "task": false
    },
    "tags": []
   },
   "outputs": [],
   "source": [
    "print(\"X_train shape:\", X_train.shape)\n",
    "print(\"X_test shape:\", X_test.shape)\n",
    "print(\"y_train shape:\", y_train.shape)\n",
    "print(\"y_test shape:\", y_test.shape)\n",
    "\n",
    "assert X_train.shape == (16512, 8), \"Shape of X_train is wrong.\"\n",
    "assert X_test.shape == (4128, 8), \"Shape of X_test is wrong.\"\n",
    "assert y_train.shape == (16512,), \"Shape of y_train is wrong.\"\n",
    "assert y_test.shape == (4128,), \"Shape of y_test is wrong.\""
   ]
  },
  {
   "cell_type": "markdown",
   "metadata": {
    "deletable": false,
    "editable": false,
    "nbgrader": {
     "cell_type": "markdown",
     "checksum": "30600e2e2b35b4e607efb90931f7bd0c",
     "grade": false,
     "grade_id": "cell-2cde8e1d658b3628",
     "locked": true,
     "schema_version": 3,
     "solution": false,
     "task": false
    }
   },
   "source": [
    "### Data normalization\n",
    "- Data normalization is very important for a lot of machine learning models\n",
    "\n",
    "- Read: https://en.wikipedia.org/wiki/Feature_scaling\n",
    "- Summarized: bring all features on the same scale: \n",
    "    - otherwise some machine learning classifier based on euclidean distances will not work properly (the distance will be dominated by the feature with the most extreme values) \n",
    "    - otherwise the convergence of gradient descent algorithms (used for minimizing the cost function J) will take much longer to converge.\n",
    "\n",
    "- Normalise your training and test data features with the following formula: \n",
    "\n",
    "    $x' = \\frac{x - x_{mean}}{ \\sigma}$\n",
    "\n",
    "    - **Attention: Use the mean and standard deviation calculated on your train set to normalise your test set!**"
   ]
  },
  {
   "cell_type": "code",
   "execution_count": null,
   "metadata": {
    "ExecuteTime": {
     "end_time": "2020-10-01T12:37:42.162824Z",
     "start_time": "2020-10-01T12:37:42.148182Z"
    },
    "deletable": false,
    "nbgrader": {
     "cell_type": "code",
     "checksum": "3d7faf70d71e3e2337a922c4c75cabdf",
     "grade": false,
     "grade_id": "cell-06cb8f36a7902ccb",
     "locked": false,
     "schema_version": 3,
     "solution": true,
     "task": false
    },
    "tags": []
   },
   "outputs": [],
   "source": [
    "# YOUR CODE HERE\n",
    "raise NotImplementedError()"
   ]
  },
  {
   "cell_type": "code",
   "execution_count": null,
   "metadata": {
    "deletable": false,
    "editable": false,
    "nbgrader": {
     "cell_type": "code",
     "checksum": "b6557cf19ffa0d97e5ac6b044ad98f63",
     "grade": true,
     "grade_id": "cell-f1e69c74932f2c2f",
     "locked": true,
     "points": 1,
     "schema_version": 3,
     "solution": false,
     "task": false
    },
    "tags": []
   },
   "outputs": [],
   "source": [
    "assert round(X_train.mean(axis=0).mean()) == 0, \"The mean of your X_train features is not 0, check that you normalized correctly!\"\n",
    "assert round(X_train.std(axis=0).mean()) == 1, \"The std of your X_train features is not 1, check that you normalized correctly!\"\n"
   ]
  },
  {
   "cell_type": "markdown",
   "metadata": {
    "deletable": false,
    "nbgrader": {
     "cell_type": "markdown",
     "checksum": "b397beee00cd777268cdbd9bee761d6b",
     "grade": true,
     "grade_id": "cell-7da1f5db4d759a1f",
     "locked": false,
     "points": 2,
     "schema_version": 3,
     "solution": true,
     "task": false
    }
   },
   "source": [
    "**Question: What is the reason that we asked you to use the mean and standard deviation from the train set to normalise the test set?**\n",
    "\n",
    "YOUR ANSWER HERE"
   ]
  },
  {
   "cell_type": "code",
   "execution_count": null,
   "metadata": {
    "tags": []
   },
   "outputs": [],
   "source": [
    "#This cell is intended to draw you attention to the previous' cell question.\n",
    "dummy_var = False\n",
    "assert dummy_var, \"Do not forget to answer the previous' cell question, once you have done that set dummy_var to True to continue\""
   ]
  },
  {
   "cell_type": "markdown",
   "metadata": {
    "deletable": false,
    "editable": false,
    "nbgrader": {
     "cell_type": "markdown",
     "checksum": "8d0648dea54c242a360e4a8cf37de209",
     "grade": false,
     "grade_id": "cell-73fd71e66fc3dd3b",
     "locked": true,
     "schema_version": 3,
     "solution": false,
     "task": false
    }
   },
   "source": [
    "## Univariate linear regression\n",
    "- First we will use our customGDRegressor model made above to do univariate linear regression. As the name \"univariate regression\" says, we will only use one feature to predict the target variable.\n",
    "\n",
    "- We will use the MedInc feature as this one has the highest correlation with our target variable."
   ]
  },
  {
   "cell_type": "code",
   "execution_count": null,
   "metadata": {
    "deletable": false,
    "editable": false,
    "nbgrader": {
     "cell_type": "code",
     "checksum": "f9c69d3fa83da93d5efec6be3c86ee5c",
     "grade": false,
     "grade_id": "cell-1f03290c1d3a3dd8",
     "locked": true,
     "schema_version": 3,
     "solution": false,
     "task": false
    },
    "tags": []
   },
   "outputs": [],
   "source": [
    "X_train_single_feature = X_train[['MedInc']].values\n",
    "X_test_single_feature = X_test[['MedInc']].values"
   ]
  },
  {
   "cell_type": "markdown",
   "metadata": {
    "deletable": false,
    "editable": false,
    "nbgrader": {
     "cell_type": "markdown",
     "checksum": "5fdb9d659dfb6b16c82a824d940495a7",
     "grade": false,
     "grade_id": "cell-f827761f4c1d1003",
     "locked": true,
     "schema_version": 3,
     "solution": false,
     "task": false
    }
   },
   "source": [
    "- As in the first exercise, use the customGDRegressor to apply univariate linear regression. This time, train the linear regressor single feature dataset created above.\n",
    "- Again play with the **n_iter** and **learning_rate** to achieve an **MSE value lower than 0.8**. \n",
    "- Store the obtained values for b0 and b1 in **variables called b0 and b1 respectively**."
   ]
  },
  {
   "cell_type": "code",
   "execution_count": null,
   "metadata": {
    "deletable": false,
    "nbgrader": {
     "cell_type": "code",
     "checksum": "fee3db0b714239623c9266e4f225185d",
     "grade": false,
     "grade_id": "cell-95721ed11100100a",
     "locked": false,
     "schema_version": 3,
     "solution": true,
     "task": false
    },
    "tags": []
   },
   "outputs": [],
   "source": [
    "b0 = 0\n",
    "b1 = 0\n",
    "# YOUR CODE HERE\n",
    "raise NotImplementedError()\n",
    "print(f\"b0: {b0}\")\n",
    "print(f\"b1: {b1}\")"
   ]
  },
  {
   "cell_type": "code",
   "execution_count": null,
   "metadata": {
    "deletable": false,
    "editable": false,
    "nbgrader": {
     "cell_type": "code",
     "checksum": "fe1f3cfac1cb112825c6c3a80ee7e268",
     "grade": true,
     "grade_id": "cell-560d2bd7ff314d09",
     "locked": true,
     "points": 1,
     "schema_version": 3,
     "solution": false,
     "task": false
    },
    "tags": []
   },
   "outputs": [],
   "source": [
    "assert b0, \"b0 is 0, are you sure you stored the model parameter to a variable called b0?\"\n",
    "assert b1, \"b1 is 0, are you sure you stored the model parameter to a variable called b1?\""
   ]
  },
  {
   "cell_type": "markdown",
   "metadata": {
    "deletable": false,
    "editable": false,
    "nbgrader": {
     "cell_type": "markdown",
     "checksum": "9c6473eda2db761d0f27cfbc0bfd329d",
     "grade": false,
     "grade_id": "cell-8f7dc7fe7985c439",
     "locked": true,
     "schema_version": 3,
     "solution": false,
     "task": false
    }
   },
   "source": [
    "### Plot the data and draw the regression line\n",
    "\n",
    "> Use a scatter plot to plot the **train** data\n",
    "\n",
    "> Plot the line the customGDRegressor has found\n",
    "\n",
    "> The line should fit the data."
   ]
  },
  {
   "cell_type": "code",
   "execution_count": null,
   "metadata": {
    "deletable": false,
    "nbgrader": {
     "cell_type": "code",
     "checksum": "934722e2a50056b6d8e2b800615276cf",
     "grade": true,
     "grade_id": "cell-31f6e2baca911f58",
     "locked": false,
     "points": 1,
     "schema_version": 3,
     "solution": true,
     "task": false
    },
    "tags": []
   },
   "outputs": [],
   "source": [
    "# YOUR CODE HERE\n",
    "raise NotImplementedError()"
   ]
  },
  {
   "cell_type": "markdown",
   "metadata": {
    "deletable": false,
    "nbgrader": {
     "cell_type": "markdown",
     "checksum": "0029556ef7d1977565789b82bf9ad8b4",
     "grade": true,
     "grade_id": "cell-80ba4f137ef84334",
     "locked": false,
     "points": 2,
     "schema_version": 3,
     "solution": true,
     "task": false
    },
    "tags": []
   },
   "source": [
    "**Question: Describe what you find in the plot. Describe how the feature behaves and it relation with the target variable**\n",
    "\n",
    "YOUR ANSWER HERE"
   ]
  },
  {
   "cell_type": "code",
   "execution_count": null,
   "metadata": {
    "tags": []
   },
   "outputs": [],
   "source": [
    "#This cell is intended to draw you attention to the previous' cell question.\n",
    "dummy_var = False\n",
    "assert dummy_var, \"Do not forget to answer the previous' cell question, once you have done that set dummy_var to True to continue\""
   ]
  },
  {
   "cell_type": "markdown",
   "metadata": {
    "deletable": false,
    "editable": false,
    "nbgrader": {
     "cell_type": "markdown",
     "checksum": "7c4ad64654899b6485394938886b2234",
     "grade": false,
     "grade_id": "cell-04b4f5d41df3ded8",
     "locked": true,
     "schema_version": 3,
     "solution": false,
     "task": false
    },
    "tags": []
   },
   "source": [
    "### Testing the model\n",
    "Now that we have trained our model and visually checked that the obtained line fits our data it's time to evaluate the performance of our model on new unseen data. \n",
    "- Predict y_test from X_test_single_feature with our trained model.\n",
    "- Evaluate the performance of our model on the test set by calculating the MSE."
   ]
  },
  {
   "cell_type": "code",
   "execution_count": null,
   "metadata": {
    "deletable": false,
    "nbgrader": {
     "cell_type": "code",
     "checksum": "d93adc778eb919559d74fe1f4b6f2a88",
     "grade": true,
     "grade_id": "cell-ed6685ba7ba6b29e",
     "locked": false,
     "points": 1,
     "schema_version": 3,
     "solution": true,
     "task": false
    },
    "tags": []
   },
   "outputs": [],
   "source": [
    "mse = np.inf\n",
    "\n",
    "# YOUR CODE HERE\n",
    "raise NotImplementedError()"
   ]
  },
  {
   "cell_type": "code",
   "execution_count": null,
   "metadata": {
    "deletable": false,
    "editable": false,
    "nbgrader": {
     "cell_type": "code",
     "checksum": "df18832bde7c2113783a1c8c2cf6ed81",
     "grade": true,
     "grade_id": "cell-afacf47a0e44ec3b",
     "locked": true,
     "points": 1,
     "schema_version": 3,
     "solution": false,
     "task": false
    },
    "tags": []
   },
   "outputs": [],
   "source": [
    "assert mse<1, \"You should be able to achieve an MSE bellow 1\"\n"
   ]
  },
  {
   "cell_type": "markdown",
   "metadata": {
    "deletable": false,
    "nbgrader": {
     "cell_type": "markdown",
     "checksum": "664439d31e839140612dc221f11e9d59",
     "grade": true,
     "grade_id": "cell-7b55839e5c1dd1c4",
     "locked": false,
     "points": 1,
     "schema_version": 3,
     "solution": true,
     "task": false
    }
   },
   "source": [
    "#### Question: Compare the MSE values you obtained on the test and train set. Does the model perform better or worse on the test set, explain why?\n",
    "YOUR ANSWER HERE"
   ]
  },
  {
   "cell_type": "markdown",
   "metadata": {
    "deletable": false,
    "nbgrader": {
     "cell_type": "markdown",
     "checksum": "9944f737abbc5855f6ac96f0dd862d48",
     "grade": true,
     "grade_id": "cell-996e252fe4f3da3a",
     "locked": false,
     "points": 2,
     "schema_version": 3,
     "solution": true,
     "task": false
    }
   },
   "source": [
    "#### Question: Play around with the learning rate, what happens when it gets too high or too low? Explain why this happens?\n",
    "YOUR ANSWER HERE"
   ]
  },
  {
   "cell_type": "code",
   "execution_count": null,
   "metadata": {
    "tags": []
   },
   "outputs": [],
   "source": [
    "#This cell is intended to draw you attention to the previous two0 cell's questions.\n",
    "dummy_var = False\n",
    "assert dummy_var, \"Do not forget to answer the previous' two cell question, once you have done that set dummy_var to True to continue\""
   ]
  },
  {
   "cell_type": "markdown",
   "metadata": {
    "deletable": false,
    "editable": false,
    "nbgrader": {
     "cell_type": "markdown",
     "checksum": "2ec1866cebf3b298268d44e11937c3eb",
     "grade": false,
     "grade_id": "cell-d08eae29e29f4ec3",
     "locked": true,
     "schema_version": 3,
     "solution": false,
     "task": false
    }
   },
   "source": [
    "## Multivariate linear regression\n",
    "> All features from the dataset will now be used. As our customGDRegressor will not work with multiple features, the **SGDRegressor** from sklearn can be used. \n"
   ]
  },
  {
   "cell_type": "markdown",
   "metadata": {
    "deletable": false,
    "editable": false,
    "nbgrader": {
     "cell_type": "markdown",
     "checksum": "131fbea1fbe622aff9cb2fe65cc3e76d",
     "grade": false,
     "grade_id": "cell-fd0422ca99ad7287",
     "locked": true,
     "schema_version": 3,
     "solution": false,
     "task": false
    }
   },
   "source": [
    "### Fit the Linear Regression model\n",
    "\n",
    "- Fit a [SGDRegressor](https://scikit-learn.org/stable/modules/generated/sklearn.linear_model.SGDRegressor.html) model on the X_train and y_train data.\n",
    "\n",
    "- To obtain comparable results set the random_state feature of the SGDRegressor to 10.\n",
    "\n",
    "- Test the fitted model on the X_test and y_test data.\n",
    "- You should obain an MSE lower than 0.7 on your test set.\n",
    "\n",
    "\n",
    "- Try different combinations of input features to predict the house price."
   ]
  },
  {
   "cell_type": "code",
   "execution_count": null,
   "metadata": {
    "ExecuteTime": {
     "end_time": "2020-10-01T12:38:05.285787Z",
     "start_time": "2020-10-01T12:38:05.075113Z"
    },
    "deletable": false,
    "nbgrader": {
     "cell_type": "code",
     "checksum": "eda5e5ee2c3324304efaf3b36ceba880",
     "grade": true,
     "grade_id": "cell-c74ec6f9b25b5872",
     "locked": false,
     "points": 1,
     "schema_version": 3,
     "solution": true,
     "task": false
    },
    "tags": []
   },
   "outputs": [],
   "source": [
    "from sklearn.linear_model import SGDRegressor\n",
    "from sklearn.metrics import mean_squared_error\n",
    "\n",
    "# Fit the model on the train set\n",
    "mse_train = None\n",
    "mse_test = None\n",
    "random_state = 10\n",
    "\n",
    "# YOUR CODE HERE\n",
    "raise NotImplementedError()\n"
   ]
  },
  {
   "cell_type": "code",
   "execution_count": null,
   "metadata": {
    "deletable": false,
    "editable": false,
    "nbgrader": {
     "cell_type": "code",
     "checksum": "75cdb386de61d59b63e23609730b0502",
     "grade": true,
     "grade_id": "cell-5cde8900bfa36628",
     "locked": true,
     "points": 1,
     "schema_version": 3,
     "solution": false,
     "task": false
    },
    "tags": []
   },
   "outputs": [],
   "source": [
    "\n",
    "print(f\"MSE - train: {mse_train}\")\n",
    "print(f\"MSE -  test: {mse_test}\")\n"
   ]
  },
  {
   "cell_type": "markdown",
   "metadata": {
    "deletable": false,
    "nbgrader": {
     "cell_type": "markdown",
     "checksum": "a380c0934e07d53cb85d8099a00b423e",
     "grade": true,
     "grade_id": "cell-69bcd154bf188f21",
     "locked": false,
     "points": 1,
     "schema_version": 3,
     "solution": true,
     "task": false
    }
   },
   "source": [
    "**Question: Do you need all the features to achieve a good prediction performance and why?**\n",
    "YOUR ANSWER HERE"
   ]
  },
  {
   "cell_type": "code",
   "execution_count": null,
   "metadata": {
    "tags": []
   },
   "outputs": [],
   "source": [
    "#This cell is intended to draw you attention to the previous cell's questions.\n",
    "dummy_var = False\n",
    "assert dummy_var, \"Do not forget to answer the previous' cell question, once you have done that set dummy_var to True to continue\""
   ]
  },
  {
   "cell_type": "markdown",
   "metadata": {
    "deletable": false,
    "editable": false,
    "nbgrader": {
     "cell_type": "markdown",
     "checksum": "3aed07c1e519b859f5ca30e4c25ed5a6",
     "grade": false,
     "grade_id": "cell-d14fd13332b7cb65",
     "locked": true,
     "schema_version": 3,
     "solution": false,
     "task": false
    }
   },
   "source": [
    "### Feature subset selection\n",
    "- Try to find a subset of **maximum 3 features**, that achieves an MSE lower than 0.67.\n",
    "- Add the features you used to the **features** array."
   ]
  },
  {
   "cell_type": "code",
   "execution_count": null,
   "metadata": {
    "deletable": false,
    "nbgrader": {
     "cell_type": "code",
     "checksum": "305dd0c5633cdd1828c32241a4bef326",
     "grade": false,
     "grade_id": "cell-caf15f8f8751cd7e",
     "locked": false,
     "schema_version": 3,
     "solution": true,
     "task": false
    }
   },
   "outputs": [],
   "source": [
    "# Fit the model on the train set\n",
    "mse_train = None\n",
    "mse_test = None\n",
    "random_state= 10\n",
    "# Array with feature names you used\n",
    "features = []\n",
    "\n",
    "# YOUR CODE HERE\n",
    "raise NotImplementedError()\n",
    "print(f\"MSE - train: {mse_train}\")\n",
    "print(f\"MSE -  test: {mse_test}\")"
   ]
  },
  {
   "cell_type": "code",
   "execution_count": null,
   "metadata": {
    "deletable": false,
    "editable": false,
    "nbgrader": {
     "cell_type": "code",
     "checksum": "f41429811f6979287b0897a1a2e7769b",
     "grade": true,
     "grade_id": "cell-ae7c1e698528a276",
     "locked": true,
     "points": 2,
     "schema_version": 3,
     "solution": false,
     "task": false
    }
   },
   "outputs": [],
   "source": [
    "assert mse_train < 0.67, f\"The MSE is higher than 30!\"\n",
    "assert mse_test < 0.67, f\"The MSE is higher than 30!\"\n",
    "assert len(features) <= 3, f\"You used more than 3 features!\""
   ]
  },
  {
   "cell_type": "markdown",
   "metadata": {
    "deletable": false,
    "nbgrader": {
     "cell_type": "markdown",
     "checksum": "d3ce19fdd8758d97c9af412df0e004a0",
     "grade": true,
     "grade_id": "cell-56f409139fde09e3",
     "locked": false,
     "points": 1,
     "schema_version": 3,
     "solution": true,
     "task": false
    }
   },
   "source": [
    "**Question: How did you find the subset of 3 features, explain your reasoning/procedure?**\n",
    "\n",
    "YOUR ANSWER HERE"
   ]
  },
  {
   "cell_type": "code",
   "execution_count": null,
   "metadata": {},
   "outputs": [],
   "source": [
    "#This cell is intended to draw you attention to the previous cell's questions.\n",
    "dummy_var = False\n",
    "assert dummy_var, \"Do not forget to answer the previous' cell question, once you have done that set dummy_var to True to continue\""
   ]
  },
  {
   "cell_type": "markdown",
   "metadata": {
    "deletable": false,
    "nbgrader": {
     "cell_type": "markdown",
     "checksum": "ded4e833b7e1a21f86fecd1fe2cdb6e4",
     "grade": true,
     "grade_id": "cell-304b0d925b4a5343",
     "locked": false,
     "points": 0,
     "schema_version": 3,
     "solution": true,
     "task": false
    }
   },
   "source": [
    "**Question: Can you give an estimate of the time you spent on this part of the lab (number of hours)? You can also write down any other feedback you have about this lab, thanks!**\n",
    "\n",
    "YOUR ANSWER HERE"
   ]
  },
  {
   "cell_type": "code",
   "execution_count": null,
   "metadata": {
    "tags": []
   },
   "outputs": [],
   "source": [
    "#This cell is intended to draw you attention to the previous cell's questions.\n",
    "dummy_var = False\n",
    "assert dummy_var, \"Do not forget this last answer as it helps us improve the course material\""
   ]
  },
  {
   "cell_type": "code",
   "execution_count": null,
   "metadata": {
    "deletable": false,
    "editable": false,
    "nbgrader": {
     "cell_type": "code",
     "checksum": "af7f43e29bd99c11374316f6f869b52b",
     "grade": false,
     "grade_id": "cell-6e108963c7777967",
     "locked": true,
     "schema_version": 3,
     "solution": false,
     "task": false
    },
    "tags": []
   },
   "outputs": [],
   "source": []
  }
 ],
 "metadata": {
  "anaconda-cloud": {},
  "kernelspec": {
   "display_name": "Python 3 (ipykernel)",
   "language": "python",
   "name": "python3"
  },
  "language_info": {
   "codemirror_mode": {
    "name": "ipython",
    "version": 3
   },
   "file_extension": ".py",
   "mimetype": "text/x-python",
   "name": "python",
   "nbconvert_exporter": "python",
   "pygments_lexer": "ipython3",
   "version": "3.10.6"
  },
  "toc": {
   "base_numbering": 1,
   "nav_menu": {},
   "number_sections": true,
   "sideBar": true,
   "skip_h1_title": false,
   "title_cell": "Table of Contents",
   "title_sidebar": "Contents",
   "toc_cell": true,
   "toc_position": {},
   "toc_section_display": true,
   "toc_window_display": true
  },
  "toc-autonumbering": true
 },
 "nbformat": 4,
 "nbformat_minor": 4
}
