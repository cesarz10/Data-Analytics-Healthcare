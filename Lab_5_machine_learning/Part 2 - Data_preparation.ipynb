{
 "cells": [
  {
   "cell_type": "markdown",
   "metadata": {},
   "source": [
    "### Submission guidelines"
   ]
  },
  {
   "cell_type": "markdown",
   "metadata": {},
   "source": [
    "1. Fill in your name in the notebook in the top cell.\n",
    "2. Fill in the gaps in the code where indicated. <br> Make sure that you:<br> - fill in any place that says `YOUR CODE HERE` or \"YOUR ANSWER HERE\" <br> - **do not leave any `raise NotImplementedErrors`** in the code\n",
    "3. Do **NOT change the variable names**, however, you can add comments in the code.\n",
    "4. Do **NOT remove any of the cells** of the notebook!\n",
    "5. Discussion is allowed, but every student needs to hand a personal version of the lab. Plagiarism will be sanctioned!   \n",
    "6. Before submitting, restart your kernel & **make sure that every cell runs**.<br>Code that doesn't run will not be scored.<br>The notebooks with all source code, and optional extra files need to be handed in using Ufora.<br> Make sure all your notebooks are already executed when you upload them (i.e. there should be output after the cells). \n",
    "7. **Zip** your lab assignment folder and name the archive: `Surname_Name.zip` <br> Keep the same folder structure as the provided lab assignment!<br><span style='color: red'>Do not rename any of the notebooks or files</span>!<br>\n",
    "\n"
   ]
  },
  {
   "cell_type": "code",
   "execution_count": null,
   "metadata": {},
   "outputs": [],
   "source": [
    "NAME = \"\""
   ]
  },
  {
   "cell_type": "markdown",
   "metadata": {},
   "source": [
    "\n",
    "Final tip: make sure you have answered every question and filled in all the required code by running through the notebook and searching for *YOUR ANSWER HERE* and *YOUR CODE HERE*!\n",
    "\n",
    "Good luck!"
   ]
  },
  {
   "cell_type": "markdown",
   "metadata": {},
   "source": [
    "---"
   ]
  },
  {
   "cell_type": "markdown",
   "metadata": {
    "deletable": false,
    "editable": false,
    "nbgrader": {
     "cell_type": "markdown",
     "checksum": "8b5bb646224f4a4641c6f95314a2ea2d",
     "grade": false,
     "grade_id": "cell-ae6599afce0c5101",
     "locked": true,
     "schema_version": 3,
     "solution": false,
     "task": false
    },
    "tags": []
   },
   "source": [
    "# Part 2: Data preparation\n",
    "In Lab2 you saw how to extract data from the Mimic-III database with SQL commands. In this Lab we will use machine learning in to predict the mortality of patients in the ICU based on their vital signs of the first 48h spent in the ICU.\n",
    "\n",
    "The raw data you've extracted in Lab2 cannot directly be used for machine learning. In order to do machine learning we need clean the structured data. This notebook will guide you through the steps of converting this raw data into a suitable dataset for machine learning."
   ]
  },
  {
   "cell_type": "markdown",
   "metadata": {
    "deletable": false,
    "editable": false,
    "nbgrader": {
     "cell_type": "markdown",
     "checksum": "4147244109c960d2a7945f8baa1775b1",
     "grade": false,
     "grade_id": "cell-45e6c50a82547ad9",
     "locked": true,
     "schema_version": 3,
     "solution": false,
     "task": false
    },
    "tags": []
   },
   "source": [
    "**All the required packages for this lab are in the requirements.txt file, we can all install them with one pip command:**"
   ]
  },
  {
   "cell_type": "code",
   "execution_count": null,
   "metadata": {
    "deletable": false,
    "editable": false,
    "nbgrader": {
     "cell_type": "code",
     "checksum": "9cb7348c3eb6f1f1f4e90c9ce921c8e2",
     "grade": false,
     "grade_id": "cell-1ba60bc07e38ea51",
     "locked": true,
     "schema_version": 3,
     "solution": false,
     "task": false
    }
   },
   "outputs": [],
   "source": [
    "!pip install -r requirements.txt"
   ]
  },
  {
   "cell_type": "code",
   "execution_count": null,
   "metadata": {
    "deletable": false,
    "editable": false,
    "nbgrader": {
     "cell_type": "code",
     "checksum": "ff88b47d17a4f046113065392321f638",
     "grade": false,
     "grade_id": "cell-200c395959c8b5a3",
     "locked": true,
     "schema_version": 3,
     "solution": false,
     "task": false
    },
    "tags": []
   },
   "outputs": [],
   "source": [
    "import numpy as np\n",
    "import pandas as pd\n",
    "import matplotlib.pyplot as plt\n",
    "from IPython import display"
   ]
  },
  {
   "cell_type": "markdown",
   "metadata": {
    "deletable": false,
    "editable": false,
    "nbgrader": {
     "cell_type": "markdown",
     "checksum": "926cb3ea598653ffd92701f978481b3c",
     "grade": false,
     "grade_id": "cell-a86663da7acb08e1",
     "locked": true,
     "schema_version": 3,
     "solution": false,
     "task": false
    }
   },
   "source": [
    "We have already extracted the raw dataset for you, so you don't need to run any SQL queries in order to obtain it. It is stored in a **.parquet** format, this is a compressed data format so that the dataset doesn't take too much space."
   ]
  },
  {
   "cell_type": "code",
   "execution_count": null,
   "metadata": {
    "ExecuteTime": {
     "end_time": "2020-04-23T22:31:35.716051Z",
     "start_time": "2020-04-23T22:31:35.625195Z"
    },
    "deletable": false,
    "editable": false,
    "nbgrader": {
     "cell_type": "code",
     "checksum": "b85b8e415713d28afd68c721ffaa711c",
     "grade": false,
     "grade_id": "cell-fc24c42958c312cd",
     "locked": true,
     "schema_version": 3,
     "solution": false,
     "task": false
    },
    "tags": []
   },
   "outputs": [],
   "source": [
    "### Path to your 'icustays_events.parquet' file\n",
    "path_to_data_file = 'data/icustays_events.parquet'\n",
    "\n",
    "# Load data as a pandas DataFrame using the ICU stay ID as the DataFrame index, for facilitating data manipulation.\n",
    "data = pd.read_parquet(path_to_data_file).set_index('icustay_id')"
   ]
  },
  {
   "cell_type": "markdown",
   "metadata": {
    "deletable": false,
    "editable": false,
    "nbgrader": {
     "cell_type": "markdown",
     "checksum": "bef13d65cb98813d734ce814ab495d65",
     "grade": false,
     "grade_id": "cell-249d8eeca8a50712",
     "locked": true,
     "schema_version": 3,
     "solution": false,
     "task": false
    }
   },
   "source": [
    "A quick preview of data can be obtained using the 'head' function, which prints the first rows of any given DataFrame:"
   ]
  },
  {
   "cell_type": "code",
   "execution_count": null,
   "metadata": {
    "deletable": false,
    "editable": false,
    "nbgrader": {
     "cell_type": "code",
     "checksum": "42f10d85492024797a3d46ff50b11f7e",
     "grade": false,
     "grade_id": "cell-f552f6ca5c713146",
     "locked": true,
     "schema_version": 3,
     "solution": false,
     "task": false
    },
    "tags": []
   },
   "outputs": [],
   "source": [
    "data.head(5)"
   ]
  },
  {
   "cell_type": "markdown",
   "metadata": {
    "deletable": false,
    "editable": false,
    "nbgrader": {
     "cell_type": "markdown",
     "checksum": "a4ed1d418424f7c67d0dd39cb04e04c1",
     "grade": false,
     "grade_id": "cell-529c2ca5547772ca",
     "locked": true,
     "schema_version": 3,
     "solution": false,
     "task": false
    }
   },
   "source": [
    "We can take a look at all the columns that are in the dataset:"
   ]
  },
  {
   "cell_type": "code",
   "execution_count": null,
   "metadata": {
    "deletable": false,
    "editable": false,
    "nbgrader": {
     "cell_type": "code",
     "checksum": "36a117f0dc77dd45ae88e7db707f3a33",
     "grade": false,
     "grade_id": "cell-468d85c7c155975a",
     "locked": true,
     "schema_version": 3,
     "solution": false,
     "task": false
    },
    "tags": []
   },
   "outputs": [],
   "source": [
    "data.columns"
   ]
  },
  {
   "cell_type": "markdown",
   "metadata": {
    "deletable": false,
    "editable": false,
    "nbgrader": {
     "cell_type": "markdown",
     "checksum": "c2474730794d0a0401b2dea6b2df2df6",
     "grade": false,
     "grade_id": "cell-8351f8ea872cfb5c",
     "locked": true,
     "schema_version": 3,
     "solution": false,
     "task": false
    },
    "tags": []
   },
   "source": [
    "The dataset contains information about:\n",
    "- patient demographics: age, gender, weight\n",
    "- physiological vital signs: heart rate, mean blood pressure, respiratory rate, ...\n",
    "- lab test results: sodium, glucose, urea, creatinin, ...\n",
    "- Mortality in hospital and mortality at 90 days\n",
    "\n",
    "Each observation/row is associated with a time stamp (column 'hours_in_icu'), indicating the number of hours since ICU admission where the observation was made. Each icustay has several observations for the same variable/column. The dataset contains the observations of the first **48h** in the ICU. "
   ]
  },
  {
   "cell_type": "markdown",
   "metadata": {
    "deletable": false,
    "editable": false,
    "nbgrader": {
     "cell_type": "markdown",
     "checksum": "ba9b4a9a923d6cb10190ae66d34f989c",
     "grade": false,
     "grade_id": "cell-688521d2ae1d06df",
     "locked": true,
     "schema_version": 3,
     "solution": false,
     "task": false
    }
   },
   "source": [
    "We can print the number of ICU stays by calculating the length of the unique indexes, number of missing data using the 'info' function and summary statistics using the 'describe' function:"
   ]
  },
  {
   "cell_type": "code",
   "execution_count": null,
   "metadata": {
    "deletable": false,
    "editable": false,
    "nbgrader": {
     "cell_type": "code",
     "checksum": "42f63b457636e9362146ac98bd27260e",
     "grade": false,
     "grade_id": "cell-61a7442b3d67747c",
     "locked": true,
     "schema_version": 3,
     "solution": false,
     "task": false
    },
    "tags": []
   },
   "outputs": [],
   "source": [
    "print('Number of ICU stays: ' + str(len(data.index.unique())))\n",
    "print('Number of survivors: ' + str(len(data[data['mortality_icu']==0].index.unique())))\n",
    "print('Number of non-survivors: ' + str(len(data[data['mortality_icu']==1].index.unique())))\n",
    "print('Mortality: ' + str(round(100*len(data[data['mortality_icu']==1].index.unique()) / len(data.index.unique()),1)) + '%')\n",
    "print()\n",
    "display.display(data.info(null_counts=True))\n",
    "display.display(data.describe())"
   ]
  },
  {
   "cell_type": "code",
   "execution_count": null,
   "metadata": {
    "tags": []
   },
   "outputs": [],
   "source": [
    "# Feel free to use this cell to perform other exploratory operations, plots, etc."
   ]
  },
  {
   "cell_type": "markdown",
   "metadata": {
    "deletable": false,
    "editable": false,
    "nbgrader": {
     "cell_type": "markdown",
     "checksum": "a26aceadd5eb45f263992f88150f99f6",
     "grade": false,
     "grade_id": "cell-3303f35ee0a7eb53",
     "locked": true,
     "schema_version": 3,
     "solution": false,
     "task": false
    }
   },
   "source": [
    "The dataset consists of 52 799 unique ICU stays and 3 293 990 observations. From the Non-Null Count column we can see that all columns with the exception of 'hours', 'mortality', 'age' and gender have missing information. Looking at the maximum and minimum values it is possible to spot the presence of outliers (e.g. minimum pH of 0). Both missing data and outliers are very common in ICU databases and need to be taken into consideration before applying ML algorithms."
   ]
  },
  {
   "cell_type": "markdown",
   "metadata": {
    "deletable": false,
    "editable": false,
    "nbgrader": {
     "cell_type": "markdown",
     "checksum": "a2b2644922254ccd6415dfa011cad4d6",
     "grade": false,
     "grade_id": "cell-288defb28a02732b",
     "locked": true,
     "schema_version": 3,
     "solution": false,
     "task": false
    },
    "tags": []
   },
   "source": [
    "## Variable selection\n",
    "\n",
    "There should be a trade-off between the potential value of the variable in the model and the amount of data available. We already saw the amount of missing data for every column, but we still do not know how much information is missing at the patient level. In order to do so, we are going to aggregate data by ICU stay and look at the number of non-null values, using the 'groupby' function together with the 'mean' operator. This will give an indication of how many ICU stays have at least one observation for each variable. \n",
    "\n",
    "We will consider every ICU stay as an independent sample. "
   ]
  },
  {
   "cell_type": "code",
   "execution_count": null,
   "metadata": {
    "deletable": false,
    "editable": false,
    "nbgrader": {
     "cell_type": "code",
     "checksum": "5ec02704e21d47767781c871dcf5d8b5",
     "grade": false,
     "grade_id": "cell-db64222a223888c9",
     "locked": true,
     "schema_version": 3,
     "solution": false,
     "task": false
    },
    "tags": []
   },
   "outputs": [],
   "source": [
    "print(data.groupby(['icustay_id']).mean().info(show_counts=1))"
   ]
  },
  {
   "cell_type": "markdown",
   "metadata": {
    "deletable": false,
    "editable": false,
    "nbgrader": {
     "cell_type": "markdown",
     "checksum": "55df554bab2d7c093a6a7b22bfa58fd6",
     "grade": false,
     "grade_id": "cell-5f3f2ad34aec35bc",
     "locked": true,
     "schema_version": 3,
     "solution": false,
     "task": false
    },
    "tags": []
   },
   "source": [
    "- **Bilirubin**, **albumin** and **central_venous_pressure** will be discarded due to the high amount of missing data.\n",
    "The other variables will be kept. Let us start with **time-variant** variables and set aside age and gender for now:"
   ]
  },
  {
   "cell_type": "code",
   "execution_count": null,
   "metadata": {
    "deletable": false,
    "editable": false,
    "nbgrader": {
     "cell_type": "code",
     "checksum": "fc4b1fbdeaf0e4b9aa2f04135e87796b",
     "grade": false,
     "grade_id": "cell-d95add7956e33814",
     "locked": true,
     "schema_version": 3,
     "solution": false,
     "task": false
    },
    "tags": []
   },
   "outputs": [],
   "source": [
    "ts_variables = ['sodium', 'glucose', 'urea', 'creatinine', 'hemoglobin', 'white_blood_cells', 'ph', 'po2', 'pco2', 'weight', 'glasgow_coma_scale', 'heart_rate', \n",
    "               'mean_blood_pressure', 'respiratory_rate', 'oxygen_saturation', 'temperature', 'systolic_blood_pressure', 'diastolic_blood_pressure']\n",
    "static_variables = ['age', 'gender']\n",
    "label = ['mortality_icu']"
   ]
  },
  {
   "cell_type": "markdown",
   "metadata": {
    "deletable": false,
    "editable": false,
    "nbgrader": {
     "cell_type": "markdown",
     "checksum": "40a7e766b6c6a9eca299b0aeb9c53860",
     "grade": false,
     "grade_id": "cell-014efac1703dfd62",
     "locked": true,
     "schema_version": 3,
     "solution": false,
     "task": false
    },
    "tags": []
   },
   "source": [
    "## Removal of outliers"
   ]
  },
  {
   "cell_type": "markdown",
   "metadata": {
    "deletable": false,
    "editable": false,
    "nbgrader": {
     "cell_type": "markdown",
     "checksum": "063cd8cfff1a7588164a8f8ab2dd1471",
     "grade": false,
     "grade_id": "cell-71ad1bb3b9562ea9",
     "locked": true,
     "schema_version": 3,
     "solution": false,
     "task": false
    }
   },
   "source": [
    "We can use boxplots to see the amount of outliers and how far they are."
   ]
  },
  {
   "cell_type": "code",
   "execution_count": null,
   "metadata": {
    "deletable": false,
    "editable": false,
    "nbgrader": {
     "cell_type": "code",
     "checksum": "861d7c6a2b34427d6acb79d051a099d9",
     "grade": false,
     "grade_id": "cell-d85a29758559c3a4",
     "locked": true,
     "schema_version": 3,
     "solution": false,
     "task": false
    },
    "tags": []
   },
   "outputs": [],
   "source": [
    "fig, axes = plt.subplots(4, 5, figsize=(15, 15))\n",
    "\n",
    "for idx, variable in enumerate(ts_variables):\n",
    "    a = data.boxplot(variable, ax=axes.flatten()[idx])\n",
    "    \n",
    "plt.show()"
   ]
  },
  {
   "cell_type": "markdown",
   "metadata": {
    "deletable": false,
    "editable": false,
    "nbgrader": {
     "cell_type": "markdown",
     "checksum": "776fa68045969bbf59223a763015b717",
     "grade": false,
     "grade_id": "cell-258b79030c28794f",
     "locked": true,
     "schema_version": 3,
     "solution": false,
     "task": false
    }
   },
   "source": [
    "In some cases, the outliers are so deviant from the norm that it is not even possible to visualize the distribution of data (minimum, first quartile, median, third quartile, maximum) using boxplots. A lot of outliers are unrealisticly high or low. Ideally, we want to remove values that probably wrong due to incorrect input or measurement (such as negative temperatures or a weight above 1000kg), but we want to keep extreme values that are related to the patients poor health condition. In order to choose good threshold values for outlier removal, ideally, expert knowledge is needed to avoid discarding useful information. In our case we choose the values that (according to the boxplots above) seem to be very extreme."
   ]
  },
  {
   "cell_type": "code",
   "execution_count": null,
   "metadata": {
    "deletable": false,
    "editable": false,
    "nbgrader": {
     "cell_type": "code",
     "checksum": "aa8de14e361ec07607cb6601ec9175ac",
     "grade": false,
     "grade_id": "cell-c42319673084356d",
     "locked": true,
     "schema_version": 3,
     "solution": false,
     "task": false
    },
    "tags": []
   },
   "outputs": [],
   "source": [
    "nulls_before = data.isnull().sum().sum()\n",
    "\n",
    "data.loc[data['glucose']>2000, 'glucose'] = np.nan\n",
    "data.loc[data['creatinine']>40, 'creatinine'] = np.nan\n",
    "data.loc[data['hemoglobin']>40, 'hemoglobin'] = np.nan\n",
    "data.loc[(data['ph']>7.8) | (data['ph']<6.8), 'ph'] = np.nan\n",
    "data.loc[data['po2']>1000, 'po2'] = np.nan\n",
    "data.loc[data['pco2']>1000, 'pco2'] = np.nan\n",
    "data.loc[data['weight']>500, 'weight'] = np.nan\n",
    "data.loc[data['heart_rate']>400, 'heart_rate'] = np.nan\n",
    "data.loc[(data['mean_blood_pressure']>300) | (data['mean_blood_pressure']<0), 'mean_blood_pressure'] = np.nan\n",
    "data.loc[data['respiratory_rate']>300, 'respiratory_rate'] = np.nan\n",
    "data.loc[(data['oxygen_saturation']>100) | (data['oxygen_saturation']<0), 'oxygen_saturation'] = np.nan\n",
    "data.loc[(data['temperature']>50) | (data['temperature']<20), 'temperature'] = np.nan\n",
    "data.loc[data['systolic_blood_pressure']>300, 'systolic_blood_pressure'] = np.nan\n",
    "data.loc[data['diastolic_blood_pressure']>300, 'diastolic_blood_pressure'] = np.nan\n",
    "data.loc[data['age'] > 100, 'age'] = 91.4\n",
    "\n",
    "nulls_now = data.isnull().sum().sum()\n",
    "print('Number of observations removed: ' + str(nulls_now - nulls_before))\n",
    "print('Observations corresponding to outliers: ' + str(round((nulls_now - nulls_before)*100/data.shape[0],2)) + '%')"
   ]
  },
  {
   "cell_type": "markdown",
   "metadata": {
    "deletable": false,
    "editable": false,
    "nbgrader": {
     "cell_type": "markdown",
     "checksum": "691b74dee2cca941ad8c48cf9cee88f0",
     "grade": false,
     "grade_id": "cell-668da5cc5904757f",
     "locked": true,
     "schema_version": 3,
     "solution": false,
     "task": false
    },
    "tags": []
   },
   "source": [
    "The same code as before can be used to verify the data distribution after exclusion of outliers. Setting by = 'mortality_icu' shows the boxplots partitioned by outcome."
   ]
  },
  {
   "cell_type": "code",
   "execution_count": null,
   "metadata": {
    "deletable": false,
    "editable": false,
    "nbgrader": {
     "cell_type": "code",
     "checksum": "a180c9a94d6ef2857af4aa5f473cb65c",
     "grade": false,
     "grade_id": "cell-2a2f9f0dd150dbdd",
     "locked": true,
     "schema_version": 3,
     "solution": false,
     "task": false
    },
    "tags": []
   },
   "outputs": [],
   "source": [
    "fig, axes = plt.subplots(4, 5, figsize=(15,15))\n",
    "\n",
    "for idx, variable in enumerate(ts_variables):\n",
    "    a = data.boxplot(variable, ax=axes.flatten()[idx], by='mortality_icu')\n",
    "\n",
    "fig.tight_layout()\n",
    "plt.show()"
   ]
  },
  {
   "cell_type": "markdown",
   "metadata": {
    "deletable": false,
    "editable": false,
    "nbgrader": {
     "cell_type": "markdown",
     "checksum": "9a0c68a3a39630fd98b115eb847331c2",
     "grade": false,
     "grade_id": "cell-9eb052b8baa7bf34",
     "locked": true,
     "schema_version": 3,
     "solution": false,
     "task": false
    },
    "tags": []
   },
   "source": [
    "## Feature extraction"
   ]
  },
  {
   "cell_type": "markdown",
   "metadata": {
    "deletable": false,
    "editable": false,
    "nbgrader": {
     "cell_type": "markdown",
     "checksum": "0add2716f8d29aac6ac9adade7db795f",
     "grade": false,
     "grade_id": "cell-ed264bc56ebcacbd",
     "locked": true,
     "schema_version": 3,
     "solution": false,
     "task": false
    }
   },
   "source": [
    "The next step before ML is to extract relevant features from the time series. We cannot simply use the time series data for our model as for every ICU stay the number of observations and the time at which they were taken are different. Moreover there a lot of observations in 48h at the ICU which would could lead to the overfitting of our models. There is a simpler solution, which is to use only a portion of the information available, ideally the most relevant information for the prediction task.\n",
    "\n",
    "Feature construction addresses the problem of finding the transformation of variables containing the greatest amount of useful information. We will use four statistical features in order to construct/extract information from the time series:\n",
    "- Maximum\n",
    "- Minimum\n",
    "- Standard deviation\n",
    "- Mean\n",
    "\n",
    "These features will summarize the worst, best, variation and average patient' condition from the first 48h the patient stayed in the ICU. Using the 'groupby' function to aggregate data by ICU stay, together with the 'max', 'min', 'std' and 'mean' operators, these features can be easily extracted."
   ]
  },
  {
   "cell_type": "code",
   "execution_count": null,
   "metadata": {
    "deletable": false,
    "editable": false,
    "nbgrader": {
     "cell_type": "code",
     "checksum": "e7f72ce5000700b265181d1634eb90b9",
     "grade": false,
     "grade_id": "cell-90b99c3c8428935c",
     "locked": true,
     "schema_version": 3,
     "solution": false,
     "task": false
    },
    "tags": []
   },
   "outputs": [],
   "source": [
    "ts_data_max = data.groupby(['icustay_id'])[ts_variables].max()\n",
    "ts_data_max.columns = ['max_' + str(col) for col in ts_data_max.columns]\n",
    "\n",
    "ts_data_min = data.groupby(['icustay_id'])[ts_variables].min()\n",
    "ts_data_min.columns = ['min_' + str(col) for col in ts_data_min.columns]\n",
    "\n",
    "ts_data_sd = data.groupby(['icustay_id'])[ts_variables].std()\n",
    "ts_data_sd.columns = ['sd_' + str(col) for col in ts_data_sd.columns]\n",
    "\n",
    "ts_data_mean = data.groupby(['icustay_id'])[ts_variables].mean()\n",
    "ts_data_mean.columns = ['mean_' + str(col) for col in ts_data_mean.columns]\n",
    "\n",
    "ts_features = pd.concat([ts_data_min, ts_data_max, ts_data_sd, ts_data_mean],axis=1)\n",
    "\n",
    "# Dropping all the rows that contain nan's\n",
    "ts_features = ts_features.dropna()\n",
    "\n",
    "print('Extracted features: ')\n",
    "display.display(list(ts_features.columns))\n",
    "print('')\n",
    "print('Number of rows with nan\\'s dropped: ' + str(len(data.index.unique()) - ts_features.shape[0]))\n",
    "print('Number of ICU stays: ' + str(ts_features.shape[0]))\n",
    "print('Number of features: ' + str(ts_features.shape[1]))\n",
    "ts_features.head()"
   ]
  },
  {
   "cell_type": "markdown",
   "metadata": {
    "deletable": false,
    "editable": false,
    "nbgrader": {
     "cell_type": "markdown",
     "checksum": "4fe29f99b24d6d35eaf7227bd2e4d34b",
     "grade": false,
     "grade_id": "cell-9840457fe75bda92",
     "locked": true,
     "schema_version": 3,
     "solution": false,
     "task": false
    },
    "tags": []
   },
   "source": [
    "We still have to add our non time variant features and labels to the dataset:"
   ]
  },
  {
   "cell_type": "code",
   "execution_count": null,
   "metadata": {
    "deletable": false,
    "editable": false,
    "nbgrader": {
     "cell_type": "code",
     "checksum": "6e1fbf8f5e00bc54fc45647b305ca386",
     "grade": false,
     "grade_id": "cell-b80be53501fb27de",
     "locked": true,
     "schema_version": 3,
     "solution": false,
     "task": false
    },
    "tags": []
   },
   "outputs": [],
   "source": [
    "static_features = data[static_variables].groupby(by='icustay_id').mean()\n",
    "mortality = data[['mortality_icu']].groupby(by='icustay_id').mean()\n",
    "\n",
    "all_features = pd.concat([ts_features, static_features, mortality], axis=1).dropna()\n",
    "print('Number of ICU stays: ' + str(all_features.shape[0]))"
   ]
  },
  {
   "cell_type": "markdown",
   "metadata": {
    "deletable": false,
    "editable": false,
    "nbgrader": {
     "cell_type": "markdown",
     "checksum": "2cf5ee52c6a2bdfd0433bf454f6424f8",
     "grade": false,
     "grade_id": "cell-4344b001a6a31c38",
     "locked": true,
     "schema_version": 3,
     "solution": false,
     "task": false
    }
   },
   "source": [
    "Now we can save this cleaned dataset in order to use it for the machine learning part of this Lab."
   ]
  },
  {
   "cell_type": "code",
   "execution_count": null,
   "metadata": {
    "deletable": false,
    "editable": false,
    "nbgrader": {
     "cell_type": "code",
     "checksum": "1789dfcfb7d158679ea11f1b8c4eb0d4",
     "grade": false,
     "grade_id": "cell-ac3c569d0c16076d",
     "locked": true,
     "schema_version": 3,
     "solution": false,
     "task": false
    },
    "tags": []
   },
   "outputs": [],
   "source": [
    "all_features.to_parquet('cleaned_dataset.parquet')"
   ]
  },
  {
   "cell_type": "markdown",
   "metadata": {
    "deletable": false,
    "editable": false,
    "nbgrader": {
     "cell_type": "markdown",
     "checksum": "c27179dcd4cfdeb43a6a38a15287ac1e",
     "grade": false,
     "grade_id": "cell-01e7527afec036e5",
     "locked": true,
     "schema_version": 3,
     "solution": false,
     "task": false
    },
    "tags": []
   },
   "source": [
    "Continue with the notebook called **Part 3 - Mortality Clustering and Classification.ipynb**."
   ]
  },
  {
   "cell_type": "code",
   "execution_count": null,
   "metadata": {},
   "outputs": [],
   "source": []
  }
 ],
 "metadata": {
  "kernelspec": {
   "display_name": "Python 3 (ipykernel)",
   "language": "python",
   "name": "python3"
  },
  "language_info": {
   "codemirror_mode": {
    "name": "ipython",
    "version": 3
   },
   "file_extension": ".py",
   "mimetype": "text/x-python",
   "name": "python",
   "nbconvert_exporter": "python",
   "pygments_lexer": "ipython3",
   "version": "3.10.6"
  }
 },
 "nbformat": 4,
 "nbformat_minor": 4
}
