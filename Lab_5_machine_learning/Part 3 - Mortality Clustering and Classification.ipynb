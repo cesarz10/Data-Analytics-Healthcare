{
 "cells": [
  {
   "cell_type": "markdown",
   "metadata": {},
   "source": [
    "### Submission guidelines"
   ]
  },
  {
   "cell_type": "markdown",
   "metadata": {},
   "source": [
    "1. Fill in your name in the notebook in the top cell.\n",
    "2. Fill in the gaps in the code where indicated. <br> Make sure that you:<br> - fill in any place that says `YOUR CODE HERE` or \"YOUR ANSWER HERE\" <br> - **do not leave any `raise NotImplementedErrors`** in the code\n",
    "3. Do **NOT change the variable names**, however, you can add comments in the code.\n",
    "4. Do **NOT remove any of the cells** of the notebook!\n",
    "5. Discussion is allowed, but every student needs to hand a personal version of the lab. Plagiarism will be sanctioned!   \n",
    "6. Before submitting, restart your kernel & **make sure that every cell runs**.<br>Code that doesn't run will not be scored.<br>The notebooks with all source code, and optional extra files need to be handed in using Ufora.<br> Make sure all your notebooks are already executed when you upload them (i.e. there should be output after the cells). \n",
    "7. **Zip** your lab assignment folder and name the archive: `Surname_Name.zip` <br> Keep the same folder structure as the provided lab assignment!<br><span style='color: red'>Do not rename any of the notebooks or files</span>!<br>\n",
    "\n"
   ]
  },
  {
   "cell_type": "code",
   "execution_count": null,
   "metadata": {},
   "outputs": [],
   "source": [
    "NAME = \"\""
   ]
  },
  {
   "cell_type": "markdown",
   "metadata": {},
   "source": [
    "\n",
    "Final tip: make sure you have answered every question and filled in all the required code by running through the notebook and searching for *YOUR ANSWER HERE* and *YOUR CODE HERE*!\n",
    "\n",
    "Good luck!"
   ]
  },
  {
   "cell_type": "markdown",
   "metadata": {},
   "source": [
    "---"
   ]
  },
  {
   "cell_type": "markdown",
   "metadata": {
    "deletable": false,
    "editable": false,
    "nbgrader": {
     "cell_type": "markdown",
     "checksum": "3a7940464b1cec3da81adea180a112f1",
     "grade": false,
     "grade_id": "cell-063c01d1bdb7896a",
     "locked": true,
     "schema_version": 3,
     "solution": false,
     "task": false
    }
   },
   "source": [
    "# Part 3 - Mortality Clustering and Classification"
   ]
  },
  {
   "cell_type": "markdown",
   "metadata": {
    "deletable": false,
    "editable": false,
    "nbgrader": {
     "cell_type": "markdown",
     "checksum": "cd626e08b9ebc24b8b78f990a5a52f4d",
     "grade": false,
     "grade_id": "cell-ce5cb0868b5c41ee",
     "locked": true,
     "schema_version": 3,
     "solution": false,
     "task": false
    }
   },
   "source": [
    "## Objective and approach\n",
    "\n",
    "The next section focuses on building mortality prediction models/classifiers using some algorithms seen in the theory lessons. We will use the following algorithms: \n",
    "- Clustering\n",
    "- Logistic regression\n",
    "- Decision Trees and Random Forests"
   ]
  },
  {
   "cell_type": "markdown",
   "metadata": {
    "deletable": false,
    "editable": false,
    "nbgrader": {
     "cell_type": "markdown",
     "checksum": "d805c11a95bb9a59032e0c25cf3e4fdf",
     "grade": false,
     "grade_id": "cell-c91323d35a2ac3ff",
     "locked": true,
     "schema_version": 3,
     "solution": false,
     "task": false
    }
   },
   "source": [
    "The first step is to import essential python libraries and MIMIC-III data. As start point we use the features created in the 'Data_preparation' notebook. So make sure you already went through this notebook."
   ]
  },
  {
   "cell_type": "code",
   "execution_count": null,
   "metadata": {
    "ExecuteTime": {
     "end_time": "2020-04-27T16:13:02.231345Z",
     "start_time": "2020-04-27T16:13:01.848385Z"
    },
    "deletable": false,
    "editable": false,
    "nbgrader": {
     "cell_type": "code",
     "checksum": "5947aa97ab55265be4942233928e9727",
     "grade": false,
     "grade_id": "cell-8f1cbc668c0ed3f0",
     "locked": true,
     "schema_version": 3,
     "solution": false,
     "task": false
    },
    "tags": []
   },
   "outputs": [],
   "source": [
    "import numpy as np\n",
    "import pandas as pd\n",
    "import matplotlib.pyplot as plt\n",
    "from IPython import display\n",
    "import warnings\n",
    "np.random.seed(12)\n",
    "\n",
    "plt.style.use('ggplot')\n",
    "warnings.filterwarnings(\"ignore\")"
   ]
  },
  {
   "cell_type": "markdown",
   "metadata": {
    "deletable": false,
    "editable": false,
    "nbgrader": {
     "cell_type": "markdown",
     "checksum": "ebd12f165ae40f3abbd25adecbff708f",
     "grade": false,
     "grade_id": "cell-0a5fc3d416151bf5",
     "locked": true,
     "schema_version": 3,
     "solution": false,
     "task": false
    }
   },
   "source": [
    "We can load the cleaned dataset that was created in the **Data_preparation** notebook."
   ]
  },
  {
   "cell_type": "code",
   "execution_count": null,
   "metadata": {
    "ExecuteTime": {
     "end_time": "2020-04-27T16:13:02.263284Z",
     "start_time": "2020-04-27T16:13:02.232338Z"
    },
    "deletable": false,
    "editable": false,
    "nbgrader": {
     "cell_type": "code",
     "checksum": "38ed79e7f261599956bbd006f005ee50",
     "grade": false,
     "grade_id": "cell-39e55cd689626731",
     "locked": true,
     "schema_version": 3,
     "solution": false,
     "task": false
    },
    "tags": []
   },
   "outputs": [],
   "source": [
    "### Path to your cleaned dataset file\n",
    "path_to_data_file = 'cleaned_dataset.parquet'\n",
    "\n",
    "# Load data as a pandas DataFrame using the ICU stay ID as the DataFrame index, for facilitating data manipulation.\n",
    "data = pd.read_parquet(path_to_data_file)"
   ]
  },
  {
   "cell_type": "markdown",
   "metadata": {
    "deletable": false,
    "editable": false,
    "nbgrader": {
     "cell_type": "markdown",
     "checksum": "1119a8b7971d6e41c17a872ee6e5f395",
     "grade": false,
     "grade_id": "cell-0f3050354a7a492c",
     "locked": true,
     "schema_version": 3,
     "solution": false,
     "task": false
    }
   },
   "source": [
    "Let's look at our features:"
   ]
  },
  {
   "cell_type": "code",
   "execution_count": null,
   "metadata": {
    "ExecuteTime": {
     "end_time": "2020-04-27T16:13:02.411955Z",
     "start_time": "2020-04-27T16:13:02.390012Z"
    },
    "deletable": false,
    "editable": false,
    "nbgrader": {
     "cell_type": "code",
     "checksum": "49e43ba0dc0f00019dde5020e37d03d4",
     "grade": false,
     "grade_id": "cell-6f6515bc8072c530",
     "locked": true,
     "schema_version": 3,
     "solution": false,
     "task": false
    },
    "tags": []
   },
   "outputs": [],
   "source": [
    "data.head()"
   ]
  },
  {
   "cell_type": "code",
   "execution_count": null,
   "metadata": {
    "ExecuteTime": {
     "end_time": "2020-04-27T16:13:02.597873Z",
     "start_time": "2020-04-27T16:13:02.592912Z"
    },
    "deletable": false,
    "editable": false,
    "nbgrader": {
     "cell_type": "code",
     "checksum": "1381f33f1038e23bd236e06c4c5f0323",
     "grade": false,
     "grade_id": "cell-62c0c4adfcf22954",
     "locked": true,
     "schema_version": 3,
     "solution": false,
     "task": false
    },
    "tags": []
   },
   "outputs": [],
   "source": [
    "data.columns"
   ]
  },
  {
   "cell_type": "markdown",
   "metadata": {
    "deletable": false,
    "editable": false,
    "nbgrader": {
     "cell_type": "markdown",
     "checksum": "000fd1693ef0e021b80195ebfac71a17",
     "grade": false,
     "grade_id": "cell-07a4016d8b9d974f",
     "locked": true,
     "schema_version": 3,
     "solution": false,
     "task": false
    }
   },
   "source": [
    "# Data processing"
   ]
  },
  {
   "attachments": {
    "image.png": {
     "image/png": "[encoded data removed]"
    }
   },
   "cell_type": "markdown",
   "metadata": {
    "deletable": false,
    "editable": false,
    "nbgrader": {
     "cell_type": "markdown",
     "checksum": "192c2861d93891ba8918e473b93ee76a",
     "grade": false,
     "grade_id": "cell-30e27409f782f76b",
     "locked": true,
     "schema_version": 3,
     "solution": false,
     "task": false
    }
   },
   "source": [
    "## Data splitting\n",
    "\n",
    "In order to assess the performance of the models, data can be divided into:\n",
    "\n",
    "* Training set: used to train/build the learning algorithm.\n",
    "* Validation (or development) set: use to tune parameters, select features, and make other decisions regarding the learning algorithm. \n",
    "* Test set: used to evaluate the performance of the algorithm, but not to make any decisions regarding what learning algorithm or parameters to use.\n",
    "\n",
    "![image.png](attachment:image.png)\n",
    "\n",
    "For simplicity, data will be divided into two sets, one for training and another for testing. Later, when performing cross validation, the training set will be divided into two sets, for training and validation."
   ]
  },
  {
   "cell_type": "markdown",
   "metadata": {
    "deletable": false,
    "editable": false,
    "nbgrader": {
     "cell_type": "markdown",
     "checksum": "9ce7569c71607dabb68b38eb50bbbd75",
     "grade": false,
     "grade_id": "cell-8a42e9e342bd8f2e",
     "locked": true,
     "schema_version": 3,
     "solution": false,
     "task": false
    }
   },
   "source": [
    "\n",
    "We will use the 'train_test_split' function from sklearn library, which randomly assigns observations to each set. The size of the sets can be controlled using the 'test_size' parameter, which defines the size of the test set and which in this case will be set to 20%. When using the 'train_test_split' function, it is important to set the 'random_state' parameter so that later the same results can be reproduced.\n"
   ]
  },
  {
   "cell_type": "code",
   "execution_count": null,
   "metadata": {
    "ExecuteTime": {
     "end_time": "2020-04-27T16:13:03.847571Z",
     "start_time": "2020-04-27T16:13:03.543233Z"
    },
    "deletable": false,
    "editable": false,
    "nbgrader": {
     "cell_type": "code",
     "checksum": "a2bab51c1673b20611997d379d0677fc",
     "grade": false,
     "grade_id": "cell-55eec8c646331d69",
     "locked": true,
     "schema_version": 3,
     "solution": false,
     "task": false
    },
    "tags": []
   },
   "outputs": [],
   "source": [
    "from sklearn.model_selection import train_test_split\n",
    "\n",
    "# set the % of observations in the test set\n",
    "test_size = 0.2\n",
    "\n",
    "# Divide the data intro training and test sets\n",
    "X_train, X_test, y_train, y_test = train_test_split(data.drop(columns='mortality_icu'), data[['mortality_icu']], test_size = test_size, random_state = 10)"
   ]
  },
  {
   "cell_type": "markdown",
   "metadata": {
    "deletable": false,
    "editable": false,
    "nbgrader": {
     "cell_type": "markdown",
     "checksum": "37a1fe11a877fdf5ec9c894ea2baba20",
     "grade": false,
     "grade_id": "cell-6960e520cb3fbaab",
     "locked": true,
     "schema_version": 3,
     "solution": false,
     "task": false
    }
   },
   "source": [
    "## Normalization\n",
    "\n",
    "Normalization, or scaling, is used to ensure that all features lie between a given minimum and maximum value, often between zero and one. The maximum and mininum values of each feature should be determined during the training phase and the same values should be applied during the test phase. Most machine learning models  prefer normalized features, so it's a good practice to always normalize your features.\n",
    "\n",
    "The next example is used to normalize the features extracted from the time series according to\n",
    "\n",
    "$x_{norm} = \\frac{x-min(x)}{max(x) - min(x)}$\n"
   ]
  },
  {
   "cell_type": "markdown",
   "metadata": {
    "deletable": false,
    "editable": false,
    "nbgrader": {
     "cell_type": "markdown",
     "checksum": "904b5e01112113a5ff9dc55621d8c532",
     "grade": false,
     "grade_id": "cell-859999ddd9c61eae",
     "locked": true,
     "schema_version": 3,
     "solution": false,
     "task": false
    }
   },
   "source": [
    "The next example uses the 'preprocessing' package from 'sklearn':\n"
   ]
  },
  {
   "cell_type": "code",
   "execution_count": null,
   "metadata": {
    "ExecuteTime": {
     "end_time": "2020-04-27T16:13:04.944201Z",
     "start_time": "2020-04-27T16:13:04.926220Z"
    },
    "deletable": false,
    "editable": false,
    "nbgrader": {
     "cell_type": "code",
     "checksum": "70b2e6a64b88d2d59cd0e9ab0c48da50",
     "grade": false,
     "grade_id": "cell-6c211f824fda7244",
     "locked": true,
     "schema_version": 3,
     "solution": false,
     "task": false
    },
    "tags": []
   },
   "outputs": [],
   "source": [
    "from sklearn import preprocessing\n",
    "\n",
    "min_max_scaler = preprocessing.MinMaxScaler()\n",
    "X_train = pd.DataFrame(min_max_scaler.fit_transform(X_train), columns=X_train.columns, index=X_train.index)\n",
    "\n",
    "# The same instance of the transformer can be applied to new test data unseen during the fit call:\n",
    "# the same scaling and shifting operations will be applied to be consistent with the transformation performed on the train data.\n",
    "X_test = pd.DataFrame(min_max_scaler.transform(X_test), columns=X_test.columns, index=X_test.index)"
   ]
  },
  {
   "cell_type": "markdown",
   "metadata": {
    "deletable": false,
    "editable": false,
    "nbgrader": {
     "cell_type": "markdown",
     "checksum": "970878f9065852594b7a66f5d4df763d",
     "grade": false,
     "grade_id": "cell-78f81bc3e7f9f7e4",
     "locked": true,
     "schema_version": 3,
     "solution": false,
     "task": false
    }
   },
   "source": [
    "Now we have a normalized dataset:"
   ]
  },
  {
   "cell_type": "code",
   "execution_count": null,
   "metadata": {
    "ExecuteTime": {
     "end_time": "2020-04-27T16:13:05.679477Z",
     "start_time": "2020-04-27T16:13:05.661498Z"
    },
    "deletable": false,
    "editable": false,
    "nbgrader": {
     "cell_type": "code",
     "checksum": "43158ccb792df37178b9ff7b13b25e45",
     "grade": false,
     "grade_id": "cell-7419cffe53fb6fa3",
     "locked": true,
     "schema_version": 3,
     "solution": false,
     "task": false
    },
    "tags": []
   },
   "outputs": [],
   "source": [
    "X_train.head()"
   ]
  },
  {
   "cell_type": "markdown",
   "metadata": {
    "deletable": false,
    "editable": false,
    "nbgrader": {
     "cell_type": "markdown",
     "checksum": "f885fd11aa50d57f60f3582468114862",
     "grade": false,
     "grade_id": "cell-a03904f6f7a3f170",
     "locked": true,
     "schema_version": 3,
     "solution": false,
     "task": false
    }
   },
   "source": [
    "## Balancing the dataset"
   ]
  },
  {
   "cell_type": "markdown",
   "metadata": {
    "deletable": false,
    "editable": false,
    "nbgrader": {
     "cell_type": "markdown",
     "checksum": "2cb2140be226c7f70617038275e65249",
     "grade": false,
     "grade_id": "cell-c5955ae415af0cc1",
     "locked": true,
     "schema_version": 3,
     "solution": false,
     "task": false
    }
   },
   "source": [
    "Let's check the respective sizes of our train and test set:"
   ]
  },
  {
   "cell_type": "code",
   "execution_count": null,
   "metadata": {
    "ExecuteTime": {
     "end_time": "2020-04-27T16:13:07.464009Z",
     "start_time": "2020-04-27T16:13:07.451043Z"
    },
    "deletable": false,
    "editable": false,
    "nbgrader": {
     "cell_type": "code",
     "checksum": "ac391680c47fe47bb6b643581f13a070",
     "grade": false,
     "grade_id": "cell-55f1a7dd24195aa6",
     "locked": true,
     "schema_version": 3,
     "solution": false,
     "task": false
    },
    "tags": []
   },
   "outputs": [],
   "source": [
    "def print_size(y_train, y_test):\n",
    "    print(str(len(y_train[y_train['mortality_icu']==1])) + '(' + str(round(len(y_train[y_train['mortality_icu']==1])/len(y_train)*100,1)) + '%)' + ' non-survivors in training set')\n",
    "    print(str(len(y_train[y_train['mortality_icu']==0])) + '(' + str(round(len(y_train[y_train['mortality_icu']==0])/len(y_train)*100,1)) + '%)' + ' survivors in training set')\n",
    "    print(str(len(y_test[y_test['mortality_icu']==1])) + '(' + str(round(len(y_test[y_test['mortality_icu']==1])/len(y_test)*100,1)) + '%)' + ' non-survivors in test set')\n",
    "    print(str(len(y_test[y_test['mortality_icu']==0])) + '(' + str(round(len(y_test[y_test['mortality_icu']==0])/len(y_test)*100,1)) + '%)' + ' survivors in test set')\n",
    "    \n",
    "print_size(y_train, y_test)"
   ]
  },
  {
   "cell_type": "markdown",
   "metadata": {
    "deletable": false,
    "editable": false,
    "nbgrader": {
     "cell_type": "markdown",
     "checksum": "1b6de3f682e42d3e8166d3979255c352",
     "grade": false,
     "grade_id": "cell-5ad8ae256b34cd4c",
     "locked": true,
     "schema_version": 3,
     "solution": false,
     "task": false
    }
   },
   "source": [
    "As we can see our dataset is highly imbalanced, this means we have a many more survivors (majority class) than non-survivors (minority class). This imbalance can lead to poorer model performance as the model can be biased to the majority class. So, in cases where the data is highly imbalanced, it might be a good option to force an oversampling of the minority class, or a undersampling of the majority class. This should be performed on the training set, whereas the test set **should maintain the class imbalance found in the original data**, this ensures the final model is evaluated on the original data.\n",
    "\n",
    "In order to balance the dataset we will use undersampling of the majority class. We do this by removing data points from the majority class, this effectively results in a loss of information.\n",
    "\n",
    "The next example shows how to undersample the majority class, given a desired size for the minority class, controlled by the parameter 'perc_minority_class'. We will save the balanced dataset into new variable X_train_balanced and y_train_balanced so that we can use these later."
   ]
  },
  {
   "cell_type": "code",
   "execution_count": null,
   "metadata": {
    "ExecuteTime": {
     "end_time": "2020-04-27T16:13:12.118648Z",
     "start_time": "2020-04-27T16:13:12.098702Z"
    },
    "deletable": false,
    "editable": false,
    "nbgrader": {
     "cell_type": "code",
     "checksum": "39846ae5361003d967829fa2277a031c",
     "grade": false,
     "grade_id": "cell-aaf0bc495499a0a9",
     "locked": true,
     "schema_version": 3,
     "solution": false,
     "task": false
    },
    "tags": []
   },
   "outputs": [],
   "source": [
    "# set the % of class 1 samples to be present in the training set. \n",
    "perc_class1 = 0.5\n",
    "\n",
    "print('Before balancing')\n",
    "print_size(y_train, y_test)\n",
    "  \n",
    "# Find the indices of class 0 and class 1 samples\n",
    "class0_indices = y_train[y_train['mortality_icu'] == 0].index\n",
    "class1_indices = y_train[y_train['mortality_icu'] == 1].index\n",
    "\n",
    "# Calculate the number of samples for the majority class (survivors)\n",
    "class0_size = round(int((len(y_train[y_train['mortality_icu'] == 1])*(1 - perc_class1)) / perc_class1),0)\n",
    "\n",
    "# Set the random seed generator for reproducibility\n",
    "np.random.seed(10)\n",
    "\n",
    "# Random sample majority class indices\n",
    "random_indices = np.random.choice(class0_indices, class0_size, replace=False)    \n",
    "\n",
    "# Concat class 0 with class 1 indices\n",
    "X_train_balanced = pd.concat([X_train.loc[random_indices],X_train.loc[class1_indices]])\n",
    "y_train_balanced = pd.concat([y_train.loc[random_indices],y_train.loc[class1_indices]])\n",
    "\n",
    "print('After balancing')\n",
    "print_size(y_train_balanced, y_test)"
   ]
  },
  {
   "cell_type": "markdown",
   "metadata": {
    "deletable": false,
    "editable": false,
    "nbgrader": {
     "cell_type": "markdown",
     "checksum": "d79b555a3222b6aaa2a67a8658192dcd",
     "grade": false,
     "grade_id": "cell-71e8b14cc12b978f",
     "locked": true,
     "schema_version": 3,
     "solution": false,
     "task": false
    }
   },
   "source": [
    "# Clustering\n",
    "\n",
    "Clustering is a learning task that aims at decomposing a given set of observations into subgroups (clusters), based on data similarity, such that observations in the same cluster are more closely related to each other than observations in different clusters. It is an unsupervised learning task, since it identifies structures in unlabeled datasets, and a classification task, since it can give a label to observations according to the cluster they are assigned to."
   ]
  },
  {
   "cell_type": "markdown",
   "metadata": {
    "deletable": false,
    "editable": false,
    "nbgrader": {
     "cell_type": "markdown",
     "checksum": "ca6e7578bc6997b6b73e825b5b10f130",
     "grade": false,
     "grade_id": "cell-cef3682b4c931244",
     "locked": true,
     "schema_version": 3,
     "solution": false,
     "task": false
    }
   },
   "source": [
    "## Exemplification with 2D data\n",
    "First we will apply clustering on two features of our dataset to keep it simple and visual. Since we have a large amount of features a preliminary selection of relevant features is done based on the correlation coefficients between the feature values and the training labels.\n",
    "\n",
    "You can change the number of features to keep to visualize more variables"
   ]
  },
  {
   "cell_type": "code",
   "execution_count": null,
   "metadata": {
    "tags": []
   },
   "outputs": [],
   "source": [
    "from scipy import stats\n",
    "\n",
    "def pearson_coefficient(x, y):\n",
    "    return stats.pearsonr(x, y)[0]\n",
    "\n",
    "# Amount of features to keep\n",
    "n_features = 5\n",
    "\n",
    "# Get features\n",
    "features = X_train.columns\n",
    "# Sort features based on correlation\n",
    "sorted_features = features[np.argsort([pearson_coefficient(X_train[col], y_train['mortality_icu']) for col in features])]\n",
    "# Select 'n_features' features to plot\n",
    "selected_features = sorted_features[:n_features]\n",
    "\n",
    "selected_features"
   ]
  },
  {
   "cell_type": "code",
   "execution_count": null,
   "metadata": {
    "tags": []
   },
   "outputs": [],
   "source": [
    "# Scatter plot feature combinations\n",
    "fig, axes = plt.subplots(n_features, n_features, figsize=(4 * n_features, 3 * n_features))\n",
    "for i, x in enumerate(selected_features):\n",
    "    for j, y in enumerate(selected_features):\n",
    "        if i > j:    # Filter duplicate & identical plots\n",
    "            axes[i, j].scatter(x=data[x].values, y=data[y].values, c=data['mortality_icu'], alpha=0.5)\n",
    "            axes[i, j].set_ylabel(y)\n",
    "            axes[i, j].set_xlabel(x)\n",
    "        else:\n",
    "            plt.delaxes(axes[i, j])\n",
    "plt.tight_layout()\n",
    "plt.show()"
   ]
  },
  {
   "cell_type": "markdown",
   "metadata": {
    "deletable": false,
    "editable": false,
    "nbgrader": {
     "cell_type": "markdown",
     "checksum": "4eda11c3ccb2a1d382286e0bf85a9825",
     "grade": false,
     "grade_id": "cell-5a68032f8e9692ab",
     "locked": true,
     "schema_version": 3,
     "solution": false,
     "task": false
    }
   },
   "source": [
    "***From these plots we can make a couple of observations.***\n",
    "\n",
    "* Observation one\n",
    "\n",
    "The maximum value of the glasgow comma scale seems to take on discrete values, as can be seen from the first column of scatter plots, without having a significant visible correlation with mortality.\n",
    "\n",
    "* Observation two\n",
    "\n",
    "On the other hand the mean values of this scale are continuous and seem to have a trend where larger values have more survivors and lower values a higher mortality. This information comes from the second column of scatter plots.\n",
    "\n",
    "* Observation three\n",
    "\n",
    "Eventhough each feature has distinct characteristics, there is no clear combination resulting in significant seperation between survivors and non-survivors. For this reason none of the above combinations are ideal a selection of two pairs is made according to observations one and two."
   ]
  },
  {
   "cell_type": "code",
   "execution_count": null,
   "metadata": {
    "tags": []
   },
   "outputs": [],
   "source": [
    "# Selected variables\n",
    "x1, x2, x3 = ['max_glasgow_coma_scale', 'mean_glasgow_coma_scale', 'min_mean_blood_pressure']\n",
    "# Selected pairs of variables\n",
    "s1 = [x1, x3]\n",
    "s2 = [x2, x3]"
   ]
  },
  {
   "cell_type": "markdown",
   "metadata": {
    "deletable": false,
    "editable": false,
    "nbgrader": {
     "cell_type": "markdown",
     "checksum": "5e521064543baf70e92e6e885b593b26",
     "grade": false,
     "grade_id": "cell-344a1255fc59619d",
     "locked": true,
     "schema_version": 3,
     "solution": false,
     "task": false
    }
   },
   "source": [
    "These are not ideal examples, but we can kind of distinguish three clusters in the second selection:\n",
    "- One large cluster with average blood pressure and higher end values of the coma scale\n",
    "- One cluster with a lower coma scale values and lower blood pressures.\n",
    "- One cluster of patients with blood pressures of 0, these also corresponds with mostly deceased patients. (small cluster at the bottom)\n",
    "\n",
    "The number of clusters (K) must be provided before running K-means. Since, we can distinguish 3 cluster, we will use a K of three in the K-means algorithm.\n",
    "\n",
    "The algorithm is simple enough to be implemented without the use of a library. The code below also shows the clustering process step by step."
   ]
  },
  {
   "cell_type": "markdown",
   "metadata": {
    "deletable": false,
    "editable": false,
    "nbgrader": {
     "cell_type": "markdown",
     "checksum": "b23c9ce7b825cec7311a9c9a53fb76a8",
     "grade": false,
     "grade_id": "cell-4b89938f7fcfd340",
     "locked": true,
     "schema_version": 3,
     "solution": false,
     "task": false
    }
   },
   "source": [
    "## K-means clustering algorithm\n",
    "\n",
    "Consider a (training) dataset composed of $N$ observations:\n",
    "\n",
    "$$\n",
    "\\begin{aligned}\n",
    "x_1, x_2,..., x_N\n",
    "\\end{aligned}\n",
    "$$\n",
    "\n",
    "Initialize K centroids $\\mu_1, \\mu_2, ..., \\mu_K$ randomly.\n",
    "\n",
    "Repeat until convergence:\n",
    "\n",
    "1. Cluster assignment <br>\n",
    "\n",
    "    Assign each $x_i$ to the nearest cluster.<br>\n",
    "    For every $i$ do: <br>\n",
    "$$\n",
    "\\begin{aligned}\n",
    "\\underset{j}{argmin}\\left \\| x_i-\\mu_j \\right \\|^2,\n",
    "\\end{aligned}\n",
    "$$\n",
    "    where $j=1,2,...,K$\n",
    "\n",
    "2. Cluster updating <br>\n",
    "\n",
    "    Update the cluster centroids $\\mu_j$.<br>\n",
    "    For every $j$ do:\n",
    "$$\n",
    "\\begin{aligned}\n",
    "\\mu_j = \\frac{1}{N_j}\\left [ x_1^j + x_2^j + ... + x_{N_j}^j \\right ],\n",
    "\\end{aligned}\n",
    "$$\n",
    "    where $N_j$ is the number of observations assigned to cluster $j$, $k=1,2, ..., N_j$, and $x_k^j$ represents observation $k$ assigned to cluster $j$. <br>\n",
    "    Each new centroid corresponds the mean of the observations assigned in the previous step."
   ]
  },
  {
   "cell_type": "code",
   "execution_count": null,
   "metadata": {
    "deletable": false,
    "editable": false,
    "nbgrader": {
     "cell_type": "code",
     "checksum": "129da97cfd207db40957d43744dc1540",
     "grade": false,
     "grade_id": "cell-14b72b7f65164b92",
     "locked": true,
     "schema_version": 3,
     "solution": false,
     "task": false
    },
    "tags": []
   },
   "outputs": [],
   "source": [
    "# The following code was adapted from http://jonchar.net/notebooks/k-means/\n",
    "import time\n",
    "from IPython import display\n",
    "\n",
    "def initialize_clusters(points, k):\n",
    "    \"\"\"Initializes clusters as k randomly selected coordinates.\"\"\"\n",
    "    return points[np.random.randint(points.shape[0], size=k)]\n",
    "    \n",
    "def get_distances(centroid, points):\n",
    "    \"\"\"Returns the distance between centroid and observations.\"\"\"\n",
    "    # Euclidean distance\n",
    "    return np.linalg.norm(points - centroid, axis=1)\n",
    "\n",
    "def visualize_kmeans(X, K, time_sleep=0.01):\n",
    "    x1, x2 = X.columns\n",
    "    X = X.values\n",
    "    colormap = plt.get_cmap('tab20')\n",
    "\n",
    "    # Initialize centroids\n",
    "    centroids = initialize_clusters(X, K)\n",
    "    centroids_old = np.zeros([K, X.shape[1]], dtype=np.float64)\n",
    "\n",
    "    # Initialize the vectors in which the assigned classes\n",
    "    # of each observation will be stored and the\n",
    "    # calculated distances from each centroid\n",
    "    classes = np.zeros(X.shape[0], dtype=np.float64)\n",
    "    distances = np.zeros([X.shape[0], K], dtype=np.float64)\n",
    "\n",
    "    # Loop until convergence of centroids\n",
    "    error = 1\n",
    "    \n",
    "    while error > 0:\n",
    "        # Assign all observations to the nearest centroid\n",
    "        for i, c in enumerate(centroids):\n",
    "            distances[:, i] = get_distances(c, X)\n",
    "\n",
    "        # Determine class membership of each observation\n",
    "        # by picking the closest centroid\n",
    "        classes = np.argmin(distances, axis=1)\n",
    "\n",
    "        # Update centroid location using the newly\n",
    "        # assigned observations classes\n",
    "        # Change to median in order to have k-medoids\n",
    "        for c in range(K):\n",
    "            centroids[c] = np.mean(X[classes == c], 0)\n",
    "            plt.scatter(x = X[classes == c,0], y = X[classes == c,1], alpha = 0.2)\n",
    "            plt.scatter(x = centroids[c,0], y = centroids[c,1], c = 'black', marker='x')\n",
    "\n",
    "        error = sum(get_distances(centroids, centroids_old))\n",
    "        centroids_old = centroids.copy() \n",
    "\n",
    "        #plt.text(max1, min2, str(error))\n",
    "        plt.xlabel(x1)\n",
    "        plt.ylabel(x2)\n",
    "        display.clear_output(wait=True)\n",
    "        display.display(plt.gcf())\n",
    "\n",
    "        # decrease the step to make it faster\n",
    "        time.sleep(time_sleep)\n",
    "\n",
    "        plt.gcf().clear()\n",
    "    plt.show()"
   ]
  },
  {
   "cell_type": "markdown",
   "metadata": {
    "deletable": false,
    "editable": false,
    "nbgrader": {
     "cell_type": "markdown",
     "checksum": "3ad8105cd02edc0892e10bd5694e8337",
     "grade": false,
     "grade_id": "cell-57fc1edd077b83fe",
     "locked": true,
     "schema_version": 3,
     "solution": false,
     "task": false
    }
   },
   "source": [
    "Using the visualize_kmeans function it is possible to see how the clusters are formed. <br>\n",
    "In the following cells the results are shown, you can change the time_sleep to change the speed at which the visualization is updated."
   ]
  },
  {
   "cell_type": "code",
   "execution_count": null,
   "metadata": {
    "tags": []
   },
   "outputs": [],
   "source": [
    "# Number of clusters, feel free to experiment with this number\n",
    "K = 3\n",
    "\n",
    "# input data to fit K-means for first selection\n",
    "X = X_train[s1]\n",
    "\n",
    "# visualize\n",
    "visualize_kmeans(X, K, time_sleep=0.1)\n"
   ]
  },
  {
   "cell_type": "code",
   "execution_count": null,
   "metadata": {
    "tags": []
   },
   "outputs": [],
   "source": [
    "##### Number of clusters, feel free to experiment with this number\n",
    "K = 3\n",
    "\n",
    "# input data to fit K-means for second selection\n",
    "X = X_train[s2]\n",
    "\n",
    "# visualize\n",
    "visualize_kmeans(X, K)"
   ]
  },
  {
   "cell_type": "markdown",
   "metadata": {
    "deletable": false,
    "nbgrader": {
     "cell_type": "markdown",
     "checksum": "7f24db89f2f17fb99f8930ff73498be9",
     "grade": true,
     "grade_id": "cell-94b52b4f89cd816e",
     "locked": false,
     "points": 2,
     "schema_version": 3,
     "solution": true,
     "task": false
    }
   },
   "source": [
    "> **Question: We see that we have difficulty to isolate the patients with a low \"minimum mean blood pressure\" (<0.3), why is this? How can we solve this problem?**\n",
    "\n",
    "Change the number of clusters in the example above, how many clusters do you need in order to isolate this patient group?\n",
    "\n",
    "YOUR ANSWER HERE"
   ]
  },
  {
   "cell_type": "markdown",
   "metadata": {
    "deletable": false,
    "nbgrader": {
     "cell_type": "markdown",
     "checksum": "fe4f8fd2ce60f77a08a5436d300524ce",
     "grade": true,
     "grade_id": "cell-5e6f80d7d52cd720",
     "locked": false,
     "points": 2,
     "schema_version": 3,
     "solution": true,
     "task": false
    }
   },
   "source": [
    "> **Question: When you run the clustering above multiple times, is the result always the same? Explain.**\n",
    "\n",
    "YOUR ANSWER HERE"
   ]
  },
  {
   "cell_type": "markdown",
   "metadata": {
    "deletable": false,
    "nbgrader": {
     "cell_type": "markdown",
     "checksum": "bca27a06ef2e3f370f1633e394a3780e",
     "grade": true,
     "grade_id": "cell-052591c5e2e30c4b",
     "locked": false,
     "points": 2,
     "schema_version": 3,
     "solution": true,
     "task": false
    }
   },
   "source": [
    "> **Question: Why are the boundary lines between the clusters straight lines?**\n",
    "\n",
    "YOUR ANSWER HERE"
   ]
  },
  {
   "cell_type": "code",
   "execution_count": null,
   "metadata": {},
   "outputs": [],
   "source": [
    "#This cell is intended to draw you attention to the previous' cells questions.\n",
    "dummy_var = False\n",
    "assert dummy_var, \"Do not forget to answer the previous questions, once you have done that set dummy_var to True to continue\""
   ]
  },
  {
   "cell_type": "markdown",
   "metadata": {},
   "source": [
    "Scikitlearn offers an implementation of KMeans, the next section presents it's implementation and results obtained for a pair of features. You can play with the code to evaluate the clusters across other pairs of features."
   ]
  },
  {
   "cell_type": "code",
   "execution_count": null,
   "metadata": {
    "tags": []
   },
   "outputs": [],
   "source": [
    "from sklearn.cluster import KMeans\n",
    "\n",
    "# input data to fit K-means\n",
    "X = pd.DataFrame(X_train[[x1,x3]])\n",
    "\n",
    "# fit kmeans\n",
    "kmeans = KMeans(n_clusters=K, init='random', n_init=1).fit(X)\n",
    "\n",
    "classes_ = kmeans.labels_\n",
    "centroids_ = kmeans.cluster_centers_\n",
    "\n",
    "# define a colormap\n",
    "colormap = plt.get_cmap('tab20')\n",
    "for c in range(K):\n",
    "    plt.scatter(x = X.values[classes_ == c,0], y = X.values[classes_ == c,1], alpha = 0.4)\n",
    "    plt.scatter(x = centroids_[c, 0], y = centroids_[c, 1], c = 'black', marker='x')\n",
    "        \n",
    "plt.xlabel(x1)\n",
    "plt.ylabel(x3)\n",
    "display.clear_output(wait=True)"
   ]
  },
  {
   "cell_type": "markdown",
   "metadata": {
    "deletable": false,
    "editable": false,
    "nbgrader": {
     "cell_type": "markdown",
     "checksum": "d0cd2f0bad9f1c42b3439abb1151c642",
     "grade": false,
     "grade_id": "cell-60ae1eafbb70a36f",
     "locked": true,
     "schema_version": 3,
     "solution": false,
     "task": false
    }
   },
   "source": [
    "It is also possible to use k-means as a unsupervised classifier by setting $K$ equal to the number of classes. <br>\n",
    "In our case this means $K=2$. <br> This approach corresponds to finding two clusters in the data and assuming the assigned cluster ids correspond to the actual training labels. "
   ]
  },
  {
   "cell_type": "code",
   "execution_count": null,
   "metadata": {},
   "outputs": [],
   "source": [
    "from sklearn.metrics import classification_report\n",
    "# fit kmeans\n",
    "kmeans = KMeans(n_clusters=2, init='random', n_init=1).fit(X_train[[x1, x3]])\n",
    "\n",
    "test_prediction = kmeans.predict(X_test[[x1, x3]])\n",
    "print(classification_report(test_prediction, y_test.values))"
   ]
  },
  {
   "cell_type": "markdown",
   "metadata": {
    "deletable": false,
    "editable": false,
    "nbgrader": {
     "cell_type": "markdown",
     "checksum": "9edea673381ec687e7d086c76af95cbc",
     "grade": false,
     "grade_id": "cell-e04248dc6eb2ecbe",
     "locked": true,
     "schema_version": 3,
     "solution": false,
     "task": false
    }
   },
   "source": [
    "This can also be visualized as follows:"
   ]
  },
  {
   "cell_type": "code",
   "execution_count": null,
   "metadata": {
    "tags": []
   },
   "outputs": [],
   "source": [
    "# Create color maps\n",
    "cmap_light = plt.cm.coolwarm\n",
    "cmap_bold = plt.cm.bwr\n",
    "\n",
    "# Amount of spaces\n",
    "N = 100\n",
    "# calculate min, max and limits\n",
    "x_min, x_max = X.min() - 0.5, X.max() + 0.5\n",
    "y_min, y_max = X.min() - 0.5, X.max() + 0.5\n",
    "xx, yy = np.meshgrid(np.linspace(x_min, x_max, N), np.linspace(y_min, y_max, N))\n",
    "\n",
    "fig, axes = plt.subplots(1, 1)\n",
    "\n",
    "# predict class using data and classifier\n",
    "Z = kmeans.predict(np.c_[xx.ravel(), yy.ravel()])\n",
    "Z = Z.reshape(xx.shape)\n",
    "\n",
    "# Plot contour\n",
    "axes.contourf(xx, yy, Z, cmap=cmap_light, alpha=0.8)\n",
    "\n",
    "# Plot also the training points\n",
    "axes.scatter(X_test[[x1, x3]].values[:, 0], X_test[[x1, x3]].values[:, 1], c=y_test.values, cmap=cmap_bold)\n",
    "axes.set_xlim(xx.min(), xx.max())\n",
    "axes.set_ylim(yy.min(), yy.max())\n",
    "axes.set_xlabel(x1)\n",
    "axes.set_ylabel(x3)\n",
    "plt.show()"
   ]
  },
  {
   "cell_type": "markdown",
   "metadata": {
    "deletable": false,
    "nbgrader": {
     "cell_type": "markdown",
     "checksum": "ff011ac8b974ce0bd63b11415795be1d",
     "grade": true,
     "grade_id": "cell-21d0326b03d7c58f",
     "locked": false,
     "points": 1,
     "schema_version": 3,
     "solution": true,
     "task": false
    }
   },
   "source": [
    "> **Question: We now applied KMeans on the unbalanced data. What is the influence of using the balanced training data on this approach? Think about this in terms of the decision boundary and performance metrics**\n",
    "\n",
    "YOUR ANSWER HERE"
   ]
  },
  {
   "cell_type": "markdown",
   "metadata": {
    "deletable": false,
    "editable": false,
    "nbgrader": {
     "cell_type": "markdown",
     "checksum": "688b19a2ff98674c60dfcf6f92a49baa",
     "grade": false,
     "grade_id": "cell-c10a1e14fae59483",
     "locked": true,
     "schema_version": 3,
     "solution": false,
     "task": false
    }
   },
   "source": [
    "\n",
    "\n",
    "# Logistic regression classification\n",
    "When starting a machine learning project it is always a good idea to start with a very simple model. The simple model will give a sense of how challenging the question is. The model we will use is logistic regression (LR). \n",
    "\n",
    "LR is considered a simple model, because it is easy to understand the math behind it, making it also easy to interpret the model parameters and results, and it takes little computing time compared to other ML models. Basically, it is similar to the linear regression model you've trained previously but here we are not fitting a line through the data but a sigmoid. <br>\n",
    "\n",
    "Visualization of a sigmoid:  "
   ]
  },
  {
   "cell_type": "code",
   "execution_count": null,
   "metadata": {
    "ExecuteTime": {
     "end_time": "2020-04-27T16:13:19.060891Z",
     "start_time": "2020-04-27T16:13:18.943173Z"
    },
    "deletable": false,
    "editable": false,
    "nbgrader": {
     "cell_type": "code",
     "checksum": "3bc03017ef56c3783abb2a1b3cf8b1a6",
     "grade": false,
     "grade_id": "cell-54278180485710a4",
     "locked": true,
     "schema_version": 3,
     "solution": false,
     "task": false
    },
    "tags": []
   },
   "outputs": [],
   "source": [
    "x = np.linspace(-5, 5, num=100)\n",
    "plt.scatter(x=x, y= 1 / (1 + np.exp(-x)))"
   ]
  },
  {
   "cell_type": "markdown",
   "metadata": {
    "deletable": false,
    "editable": false,
    "nbgrader": {
     "cell_type": "markdown",
     "checksum": "0363556a491b5f90ba78d6a43478cc9a",
     "grade": false,
     "grade_id": "cell-a56e35d58be6ed4e",
     "locked": true,
     "schema_version": 3,
     "solution": false,
     "task": false
    }
   },
   "source": [
    "The sigmoid is bounded between 0 and 1, constraining the model output between 0 and 1. As a result, the output value of a logistic regression model can be seen as the certainty of the model. If the value is very close to 1 the model is almost certain that this sample belongs to class 1 (in our case non-survivor), on the contrary, when the value is very close to 0 the model is almost certain that the sample belongs to class 0 (in our case survivor). \n",
    "\n",
    "To convert this model certainty into a binary prediction we use a threshold value, all predictions higher than the specified threshold value will be mapped to class 1 and all values lower than the threshold will be mapped to the 0 class. Choosing this threshold is a trade-off between sensitivity and specificity, more on this later."
   ]
  },
  {
   "cell_type": "markdown",
   "metadata": {
    "deletable": false,
    "editable": false,
    "nbgrader": {
     "cell_type": "markdown",
     "checksum": "7903478011e41ca0ce73da0410c3700f",
     "grade": false,
     "grade_id": "cell-cdf6237bee945081",
     "locked": true,
     "schema_version": 3,
     "solution": false,
     "task": false
    }
   },
   "source": [
    "## Training our first model"
   ]
  },
  {
   "cell_type": "markdown",
   "metadata": {
    "deletable": false,
    "editable": false,
    "nbgrader": {
     "cell_type": "markdown",
     "checksum": "a1f4c0a4235705b17b2138377f21e226",
     "grade": false,
     "grade_id": "cell-4850ba097881bdf5",
     "locked": true,
     "schema_version": 3,
     "solution": false,
     "task": false
    }
   },
   "source": [
    "We will now train our first model, we will not  implement logistic regression ourself, as it is already implemented in the sklearn library. To train a logistic regression model in sklearn you simply need to call the fit() method on a LogisticRegression class instance.\n",
    "\n",
    "The sklearn API is fairly straightforwarded: \n",
    " - To train a model you need to call the fit() method.\n",
    " - To use the model for prediction you call the predict() method.  \n",
    "\n",
    "More information can be found in the sklearn documentation: https://scikit-learn.org/stable/modules/generated/sklearn.linear_model.LogisticRegression.html"
   ]
  },
  {
   "cell_type": "code",
   "execution_count": null,
   "metadata": {
    "ExecuteTime": {
     "end_time": "2020-04-27T16:13:20.778763Z",
     "start_time": "2020-04-27T16:13:20.694988Z"
    },
    "deletable": false,
    "editable": false,
    "nbgrader": {
     "cell_type": "code",
     "checksum": "cabe6ebf11bc99ec72590ba64b295bce",
     "grade": false,
     "grade_id": "cell-5d7b74499f0a68d8",
     "locked": true,
     "schema_version": 3,
     "solution": false,
     "task": false
    },
    "tags": []
   },
   "outputs": [],
   "source": [
    "from sklearn.linear_model import LogisticRegression\n",
    "\n",
    "#Specify the model with a fixed random state for reproduction\n",
    "logreg = LogisticRegression(random_state = 10)\n",
    "\n",
    "#Fit or train the model\n",
    "logreg.fit(X_train, y_train.values.ravel())\n",
    "\n",
    "y_pred = logreg.predict(X_test)\n",
    "y_pred"
   ]
  },
  {
   "cell_type": "markdown",
   "metadata": {
    "deletable": false,
    "editable": false,
    "nbgrader": {
     "cell_type": "markdown",
     "checksum": "a8d0d1f4c595b3f559d496466b7a8984",
     "grade": false,
     "grade_id": "cell-1b2796b55e64ff4f",
     "locked": true,
     "schema_version": 3,
     "solution": false,
     "task": false
    }
   },
   "source": [
    "Ok, now we have an array (y_pred) that contains the predicitons of our model on the **test set**. But how do we evaluate the performance of our model?\n",
    "\n",
    "One way is to calculate the accuracy of our model. This is the number of samples our model predicted correctly divided by the total number of samples."
   ]
  },
  {
   "cell_type": "code",
   "execution_count": null,
   "metadata": {
    "ExecuteTime": {
     "end_time": "2020-04-27T16:13:22.187981Z",
     "start_time": "2020-04-27T16:13:22.182026Z"
    },
    "tags": []
   },
   "outputs": [],
   "source": [
    "# Count the number of correct samples\n",
    "correct_num_samples = np.count_nonzero(y_test.values.ravel() == y_pred)\n",
    "total_samples = len(y_test)\n",
    "accuracy = correct_num_samples / total_samples\n",
    "print(\"Model total test accuracy: \", round(accuracy, 2))"
   ]
  },
  {
   "cell_type": "markdown",
   "metadata": {
    "deletable": false,
    "editable": false,
    "nbgrader": {
     "cell_type": "markdown",
     "checksum": "57e5f3cb3af4e1199f3f6fbe738238ba",
     "grade": false,
     "grade_id": "cell-9bb2dafb6a3e4892",
     "locked": true,
     "schema_version": 3,
     "solution": false,
     "task": false
    }
   },
   "source": [
    "We have a high accuracy, however, if we calculate the accuracy for each class seperately and equally weigh them we have very different performances:"
   ]
  },
  {
   "cell_type": "code",
   "execution_count": null,
   "metadata": {
    "tags": []
   },
   "outputs": [],
   "source": [
    "# Count the number of correct samples\n",
    "idx_nonsurvivors = np.where(y_test.values.ravel()==1)\n",
    "\n",
    "correct_num_samples = np.count_nonzero(y_test.values.ravel()[idx_nonsurvivors] == y_pred[idx_nonsurvivors])\n",
    "total_samples = len(idx_nonsurvivors[0])\n",
    "accuracy_non_surv = correct_num_samples / total_samples\n",
    "print(\"Model test non-survivor accuracy (true positive rate): \", round(accuracy_non_surv, 2))\n",
    "\n",
    "idx_survivors = np.where(y_test.values.ravel()==0)\n",
    "\n",
    "correct_num_samples = np.count_nonzero(y_test.values.ravel()[idx_survivors] == y_pred[idx_survivors])\n",
    "total_samples = len(idx_survivors[0])\n",
    "accuracy_surv = correct_num_samples / total_samples\n",
    "print(\"Model test survivor accuracy (true negative rate): \", round(accuracy_surv, 2))\n",
    "\n",
    "print(\"Model test weighted accuracy:\",round((accuracy_surv+accuracy_non_surv)/2,2))"
   ]
  },
  {
   "cell_type": "markdown",
   "metadata": {
    "deletable": false,
    "editable": false,
    "nbgrader": {
     "cell_type": "markdown",
     "checksum": "77970d0b0da92f9cffc9737ca8146e1f",
     "grade": false,
     "grade_id": "cell-57534c9c67dc35ba",
     "locked": true,
     "schema_version": 3,
     "solution": false,
     "task": false
    }
   },
   "source": [
    ">**Question: Why is this? Select the most correct answer**<br>\n",
    "\n",
    "A: *Because our training set does not reflect the test set.*<br>\n",
    "B: *Because the good performance on the large survivor class overshadows the non-survivor class performance in the accuracy metric.* <br>\n",
    "C: *Because we did not use a balanced test set, which would have been better in this case.*<br>\n",
    "D: *None of the above*<br>\n",
    "\n",
    "(Do not change the variable name and type the variable in string form: e.g. Answer = \"A\" )"
   ]
  },
  {
   "cell_type": "code",
   "execution_count": null,
   "metadata": {
    "deletable": false,
    "nbgrader": {
     "cell_type": "code",
     "checksum": "657700180c3e6c91785e4d24d6ea7965",
     "grade": false,
     "grade_id": "cell-171c92772ad2c802",
     "locked": false,
     "schema_version": 3,
     "solution": true,
     "task": false
    },
    "tags": []
   },
   "outputs": [],
   "source": [
    "Answer = None\n",
    "# YOUR CODE HERE\n",
    "raise NotImplementedError()"
   ]
  },
  {
   "cell_type": "code",
   "execution_count": null,
   "metadata": {
    "deletable": false,
    "editable": false,
    "nbgrader": {
     "cell_type": "code",
     "checksum": "86555a17285ef341440a09ea2b0347aa",
     "grade": true,
     "grade_id": "cell-3d9c3bf3c3e49a8f",
     "locked": true,
     "points": 2,
     "schema_version": 3,
     "solution": false,
     "task": false
    },
    "tags": []
   },
   "outputs": [],
   "source": [
    "assert Answer != None"
   ]
  },
  {
   "cell_type": "markdown",
   "metadata": {
    "deletable": false,
    "editable": false,
    "nbgrader": {
     "cell_type": "markdown",
     "checksum": "7bb50a5956e37789d3dd8964b876d26a",
     "grade": false,
     "grade_id": "cell-05a8470b16a1dfc7",
     "locked": true,
     "schema_version": 3,
     "solution": false,
     "task": false
    }
   },
   "source": [
    "## Definition of performance measures\n",
    "In this part we will create a method to evaluate the performance of our model using other metrics besides accuracy. We will create a method such that we can reuse it for potential other models. \n",
    "The method will print the following metrics / graphs:\n",
    " - True positives\n",
    " - True negatives\n",
    " - False positives\n",
    " - False negatives\n",
    " - True positive rate (also called sensitivity or recall)\n",
    " - False positive rate\n",
    " - Receiver-operater characteristics (ROC) curve\n",
    " - Area under the Receiver–operator Characteristics (ROC) curve (AUC)\n",
    "\n",
    "The true positive rate (TPR) is a measure that indicates the percentage of **non-survivors** who are **correctly** identified as such. In the context of our problem, having a high sensitivity is very important, since it tells us the algorithm is able to correctly identify the most critical cases. \n",
    "\n",
    "* TPR = $\\frac{TP}{TP + FN}$\n",
    "\n",
    "However, optimizing for TPR alone may lead to the presence of many false alarms (false positives). Therefore, it is important to accompany it with the false positive rate (FPR), which is the percentage of **non-survivors** who are **wrongly** identified as **survivors**.\n",
    "\n",
    "* FPR = $\\frac{FP}{FP + TN}$\n",
    "\n",
    "The Receiver-operater characteristics (ROC) curve, is a curve that shows the trade-off between TPR and FPR. Remember the sigmoid function above, by changing the threshold value we can adjust the trade-off between TPR and FPR. The ROC curve is created by calculating the TPR and FPR for different threshold values.\n",
    "\n",
    "One way of combining TPR and FPR in one measure is using the area under the receiver–operator characteristics (ROC) curve called the AUC."
   ]
  },
  {
   "cell_type": "code",
   "execution_count": null,
   "metadata": {
    "ExecuteTime": {
     "end_time": "2020-04-27T16:13:28.011153Z",
     "start_time": "2020-04-27T16:13:28.002148Z"
    },
    "tags": []
   },
   "outputs": [],
   "source": [
    "from sklearn import metrics\n",
    "from sklearn.metrics import confusion_matrix\n",
    "from sklearn.metrics import classification_report\n",
    "\n",
    "def evaluate_performance(y, y_pred, print_=True, threshold=None):   \n",
    "    \"\"\" Calculate performance measures for a given ground truth classification y and predicted \n",
    "    probabilities y_pred. If threshold is None the threshold giving the best mean TPR and FPR is\n",
    "    selected otherwise the given threshold is used. The AUC is calculated for a range of\n",
    "    thresholds using the metrics package from sklearn. \"\"\"\n",
    "\n",
    "    # xx and yy values for ROC curve\n",
    "    fpr, tpr, thresholds = metrics.roc_curve(y, y_pred, pos_label=1)\n",
    "    # area under the ROC curve\n",
    "    AUC = metrics.auc(fpr, tpr)\n",
    "\n",
    "    if threshold is None:\n",
    "        # we will choose the threshold that gives the best balance between tpr and fpr\n",
    "        difference = abs((1-fpr) - tpr)\n",
    "        threshold = thresholds[difference.argmin()]        \n",
    "        \n",
    "    # transform the predicted probability into a binary classification\n",
    "    y_pred[y_pred >= threshold] = 1\n",
    "    y_pred[y_pred < threshold] = 0\n",
    "    \n",
    "    tn, fp, fn, tp = confusion_matrix(y, y_pred).ravel()\n",
    "    best_tpr = tp/(tp+fn)\n",
    "    best_fpr = tn/(tn+fp)\n",
    "    \n",
    "    #Use the threshold that optmizes the fpr and tpr\n",
    "    y_binary = y_pred\n",
    "    y_binary[y_binary<threshold]=0\n",
    "    y_binary[y_binary>=threshold]=1\n",
    "    \n",
    "    if print_:\n",
    "        # print the performance and plot the ROC curve    \n",
    "        print('Threshold: ' + str(round(threshold,2)))\n",
    "        \n",
    "#         print(classification_report(y,y_binary,target_names=[\"Survivor\",\"Non-Survivors\"]))\n",
    "         \n",
    "        print(\"Survivors (Negatives, FP+TN): \"+str(fp+tn))\n",
    "        print(\"Non-survivors (Positives, FN+TP): \"+str(fn+tp))\n",
    "        \n",
    "        print(\"\")\n",
    "        \n",
    "        positive_negatives = [\"TP\",\"TN\",\"FP\",\"FN\"]\n",
    "        positive_negatives_data = [[tp,tn,fp,fn]]\n",
    "        \n",
    "        row_format_pn =\"{:>13}\" * (len(positive_negatives))\n",
    "        print(row_format_pn.format(*positive_negatives))\n",
    "        for pn, row in zip(positive_negatives, positive_negatives_data):\n",
    "            print(row_format_pn.format(*row))\n",
    "        \n",
    "        print(\"\")\n",
    "        \n",
    "        sens_spec_auc = [\"TPR\",\"FPR\",\"AUC\"]\n",
    "        sens_spec_auc_data = [[round(best_tpr,4),round(best_fpr,4),round(AUC,4)]]\n",
    "        \n",
    "        row_format_ssa =\"{:>13}\" * (len(sens_spec_auc))\n",
    "        print(row_format_ssa.format(*sens_spec_auc))\n",
    "        for ssa, row in zip(sens_spec_auc, sens_spec_auc_data):\n",
    "            print(row_format_ssa.format(*row))\n",
    "\n",
    "        plt.figure(figsize = (4,3))\n",
    "        plt.scatter(x = fpr, y = tpr, label = None)\n",
    "        plt.plot(fpr, tpr, label = 'Classifier', zorder = 1)\n",
    "        plt.plot([0, 1], [0, 1], 'k--', label = 'Random classifier')\n",
    "        plt.scatter(x = 1 - best_fpr, y = best_tpr, c = 'black', label = 'Operating point', zorder = 2)\n",
    "        plt.legend()\n",
    "        plt.xlabel('FPR')\n",
    "        plt.ylabel('TPR')\n",
    "        plt.show()\n",
    "\n",
    "    return threshold, AUC, best_tpr, best_fpr"
   ]
  },
  {
   "cell_type": "markdown",
   "metadata": {
    "deletable": false,
    "editable": false,
    "nbgrader": {
     "cell_type": "markdown",
     "checksum": "7ea4e8d87301805522d6549df4d99a46",
     "grade": false,
     "grade_id": "cell-0f2e72efe4f192dc",
     "locked": true,
     "schema_version": 3,
     "solution": false,
     "task": false
    }
   },
   "source": [
    "## Testing our model"
   ]
  },
  {
   "cell_type": "markdown",
   "metadata": {
    "deletable": false,
    "editable": false,
    "nbgrader": {
     "cell_type": "markdown",
     "checksum": "87239da951cf57f081a98beb9f18e437",
     "grade": false,
     "grade_id": "cell-48ddb586e23f6318",
     "locked": true,
     "schema_version": 3,
     "solution": false,
     "task": false
    }
   },
   "source": [
    "Let's evaluate our model using this new method:"
   ]
  },
  {
   "cell_type": "code",
   "execution_count": null,
   "metadata": {
    "ExecuteTime": {
     "end_time": "2020-04-27T16:13:29.791968Z",
     "start_time": "2020-04-27T16:13:29.653349Z"
    },
    "deletable": false,
    "editable": false,
    "nbgrader": {
     "cell_type": "code",
     "checksum": "1755edb5b87938123cc8bb3e7180e440",
     "grade": false,
     "grade_id": "cell-166f79023cd0891e",
     "locked": true,
     "schema_version": 3,
     "solution": false,
     "task": false
    },
    "tags": []
   },
   "outputs": [],
   "source": [
    "# Here we use the predict_proba method as we want the probability (certainty) of the model as output\n",
    "y_pred_proba = logreg.predict_proba(X_test)[:,1]\n",
    "_ = evaluate_performance(y_test, y_pred_proba)"
   ]
  },
  {
   "cell_type": "markdown",
   "metadata": {
    "deletable": false,
    "editable": false,
    "nbgrader": {
     "cell_type": "markdown",
     "checksum": "b8dd90cf6b9385781a08d4ad4e351df0",
     "grade": false,
     "grade_id": "cell-92f9e621caf12626",
     "locked": true,
     "schema_version": 3,
     "solution": false,
     "task": false
    }
   },
   "source": [
    "Now that we see that our method works we can create another to evaluate the performance for the test and train set."
   ]
  },
  {
   "cell_type": "code",
   "execution_count": null,
   "metadata": {
    "ExecuteTime": {
     "end_time": "2020-04-27T16:13:33.020149Z",
     "start_time": "2020-04-27T16:13:33.015163Z"
    },
    "deletable": false,
    "editable": false,
    "nbgrader": {
     "cell_type": "code",
     "checksum": "92f8686dc84ae99398e545ec8623e9ea",
     "grade": false,
     "grade_id": "cell-58dae876d39ee2dd",
     "locked": true,
     "schema_version": 3,
     "solution": false,
     "task": false
    },
    "tags": []
   },
   "outputs": [],
   "source": [
    "def model_evaluation(model, X_train, y_train, X_test, y_test, print_=True):\n",
    "    \n",
    "    # tune - parameter estimation \n",
    "    print('TRAINING SET')\n",
    "    y_pred_prob_train = model.predict_proba(X_train)\n",
    "    threshold, AUC_train, sens_train, spec_train = evaluate_performance(y_train, y_pred_prob_train[:,1], print_)\n",
    "\n",
    "    # test\n",
    "    print('TEST SET')\n",
    "    y_pred_prob_test = model.predict_proba(X_test)\n",
    "    _, AUC_test, sens_test, spec_test = evaluate_performance(y_test, y_pred_prob_test[:,1], print_, threshold)\n",
    "    \n",
    "    # save the results\n",
    "    results_train = pd.DataFrame(data = [[threshold, AUC_train, sens_train, spec_train, X_train.shape[1]]],\n",
    "                           columns = ['Threshold','AUC', 'Sensitivity', 'Specificity', '# features'])\n",
    "\n",
    "    results_test = pd.DataFrame(data = [[threshold, AUC_test, sens_test, spec_test, X_train.shape[1]]],\n",
    "                           columns = ['Threshold','AUC', 'Sensitivity', 'Specificity', '# features'])\n",
    "        \n",
    "    return results_train, results_test, y_pred_prob_train, y_pred_prob_test\n"
   ]
  },
  {
   "cell_type": "markdown",
   "metadata": {
    "deletable": false,
    "editable": false,
    "nbgrader": {
     "cell_type": "markdown",
     "checksum": "597e1656adbd855653b1463e9527a24d",
     "grade": false,
     "grade_id": "cell-a06b97e0a6da9221",
     "locked": true,
     "schema_version": 3,
     "solution": false,
     "task": false
    }
   },
   "source": [
    "We can call the function to see the model performance on train and test data:"
   ]
  },
  {
   "cell_type": "code",
   "execution_count": null,
   "metadata": {
    "ExecuteTime": {
     "end_time": "2020-04-27T16:13:34.568201Z",
     "start_time": "2020-04-27T16:13:34.301914Z"
    },
    "deletable": false,
    "editable": false,
    "nbgrader": {
     "cell_type": "code",
     "checksum": "86c90d136dc7d6528be7ed1b2ebd20db",
     "grade": false,
     "grade_id": "cell-745344b614fc9d21",
     "locked": true,
     "schema_version": 3,
     "solution": false,
     "task": false
    },
    "tags": []
   },
   "outputs": [],
   "source": [
    "results_train, results_test, y_pred_prob_train, y_pred_prob_test = model_evaluation(logreg, X_train, y_train, X_test, y_test)"
   ]
  },
  {
   "cell_type": "markdown",
   "metadata": {
    "deletable": false,
    "editable": false,
    "nbgrader": {
     "cell_type": "markdown",
     "checksum": "a48758e2adf7b330fbe2273bf0de9e8a",
     "grade": false,
     "grade_id": "cell-08c3b687619c9db9",
     "locked": true,
     "schema_version": 3,
     "solution": false,
     "task": false
    }
   },
   "source": [
    ">**Question: If you compare these results with the the TPR from before (0.33), you should see that the new TPR is much higher, even though we did not change anything about the model (Logistic Regression), why is this? All the following statements are true, however, which one currently applies?**\n",
    "\n",
    "Tip: Make sure to read through the code of evaluate_performance to have a good understanding.\n",
    "A: *Because the test set is smaller than the training set.*<br>\n",
    "B: *Because models generally perform worse on test sets, as they contain unseen data.*<br>\n",
    "C: *Because while using the ROC-curve we selected the most optimal threshold to balance TPR and FPR.*<br>\n",
    "\n",
    "(Do not change the variable name and type the variable in string form: e.g. Answer = \"A\" )"
   ]
  },
  {
   "cell_type": "code",
   "execution_count": null,
   "metadata": {
    "deletable": false,
    "nbgrader": {
     "cell_type": "code",
     "checksum": "98391fabd016a96f678f0fc6f6d99dc8",
     "grade": false,
     "grade_id": "cell-f7d37150b64b4540",
     "locked": false,
     "schema_version": 3,
     "solution": true,
     "task": false
    },
    "tags": []
   },
   "outputs": [],
   "source": [
    "Answer = None\n",
    "# YOUR CODE HERE\n",
    "raise NotImplementedError()"
   ]
  },
  {
   "cell_type": "code",
   "execution_count": null,
   "metadata": {
    "deletable": false,
    "editable": false,
    "nbgrader": {
     "cell_type": "code",
     "checksum": "5fb020ebe029d4af510d5a7c70139c7e",
     "grade": true,
     "grade_id": "cell-97c2a8ab29ee8260",
     "locked": true,
     "points": 2,
     "schema_version": 3,
     "solution": false,
     "task": false
    },
    "tags": []
   },
   "outputs": [],
   "source": [
    "assert Answer != None"
   ]
  },
  {
   "cell_type": "markdown",
   "metadata": {
    "deletable": false,
    "editable": false,
    "nbgrader": {
     "cell_type": "markdown",
     "checksum": "4f663d30ce0a10e8656954d55c7d0004",
     "grade": false,
     "grade_id": "cell-0cbcf104240349a8",
     "locked": true,
     "schema_version": 3,
     "solution": false,
     "task": false
    }
   },
   "source": [
    "Results are assigned to a DataFrame for future reference, with the label 'LR': "
   ]
  },
  {
   "cell_type": "code",
   "execution_count": null,
   "metadata": {
    "ExecuteTime": {
     "end_time": "2020-04-27T16:13:40.558208Z",
     "start_time": "2020-04-27T16:13:40.550230Z"
    },
    "deletable": false,
    "editable": false,
    "nbgrader": {
     "cell_type": "code",
     "checksum": "2e6d628bfa8fc0ec110488d001a8b228",
     "grade": false,
     "grade_id": "cell-bc33374f94aaf9ba",
     "locked": true,
     "schema_version": 3,
     "solution": false,
     "task": false
    },
    "tags": []
   },
   "outputs": [],
   "source": [
    "all_results_train = pd.DataFrame()\n",
    "all_results_test = pd.DataFrame()\n",
    "all_results_train = all_results_train.append(results_train.rename(index={results_train.index[-1]: 'LR'}))\n",
    "all_results_test = all_results_test.append(results_test.rename(index={results_test.index[-1]: 'LR'}))"
   ]
  },
  {
   "cell_type": "markdown",
   "metadata": {
    "deletable": false,
    "editable": false,
    "nbgrader": {
     "cell_type": "markdown",
     "checksum": "1e88258579a00897a750211581500f13",
     "grade": false,
     "grade_id": "cell-86a11db5c91f8f66",
     "locked": true,
     "schema_version": 3,
     "solution": false,
     "task": false
    }
   },
   "source": [
    "## Model on balanced data"
   ]
  },
  {
   "cell_type": "markdown",
   "metadata": {
    "deletable": false,
    "editable": false,
    "nbgrader": {
     "cell_type": "markdown",
     "checksum": "8a5ecc88b8e0a531349a4e6b54f3c103",
     "grade": false,
     "grade_id": "cell-3efe95a98c58cf87",
     "locked": true,
     "schema_version": 3,
     "solution": false,
     "task": false
    }
   },
   "source": [
    "If you paid attention to the code above you can see that we used the 'standard' X_train and X_test are not the balanced datasets we created before. "
   ]
  },
  {
   "cell_type": "markdown",
   "metadata": {
    "deletable": false,
    "editable": false,
    "nbgrader": {
     "cell_type": "markdown",
     "checksum": "f537e86a58aba7a00383d84623e4678e",
     "grade": false,
     "grade_id": "cell-9d8fd6e29fdc67b6",
     "locked": true,
     "schema_version": 3,
     "solution": false,
     "task": false
    }
   },
   "source": [
    ">**Exercise: Create a new logistic regression model (use random state 1 for reproducability) and train it on the balanced dataset. Use the model_evaluation method above to check your model performance.**"
   ]
  },
  {
   "cell_type": "code",
   "execution_count": null,
   "metadata": {
    "ExecuteTime": {
     "end_time": "2020-04-27T16:13:51.130933Z",
     "start_time": "2020-04-27T16:13:50.867639Z"
    },
    "deletable": false,
    "nbgrader": {
     "cell_type": "code",
     "checksum": "267ecd516e1b71b5c0b7cfdd77f5dc52",
     "grade": false,
     "grade_id": "cell-94ac1a2d9816ff2e",
     "locked": false,
     "schema_version": 3,
     "solution": true,
     "task": false
    },
    "tags": []
   },
   "outputs": [],
   "source": [
    "# YOUR CODE HERE\n",
    "raise NotImplementedError()\n",
    "\n",
    "results_train = None\n",
    "results_test = None\n",
    "\n",
    "\n",
    "assert results_train is not None & results_test is not None, \"Don't forget to assign model_evaluation results\"\n",
    "all_results_train.loc['LR_balanced'] = results_train.values[0]\n",
    "all_results_test.loc['LR_balanced'] = results_test.values[0]"
   ]
  },
  {
   "cell_type": "code",
   "execution_count": null,
   "metadata": {
    "deletable": false,
    "editable": false,
    "nbgrader": {
     "cell_type": "code",
     "checksum": "286e6c98fcde7a457743defd8297bc3e",
     "grade": true,
     "grade_id": "cell-f91320cfef47307c",
     "locked": true,
     "points": 2,
     "schema_version": 3,
     "solution": false,
     "task": false
    },
    "tags": []
   },
   "outputs": [],
   "source": [
    "# The model should at least have an AUC of 0.85 on the test performance \n",
    "assert results_test.AUC[0] > 0.85"
   ]
  },
  {
   "cell_type": "markdown",
   "metadata": {
    "deletable": false,
    "editable": false,
    "nbgrader": {
     "cell_type": "markdown",
     "checksum": "3776f77be380b7131e46fd74a146aae3",
     "grade": false,
     "grade_id": "cell-d0bfb9f6bd7e4164",
     "locked": true,
     "schema_version": 3,
     "solution": false,
     "task": false
    }
   },
   "source": [
    "From now on we will only use the balanced dataset so we set X_train and y_train to our balanced dataset:"
   ]
  },
  {
   "cell_type": "markdown",
   "metadata": {
    "deletable": false,
    "editable": false,
    "nbgrader": {
     "cell_type": "markdown",
     "checksum": "dfd0d63782abc782aae6a9a5ac278297",
     "grade": false,
     "grade_id": "cell-8f598d1709eb384d",
     "locked": true,
     "schema_version": 3,
     "solution": false,
     "task": false
    }
   },
   "source": [
    "## Feature importances"
   ]
  },
  {
   "cell_type": "markdown",
   "metadata": {
    "deletable": false,
    "editable": false,
    "nbgrader": {
     "cell_type": "markdown",
     "checksum": "9ce61c7b69e3984dcb54aa9c579efd66",
     "grade": false,
     "grade_id": "cell-e7f2d85dc4cd95d5",
     "locked": true,
     "schema_version": 3,
     "solution": false,
     "task": false
    }
   },
   "source": [
    "Now that we have a trained model, it is interesting to look the importance of the features for the model. As we use a linear model the coefficient used for every feature can be seen as an indicator of its importance. When the coefficient is large, its impact on the model predictions will also be large and thus we can say it has a higher importance."
   ]
  },
  {
   "cell_type": "code",
   "execution_count": null,
   "metadata": {
    "ExecuteTime": {
     "end_time": "2020-04-27T16:14:03.490166Z",
     "start_time": "2020-04-27T16:14:03.486150Z"
    },
    "deletable": false,
    "editable": false,
    "nbgrader": {
     "cell_type": "code",
     "checksum": "50548c5467692711195f53b3d2057ace",
     "grade": false,
     "grade_id": "cell-8b30b51d6a4d2eed",
     "locked": true,
     "schema_version": 3,
     "solution": false,
     "task": false
    },
    "tags": []
   },
   "outputs": [],
   "source": [
    "def print_coef(model, columns):\n",
    "    \"\"\" Plot logistic regression model coefficients \"\"\" \n",
    "    coef = np.abs(pd.DataFrame(np.transpose(model.coef_), index = columns, columns = ['Coefficients']))\n",
    "    coef = coef.sort_values(by=['Coefficients'], ascending=True)\n",
    "    plt.figure(figsize = (6,18))\n",
    "    plt.scatter(y = range(len(coef)), x = coef['Coefficients'])\n",
    "    plt.yticks(range(len(coef)),coef.index, rotation = 'horizontal')\n",
    "    plt.xlabel('LR coefficient')\n",
    "    plt.show()\n",
    "    return coef"
   ]
  },
  {
   "cell_type": "code",
   "execution_count": null,
   "metadata": {
    "ExecuteTime": {
     "end_time": "2020-04-27T16:14:05.002836Z",
     "start_time": "2020-04-27T16:14:04.158070Z"
    },
    "deletable": false,
    "editable": false,
    "nbgrader": {
     "cell_type": "code",
     "checksum": "6c4c177548919de4b7184c01352cdc17",
     "grade": false,
     "grade_id": "cell-4c22723623a8104c",
     "locked": true,
     "schema_version": 3,
     "solution": false,
     "task": false
    },
    "tags": []
   },
   "outputs": [],
   "source": [
    "coef =  print_coef(logreg, X_train.columns)"
   ]
  },
  {
   "cell_type": "markdown",
   "metadata": {
    "deletable": false,
    "editable": false,
    "nbgrader": {
     "cell_type": "markdown",
     "checksum": "bbfac721e719b592eeed9bdf05567fdb",
     "grade": false,
     "grade_id": "cell-91e09019a28225d9",
     "locked": true,
     "schema_version": 3,
     "solution": false,
     "task": false
    }
   },
   "source": [
    "Note that this does not mean that the low  coefficient are not important; such conclusions cannot be drawn due to the presence of other features that are highly correlated with each other."
   ]
  },
  {
   "cell_type": "markdown",
   "metadata": {
    "deletable": false,
    "editable": false,
    "nbgrader": {
     "cell_type": "markdown",
     "checksum": "553b50b4b0c9f5a1be4a6ae77610ddff",
     "grade": false,
     "grade_id": "cell-57970be7601c08b5",
     "locked": true,
     "schema_version": 3,
     "solution": false,
     "task": false
    }
   },
   "source": [
    ">**Question: Are the most important (top 5) features from a medical perspective accurate for mortality prediction? Why?** \n",
    "- Tip: You can use internet references to justify this information."
   ]
  },
  {
   "cell_type": "markdown",
   "metadata": {
    "deletable": false,
    "nbgrader": {
     "cell_type": "markdown",
     "checksum": "c6415c1bc117fb0cf00276b0e55e32f7",
     "grade": true,
     "grade_id": "cell-a0bf6c9c8d5e5ee2",
     "locked": false,
     "points": 2,
     "schema_version": 3,
     "solution": true,
     "task": false
    }
   },
   "source": [
    "Answer:\n",
    "YOUR ANSWER HERE"
   ]
  },
  {
   "cell_type": "code",
   "execution_count": null,
   "metadata": {
    "tags": []
   },
   "outputs": [],
   "source": [
    "#This cell is intended to draw you attention to the previous' cell question.\n",
    "dummy_var = False\n",
    "assert dummy_var, \"Do not forget to answer the previous' cell question, once you have done that set dummy_var to True to continue\""
   ]
  },
  {
   "cell_type": "markdown",
   "metadata": {
    "deletable": false,
    "editable": false,
    "nbgrader": {
     "cell_type": "markdown",
     "checksum": "19b4b88e7194084f3ac1cdaf43992211",
     "grade": false,
     "grade_id": "cell-a8806644069805ca",
     "locked": true,
     "schema_version": 3,
     "solution": false,
     "task": false
    }
   },
   "source": [
    "## Retrain a model with only the most important features"
   ]
  },
  {
   "cell_type": "markdown",
   "metadata": {
    "deletable": false,
    "editable": false,
    "nbgrader": {
     "cell_type": "markdown",
     "checksum": "ae93df336b2cea5a24de0d65506b58c9",
     "grade": false,
     "grade_id": "cell-018df9f58d541c8d",
     "locked": true,
     "schema_version": 3,
     "solution": false,
     "task": false
    }
   },
   "source": [
    "> **Exercise: Retrain a logistic regression model called \"lr\" by only keeping the 15 features with the highest importance from above. And evaluate your model with the model_evaluation method created above. Use 1 as random_state.**"
   ]
  },
  {
   "cell_type": "code",
   "execution_count": null,
   "metadata": {
    "deletable": false,
    "nbgrader": {
     "cell_type": "code",
     "checksum": "9fcbe3085015aeb9ffe45a778f2279af",
     "grade": false,
     "grade_id": "cell-8334d45d59cf1581",
     "locked": false,
     "schema_version": 3,
     "solution": true,
     "task": false
    },
    "tags": []
   },
   "outputs": [],
   "source": [
    "num_features = 15\n",
    "best_features = None\n",
    "# YOUR CODE HERE\n",
    "raise NotImplementedError()\n",
    "\n",
    "\n",
    "# Make sure that you save the output of the evaluate model method into the results_train and results_test variables.\n",
    "all_results_train.loc['LR_best_features'] = results_train.values[0]\n",
    "all_results_test.loc['LR_best_features'] = results_test.values[0]"
   ]
  },
  {
   "cell_type": "code",
   "execution_count": null,
   "metadata": {
    "deletable": false,
    "editable": false,
    "nbgrader": {
     "cell_type": "code",
     "checksum": "e8c12acdddb2cbef29235b35e070a098",
     "grade": true,
     "grade_id": "cell-2f2830a51f67d0b2",
     "locked": true,
     "points": 1,
     "schema_version": 3,
     "solution": false,
     "task": false
    },
    "tags": []
   },
   "outputs": [],
   "source": [
    "#If you selected the correct features, the test performance should have an AUC of 0.851\n",
    "assert np.round(results_test.AUC[0],3)==0.851"
   ]
  },
  {
   "cell_type": "markdown",
   "metadata": {
    "deletable": false,
    "editable": false,
    "nbgrader": {
     "cell_type": "markdown",
     "checksum": "2df46b1b5dd59e08029596c9e68a252f",
     "grade": false,
     "grade_id": "cell-cd016927a751e743",
     "locked": true,
     "schema_version": 3,
     "solution": false,
     "task": false
    }
   },
   "source": [
    "> **Question: Why would we ever want to include less features? All but one statement is wrong, select the wrong statement.**<br>\n",
    "\n",
    "A: *Reducing the amount of features, reduces the dimensionality and prevents overfitting.*<br>\n",
    "B: *You don't always want it, using as much features as possible will ensure you have all information that is included in your dataset.*<br>\n",
    "C: *Using less features is done to speed up training of the machine learning model.*<br>\n",
    "D: *Logistic regression models don't work well with a lot of features so less is better for those models.*<br>\n",
    "\n",
    "(Do not change the variable name and type the variable in string form: e.g. Answer = \"A\" )"
   ]
  },
  {
   "cell_type": "code",
   "execution_count": null,
   "metadata": {
    "deletable": false,
    "nbgrader": {
     "cell_type": "code",
     "checksum": "1edbd22692d466bc976ef37168715e1e",
     "grade": false,
     "grade_id": "cell-dc5b77e2c4103b5c",
     "locked": false,
     "schema_version": 3,
     "solution": true,
     "task": false
    },
    "tags": []
   },
   "outputs": [],
   "source": [
    "Answer = None\n",
    "# YOUR CODE HERE\n",
    "raise NotImplementedError()"
   ]
  },
  {
   "cell_type": "code",
   "execution_count": null,
   "metadata": {
    "deletable": false,
    "editable": false,
    "nbgrader": {
     "cell_type": "code",
     "checksum": "8606010572f8c32142eceb2fd3827d4e",
     "grade": true,
     "grade_id": "cell-2db5c59d35a2f939",
     "locked": true,
     "points": 2,
     "schema_version": 3,
     "solution": false,
     "task": false
    },
    "tags": []
   },
   "outputs": [],
   "source": [
    "assert Answer != None"
   ]
  },
  {
   "attachments": {
    "image-2.png": {
     "image/png": "[encoded data removed]"
    }
   },
   "cell_type": "markdown",
   "metadata": {
    "deletable": false,
    "editable": false,
    "nbgrader": {
     "cell_type": "markdown",
     "checksum": "0b89ef41414e81f2cde4e412bd3387e4",
     "grade": false,
     "grade_id": "cell-6b941089d6be1c10",
     "locked": true,
     "schema_version": 3,
     "solution": false,
     "task": false
    }
   },
   "source": [
    "Classifiers try to find a decision boundary to divide the data into the desired classes. For linear models, such as Logistic regression, the data should be linearly seperable, where we can draw a single straight line to divide the data. Whereas, non-linear models can create non-linear decision boundaries. If the data is not (linearly) seperable, perfect performance cannot be attained with the available data. In some cases more features are required to make the data seperable, in other cases this is never possible.\n",
    "![image-2.png](attachment:image-2.png)\n",
    "\n",
    "We will now visualize the decision boundary of our model by training the model on two important features: Mean Glasgow Coma scale and Mean heart rate.  \n",
    "\n",
    "Do note that to being able to visualize the decision boundary in 2D, we have to reduce the model to a 2D problem by only using two features, this results in loss of information in higher dimensions."
   ]
  },
  {
   "cell_type": "code",
   "execution_count": null,
   "metadata": {
    "deletable": false,
    "editable": false,
    "nbgrader": {
     "cell_type": "code",
     "checksum": "decc25aa22997125afdaf61551e5e41f",
     "grade": false,
     "grade_id": "cell-d1e915363f4585ac",
     "locked": true,
     "schema_version": 3,
     "solution": false,
     "task": false
    },
    "tags": []
   },
   "outputs": [],
   "source": [
    "def visualize_boundaries(model,features,X,y,prob=True):\n",
    "    already = []\n",
    "    for x1 in features:\n",
    "        already.append(x1)\n",
    "        for x2 in features:\n",
    "            if x2 not in already:\n",
    "                X_visualize = X[[x1,x2]]\n",
    "                \n",
    "                model.fit(X_visualize[X_visualize.columns[0:2]], y.values.ravel())\n",
    "\n",
    "                h = 0.01\n",
    "\n",
    "                # create a mesh to plot in\n",
    "                x_min, x_max = -0.02,1.02\n",
    "                y_min, y_max = -0.02,1.02\n",
    "                xx, yy = np.meshgrid(np.arange(x_min, x_max, h),\n",
    "                                     np.arange(y_min, y_max, h))\n",
    "\n",
    "\n",
    "\n",
    "                if prob:\n",
    "                    fig, axes = plt.subplots(1, 2,figsize=(14,6))\n",
    "                else:\n",
    "                    fig, axes = plt.subplots(1, 1,figsize=(7,6))\n",
    "                \n",
    "                Z = model.predict(np.c_[xx.ravel(), yy.ravel()])\n",
    "\n",
    "                # Put the result into a color plot\n",
    "                Z = Z.reshape(xx.shape)\n",
    "                \n",
    "                if prob:\n",
    "                    axes[0].contourf(xx, yy, Z, cmap=plt.cm.coolwarm, alpha=0.8)\n",
    "\n",
    "                    # Plot also the training points\n",
    "                    axes[0].scatter(X_visualize[X_visualize.columns[0:2][0]], X_visualize[X_visualize.columns[0:2][1]], c=y['mortality_icu'], cmap='bwr',alpha=0.3)\n",
    "                    axes[0].set_xlabel(X_visualize.columns[0:2][0])\n",
    "                    axes[0].set_ylabel(X_visualize.columns[0:2][1])\n",
    "                    axes[0].set_xlim(xx.min(), xx.max())\n",
    "                    axes[0].set_ylim(yy.min(), yy.max())\n",
    "                    axes[0].set_title(\"Decision boundary\")\n",
    "    \n",
    "    \n",
    "                    #plt.xticks(())\n",
    "                    #plt.yticks(())\n",
    "                    Z = model.predict_proba(np.c_[xx.ravel(), yy.ravel()])[:,1]\n",
    "\n",
    "                    # Put the result into a color plot\n",
    "                    Z = Z.reshape(xx.shape)\n",
    "                    pos = axes[1].contourf(xx, yy, Z, cmap=plt.cm.coolwarm, alpha=0.8)\n",
    "\n",
    "                    # Plot also the training points\n",
    "                    axes[1].scatter(X_visualize[X_visualize.columns[0:2][0]], X_visualize[X_visualize.columns[0:2][1]], c=y['mortality_icu'], cmap='bwr',alpha=0.3)\n",
    "                    axes[1].set_xlabel(X_visualize.columns[0:2][0])\n",
    "                    axes[1].set_ylabel(X_visualize.columns[0:2][1])\n",
    "                    axes[1].set_xlim(xx.min(), xx.max())\n",
    "                    axes[1].set_ylim(yy.min(), yy.max())\n",
    "                    axes[1].set_title(\"Certainty of class\")\n",
    "                    #plt.xticks(())\n",
    "                    #plt.yticks(())\n",
    "                    #fig.colorbar(pos,ax=axes[1])\n",
    "                    \n",
    "                else:\n",
    "                    axes.contourf(xx, yy, Z, cmap=plt.cm.coolwarm, alpha=0.8)\n",
    "\n",
    "                    # Plot also the training points\n",
    "                    axes.scatter(X_visualize[X_visualize.columns[0:2][0]], X_visualize[X_visualize.columns[0:2][1]], c=y['mortality_icu'], cmap='bwr',alpha=0.3)\n",
    "                    axes.set_xlabel(X_visualize.columns[0:2][0])\n",
    "                    axes.set_ylabel(X_visualize.columns[0:2][1])\n",
    "                    axes.set_xlim(xx.min(), xx.max())\n",
    "                    axes.set_ylim(yy.min(), yy.max())\n",
    "                    axes.set_title(\"Decision boundary\")\n",
    "                    \n",
    "                plt.show()"
   ]
  },
  {
   "cell_type": "code",
   "execution_count": null,
   "metadata": {
    "deletable": false,
    "editable": false,
    "nbgrader": {
     "cell_type": "code",
     "checksum": "d62bea4c27cebcff49db0c226fabaeb1",
     "grade": false,
     "grade_id": "cell-c155bdcdec48488a",
     "locked": true,
     "schema_version": 3,
     "solution": false,
     "task": false
    },
    "tags": []
   },
   "outputs": [],
   "source": [
    "visualize_boundaries(lr,[\"mean_heart_rate\",\"mean_glasgow_coma_scale\"],X_train_balanced,y_train_balanced)"
   ]
  },
  {
   "cell_type": "markdown",
   "metadata": {
    "deletable": false,
    "editable": false,
    "nbgrader": {
     "cell_type": "markdown",
     "checksum": "dc246368e6f4fc41af10d541ba4b48ed",
     "grade": false,
     "grade_id": "cell-b67724d6c3377ab8",
     "locked": true,
     "schema_version": 3,
     "solution": false,
     "task": false
    }
   },
   "source": [
    ">**Question: If you look closely, you can see that these features are not linearly seperable and the certainty for each class is also not very high. Do notice that the decision boundary is a straight line, why is that?**<br>\n",
    "\n",
    "A: *Because the data is not linearly seperable, a straight line is the best solution.* <br>\n",
    "B: *This is just by chance.* <br>\n",
    "C: *Logistic regression is a linear model.* <br>\n",
    "D: *None of the above* <br>"
   ]
  },
  {
   "cell_type": "code",
   "execution_count": null,
   "metadata": {
    "deletable": false,
    "nbgrader": {
     "cell_type": "code",
     "checksum": "7e61e6477b2f888253fc7eb25df13444",
     "grade": false,
     "grade_id": "cell-16c85f02742db561",
     "locked": false,
     "schema_version": 3,
     "solution": true,
     "task": false
    },
    "tags": []
   },
   "outputs": [],
   "source": [
    "Answer = None\n",
    "# YOUR CODE HERE\n",
    "raise NotImplementedError()"
   ]
  },
  {
   "cell_type": "code",
   "execution_count": null,
   "metadata": {
    "deletable": false,
    "editable": false,
    "nbgrader": {
     "cell_type": "code",
     "checksum": "31d9ffec8c7a96084676ae7e4b50f9fe",
     "grade": true,
     "grade_id": "cell-a4339e2c618cb11c",
     "locked": true,
     "points": 2,
     "schema_version": 3,
     "solution": false,
     "task": false
    },
    "tags": []
   },
   "outputs": [],
   "source": [
    "assert Answer != None"
   ]
  },
  {
   "cell_type": "markdown",
   "metadata": {
    "deletable": false,
    "editable": false,
    "nbgrader": {
     "cell_type": "markdown",
     "checksum": "69134bfac3679c22315e4f178ae47485",
     "grade": false,
     "grade_id": "cell-b67724d6c3377ab8b",
     "locked": true,
     "schema_version": 3,
     "solution": false,
     "task": false
    }
   },
   "source": [
    ">**Question: If we added one extra feature, we visualise the data in a 3 dimensional space. What would the boundary of our model look like with 3 features? **<br>\n",
    "\n",
    "A: *A (geometrical) plane* <br>\n",
    "B: *A Möbius strip* <br>\n",
    "C: *A line* <br>\n",
    "D: *Two lines* <br>\n",
    "E: *A sphere*<br>"
   ]
  },
  {
   "cell_type": "code",
   "execution_count": null,
   "metadata": {
    "deletable": false,
    "nbgrader": {
     "cell_type": "code",
     "checksum": "0098311edd849f10051f2f9e38250523",
     "grade": false,
     "grade_id": "cell-16c85f02742db561b",
     "locked": false,
     "schema_version": 3,
     "solution": true,
     "task": false
    },
    "tags": []
   },
   "outputs": [],
   "source": [
    "Answer = None\n",
    "# YOUR CODE HERE\n",
    "raise NotImplementedError()"
   ]
  },
  {
   "cell_type": "code",
   "execution_count": null,
   "metadata": {
    "deletable": false,
    "editable": false,
    "nbgrader": {
     "cell_type": "code",
     "checksum": "51d982740645437939d2e64daae46399",
     "grade": true,
     "grade_id": "cell-a4339e2c618cb11cb",
     "locked": true,
     "points": 2,
     "schema_version": 3,
     "solution": false,
     "task": false
    },
    "tags": []
   },
   "outputs": [],
   "source": [
    "assert Answer != None"
   ]
  },
  {
   "cell_type": "markdown",
   "metadata": {
    "deletable": false,
    "editable": false,
    "nbgrader": {
     "cell_type": "markdown",
     "checksum": "a9ccddc6ec2facb53310de262f011e56",
     "grade": false,
     "grade_id": "cell-2f48692e0c350b21",
     "locked": true,
     "schema_version": 3,
     "solution": false,
     "task": false
    }
   },
   "source": [
    "In the next sections we will explore some non-linear models, in the hope to achieve better performance."
   ]
  },
  {
   "cell_type": "markdown",
   "metadata": {
    "deletable": false,
    "editable": false,
    "nbgrader": {
     "cell_type": "markdown",
     "checksum": "da3ed50acb0fbdd222ce79e0041d1d97",
     "grade": false,
     "grade_id": "cell-a31b2b2aaabf8a67",
     "locked": true,
     "schema_version": 3,
     "solution": false,
     "task": false
    }
   },
   "source": [
    "# K-nearest neighbours classification\n",
    "\n",
    "Earlier the data was visualized and k-means clustering was used to both investigate properties of the data and do some preliminary classification. <br> \n",
    "K-nearest neighbours is a supervised classification algorithm that is similar to k-means clustering since it is fully distance based.\n",
    "This type of classifier does not learn a model, but rather stores instances of training data and uses these to classify the testdata.\n",
    "\n",
    "The algorithm works via the following pseudocode: <br>\n",
    "1. For every $x_i$ in $\\textbf{X}$ calculate $d(x_i, y)$\n",
    "\\begin{aligned}\n",
    "d_i(x_i, y) = \\left \\| x_i-y \\right \\|^2,\n",
    "\\end{aligned}\n",
    "2. Sort training labels according to distances\n",
    "\\begin{align}\n",
    "y^s = Y[argsort([d_0, ..., d_N])]\n",
    "\\end{align}\n",
    "3. Return majority label of K smallest distances\n",
    "\\begin{aligned}\n",
    "\\hat{y} = max\\_count([y^s_0, ..., y^s_K])\n",
    "\\end{aligned}\n",
    "\n",
    "For simplicity purposes we use the sklearn implementation of the K-nn classifier.\n",
    "\n",
    "## Example in 2D\n",
    "\n",
    "In order to illustrate how K-nn works we return to the two dimensional examples from the clustering section."
   ]
  },
  {
   "cell_type": "code",
   "execution_count": null,
   "metadata": {
    "deletable": false,
    "editable": false,
    "nbgrader": {
     "cell_type": "code",
     "checksum": "a3ec175304a0e36669c7e93e93e673c3",
     "grade": false,
     "grade_id": "cell-0deb624d63dadbc8",
     "locked": true,
     "schema_version": 3,
     "solution": false,
     "task": false
    },
    "tags": []
   },
   "outputs": [],
   "source": [
    "from sklearn.neighbors import KNeighborsClassifier\n",
    "\n",
    "K = 1\n",
    "\n",
    "# fit model\n",
    "knn = KNeighborsClassifier(n_neighbors=K, weights='uniform')\n",
    "knn = knn.fit(X_train[s1], y_train) # Now we use data & labels"
   ]
  },
  {
   "cell_type": "code",
   "execution_count": null,
   "metadata": {
    "deletable": false,
    "editable": false,
    "nbgrader": {
     "cell_type": "code",
     "checksum": "106843497e8fd7c873c631e4900fa951",
     "grade": false,
     "grade_id": "cell-2881e2091188df4e",
     "locked": true,
     "schema_version": 3,
     "solution": false,
     "task": false
    },
    "tags": []
   },
   "outputs": [],
   "source": [
    "print(\"TRAINING SET VISUALISATION\")\n",
    "visualize_boundaries(knn, s1, X_train, y_train, prob=False)\n",
    "print(\"TEST SET VISUALISATION\")\n",
    "visualize_boundaries(knn, s1, X_test, y_test, prob=False)"
   ]
  },
  {
   "cell_type": "markdown",
   "metadata": {
    "deletable": false,
    "editable": false,
    "nbgrader": {
     "cell_type": "markdown",
     "checksum": "206591e7d3fcdbb56ea36b571b3ed506",
     "grade": false,
     "grade_id": "cell-45629d6d78a16ce3",
     "locked": true,
     "schema_version": 3,
     "solution": false,
     "task": false
    }
   },
   "source": [
    "Let's now train it on the complete dataset with all features and evaluate it on the test set: "
   ]
  },
  {
   "cell_type": "code",
   "execution_count": null,
   "metadata": {
    "deletable": false,
    "editable": false,
    "nbgrader": {
     "cell_type": "code",
     "checksum": "faf15b9546f93aa33a97e50978f5c656",
     "grade": false,
     "grade_id": "cell-eda0ea5409324379",
     "locked": true,
     "schema_version": 3,
     "solution": false,
     "task": false
    },
    "tags": []
   },
   "outputs": [],
   "source": [
    "# Number of neighbors\n",
    "K = 5\n",
    "\n",
    "# Fit classifier\n",
    "knn = KNeighborsClassifier(n_neighbors=K, weights='uniform')\n",
    "knn = knn.fit(X_train, y_train)\n",
    "\n",
    "# Get results\n",
    "results_train, results_test, y_pred_prob_train, y_pred_prob_test = model_evaluation(knn, X_train, y_train, X_test, y_test)\n",
    "\n",
    "all_results_train.loc['KNN'] = results_train.values[0]\n",
    "all_results_test.loc['KNN'] = results_test.values[0]"
   ]
  },
  {
   "cell_type": "markdown",
   "metadata": {
    "deletable": false,
    "nbgrader": {
     "cell_type": "markdown",
     "checksum": "96ef9422d9f210bfccf14da83c4e5cbb",
     "grade": true,
     "grade_id": "cell-30f17c5310bfb510",
     "locked": false,
     "points": 2,
     "schema_version": 3,
     "solution": true,
     "task": false
    }
   },
   "source": [
    "> **Question: What is the influence of the number of neighbours hyperparameter ($K$) on the decision process?**\n",
    "\n",
    "YOUR ANSWER HERE"
   ]
  },
  {
   "cell_type": "markdown",
   "metadata": {
    "deletable": false,
    "nbgrader": {
     "cell_type": "markdown",
     "checksum": "a4cf2e05094e36969e8b2c6d4241c0a2",
     "grade": true,
     "grade_id": "cell-689b4ddaa02d5cac",
     "locked": false,
     "points": 2,
     "schema_version": 3,
     "solution": true,
     "task": false
    }
   },
   "source": [
    "> **Question: compare this visualization to the one presented in the clustering section. What difference in decision making do you observe and why?**\n",
    "\n",
    "YOUR ANSWER HERE"
   ]
  },
  {
   "cell_type": "code",
   "execution_count": null,
   "metadata": {},
   "outputs": [],
   "source": [
    "#This cell is intended to draw you attention to the previous' cell question.\n",
    "dummy_var = False\n",
    "assert dummy_var, \"Do not forget to answer the previous two questions, once you have done that set dummy_var to True to continue\""
   ]
  },
  {
   "cell_type": "markdown",
   "metadata": {
    "ExecuteTime": {
     "end_time": "2020-04-23T15:02:55.169159Z",
     "start_time": "2020-04-23T15:02:55.166167Z"
    },
    "deletable": false,
    "editable": false,
    "nbgrader": {
     "cell_type": "markdown",
     "checksum": "1c0909de734bc1f984835fa1e569ce1b",
     "grade": false,
     "grade_id": "cell-781fde38ffa92f11",
     "locked": true,
     "schema_version": 3,
     "solution": false,
     "task": false
    }
   },
   "source": [
    "# Decision Trees"
   ]
  },
  {
   "attachments": {
    "image-2.png": {
     "image/png": "[encoded data removed]"
    }
   },
   "cell_type": "markdown",
   "metadata": {
    "ExecuteTime": {
     "end_time": "2020-04-26T20:05:31.395967Z",
     "start_time": "2020-04-26T20:05:31.392975Z"
    },
    "deletable": false,
    "editable": false,
    "nbgrader": {
     "cell_type": "markdown",
     "checksum": "bd8e63625da77dc3bba3802eb84902ae",
     "grade": false,
     "grade_id": "cell-23521f29afe2d678",
     "locked": true,
     "schema_version": 3,
     "solution": false,
     "task": false
    }
   },
   "source": [
    "Let's look at another model, the decision tree. These models use a tree structure to classify the patients into survivors or non-survivors based upon their features and characteristics, as seen in the theory lectures (chapter 10). Below you can see an example of such a classification decision tree\n",
    "\n",
    "![image-2.png](attachment:image-2.png)"
   ]
  },
  {
   "cell_type": "markdown",
   "metadata": {
    "deletable": false,
    "editable": false,
    "nbgrader": {
     "cell_type": "markdown",
     "checksum": "7f694fa56fedd34d085a4730aebf68c8",
     "grade": false,
     "grade_id": "cell-5540c97d2be1063e",
     "locked": true,
     "schema_version": 3,
     "solution": false,
     "task": false
    }
   },
   "source": [
    "Similarly to the models above we will use the sklearn implementation and train a DecisionTreeClassifier model:\n",
    "\n",
    "source: https://scikit-learn.org/stable/modules/generated/sklearn.tree.DecisionTreeClassifier.html"
   ]
  },
  {
   "cell_type": "code",
   "execution_count": null,
   "metadata": {
    "deletable": false,
    "editable": false,
    "nbgrader": {
     "cell_type": "code",
     "checksum": "850b40f58b05f5c35c1101840926fb3a",
     "grade": false,
     "grade_id": "cell-0eed61e5506885f8",
     "locked": true,
     "schema_version": 3,
     "solution": false,
     "task": false
    },
    "tags": []
   },
   "outputs": [],
   "source": [
    "from sklearn.tree import DecisionTreeClassifier\n",
    "\n",
    "DTC = DecisionTreeClassifier(random_state=10)\n",
    "\n",
    "DTC.fit(X_train_balanced, y_train_balanced.values.ravel())\n",
    "\n",
    "results_train, results_test, y_pred_prob_train, y_pred_prob_test = model_evaluation(DTC, X_train_balanced, y_train_balanced, X_test, y_test)\n",
    "\n",
    "all_results_train.loc['DTC'] = results_train.values[0]\n",
    "all_results_test.loc['DTC'] = results_test.values[0]\n",
    "\n",
    "visualize_boundaries(DTC,[\"mean_heart_rate\",\"mean_glasgow_coma_scale\"],X_train_balanced,y_train_balanced)"
   ]
  },
  {
   "cell_type": "markdown",
   "metadata": {
    "deletable": false,
    "editable": false,
    "nbgrader": {
     "cell_type": "markdown",
     "checksum": "73554b6940b83b6f252aa98a9745fd06",
     "grade": false,
     "grade_id": "cell-61ba2fc5214d774b",
     "locked": true,
     "schema_version": 3,
     "solution": false,
     "task": false
    },
    "tags": []
   },
   "source": [
    "Notice how the model has a perfect performance on the training data but a much worse performance on the test set. This is overfitting, where the model tries to achieve a perfect training performance by heavily optimizing itself. As a result the model cannot deal well with unseen data and achieves a bad performance on the test set.\n",
    "\n",
    "If we visualize the decision boundaries on the training data you can clearly see that the model heavily overfitted. The model created a decision region for almost every sample, which results in poor generalisation values.\n",
    "\n",
    "To avoid this we have to regularize the decision tree by for example limiting the maximum depth hyperparameter (see sklearn or theory) of the tree. However, we cannot simply select the optimal hyperparameter based upon  performance on the training set, and we cannot use the test set for optimizing either. As a result we have to create a new set from the training set to optimize this parameter, called the validation set. "
   ]
  },
  {
   "cell_type": "markdown",
   "metadata": {
    "deletable": false,
    "editable": false,
    "nbgrader": {
     "cell_type": "markdown",
     "checksum": "19957c15a2bcb1592c00ce9514f28055",
     "grade": false,
     "grade_id": "cell-6383c2c24300bd0c",
     "locked": true,
     "schema_version": 3,
     "solution": false,
     "task": false
    }
   },
   "source": [
    ">**Question: Why can we not use the test set for optimizing hyperparameters?**<br>\n",
    "\n",
    "A: *None of the answers below*<br>\n",
    "B: *Using the test set to make decisions, e.g. to choose the better model or choose more appropriate features, will result in an inaccurate estimation of the performance on unseen data.*<br>\n",
    "C: *You can only use the test set to tune hyperparameters for your final model, but not when developing a model, to make sure your model performs well on your use-case.*<br>\n",
    "D: *Using the test set to make decisions, e.g. to choose the better model or choose more appropriate features, will result in an inaccurate estimation of the performance on seen data.*<br>"
   ]
  },
  {
   "cell_type": "code",
   "execution_count": null,
   "metadata": {
    "deletable": false,
    "nbgrader": {
     "cell_type": "code",
     "checksum": "5b02437552cb1ad8107cc1621ce7df83",
     "grade": false,
     "grade_id": "cell-e71edadbb84f257d",
     "locked": false,
     "schema_version": 3,
     "solution": true,
     "task": false
    },
    "tags": []
   },
   "outputs": [],
   "source": [
    "Answer = None\n",
    "# YOUR CODE HERE\n",
    "raise NotImplementedError()"
   ]
  },
  {
   "cell_type": "code",
   "execution_count": null,
   "metadata": {
    "deletable": false,
    "editable": false,
    "nbgrader": {
     "cell_type": "code",
     "checksum": "d4f12fc744d31b333549bf667c207583",
     "grade": true,
     "grade_id": "cell-488725d07b9044ea",
     "locked": true,
     "points": 2,
     "schema_version": 3,
     "solution": false,
     "task": false
    },
    "tags": []
   },
   "outputs": [],
   "source": [
    "assert Answer != None"
   ]
  },
  {
   "cell_type": "markdown",
   "metadata": {
    "deletable": false,
    "editable": false,
    "nbgrader": {
     "cell_type": "markdown",
     "checksum": "67ecae94d4e8ae5d7f62fa505d433c4f",
     "grade": false,
     "grade_id": "cell-7115f53af21d5604",
     "locked": true,
     "schema_version": 3,
     "solution": false,
     "task": false
    }
   },
   "source": [
    "We will split the training dataset into a validation set and a training set using the sklearn train test split. A more optimal way would be to use cross-validation, however for the sake of this lab, we will stay with a single split."
   ]
  },
  {
   "cell_type": "code",
   "execution_count": null,
   "metadata": {
    "deletable": false,
    "editable": false,
    "nbgrader": {
     "cell_type": "code",
     "checksum": "334f187cb05c4750075392ff7774e648",
     "grade": false,
     "grade_id": "cell-19645b9f1b4afd28",
     "locked": true,
     "schema_version": 3,
     "solution": false,
     "task": false
    },
    "tags": []
   },
   "outputs": [],
   "source": [
    "X_train_v, X_validation, y_train_v, y_validation = train_test_split(X_train_balanced, y_train_balanced, test_size=0.2, random_state=42)"
   ]
  },
  {
   "cell_type": "markdown",
   "metadata": {
    "deletable": false,
    "editable": false,
    "nbgrader": {
     "cell_type": "markdown",
     "checksum": "2393fa9ab63caf03eaddcb3e686ce966",
     "grade": false,
     "grade_id": "cell-8f23c0d4c93389c8",
     "locked": true,
     "schema_version": 3,
     "solution": false,
     "task": false
    }
   },
   "source": [
    ">**Exercise: Now we will optimize the *max_depth* hyperparameter of the decision tree. Use the new validation and training dataset to find the most optimal value. This hyperparameter limits the depth of the decision tree and is a way to regularize the model to avoid overfitting. Do not change the random_state.**"
   ]
  },
  {
   "cell_type": "code",
   "execution_count": null,
   "metadata": {
    "deletable": false,
    "nbgrader": {
     "cell_type": "code",
     "checksum": "f4c2f4268c85ecd79c1746054c076a1b",
     "grade": false,
     "grade_id": "cell-b8da861757a3ade9",
     "locked": false,
     "schema_version": 3,
     "solution": true,
     "task": false
    },
    "tags": []
   },
   "outputs": [],
   "source": [
    "DTC_Optimized = DecisionTreeClassifier(random_state=10,max_depth=None)\n",
    "# YOUR CODE HERE\n",
    "raise NotImplementedError()\n",
    "\n",
    "results_train, results_test, y_pred_prob_train, y_pred_prob_test = model_evaluation(DTC_Optimized, X_train_v, y_train_v, X_validation, y_validation)"
   ]
  },
  {
   "cell_type": "code",
   "execution_count": null,
   "metadata": {
    "deletable": false,
    "editable": false,
    "nbgrader": {
     "cell_type": "code",
     "checksum": "92a0fbdbee57763240f7c27080deaf5a",
     "grade": true,
     "grade_id": "cell-02ba51301177fda1",
     "locked": true,
     "points": 2,
     "schema_version": 3,
     "solution": false,
     "task": false
    },
    "tags": []
   },
   "outputs": [],
   "source": [
    "#You can get a validation AUC result above 0.78\n",
    "assert all_results_test.AUC[0]>0.78"
   ]
  },
  {
   "cell_type": "markdown",
   "metadata": {
    "deletable": false,
    "editable": false,
    "nbgrader": {
     "cell_type": "markdown",
     "checksum": "691b2f41d305d232303f6870d138c01e",
     "grade": false,
     "grade_id": "cell-ae626b7a5b6fa7b8",
     "locked": true,
     "schema_version": 3,
     "solution": false,
     "task": false
    }
   },
   "source": [
    "Let's check the results of your model on the test set and visualize its boundaries by retraining it on the complete training set, because when evaluating your model on the test set for final performance evaluation you should always retrain your model on the **whole** training set, including the validation set. \n",
    "\n",
    "If you have correctly optimized your model, the performance on the test set should be approximately equal to that on the validation set above. Furthermore, we can see that the decision boundaries are less sparse, resulting in a model that has better generalization capabilities. "
   ]
  },
  {
   "cell_type": "code",
   "execution_count": null,
   "metadata": {
    "deletable": false,
    "editable": false,
    "nbgrader": {
     "cell_type": "code",
     "checksum": "72a203fc83dec188a271eb2ce40ceeac",
     "grade": false,
     "grade_id": "cell-0ccd175ecf816bd7",
     "locked": true,
     "schema_version": 3,
     "solution": false,
     "task": false
    },
    "tags": []
   },
   "outputs": [],
   "source": [
    "DTC_Optimized.fit(X_train_balanced, y_train_balanced.values.ravel())\n",
    "\n",
    "results_train, results_test, y_pred_prob_train, y_pred_prob_test = model_evaluation(DTC_Optimized, X_train_balanced, y_train_balanced, X_test, y_test)\n",
    "\n",
    "all_results_train.loc['DTC_optimized'] = results_train.values[0]\n",
    "all_results_test.loc['DTC_optimized'] = results_test.values[0]\n",
    "visualize_boundaries(DTC_Optimized,[\"mean_heart_rate\",\"mean_glasgow_coma_scale\"],X_train_balanced,y_train_balanced)"
   ]
  },
  {
   "cell_type": "markdown",
   "metadata": {
    "deletable": false,
    "editable": false,
    "nbgrader": {
     "cell_type": "markdown",
     "checksum": "43a6510d4e425d98aa00e63a133cbdb1",
     "grade": false,
     "grade_id": "cell-ba153b0a416e629a",
     "locked": true,
     "schema_version": 3,
     "solution": false,
     "task": false
    }
   },
   "source": [
    "# Neural Networks"
   ]
  },
  {
   "cell_type": "markdown",
   "metadata": {
    "deletable": false,
    "editable": false,
    "nbgrader": {
     "cell_type": "markdown",
     "checksum": "e4ee7d9ab3d078296af301c7c8d33126",
     "grade": false,
     "grade_id": "cell-6f28e323b126bf91",
     "locked": true,
     "schema_version": 3,
     "solution": false,
     "task": false
    }
   },
   "source": [
    "There are many more models that we could explore, however, we will shortly explore a fairly popular model: the neural network or multilayer perceptron and compare it to the other models. (if you are interested in other possible models visit https://scikit-learn.org/stable/auto_examples/classification/plot_classifier_comparison.html) \n",
    "\n",
    ">**Excercise: Implement an MLP using the sklearn library and the MLPClassifier (source: https://scikit-learn.org/stable/modules/generated/sklearn.neural_network.MLPClassifier.html).**\n",
    "\n",
    "If you want you can tune the hyperparameters on the validation data to create a model which has a higher AUC than the logistic regression model, however, this is not necessary but it will provide a better comparison for the next section.  "
   ]
  },
  {
   "cell_type": "code",
   "execution_count": null,
   "metadata": {
    "deletable": false,
    "nbgrader": {
     "cell_type": "code",
     "checksum": "ea2b1f94a3fa0aab3340d0f095c4e18a",
     "grade": true,
     "grade_id": "cell-83854148be11cf16",
     "locked": false,
     "points": 1,
     "schema_version": 3,
     "solution": true,
     "task": false
    },
    "tags": []
   },
   "outputs": [],
   "source": [
    "from sklearn.neural_network import MLPClassifier\n",
    "\n",
    "# YOUR CODE HERE\n",
    "raise NotImplementedError()\n",
    "\n",
    "results_train, results_test, y_pred_prob_train, y_pred_prob_test = model_evaluation(MLP, X_train_balanced, y_train_balanced, X_test, y_test)\n",
    "\n",
    "all_results_train.loc['MLP'] = results_train.values[0]\n",
    "all_results_test.loc['MLP'] = results_test.values[0]"
   ]
  },
  {
   "cell_type": "markdown",
   "metadata": {
    "deletable": false,
    "editable": false,
    "nbgrader": {
     "cell_type": "markdown",
     "checksum": "88fe37e74be3563292b8e20387f8dad9",
     "grade": false,
     "grade_id": "cell-b5fb75893cf77b2c",
     "locked": true,
     "schema_version": 3,
     "solution": false,
     "task": false
    }
   },
   "source": [
    "At last, let's also visualize this decision boundary and certainty of an MLP model. "
   ]
  },
  {
   "cell_type": "code",
   "execution_count": null,
   "metadata": {
    "deletable": false,
    "editable": false,
    "nbgrader": {
     "cell_type": "code",
     "checksum": "61287058652d0d7bf6e306520b7404d7",
     "grade": false,
     "grade_id": "cell-a8de51a79070be9e",
     "locked": true,
     "schema_version": 3,
     "solution": false,
     "task": false
    },
    "tags": []
   },
   "outputs": [],
   "source": [
    "visualize_boundaries(MLP,[\"mean_heart_rate\",\"mean_glasgow_coma_scale\"],X_train_balanced,y_train_balanced)"
   ]
  },
  {
   "cell_type": "markdown",
   "metadata": {
    "deletable": false,
    "editable": false,
    "nbgrader": {
     "cell_type": "markdown",
     "checksum": "a8ba7167269ceffcd80a8d5a697f4c07",
     "grade": false,
     "grade_id": "cell-d899f8f9a97ab92e",
     "locked": true,
     "schema_version": 3,
     "solution": false,
     "task": false
    }
   },
   "source": [
    "# Comparison of classifiers\n",
    "\n",
    "Now we have explored many different classifiers, let's check the performance on the training and the test set for all models and the difference between both. "
   ]
  },
  {
   "cell_type": "code",
   "execution_count": null,
   "metadata": {
    "ExecuteTime": {
     "end_time": "2020-04-27T16:15:41.426655Z",
     "start_time": "2020-04-27T16:15:41.243092Z"
    },
    "deletable": false,
    "editable": false,
    "nbgrader": {
     "cell_type": "code",
     "checksum": "67e7174cdfa085e01b735bafd399e71d",
     "grade": false,
     "grade_id": "cell-a3cd3df5826d4857",
     "locked": true,
     "schema_version": 3,
     "solution": false,
     "task": false
    },
    "tags": []
   },
   "outputs": [],
   "source": [
    "print('Performance in training set')\n",
    "display.display(np.round(all_results_train, decimals = 4))\n",
    "print()\n",
    "\n",
    "print('Performance in test set')\n",
    "display.display(np.round(all_results_test, decimals = 4))\n",
    "print()\n",
    "\n",
    "diff = all_results_train-all_results_test\n",
    "diff[['AUC', 'Sensitivity','Specificity']].plot(kind = 'bar', figsize = (10,3))\n",
    "plt.ylabel('Difference in performance')\n",
    "plt.xticks(rotation=None)\n",
    "plt.title('Difference in performance (training - test)')\n",
    "plt.show()"
   ]
  },
  {
   "cell_type": "markdown",
   "metadata": {
    "deletable": false,
    "editable": false,
    "nbgrader": {
     "cell_type": "markdown",
     "checksum": "14842770f6e42e2e90630f5c09570946",
     "grade": false,
     "grade_id": "cell-d76fc01e6511b192",
     "locked": true,
     "schema_version": 3,
     "solution": false,
     "task": false
    }
   },
   "source": [
    ">**Question: Which model would you use to predict the mortality rate? Explain why AND how you would use this model in clinical practice.**"
   ]
  },
  {
   "cell_type": "markdown",
   "metadata": {
    "deletable": false,
    "nbgrader": {
     "cell_type": "markdown",
     "checksum": "8a5a12e395911381090a140fe6d3bbe3",
     "grade": true,
     "grade_id": "cell-933434f7b556e781",
     "locked": false,
     "points": 2,
     "schema_version": 3,
     "solution": true,
     "task": false
    }
   },
   "source": [
    "**Answer:**\n",
    "\n",
    "YOUR ANSWER HERE"
   ]
  },
  {
   "cell_type": "code",
   "execution_count": null,
   "metadata": {},
   "outputs": [],
   "source": [
    "#This cell is intended to draw you attention to the previous' cell question.\n",
    "dummy_var = False\n",
    "assert dummy_var, \"Do not forget to answer the previous' cell question, once you have done that set dummy_var to True to continue\""
   ]
  },
  {
   "cell_type": "markdown",
   "metadata": {
    "deletable": false,
    "nbgrader": {
     "cell_type": "markdown",
     "checksum": "c92207de2defcc65e431a3c48cc0ddf3",
     "grade": true,
     "grade_id": "cell-28c7936b6482e1a6",
     "locked": false,
     "points": 0,
     "schema_version": 3,
     "solution": true,
     "task": false
    }
   },
   "source": [
    "**Question: Can you give an estimate of the time you spent on this part of the lab (number of hours)? You can also write down any other feedback you have about this lab, thanks!**\n",
    "\n",
    "YOUR ANSWER HERE"
   ]
  },
  {
   "cell_type": "code",
   "execution_count": null,
   "metadata": {},
   "outputs": [],
   "source": [
    "#This cell is intended to draw you attention to the previous' cell question.\n",
    "dummy_var = False\n",
    "assert dummy_var, \"Do not forget to answer the previous' cell question it helps us improve the course material \""
   ]
  }
 ],
 "metadata": {
  "kernelspec": {
   "display_name": "Python 3 (ipykernel)",
   "language": "python",
   "name": "python3"
  },
  "language_info": {
   "codemirror_mode": {
    "name": "ipython",
    "version": 3
   },
   "file_extension": ".py",
   "mimetype": "text/x-python",
   "name": "python",
   "nbconvert_exporter": "python",
   "pygments_lexer": "ipython3",
   "version": "3.10.6"
  },
  "toc-autonumbering": true
 },
 "nbformat": 4,
 "nbformat_minor": 4
}
