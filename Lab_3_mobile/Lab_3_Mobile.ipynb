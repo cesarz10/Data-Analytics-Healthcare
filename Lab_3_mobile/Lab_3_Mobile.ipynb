{
 "cells": [
  {
   "cell_type": "markdown",
   "metadata": {
    "id": "msf80JUdx_K5"
   },
   "source": [
    "### Submission guidelines"
   ]
  },
  {
   "cell_type": "markdown",
   "metadata": {
    "id": "5itxjxy2x_Bh"
   },
   "source": [
    "1. Fill in your name in the notebook in the top cell.\n",
    "2. Fill in the gaps in the code where indicated. <br> Make sure that you:<br> - fill in any place that says `YOUR CODE HERE` or \"YOUR ANSWER HERE\" <br> - **do not leave any `raise NotImplementedErrors`** in the code\n",
    "3. Do **NOT change the variable names**, however, you can add comments in the code.\n",
    "4. Do **NOT remove any of the cells** of the notebook!\n",
    "5. Discussion is allowed, but every student needs to hand a personal version of the lab. Plagiarism will be sanctioned!   \n",
    "6. Before submitting, restart your kernel & **make sure that every cell runs**.<br>Code that doesn't run will not be scored.<br>The notebooks with all source code, and optional extra files need to be handed in using Ufora.<br> Make sure all your notebooks are already executed when you upload them (i.e. there should be output after the cells). \n",
    "7. **Zip** your lab assignment folder and name the archive: `Surname_Name.zip` <br> Keep the same folder structure as the provided lab assignment!<br><span style='color: red'>Do not rename any of the notebooks or files</span>!<br>\n",
    "\n"
   ]
  },
  {
   "cell_type": "code",
   "execution_count": 1,
   "metadata": {
    "id": "HcGF1HroxbCA"
   },
   "outputs": [],
   "source": [
    "NAME = \"Cesar Zapata\""
   ]
  },
  {
   "cell_type": "markdown",
   "metadata": {
    "id": "x6mm49VPx99v"
   },
   "source": [
    "Final tip: make sure you have answered every question and filled in all the required code by running through the notebook and searching for YOUR ANSWER HERE and YOUR CODE HERE!\n",
    "Good luck!"
   ]
  },
  {
   "cell_type": "markdown",
   "metadata": {},
   "source": [
    "**You have to install for this lab some additional python packages. In the requirements.txt file, we provided all the necessary packages. If you use pip as package manager, you can install all the packages using the following command:\n",
    "`pip install -r requirements.txt`. If you use conda as package manager, you can use the following command: `conda install -c conda-forge --file requirements.txt`**"
   ]
  },
  {
   "cell_type": "code",
   "execution_count": 3,
   "metadata": {},
   "outputs": [],
   "source": [
    "# Import the primary data analysis libraries\n",
    "import plotly.graph_objects as go; import numpy as np\n",
    "from plotly_resampler import FigureResampler, FigureWidgetResampler\n",
    "from tsfresh import extract_features\n",
    "import matplotlib.pyplot as plt\n",
    "import numpy as np \n",
    "import pandas as pd\n",
    "import math\n",
    "\n",
    "from plotly.offline import init_notebook_mode"
   ]
  },
  {
   "cell_type": "markdown",
   "metadata": {
    "id": "RvBVZzaTyPpF"
   },
   "source": [
    "---"
   ]
  },
  {
   "cell_type": "markdown",
   "metadata": {
    "id": "LM9XxmHfyTnk"
   },
   "source": [
    "# Lab: Mobile\n",
    "\n",
    "This lab will focus on mobile or time series data.\n",
    "You can use the experience of the previous pandas lab to manipulate, clean or vizualize parts of the available data. \n",
    "\n",
    "Note that all exercises in this lab are meant to be solved using the provided Python packages. Avoid coding functionality that is available in other packages beside the one mentioned above.\n",
    "\n",
    "Modern mobile phones come equipped with a variety of sensors that can be used to capture and analyze various aspects of the phone's environment. These sensors include accelerometers, gyroscopes, magnetometers, GPS receivers, microphones, cameras, and proximity sensors. These sensors can be used to gather data over a period of time and analyze how the phone's behaviour changes over time. \n",
    "\n",
    "<img src=\"https://www.mdpi.com/sensors/sensors-19-02164/article_deploy/html/images/sensors-19-02164-g002.png\"\n",
    "     alt=\"Phone sensors\"\n",
    "     width=\"750\" />\n",
    "\n",
    "Mobile phone sensors can be incredibly useful in a healthcare context, as they allow for the collection of real-time, high-quality data that can be used to monitor patients and track their progress over time. For example, accelerometers and gyroscopes can be used to track a patient's movements and detect changes in their activity levels, which can be useful in managing chronic conditions like Parkinson's disease. GPS receivers can be used to track a patient's location, which can be useful in cases where patients have cognitive impairments or are prone to wandering. Additionally, microphones can be used to monitor a patient's breathing patterns and detect signs of respiratory distress, while cameras can be used to monitor a patient's skin for signs of pressure ulcers. Overall, the use of mobile phone sensors in healthcare can help to improve patient outcomes, reduce the cost of care, and enable more personalized and effective treatment plans.\n",
    "\n",
    "These sensor data are inherently time series data because they capture information about changes in the phone's environment over time. In a time series context, these data points are arranged in chronological order, with each observation representing a snapshot of the phone's environment at a particular point in time. It is by analyzing these data points over time, researchers and developers can gain insights into how the phone's environment changes over time and how users interact with their devices. "
   ]
  },
  {
   "cell_type": "markdown",
   "metadata": {
    "id": "BypvbhIdzxpL"
   },
   "source": [
    "## Part 1: univariate time series\n",
    "\n",
    "An univariate time series is a set of observations that measures changes in a single variable over time. In other words, it is a time series that tracks only one metric or data point over time. Univariate time series analysis involves analyzing the patterns and trends in this data over time, such as detecting seasonality, identifying trends, and forecasting future values. By focusing on a single variable, univariate time series analysis can provide valuable insights into the behavior of that variable over time, which can be useful for a wide range of applications.\n",
    "\n",
    "The light sensor in a smartphone is such a univariate time series. It is a component that detects the ambient light levels surrounding the device. This sensor is typically located on the front of the phone near the earpiece, and it is used to automatically adjust the screen brightness based on the surrounding light conditions. \n",
    "\n",
    "<img src=\"https://i.ytimg.com/vi/2VirYjC48RA/maxresdefault.jpg\"\n",
    "     alt=\"Sound sensors\"\n",
    "     width=\"400\" />\n",
    "\n",
    "The light sensor works by measuring the intensity of light (measured in Lux) that falls on its surface and converting it into an electrical signal that can be processed by the phone's software. This signal is a univariate timeseries that represents the variation in light intensity over time. \n",
    "\n",
    "The data produced by the light sensor can be used for a variety of purposes, beyond determining when to turn on the phone's screen or adjusting the color temperature of the display to reduce eye strain. Overall, the light sensor is an important component of modern smartphones, and it plays a key role in improving the user experience by providing more accurate and responsive adjustments to the device's display settings.\n",
    "\n",
    "**In this first part, you will analyse and investigate a light signal recorded from a smartphone's light sensor**"
   ]
  },
  {
   "cell_type": "markdown",
   "metadata": {},
   "source": [
    "### Univariate Time series Data Exploration\n",
    "\n",
    "within the assignment folder, you will find a file with *light.json* containing sound values captured from a mobile phone. Try to read this data in a Pandas dataframe. You can use the *pandas.read_json* functionality."
   ]
  },
  {
   "cell_type": "code",
   "execution_count": 4,
   "metadata": {
    "id": "hPuEbt-KyOrI"
   },
   "outputs": [
    {
     "data": {
      "text/html": [
       "<div>\n",
       "<style scoped>\n",
       "    .dataframe tbody tr th:only-of-type {\n",
       "        vertical-align: middle;\n",
       "    }\n",
       "\n",
       "    .dataframe tbody tr th {\n",
       "        vertical-align: top;\n",
       "    }\n",
       "\n",
       "    .dataframe thead th {\n",
       "        text-align: right;\n",
       "    }\n",
       "</style>\n",
       "<table border=\"1\" class=\"dataframe\">\n",
       "  <thead>\n",
       "    <tr style=\"text-align: right;\">\n",
       "      <th></th>\n",
       "      <th>time</th>\n",
       "      <th>elapsed_seconds</th>\n",
       "      <th>value</th>\n",
       "    </tr>\n",
       "  </thead>\n",
       "  <tbody>\n",
       "    <tr>\n",
       "      <th>0</th>\n",
       "      <td>1672566284559000000</td>\n",
       "      <td>0.000</td>\n",
       "      <td>0</td>\n",
       "    </tr>\n",
       "    <tr>\n",
       "      <th>1</th>\n",
       "      <td>1672566286165000000</td>\n",
       "      <td>1.606</td>\n",
       "      <td>3</td>\n",
       "    </tr>\n",
       "    <tr>\n",
       "      <th>2</th>\n",
       "      <td>1672566287651000000</td>\n",
       "      <td>3.092</td>\n",
       "      <td>3</td>\n",
       "    </tr>\n",
       "    <tr>\n",
       "      <th>3</th>\n",
       "      <td>1672566289046000000</td>\n",
       "      <td>4.487</td>\n",
       "      <td>2</td>\n",
       "    </tr>\n",
       "    <tr>\n",
       "      <th>4</th>\n",
       "      <td>1672566290365000000</td>\n",
       "      <td>5.806</td>\n",
       "      <td>4</td>\n",
       "    </tr>\n",
       "    <tr>\n",
       "      <th>...</th>\n",
       "      <td>...</td>\n",
       "      <td>...</td>\n",
       "      <td>...</td>\n",
       "    </tr>\n",
       "    <tr>\n",
       "      <th>80</th>\n",
       "      <td>1672566497016000000</td>\n",
       "      <td>212.457</td>\n",
       "      <td>3</td>\n",
       "    </tr>\n",
       "    <tr>\n",
       "      <th>81</th>\n",
       "      <td>1672566498094000000</td>\n",
       "      <td>213.535</td>\n",
       "      <td>4</td>\n",
       "    </tr>\n",
       "    <tr>\n",
       "      <th>82</th>\n",
       "      <td>1672566499174000000</td>\n",
       "      <td>214.615</td>\n",
       "      <td>3</td>\n",
       "    </tr>\n",
       "    <tr>\n",
       "      <th>83</th>\n",
       "      <td>1672566500272000000</td>\n",
       "      <td>215.713</td>\n",
       "      <td>2</td>\n",
       "    </tr>\n",
       "    <tr>\n",
       "      <th>84</th>\n",
       "      <td>1672566501367000000</td>\n",
       "      <td>216.808</td>\n",
       "      <td>3</td>\n",
       "    </tr>\n",
       "  </tbody>\n",
       "</table>\n",
       "<p>85 rows × 3 columns</p>\n",
       "</div>"
      ],
      "text/plain": [
       "                   time  elapsed_seconds  value\n",
       "0   1672566284559000000            0.000      0\n",
       "1   1672566286165000000            1.606      3\n",
       "2   1672566287651000000            3.092      3\n",
       "3   1672566289046000000            4.487      2\n",
       "4   1672566290365000000            5.806      4\n",
       "..                  ...              ...    ...\n",
       "80  1672566497016000000          212.457      3\n",
       "81  1672566498094000000          213.535      4\n",
       "82  1672566499174000000          214.615      3\n",
       "83  1672566500272000000          215.713      2\n",
       "84  1672566501367000000          216.808      3\n",
       "\n",
       "[85 rows x 3 columns]"
      ]
     },
     "execution_count": 4,
     "metadata": {},
     "output_type": "execute_result"
    }
   ],
   "source": [
    "df = pd.read_json(\"data/light.json\")\n",
    "df"
   ]
  },
  {
   "cell_type": "markdown",
   "metadata": {},
   "source": [
    "The dataframe generated from this json datafile contains three columns: 'time', 'elapsed_seconds' and 'value'.\n",
    "Every row indicate a value in our time series signal. Combining all these signals together represents our time series data.\n",
    "\n",
    "We will transform the 'time' column later in this lab. The 'elapsed_seconds' provides us already with some notion of time. It shows for every row the time relative in seconds, when it was generated given the start time at row index 0.\n",
    "\n",
    "By looking at the last row in this dataframe, you can see the total duration of our time series signal.<br>\n",
    "**What is the total duration in minutes? Try to give a programmatic answer by using the dataframe and e.g. the max() function** "
   ]
  },
  {
   "cell_type": "code",
   "execution_count": 5,
   "metadata": {},
   "outputs": [
    {
     "name": "stdout",
     "output_type": "stream",
     "text": [
      "The total duration in minutes is: 3.61\n"
     ]
    }
   ],
   "source": [
    "total_duration = df['elapsed_seconds'].max() / 60\n",
    "\n",
    "print('The total duration in minutes is: {}'.format(round(total_duration,2)))"
   ]
  },
  {
   "cell_type": "markdown",
   "metadata": {},
   "source": [
    "The \"value\" column. As indicated in the text above these values are represented in Lux, a measure of the amount of light that falls on a surface. It is calculated by dividing the total light output of a source by the area over which it is distributed. In other words, Lux is a measure of the brightness of light that is perceived by the human eye.\n",
    "\n",
    "Based on the different Lux ranges, one can try to understand where the person uses its smartphone. The table below provides you with a table defining the different Lux ranges in a diverse set of environments.\n",
    "\n",
    "<img src=\"https://www.researchgate.net/publication/303294764/figure/tbl1/AS:614070734561285@1523417280413/Lux-level-estimates.png\"\n",
    "     alt=\"Sound sensors\"\n",
    "     width=\"400\" />\n",
    "\n"
   ]
  },
  {
   "cell_type": "markdown",
   "metadata": {},
   "source": [
    "**Use the max() function to get the largest Lux level in our time series data and intrepret this value based on the table above**"
   ]
  },
  {
   "cell_type": "code",
   "execution_count": 6,
   "metadata": {},
   "outputs": [
    {
     "name": "stdout",
     "output_type": "stream",
     "text": [
      "The max Lux level is: 69 and this corresponds to a Family living room environment\n"
     ]
    }
   ],
   "source": [
    "max_lux = df['value'].max()\n",
    "lights = [\"Twilight\", \"Minimal street lighting\", \"Sunset\", \"Family living room\", \"Hallway\", \"Very dark overcast day\", \"Office lighting\", \"Office lighting\", \"Overcast day\", \"Full daylight\", \"Full daylight\", \"Direct sunlight\", \"Direct sunlight\"]\n",
    "ranges = [1, 5, 10, 50, 80, 100, 320, 500, 1000, 10000, 25000, 32000, 130000]\n",
    "\n",
    "# function that maps the ranges of Lux level and assigns the value to an interpretation comparison\n",
    "def interpret(ranges, lights, value):\n",
    "\n",
    "    if value == 400:\n",
    "        return \"Sunrise/sunset\"\n",
    "    \n",
    "    for i in range(len(ranges)-1):\n",
    "        if value >= ranges[i] and value < ranges[i+1]:\n",
    "            return lights[i]\n",
    "        \n",
    "    print(\"value out of range, enter a valid one\")\n",
    "    return None\n",
    "\n",
    "\n",
    "interpretation = interpret(ranges, lights, max_lux)\n",
    "\n",
    "print(f'The max Lux level is: {max_lux} and this corresponds to a {interpretation} environment')"
   ]
  },
  {
   "cell_type": "markdown",
   "metadata": {},
   "source": [
    "Of course, when working with time series data, it might be interesting to plot the obtained values in function of their timestamp.<br>\n",
    "\n",
    "**Plot the Lux values in our dataframe in function of their 'elapsed_seconds'**"
   ]
  },
  {
   "cell_type": "code",
   "execution_count": 7,
   "metadata": {
    "id": "MwNzo4RIz69c"
   },
   "outputs": [
    {
     "data": {
      "image/png": "[encoded data removed]",
      "text/plain": [
       "<Figure size 1500x500 with 1 Axes>"
      ]
     },
     "metadata": {},
     "output_type": "display_data"
    }
   ],
   "source": [
    "fig, axes = plt.subplots(1, figsize=(15, 5))\n",
    "\n",
    "axes.plot(df['elapsed_seconds'], df['value'], label=\"Lux\")\n",
    "axes.set_title(\"Univariate Signal\")\n",
    "axes.set_xlabel(\"Time(s)\")\n",
    "axes.set_ylabel(\"Lux value\")\n",
    "axes.legend()\n",
    "\n",
    "plt.show()"
   ]
  },
  {
   "cell_type": "markdown",
   "metadata": {},
   "source": [
    "How would you interpret this signal? <br>\n",
    "**Describe the signal and explain what happens with the smartphone in your own words**"
   ]
  },
  {
   "cell_type": "code",
   "execution_count": 8,
   "metadata": {},
   "outputs": [
    {
     "name": "stdout",
     "output_type": "stream",
     "text": [
      "\n",
      "What probably happened is that the person took the smartphone out of their pocket for a moment \n",
      "to look at something quickly (E.g. notification, hour, etc...) and then put it back in their pocket.\n",
      "\n"
     ]
    }
   ],
   "source": [
    "answer1 = \"\"\"\n",
    "What probably happened is that the person took the smartphone out of their pocket for a moment \n",
    "to look at something quickly (E.g. notification, hour, etc...) and then put it back in their pocket.\n",
    "\"\"\"\n",
    "\n",
    "print(answer1)"
   ]
  },
  {
   "cell_type": "markdown",
   "metadata": {},
   "source": [
    "When recording this light signal from our smartphone, we hade to define a sampling rate. The sample rate (or sampling rate) is the number of samples taken per second. By explicitly stating this sampling rate in our smartphone application, we can calculate the number of expected samples over a larger period.\n",
    "\n",
    "**We have set the sample rate for our light sensor to 0.5Hz (1 sample every 2 seconds). What is the total amount of samples that we expect in our dataset? You can use the math.ceil function to round the possible float value**"
   ]
  },
  {
   "cell_type": "code",
   "execution_count": 9,
   "metadata": {},
   "outputs": [
    {
     "name": "stdout",
     "output_type": "stream",
     "text": [
      "The the total amount of expected samples is: 434\n"
     ]
    }
   ],
   "source": [
    "expected_samples = math.ceil(df['elapsed_seconds'].max() / 0.5)\n",
    "\n",
    "print(f'The the total amount of expected samples is: {expected_samples}')"
   ]
  },
  {
   "cell_type": "markdown",
   "metadata": {},
   "source": [
    "Compare this value with the provided amount of samples. **How many samples are missing?**"
   ]
  },
  {
   "cell_type": "code",
   "execution_count": 10,
   "metadata": {},
   "outputs": [
    {
     "name": "stdout",
     "output_type": "stream",
     "text": [
      "349 samples are missing from this dataset\n"
     ]
    }
   ],
   "source": [
    "amount_samples = len(df['value'])\n",
    "missing = expected_samples - amount_samples\n",
    "\n",
    "print(f\"{missing} samples are missing from this dataset\")"
   ]
  },
  {
   "cell_type": "markdown",
   "metadata": {},
   "source": [
    "**What could the possible cause of this mismatch?**"
   ]
  },
  {
   "cell_type": "code",
   "execution_count": 11,
   "metadata": {},
   "outputs": [
    {
     "name": "stdout",
     "output_type": "stream",
     "text": [
      "count     85.000000\n",
      "mean     145.242376\n",
      "std       65.989748\n",
      "min        0.000000\n",
      "25%      107.926000\n",
      "50%      170.930000\n",
      "75%      194.452000\n",
      "max      216.808000\n",
      "Name: elapsed_seconds, dtype: float64\n"
     ]
    }
   ],
   "source": [
    "print(df['elapsed_seconds'].describe())\n",
    "\n",
    "answer2 = \"\"\"\n",
    "The samples are not regularly spaced, and there was at least one big pause (over a minute) in the sampling\n",
    "and because of this many values were not registered.\n",
    "\"\"\"\n",
    "\n",
    "print(answer2)"
   ]
  },
  {
   "cell_type": "markdown",
   "metadata": {},
   "source": [
    "**Calculate the sample rate of the obtained signal**<br> \n",
    "You can use the inverse of the mean difference (diff) between the 'elapsed_seconds'."
   ]
  },
  {
   "cell_type": "code",
   "execution_count": 12,
   "metadata": {},
   "outputs": [
    {
     "name": "stdout",
     "output_type": "stream",
     "text": [
      "The sample rate of the obtained signal is: 0.3874395778753552\n"
     ]
    }
   ],
   "source": [
    "sample_rate = 1 / np.mean(np.diff(df['elapsed_seconds']))\n",
    "\n",
    "print(f'The sample rate of the obtained signal is: {sample_rate}')"
   ]
  },
  {
   "cell_type": "markdown",
   "metadata": {},
   "source": [
    "We want our signal to be represented as an 0.5Hz time series as all logic built on top of this signal expects this sample rate. We therefore will upsample the amount of samples and try to deal with the missing data. Upsampling a dataframe in Pandas is an easy operation when the index column of the Pandas dataframe is represented as timestamp.\n",
    "\n",
    "Currently, this is not the case, and all other columns are integer or floating point values. We will have to convert the time column first to a timestamp. The 'time' column provides the UNIX time, also known as POSIX time. It is a system for representing time as the number of seconds that have elapsed since January 1, 1970, at 00:00:00 UTC. It is a standardized way for computers to track and compare time and is commonly used in programming and operating systems.\n",
    "\n",
    "What we want, is a UTC timestamp. UTC timestamp represents time in a standardized format that is based on the international time standard, Coordinated Universal Time (UTC). UTC timestamps are usually represented as a string of characters that includes the year, month, day, hour, minute, and second of a specific time, and optionally, the milliseconds, microseconds, or nanoseconds.\n",
    "\n",
    "Online you can find converters between UNIX and UTC, such as https://www.unixtimestamp.com/ <br>\n",
    "\n",
    "**Copy and paste the first UNIX timestamp of our dataset in this online converter. When (year, month, day, hour & minutes) was the start of this signal? Keep in mind that this signal was generated in Belgium**"
   ]
  },
  {
   "cell_type": "code",
   "execution_count": 13,
   "metadata": {},
   "outputs": [
    {
     "name": "stdout",
     "output_type": "stream",
     "text": [
      "\n",
      "2023, 01, 01, 09:44:44 GMT+0000\n",
      "\n"
     ]
    }
   ],
   "source": [
    "answer3=\"\"\"\n",
    "2023, 01, 01, 09:44:44 GMT+0000\n",
    "\"\"\"\n",
    "print(answer3)"
   ]
  },
  {
   "cell_type": "markdown",
   "metadata": {},
   "source": [
    "The online converter above (https://www.unixtimestamp.com/) also provides you with additional information, such as format of the UNIX time.\n",
    "\n",
    "Python and Pandas provide you a way to transform these unix times to their human interpretable format. <br>\n",
    "**Transform the 'time' column, representing the UNIX time, to UTC timestamp. Take a look at the pandas to_datetime function**"
   ]
  },
  {
   "cell_type": "code",
   "execution_count": 14,
   "metadata": {},
   "outputs": [
    {
     "data": {
      "text/plain": [
       "0    2023-01-01 09:44:44.559\n",
       "1    2023-01-01 09:44:46.165\n",
       "2    2023-01-01 09:44:47.651\n",
       "3    2023-01-01 09:44:49.046\n",
       "4    2023-01-01 09:44:50.365\n",
       "               ...          \n",
       "80   2023-01-01 09:48:17.016\n",
       "81   2023-01-01 09:48:18.094\n",
       "82   2023-01-01 09:48:19.174\n",
       "83   2023-01-01 09:48:20.272\n",
       "84   2023-01-01 09:48:21.367\n",
       "Name: time_utc, Length: 85, dtype: datetime64[ns]"
      ]
     },
     "execution_count": 14,
     "metadata": {},
     "output_type": "execute_result"
    }
   ],
   "source": [
    "df['time_utc'] = pd.to_datetime(df['time'])\n",
    "\n",
    "df['time_utc']"
   ]
  },
  {
   "cell_type": "markdown",
   "metadata": {
    "colab": {
     "base_uri": "https://localhost:8080/",
     "height": 500
    },
    "id": "2JUlFnESpoIm",
    "outputId": "1e4153c6-8c04-4477-b730-ea31caf9e736"
   },
   "source": [
    "Keep in mind that this UTC timestamps will report the Greenwich time (UTC: 0). \n",
    "\n",
    "**Transform the timestamps within the time_utc to represent the time in Belgium. (you can use the tz_convert and tz_localize Pandas functions). To easily access datetimelike properties, take a look at pandas.Series.dt**"
   ]
  },
  {
   "cell_type": "code",
   "execution_count": 15,
   "metadata": {},
   "outputs": [
    {
     "data": {
      "text/plain": [
       "0    2023-01-01 09:44:44.559000+01:00\n",
       "1    2023-01-01 09:44:46.165000+01:00\n",
       "2    2023-01-01 09:44:47.651000+01:00\n",
       "3    2023-01-01 09:44:49.046000+01:00\n",
       "4    2023-01-01 09:44:50.365000+01:00\n",
       "                   ...               \n",
       "80   2023-01-01 09:48:17.016000+01:00\n",
       "81   2023-01-01 09:48:18.094000+01:00\n",
       "82   2023-01-01 09:48:19.174000+01:00\n",
       "83   2023-01-01 09:48:20.272000+01:00\n",
       "84   2023-01-01 09:48:21.367000+01:00\n",
       "Name: time_belgium, Length: 85, dtype: datetime64[ns, Europe/Brussels]"
      ]
     },
     "execution_count": 15,
     "metadata": {},
     "output_type": "execute_result"
    }
   ],
   "source": [
    "# Try to localise first to Greenwich time and then convert to the local time in Belgium\n",
    "df['time_belgium'] = df['time_utc'].dt.tz_localize('CET').dt.tz_convert('Europe/Brussels')\n",
    "\n",
    "df['time_belgium']"
   ]
  },
  {
   "cell_type": "markdown",
   "metadata": {},
   "source": [
    "Now that we have human-readable timestamp within our dataframe, **we can set it as index in our dataframe and make a plot of the Lux values in function of the human readable time. Verify the difference in x-axis between this plot and the previous signal plot**"
   ]
  },
  {
   "cell_type": "code",
   "execution_count": 16,
   "metadata": {},
   "outputs": [],
   "source": [
    "# set the local time as index\n",
    "\n",
    "df.index = df['time_belgium']"
   ]
  },
  {
   "cell_type": "code",
   "execution_count": 17,
   "metadata": {},
   "outputs": [
    {
     "data": {
      "image/png": "[encoded data removed]",
      "text/plain": [
       "<Figure size 1500x500 with 1 Axes>"
      ]
     },
     "metadata": {},
     "output_type": "display_data"
    }
   ],
   "source": [
    "fig, axes = plt.subplots(1, figsize=(15, 5))\n",
    "# Now, let's plot the lux values\n",
    "\n",
    "axes.plot(df['value'], label='Lux')\n",
    "# set the title and show the legend\n",
    "axes.set_title(\"Univariate Signal\")\n",
    "axes.legend()\n",
    "plt.show()"
   ]
  },
  {
   "cell_type": "markdown",
   "metadata": {},
   "source": [
    "We still want our signal to be represented as an 0.5Hz time series. We have a valid time index column in our dataframe so we can now upsample the amount of samples and try to deal with the missing data. \n",
    "\n",
    "**Use the Pandas resample functionality and always keep the first value found. Warning: the resample function requires you to provide the sampling period instead of the sampling rate!**"
   ]
  },
  {
   "cell_type": "code",
   "execution_count": 18,
   "metadata": {},
   "outputs": [
    {
     "data": {
      "text/html": [
       "<div>\n",
       "<style scoped>\n",
       "    .dataframe tbody tr th:only-of-type {\n",
       "        vertical-align: middle;\n",
       "    }\n",
       "\n",
       "    .dataframe tbody tr th {\n",
       "        vertical-align: top;\n",
       "    }\n",
       "\n",
       "    .dataframe thead th {\n",
       "        text-align: right;\n",
       "    }\n",
       "</style>\n",
       "<table border=\"1\" class=\"dataframe\">\n",
       "  <thead>\n",
       "    <tr style=\"text-align: right;\">\n",
       "      <th></th>\n",
       "      <th>time</th>\n",
       "      <th>elapsed_seconds</th>\n",
       "      <th>value</th>\n",
       "      <th>time_utc</th>\n",
       "      <th>time_belgium</th>\n",
       "    </tr>\n",
       "    <tr>\n",
       "      <th>time_belgium</th>\n",
       "      <th></th>\n",
       "      <th></th>\n",
       "      <th></th>\n",
       "      <th></th>\n",
       "      <th></th>\n",
       "    </tr>\n",
       "  </thead>\n",
       "  <tbody>\n",
       "    <tr>\n",
       "      <th>2023-01-01 09:44:44.460600+01:00</th>\n",
       "      <td>1.672566e+18</td>\n",
       "      <td>0.000</td>\n",
       "      <td>0.0</td>\n",
       "      <td>2023-01-01 09:44:44.559</td>\n",
       "      <td>2023-01-01 09:44:44.559000+01:00</td>\n",
       "    </tr>\n",
       "    <tr>\n",
       "      <th>2023-01-01 09:44:44.960400+01:00</th>\n",
       "      <td>NaN</td>\n",
       "      <td>NaN</td>\n",
       "      <td>NaN</td>\n",
       "      <td>NaT</td>\n",
       "      <td>NaT</td>\n",
       "    </tr>\n",
       "    <tr>\n",
       "      <th>2023-01-01 09:44:45.460200+01:00</th>\n",
       "      <td>NaN</td>\n",
       "      <td>NaN</td>\n",
       "      <td>NaN</td>\n",
       "      <td>NaT</td>\n",
       "      <td>NaT</td>\n",
       "    </tr>\n",
       "    <tr>\n",
       "      <th>2023-01-01 09:44:45.960000+01:00</th>\n",
       "      <td>1.672566e+18</td>\n",
       "      <td>1.606</td>\n",
       "      <td>3.0</td>\n",
       "      <td>2023-01-01 09:44:46.165</td>\n",
       "      <td>2023-01-01 09:44:46.165000+01:00</td>\n",
       "    </tr>\n",
       "    <tr>\n",
       "      <th>2023-01-01 09:44:46.459800+01:00</th>\n",
       "      <td>NaN</td>\n",
       "      <td>NaN</td>\n",
       "      <td>NaN</td>\n",
       "      <td>NaT</td>\n",
       "      <td>NaT</td>\n",
       "    </tr>\n",
       "    <tr>\n",
       "      <th>...</th>\n",
       "      <td>...</td>\n",
       "      <td>...</td>\n",
       "      <td>...</td>\n",
       "      <td>...</td>\n",
       "      <td>...</td>\n",
       "    </tr>\n",
       "    <tr>\n",
       "      <th>2023-01-01 09:48:18.874800+01:00</th>\n",
       "      <td>1.672566e+18</td>\n",
       "      <td>214.615</td>\n",
       "      <td>3.0</td>\n",
       "      <td>2023-01-01 09:48:19.174</td>\n",
       "      <td>2023-01-01 09:48:19.174000+01:00</td>\n",
       "    </tr>\n",
       "    <tr>\n",
       "      <th>2023-01-01 09:48:19.374600+01:00</th>\n",
       "      <td>NaN</td>\n",
       "      <td>NaN</td>\n",
       "      <td>NaN</td>\n",
       "      <td>NaT</td>\n",
       "      <td>NaT</td>\n",
       "    </tr>\n",
       "    <tr>\n",
       "      <th>2023-01-01 09:48:19.874400+01:00</th>\n",
       "      <td>1.672567e+18</td>\n",
       "      <td>215.713</td>\n",
       "      <td>2.0</td>\n",
       "      <td>2023-01-01 09:48:20.272</td>\n",
       "      <td>2023-01-01 09:48:20.272000+01:00</td>\n",
       "    </tr>\n",
       "    <tr>\n",
       "      <th>2023-01-01 09:48:20.374200+01:00</th>\n",
       "      <td>NaN</td>\n",
       "      <td>NaN</td>\n",
       "      <td>NaN</td>\n",
       "      <td>NaT</td>\n",
       "      <td>NaT</td>\n",
       "    </tr>\n",
       "    <tr>\n",
       "      <th>2023-01-01 09:48:20.874000+01:00</th>\n",
       "      <td>1.672567e+18</td>\n",
       "      <td>216.808</td>\n",
       "      <td>3.0</td>\n",
       "      <td>2023-01-01 09:48:21.367</td>\n",
       "      <td>2023-01-01 09:48:21.367000+01:00</td>\n",
       "    </tr>\n",
       "  </tbody>\n",
       "</table>\n",
       "<p>434 rows × 5 columns</p>\n",
       "</div>"
      ],
      "text/plain": [
       "                                          time  elapsed_seconds  value  \\\n",
       "time_belgium                                                             \n",
       "2023-01-01 09:44:44.460600+01:00  1.672566e+18            0.000    0.0   \n",
       "2023-01-01 09:44:44.960400+01:00           NaN              NaN    NaN   \n",
       "2023-01-01 09:44:45.460200+01:00           NaN              NaN    NaN   \n",
       "2023-01-01 09:44:45.960000+01:00  1.672566e+18            1.606    3.0   \n",
       "2023-01-01 09:44:46.459800+01:00           NaN              NaN    NaN   \n",
       "...                                        ...              ...    ...   \n",
       "2023-01-01 09:48:18.874800+01:00  1.672566e+18          214.615    3.0   \n",
       "2023-01-01 09:48:19.374600+01:00           NaN              NaN    NaN   \n",
       "2023-01-01 09:48:19.874400+01:00  1.672567e+18          215.713    2.0   \n",
       "2023-01-01 09:48:20.374200+01:00           NaN              NaN    NaN   \n",
       "2023-01-01 09:48:20.874000+01:00  1.672567e+18          216.808    3.0   \n",
       "\n",
       "                                                time_utc  \\\n",
       "time_belgium                                               \n",
       "2023-01-01 09:44:44.460600+01:00 2023-01-01 09:44:44.559   \n",
       "2023-01-01 09:44:44.960400+01:00                     NaT   \n",
       "2023-01-01 09:44:45.460200+01:00                     NaT   \n",
       "2023-01-01 09:44:45.960000+01:00 2023-01-01 09:44:46.165   \n",
       "2023-01-01 09:44:46.459800+01:00                     NaT   \n",
       "...                                                  ...   \n",
       "2023-01-01 09:48:18.874800+01:00 2023-01-01 09:48:19.174   \n",
       "2023-01-01 09:48:19.374600+01:00                     NaT   \n",
       "2023-01-01 09:48:19.874400+01:00 2023-01-01 09:48:20.272   \n",
       "2023-01-01 09:48:20.374200+01:00                     NaT   \n",
       "2023-01-01 09:48:20.874000+01:00 2023-01-01 09:48:21.367   \n",
       "\n",
       "                                                     time_belgium  \n",
       "time_belgium                                                       \n",
       "2023-01-01 09:44:44.460600+01:00 2023-01-01 09:44:44.559000+01:00  \n",
       "2023-01-01 09:44:44.960400+01:00                              NaT  \n",
       "2023-01-01 09:44:45.460200+01:00                              NaT  \n",
       "2023-01-01 09:44:45.960000+01:00 2023-01-01 09:44:46.165000+01:00  \n",
       "2023-01-01 09:44:46.459800+01:00                              NaT  \n",
       "...                                                           ...  \n",
       "2023-01-01 09:48:18.874800+01:00 2023-01-01 09:48:19.174000+01:00  \n",
       "2023-01-01 09:48:19.374600+01:00                              NaT  \n",
       "2023-01-01 09:48:19.874400+01:00 2023-01-01 09:48:20.272000+01:00  \n",
       "2023-01-01 09:48:20.374200+01:00                              NaT  \n",
       "2023-01-01 09:48:20.874000+01:00 2023-01-01 09:48:21.367000+01:00  \n",
       "\n",
       "[434 rows x 5 columns]"
      ]
     },
     "execution_count": 18,
     "metadata": {},
     "output_type": "execute_result"
    }
   ],
   "source": [
    "resampled = df.resample('0.00833T').first() # minutes to seconds -> 0.5/60 = 0.00833...\n",
    "\n",
    "resampled"
   ]
  },
  {
   "cell_type": "markdown",
   "metadata": {},
   "source": [
    "**Recalculate the sample rate on this resampled dataframe, do you obtain a sample rate close to 0.5Hz?**\n",
    "You will have to calculate the sampling rate based on index. The difference between two human readable timestamp will provide you with a pandas.Timedelta. Use the total_seconds function on each Timedelta to get the total amount of elapsed seconds."
   ]
  },
  {
   "cell_type": "code",
   "execution_count": 19,
   "metadata": {},
   "outputs": [
    {
     "name": "stdout",
     "output_type": "stream",
     "text": [
      "The sample rate of the resampled signal is: 0 days 00:00:00.499800\n"
     ]
    }
   ],
   "source": [
    "# put the index values of the resampled dataframe that contain the new time values in a new Series\n",
    "\n",
    "index_values = resampled.index.to_series()\n",
    "# print(index_values)\n",
    "# now use these index_values to calculate the sample rate\n",
    "sample_rate = np.mean(np.diff(index_values))\n",
    "\n",
    "print('The sample rate of the resampled signal is: {}'.format(sample_rate))"
   ]
  },
  {
   "cell_type": "markdown",
   "metadata": {},
   "source": [
    "Plot the resampled dataframe in function of the elapsed_seconds before, what is the effect?"
   ]
  },
  {
   "cell_type": "code",
   "execution_count": 20,
   "metadata": {},
   "outputs": [
    {
     "data": {
      "image/png": "[encoded data removed]",
      "text/plain": [
       "<Figure size 1500x500 with 1 Axes>"
      ]
     },
     "metadata": {},
     "output_type": "display_data"
    }
   ],
   "source": [
    "fig, axes = plt.subplots(1, figsize=(15, 5))\n",
    "# Now, let's plot the lux values\n",
    "\n",
    "axes.plot(resampled['value'], label='Lux')\n",
    "\n",
    "# set the title and show the legend\n",
    "axes.set_title(\"Univariate Signal\")\n",
    "axes.legend()\n",
    "plt.show()"
   ]
  },
  {
   "cell_type": "markdown",
   "metadata": {},
   "source": [
    "We don't want these gaps in our data. To solve this, we can interpolate the timeseries and fill the missing values. In a strict sense, a linear interpolation was already performed in the plot of original data. With our expertise about light signals, we know that a linear interpolation is not the best fit to deal with these missing values.\n",
    "\n",
    "**Use the Pandas interpolate function and try to fill in the gap as realistic as possible. Use an appropriate interpolation technique and explain why you would use this technique here. Make a plot to show that your interpolation function works** <br> https://pandas.pydata.org/docs/reference/api/pandas.DataFrame.interpolate.html#pandas-dataframe-interpolate"
   ]
  },
  {
   "cell_type": "code",
   "execution_count": 21,
   "metadata": {},
   "outputs": [
    {
     "data": {
      "text/html": [
       "<div>\n",
       "<style scoped>\n",
       "    .dataframe tbody tr th:only-of-type {\n",
       "        vertical-align: middle;\n",
       "    }\n",
       "\n",
       "    .dataframe tbody tr th {\n",
       "        vertical-align: top;\n",
       "    }\n",
       "\n",
       "    .dataframe thead th {\n",
       "        text-align: right;\n",
       "    }\n",
       "</style>\n",
       "<table border=\"1\" class=\"dataframe\">\n",
       "  <thead>\n",
       "    <tr style=\"text-align: right;\">\n",
       "      <th></th>\n",
       "      <th>time</th>\n",
       "      <th>elapsed_seconds</th>\n",
       "      <th>value</th>\n",
       "      <th>time_utc</th>\n",
       "      <th>time_belgium</th>\n",
       "      <th>interpolated_value</th>\n",
       "    </tr>\n",
       "    <tr>\n",
       "      <th>time_belgium</th>\n",
       "      <th></th>\n",
       "      <th></th>\n",
       "      <th></th>\n",
       "      <th></th>\n",
       "      <th></th>\n",
       "      <th></th>\n",
       "    </tr>\n",
       "  </thead>\n",
       "  <tbody>\n",
       "    <tr>\n",
       "      <th>2023-01-01 09:44:44.460600+01:00</th>\n",
       "      <td>1.672566e+18</td>\n",
       "      <td>0.000</td>\n",
       "      <td>0.0</td>\n",
       "      <td>2023-01-01 09:44:44.559</td>\n",
       "      <td>2023-01-01 09:44:44.559000+01:00</td>\n",
       "      <td>0.0</td>\n",
       "    </tr>\n",
       "    <tr>\n",
       "      <th>2023-01-01 09:44:44.960400+01:00</th>\n",
       "      <td>NaN</td>\n",
       "      <td>NaN</td>\n",
       "      <td>NaN</td>\n",
       "      <td>NaT</td>\n",
       "      <td>NaT</td>\n",
       "      <td>1.0</td>\n",
       "    </tr>\n",
       "    <tr>\n",
       "      <th>2023-01-01 09:44:45.460200+01:00</th>\n",
       "      <td>NaN</td>\n",
       "      <td>NaN</td>\n",
       "      <td>NaN</td>\n",
       "      <td>NaT</td>\n",
       "      <td>NaT</td>\n",
       "      <td>2.0</td>\n",
       "    </tr>\n",
       "    <tr>\n",
       "      <th>2023-01-01 09:44:45.960000+01:00</th>\n",
       "      <td>1.672566e+18</td>\n",
       "      <td>1.606</td>\n",
       "      <td>3.0</td>\n",
       "      <td>2023-01-01 09:44:46.165</td>\n",
       "      <td>2023-01-01 09:44:46.165000+01:00</td>\n",
       "      <td>3.0</td>\n",
       "    </tr>\n",
       "    <tr>\n",
       "      <th>2023-01-01 09:44:46.459800+01:00</th>\n",
       "      <td>NaN</td>\n",
       "      <td>NaN</td>\n",
       "      <td>NaN</td>\n",
       "      <td>NaT</td>\n",
       "      <td>NaT</td>\n",
       "      <td>3.0</td>\n",
       "    </tr>\n",
       "    <tr>\n",
       "      <th>...</th>\n",
       "      <td>...</td>\n",
       "      <td>...</td>\n",
       "      <td>...</td>\n",
       "      <td>...</td>\n",
       "      <td>...</td>\n",
       "      <td>...</td>\n",
       "    </tr>\n",
       "    <tr>\n",
       "      <th>2023-01-01 09:48:18.874800+01:00</th>\n",
       "      <td>1.672566e+18</td>\n",
       "      <td>214.615</td>\n",
       "      <td>3.0</td>\n",
       "      <td>2023-01-01 09:48:19.174</td>\n",
       "      <td>2023-01-01 09:48:19.174000+01:00</td>\n",
       "      <td>3.0</td>\n",
       "    </tr>\n",
       "    <tr>\n",
       "      <th>2023-01-01 09:48:19.374600+01:00</th>\n",
       "      <td>NaN</td>\n",
       "      <td>NaN</td>\n",
       "      <td>NaN</td>\n",
       "      <td>NaT</td>\n",
       "      <td>NaT</td>\n",
       "      <td>2.5</td>\n",
       "    </tr>\n",
       "    <tr>\n",
       "      <th>2023-01-01 09:48:19.874400+01:00</th>\n",
       "      <td>1.672567e+18</td>\n",
       "      <td>215.713</td>\n",
       "      <td>2.0</td>\n",
       "      <td>2023-01-01 09:48:20.272</td>\n",
       "      <td>2023-01-01 09:48:20.272000+01:00</td>\n",
       "      <td>2.0</td>\n",
       "    </tr>\n",
       "    <tr>\n",
       "      <th>2023-01-01 09:48:20.374200+01:00</th>\n",
       "      <td>NaN</td>\n",
       "      <td>NaN</td>\n",
       "      <td>NaN</td>\n",
       "      <td>NaT</td>\n",
       "      <td>NaT</td>\n",
       "      <td>2.5</td>\n",
       "    </tr>\n",
       "    <tr>\n",
       "      <th>2023-01-01 09:48:20.874000+01:00</th>\n",
       "      <td>1.672567e+18</td>\n",
       "      <td>216.808</td>\n",
       "      <td>3.0</td>\n",
       "      <td>2023-01-01 09:48:21.367</td>\n",
       "      <td>2023-01-01 09:48:21.367000+01:00</td>\n",
       "      <td>3.0</td>\n",
       "    </tr>\n",
       "  </tbody>\n",
       "</table>\n",
       "<p>434 rows × 6 columns</p>\n",
       "</div>"
      ],
      "text/plain": [
       "                                          time  elapsed_seconds  value  \\\n",
       "time_belgium                                                             \n",
       "2023-01-01 09:44:44.460600+01:00  1.672566e+18            0.000    0.0   \n",
       "2023-01-01 09:44:44.960400+01:00           NaN              NaN    NaN   \n",
       "2023-01-01 09:44:45.460200+01:00           NaN              NaN    NaN   \n",
       "2023-01-01 09:44:45.960000+01:00  1.672566e+18            1.606    3.0   \n",
       "2023-01-01 09:44:46.459800+01:00           NaN              NaN    NaN   \n",
       "...                                        ...              ...    ...   \n",
       "2023-01-01 09:48:18.874800+01:00  1.672566e+18          214.615    3.0   \n",
       "2023-01-01 09:48:19.374600+01:00           NaN              NaN    NaN   \n",
       "2023-01-01 09:48:19.874400+01:00  1.672567e+18          215.713    2.0   \n",
       "2023-01-01 09:48:20.374200+01:00           NaN              NaN    NaN   \n",
       "2023-01-01 09:48:20.874000+01:00  1.672567e+18          216.808    3.0   \n",
       "\n",
       "                                                time_utc  \\\n",
       "time_belgium                                               \n",
       "2023-01-01 09:44:44.460600+01:00 2023-01-01 09:44:44.559   \n",
       "2023-01-01 09:44:44.960400+01:00                     NaT   \n",
       "2023-01-01 09:44:45.460200+01:00                     NaT   \n",
       "2023-01-01 09:44:45.960000+01:00 2023-01-01 09:44:46.165   \n",
       "2023-01-01 09:44:46.459800+01:00                     NaT   \n",
       "...                                                  ...   \n",
       "2023-01-01 09:48:18.874800+01:00 2023-01-01 09:48:19.174   \n",
       "2023-01-01 09:48:19.374600+01:00                     NaT   \n",
       "2023-01-01 09:48:19.874400+01:00 2023-01-01 09:48:20.272   \n",
       "2023-01-01 09:48:20.374200+01:00                     NaT   \n",
       "2023-01-01 09:48:20.874000+01:00 2023-01-01 09:48:21.367   \n",
       "\n",
       "                                                     time_belgium  \\\n",
       "time_belgium                                                        \n",
       "2023-01-01 09:44:44.460600+01:00 2023-01-01 09:44:44.559000+01:00   \n",
       "2023-01-01 09:44:44.960400+01:00                              NaT   \n",
       "2023-01-01 09:44:45.460200+01:00                              NaT   \n",
       "2023-01-01 09:44:45.960000+01:00 2023-01-01 09:44:46.165000+01:00   \n",
       "2023-01-01 09:44:46.459800+01:00                              NaT   \n",
       "...                                                           ...   \n",
       "2023-01-01 09:48:18.874800+01:00 2023-01-01 09:48:19.174000+01:00   \n",
       "2023-01-01 09:48:19.374600+01:00                              NaT   \n",
       "2023-01-01 09:48:19.874400+01:00 2023-01-01 09:48:20.272000+01:00   \n",
       "2023-01-01 09:48:20.374200+01:00                              NaT   \n",
       "2023-01-01 09:48:20.874000+01:00 2023-01-01 09:48:21.367000+01:00   \n",
       "\n",
       "                                  interpolated_value  \n",
       "time_belgium                                          \n",
       "2023-01-01 09:44:44.460600+01:00                 0.0  \n",
       "2023-01-01 09:44:44.960400+01:00                 1.0  \n",
       "2023-01-01 09:44:45.460200+01:00                 2.0  \n",
       "2023-01-01 09:44:45.960000+01:00                 3.0  \n",
       "2023-01-01 09:44:46.459800+01:00                 3.0  \n",
       "...                                              ...  \n",
       "2023-01-01 09:48:18.874800+01:00                 3.0  \n",
       "2023-01-01 09:48:19.374600+01:00                 2.5  \n",
       "2023-01-01 09:48:19.874400+01:00                 2.0  \n",
       "2023-01-01 09:48:20.374200+01:00                 2.5  \n",
       "2023-01-01 09:48:20.874000+01:00                 3.0  \n",
       "\n",
       "[434 rows x 6 columns]"
      ]
     },
     "execution_count": 21,
     "metadata": {},
     "output_type": "execute_result"
    }
   ],
   "source": [
    "resampled['interpolated_value'] = resampled['value'].interpolate(method='time')\n",
    "resampled"
   ]
  },
  {
   "cell_type": "code",
   "execution_count": 22,
   "metadata": {},
   "outputs": [
    {
     "name": "stdout",
     "output_type": "stream",
     "text": [
      "\n",
      "I've use the following interpolation function: time because it is an appropiate method to use for a dataframe with unequally spaced values.\n",
      "\n"
     ]
    }
   ],
   "source": [
    "answer4=\"\"\"\n",
    "I've use the following interpolation function: time because it is an appropiate method to use for a dataframe with unequally spaced values.\n",
    "\"\"\"\n",
    "print(answer4)"
   ]
  },
  {
   "cell_type": "code",
   "execution_count": 23,
   "metadata": {},
   "outputs": [
    {
     "data": {
      "image/png": "[encoded data removed]",
      "text/plain": [
       "<Figure size 1500x500 with 1 Axes>"
      ]
     },
     "metadata": {},
     "output_type": "display_data"
    }
   ],
   "source": [
    "fig, axes = plt.subplots(1, figsize=(15, 5))\n",
    "\n",
    "# Now, let's plot the lux values\n",
    "axes.plot(resampled['interpolated_value'],label='Lux')\n",
    "axes.set_title(\"Univariate Signal\")\n",
    "axes.legend()\n",
    "plt.show()"
   ]
  },
  {
   "cell_type": "markdown",
   "metadata": {},
   "source": [
    "### Univariate Time Series Feature Engeneering\n",
    "\n",
    "Now that we have cleaned our dataframe and provided a solution for the available missing data, we can introduce some concepts of feature engeneering."
   ]
  },
  {
   "cell_type": "code",
   "execution_count": 24,
   "metadata": {},
   "outputs": [],
   "source": [
    "# cleaned_signal = resampled['value']\n",
    "cleaned_signal = resampled['interpolated_value']\n",
    "# cleaned_signal"
   ]
  },
  {
   "cell_type": "markdown",
   "metadata": {},
   "source": [
    "In many machine learning application, decisions are not made on individual sensor samples, but e.g. a classification task has to be performed in windows of X seconds or minutes. Within the context of time series data, this means that we buffer the data in such a window, calculate some interesting features based on this window and provide these features to a machine learning model per window. In a training phase, we have to create these windows by ourselves based on the provided larger signal.\n",
    "\n",
    "Pandas provides functionalities to create these windows based on the GroupBy on timestamps function.\n",
    "https://pandas.pydata.org/docs/reference/api/pandas.Grouper.html <br>\n",
    "\n",
    "**Create windows with a frequency of 10s from the cleaned_signal dataframe. The groupby pandas function returns by default a SeriesGroupBy object of all groups. Show the table of the first 10s window from this object.**"
   ]
  },
  {
   "cell_type": "code",
   "execution_count": 30,
   "metadata": {},
   "outputs": [
    {
     "data": {
      "text/html": [
       "<div>\n",
       "<style scoped>\n",
       "    .dataframe tbody tr th:only-of-type {\n",
       "        vertical-align: middle;\n",
       "    }\n",
       "\n",
       "    .dataframe tbody tr th {\n",
       "        vertical-align: top;\n",
       "    }\n",
       "\n",
       "    .dataframe thead th {\n",
       "        text-align: right;\n",
       "    }\n",
       "</style>\n",
       "<table border=\"1\" class=\"dataframe\">\n",
       "  <thead>\n",
       "    <tr style=\"text-align: right;\">\n",
       "      <th></th>\n",
       "      <th>time</th>\n",
       "      <th>elapsed_seconds</th>\n",
       "      <th>value</th>\n",
       "      <th>time_utc</th>\n",
       "      <th>time_belgium</th>\n",
       "      <th>interpolated_value</th>\n",
       "    </tr>\n",
       "    <tr>\n",
       "      <th>time_belgium</th>\n",
       "      <th></th>\n",
       "      <th></th>\n",
       "      <th></th>\n",
       "      <th></th>\n",
       "      <th></th>\n",
       "      <th></th>\n",
       "    </tr>\n",
       "  </thead>\n",
       "  <tbody>\n",
       "    <tr>\n",
       "      <th>2023-01-01 09:44:44.460600+01:00</th>\n",
       "      <td>1.672566e+18</td>\n",
       "      <td>0.000</td>\n",
       "      <td>0.0</td>\n",
       "      <td>2023-01-01 09:44:44.559</td>\n",
       "      <td>2023-01-01 09:44:44.559000+01:00</td>\n",
       "      <td>0.000000</td>\n",
       "    </tr>\n",
       "    <tr>\n",
       "      <th>2023-01-01 09:44:44.960400+01:00</th>\n",
       "      <td>NaN</td>\n",
       "      <td>NaN</td>\n",
       "      <td>NaN</td>\n",
       "      <td>NaT</td>\n",
       "      <td>NaT</td>\n",
       "      <td>1.000000</td>\n",
       "    </tr>\n",
       "    <tr>\n",
       "      <th>2023-01-01 09:44:45.460200+01:00</th>\n",
       "      <td>NaN</td>\n",
       "      <td>NaN</td>\n",
       "      <td>NaN</td>\n",
       "      <td>NaT</td>\n",
       "      <td>NaT</td>\n",
       "      <td>2.000000</td>\n",
       "    </tr>\n",
       "    <tr>\n",
       "      <th>2023-01-01 09:44:45.960000+01:00</th>\n",
       "      <td>1.672566e+18</td>\n",
       "      <td>1.606</td>\n",
       "      <td>3.0</td>\n",
       "      <td>2023-01-01 09:44:46.165</td>\n",
       "      <td>2023-01-01 09:44:46.165000+01:00</td>\n",
       "      <td>3.000000</td>\n",
       "    </tr>\n",
       "    <tr>\n",
       "      <th>2023-01-01 09:44:46.459800+01:00</th>\n",
       "      <td>NaN</td>\n",
       "      <td>NaN</td>\n",
       "      <td>NaN</td>\n",
       "      <td>NaT</td>\n",
       "      <td>NaT</td>\n",
       "      <td>3.000000</td>\n",
       "    </tr>\n",
       "    <tr>\n",
       "      <th>2023-01-01 09:44:46.959600+01:00</th>\n",
       "      <td>NaN</td>\n",
       "      <td>NaN</td>\n",
       "      <td>NaN</td>\n",
       "      <td>NaT</td>\n",
       "      <td>NaT</td>\n",
       "      <td>3.000000</td>\n",
       "    </tr>\n",
       "    <tr>\n",
       "      <th>2023-01-01 09:44:47.459400+01:00</th>\n",
       "      <td>1.672566e+18</td>\n",
       "      <td>3.092</td>\n",
       "      <td>3.0</td>\n",
       "      <td>2023-01-01 09:44:47.651</td>\n",
       "      <td>2023-01-01 09:44:47.651000+01:00</td>\n",
       "      <td>3.000000</td>\n",
       "    </tr>\n",
       "    <tr>\n",
       "      <th>2023-01-01 09:44:47.959200+01:00</th>\n",
       "      <td>NaN</td>\n",
       "      <td>NaN</td>\n",
       "      <td>NaN</td>\n",
       "      <td>NaT</td>\n",
       "      <td>NaT</td>\n",
       "      <td>2.666667</td>\n",
       "    </tr>\n",
       "    <tr>\n",
       "      <th>2023-01-01 09:44:48.459000+01:00</th>\n",
       "      <td>NaN</td>\n",
       "      <td>NaN</td>\n",
       "      <td>NaN</td>\n",
       "      <td>NaT</td>\n",
       "      <td>NaT</td>\n",
       "      <td>2.333333</td>\n",
       "    </tr>\n",
       "    <tr>\n",
       "      <th>2023-01-01 09:44:48.958800+01:00</th>\n",
       "      <td>1.672566e+18</td>\n",
       "      <td>4.487</td>\n",
       "      <td>2.0</td>\n",
       "      <td>2023-01-01 09:44:49.046</td>\n",
       "      <td>2023-01-01 09:44:49.046000+01:00</td>\n",
       "      <td>2.000000</td>\n",
       "    </tr>\n",
       "    <tr>\n",
       "      <th>2023-01-01 09:44:49.458600+01:00</th>\n",
       "      <td>NaN</td>\n",
       "      <td>NaN</td>\n",
       "      <td>NaN</td>\n",
       "      <td>NaT</td>\n",
       "      <td>NaT</td>\n",
       "      <td>3.000000</td>\n",
       "    </tr>\n",
       "    <tr>\n",
       "      <th>2023-01-01 09:44:49.958400+01:00</th>\n",
       "      <td>1.672566e+18</td>\n",
       "      <td>5.806</td>\n",
       "      <td>4.0</td>\n",
       "      <td>2023-01-01 09:44:50.365</td>\n",
       "      <td>2023-01-01 09:44:50.365000+01:00</td>\n",
       "      <td>4.000000</td>\n",
       "    </tr>\n",
       "    <tr>\n",
       "      <th>2023-01-01 09:44:50.458200+01:00</th>\n",
       "      <td>NaN</td>\n",
       "      <td>NaN</td>\n",
       "      <td>NaN</td>\n",
       "      <td>NaT</td>\n",
       "      <td>NaT</td>\n",
       "      <td>2.666666</td>\n",
       "    </tr>\n",
       "    <tr>\n",
       "      <th>2023-01-01 09:44:50.958000+01:00</th>\n",
       "      <td>NaN</td>\n",
       "      <td>NaN</td>\n",
       "      <td>NaN</td>\n",
       "      <td>NaT</td>\n",
       "      <td>NaT</td>\n",
       "      <td>1.333333</td>\n",
       "    </tr>\n",
       "    <tr>\n",
       "      <th>2023-01-01 09:44:51.457800+01:00</th>\n",
       "      <td>1.672566e+18</td>\n",
       "      <td>7.038</td>\n",
       "      <td>0.0</td>\n",
       "      <td>2023-01-01 09:44:51.597</td>\n",
       "      <td>2023-01-01 09:44:51.597000+01:00</td>\n",
       "      <td>0.000000</td>\n",
       "    </tr>\n",
       "    <tr>\n",
       "      <th>2023-01-01 09:44:51.957600+01:00</th>\n",
       "      <td>NaN</td>\n",
       "      <td>NaN</td>\n",
       "      <td>NaN</td>\n",
       "      <td>NaT</td>\n",
       "      <td>NaT</td>\n",
       "      <td>1.500000</td>\n",
       "    </tr>\n",
       "    <tr>\n",
       "      <th>2023-01-01 09:44:52.457400+01:00</th>\n",
       "      <td>1.672566e+18</td>\n",
       "      <td>8.160</td>\n",
       "      <td>3.0</td>\n",
       "      <td>2023-01-01 09:44:52.719</td>\n",
       "      <td>2023-01-01 09:44:52.719000+01:00</td>\n",
       "      <td>3.000000</td>\n",
       "    </tr>\n",
       "    <tr>\n",
       "      <th>2023-01-01 09:44:52.957200+01:00</th>\n",
       "      <td>NaN</td>\n",
       "      <td>NaN</td>\n",
       "      <td>NaN</td>\n",
       "      <td>NaT</td>\n",
       "      <td>NaT</td>\n",
       "      <td>4.500000</td>\n",
       "    </tr>\n",
       "    <tr>\n",
       "      <th>2023-01-01 09:44:53.457000+01:00</th>\n",
       "      <td>1.672566e+18</td>\n",
       "      <td>9.232</td>\n",
       "      <td>6.0</td>\n",
       "      <td>2023-01-01 09:44:53.791</td>\n",
       "      <td>2023-01-01 09:44:53.791000+01:00</td>\n",
       "      <td>6.000000</td>\n",
       "    </tr>\n",
       "    <tr>\n",
       "      <th>2023-01-01 09:44:53.956800+01:00</th>\n",
       "      <td>NaN</td>\n",
       "      <td>NaN</td>\n",
       "      <td>NaN</td>\n",
       "      <td>NaT</td>\n",
       "      <td>NaT</td>\n",
       "      <td>6.000000</td>\n",
       "    </tr>\n",
       "    <tr>\n",
       "      <th>2023-01-01 09:44:54.456600+01:00</th>\n",
       "      <td>1.672566e+18</td>\n",
       "      <td>10.272</td>\n",
       "      <td>6.0</td>\n",
       "      <td>2023-01-01 09:44:54.831</td>\n",
       "      <td>2023-01-01 09:44:54.831000+01:00</td>\n",
       "      <td>6.000000</td>\n",
       "    </tr>\n",
       "  </tbody>\n",
       "</table>\n",
       "</div>"
      ],
      "text/plain": [
       "                                          time  elapsed_seconds  value  \\\n",
       "time_belgium                                                             \n",
       "2023-01-01 09:44:44.460600+01:00  1.672566e+18            0.000    0.0   \n",
       "2023-01-01 09:44:44.960400+01:00           NaN              NaN    NaN   \n",
       "2023-01-01 09:44:45.460200+01:00           NaN              NaN    NaN   \n",
       "2023-01-01 09:44:45.960000+01:00  1.672566e+18            1.606    3.0   \n",
       "2023-01-01 09:44:46.459800+01:00           NaN              NaN    NaN   \n",
       "2023-01-01 09:44:46.959600+01:00           NaN              NaN    NaN   \n",
       "2023-01-01 09:44:47.459400+01:00  1.672566e+18            3.092    3.0   \n",
       "2023-01-01 09:44:47.959200+01:00           NaN              NaN    NaN   \n",
       "2023-01-01 09:44:48.459000+01:00           NaN              NaN    NaN   \n",
       "2023-01-01 09:44:48.958800+01:00  1.672566e+18            4.487    2.0   \n",
       "2023-01-01 09:44:49.458600+01:00           NaN              NaN    NaN   \n",
       "2023-01-01 09:44:49.958400+01:00  1.672566e+18            5.806    4.0   \n",
       "2023-01-01 09:44:50.458200+01:00           NaN              NaN    NaN   \n",
       "2023-01-01 09:44:50.958000+01:00           NaN              NaN    NaN   \n",
       "2023-01-01 09:44:51.457800+01:00  1.672566e+18            7.038    0.0   \n",
       "2023-01-01 09:44:51.957600+01:00           NaN              NaN    NaN   \n",
       "2023-01-01 09:44:52.457400+01:00  1.672566e+18            8.160    3.0   \n",
       "2023-01-01 09:44:52.957200+01:00           NaN              NaN    NaN   \n",
       "2023-01-01 09:44:53.457000+01:00  1.672566e+18            9.232    6.0   \n",
       "2023-01-01 09:44:53.956800+01:00           NaN              NaN    NaN   \n",
       "2023-01-01 09:44:54.456600+01:00  1.672566e+18           10.272    6.0   \n",
       "\n",
       "                                                time_utc  \\\n",
       "time_belgium                                               \n",
       "2023-01-01 09:44:44.460600+01:00 2023-01-01 09:44:44.559   \n",
       "2023-01-01 09:44:44.960400+01:00                     NaT   \n",
       "2023-01-01 09:44:45.460200+01:00                     NaT   \n",
       "2023-01-01 09:44:45.960000+01:00 2023-01-01 09:44:46.165   \n",
       "2023-01-01 09:44:46.459800+01:00                     NaT   \n",
       "2023-01-01 09:44:46.959600+01:00                     NaT   \n",
       "2023-01-01 09:44:47.459400+01:00 2023-01-01 09:44:47.651   \n",
       "2023-01-01 09:44:47.959200+01:00                     NaT   \n",
       "2023-01-01 09:44:48.459000+01:00                     NaT   \n",
       "2023-01-01 09:44:48.958800+01:00 2023-01-01 09:44:49.046   \n",
       "2023-01-01 09:44:49.458600+01:00                     NaT   \n",
       "2023-01-01 09:44:49.958400+01:00 2023-01-01 09:44:50.365   \n",
       "2023-01-01 09:44:50.458200+01:00                     NaT   \n",
       "2023-01-01 09:44:50.958000+01:00                     NaT   \n",
       "2023-01-01 09:44:51.457800+01:00 2023-01-01 09:44:51.597   \n",
       "2023-01-01 09:44:51.957600+01:00                     NaT   \n",
       "2023-01-01 09:44:52.457400+01:00 2023-01-01 09:44:52.719   \n",
       "2023-01-01 09:44:52.957200+01:00                     NaT   \n",
       "2023-01-01 09:44:53.457000+01:00 2023-01-01 09:44:53.791   \n",
       "2023-01-01 09:44:53.956800+01:00                     NaT   \n",
       "2023-01-01 09:44:54.456600+01:00 2023-01-01 09:44:54.831   \n",
       "\n",
       "                                                     time_belgium  \\\n",
       "time_belgium                                                        \n",
       "2023-01-01 09:44:44.460600+01:00 2023-01-01 09:44:44.559000+01:00   \n",
       "2023-01-01 09:44:44.960400+01:00                              NaT   \n",
       "2023-01-01 09:44:45.460200+01:00                              NaT   \n",
       "2023-01-01 09:44:45.960000+01:00 2023-01-01 09:44:46.165000+01:00   \n",
       "2023-01-01 09:44:46.459800+01:00                              NaT   \n",
       "2023-01-01 09:44:46.959600+01:00                              NaT   \n",
       "2023-01-01 09:44:47.459400+01:00 2023-01-01 09:44:47.651000+01:00   \n",
       "2023-01-01 09:44:47.959200+01:00                              NaT   \n",
       "2023-01-01 09:44:48.459000+01:00                              NaT   \n",
       "2023-01-01 09:44:48.958800+01:00 2023-01-01 09:44:49.046000+01:00   \n",
       "2023-01-01 09:44:49.458600+01:00                              NaT   \n",
       "2023-01-01 09:44:49.958400+01:00 2023-01-01 09:44:50.365000+01:00   \n",
       "2023-01-01 09:44:50.458200+01:00                              NaT   \n",
       "2023-01-01 09:44:50.958000+01:00                              NaT   \n",
       "2023-01-01 09:44:51.457800+01:00 2023-01-01 09:44:51.597000+01:00   \n",
       "2023-01-01 09:44:51.957600+01:00                              NaT   \n",
       "2023-01-01 09:44:52.457400+01:00 2023-01-01 09:44:52.719000+01:00   \n",
       "2023-01-01 09:44:52.957200+01:00                              NaT   \n",
       "2023-01-01 09:44:53.457000+01:00 2023-01-01 09:44:53.791000+01:00   \n",
       "2023-01-01 09:44:53.956800+01:00                              NaT   \n",
       "2023-01-01 09:44:54.456600+01:00 2023-01-01 09:44:54.831000+01:00   \n",
       "\n",
       "                                  interpolated_value  \n",
       "time_belgium                                          \n",
       "2023-01-01 09:44:44.460600+01:00            0.000000  \n",
       "2023-01-01 09:44:44.960400+01:00            1.000000  \n",
       "2023-01-01 09:44:45.460200+01:00            2.000000  \n",
       "2023-01-01 09:44:45.960000+01:00            3.000000  \n",
       "2023-01-01 09:44:46.459800+01:00            3.000000  \n",
       "2023-01-01 09:44:46.959600+01:00            3.000000  \n",
       "2023-01-01 09:44:47.459400+01:00            3.000000  \n",
       "2023-01-01 09:44:47.959200+01:00            2.666667  \n",
       "2023-01-01 09:44:48.459000+01:00            2.333333  \n",
       "2023-01-01 09:44:48.958800+01:00            2.000000  \n",
       "2023-01-01 09:44:49.458600+01:00            3.000000  \n",
       "2023-01-01 09:44:49.958400+01:00            4.000000  \n",
       "2023-01-01 09:44:50.458200+01:00            2.666666  \n",
       "2023-01-01 09:44:50.958000+01:00            1.333333  \n",
       "2023-01-01 09:44:51.457800+01:00            0.000000  \n",
       "2023-01-01 09:44:51.957600+01:00            1.500000  \n",
       "2023-01-01 09:44:52.457400+01:00            3.000000  \n",
       "2023-01-01 09:44:52.957200+01:00            4.500000  \n",
       "2023-01-01 09:44:53.457000+01:00            6.000000  \n",
       "2023-01-01 09:44:53.956800+01:00            6.000000  \n",
       "2023-01-01 09:44:54.456600+01:00            6.000000  "
      ]
     },
     "execution_count": 30,
     "metadata": {},
     "output_type": "execute_result"
    }
   ],
   "source": [
    "# make a group object using SeriesGroupBy that has windows with a frequency of 10s\n",
    "groups = resampled.groupby(pd.Grouper(origin='start', freq='10S'))\n",
    "\n",
    "#show first 10s window\n",
    "list(groups)[0][1]"
   ]
  },
  {
   "cell_type": "markdown",
   "metadata": {},
   "source": [
    "**Is the amount of samples as expected in this first window?**"
   ]
  },
  {
   "cell_type": "code",
   "execution_count": 31,
   "metadata": {},
   "outputs": [
    {
     "name": "stdout",
     "output_type": "stream",
     "text": [
      "\n",
      "Yes, knowing that the sample rate is close to 0.5Hz, I expected around 20 values in the 10s range.\n",
      "\n"
     ]
    }
   ],
   "source": [
    "answer5=\"\"\"\n",
    "Yes, knowing that the sample rate is close to 0.5Hz, I expected around 20 values in the 10s range.\n",
    "\"\"\"\n",
    "print(answer5)"
   ]
  },
  {
   "cell_type": "markdown",
   "metadata": {},
   "source": [
    "**Calculate the mean and standard deviation for each 10s window of the above interpolated signal.** \n",
    "\n",
    "You can use the aggregator function to retrun one dataframe.\n",
    "https://pandas.pydata.org/docs/reference/api/pandas.core.groupby.DataFrameGroupBy.aggregate.html"
   ]
  },
  {
   "cell_type": "code",
   "execution_count": 48,
   "metadata": {},
   "outputs": [
    {
     "name": "stderr",
     "output_type": "stream",
     "text": [
      "C:\\Users\\cesar\\AppData\\Local\\Temp\\ipykernel_7028\\263678068.py:1: FutureWarning:\n",
      "\n",
      "['time_utc', 'time_belgium'] did not aggregate successfully. If any error is raised this will raise in a future version of pandas. Drop these columns/ops to avoid this warning.\n",
      "\n"
     ]
    }
   ],
   "source": [
    "aggr = groups.agg(['mean', 'std'])"
   ]
  },
  {
   "cell_type": "markdown",
   "metadata": {},
   "source": [
    "You can easily extract more features by extending the aggregator function (such as adding the min, max or custom functions). We will continue now with multivariate time series in the second part of this lab."
   ]
  },
  {
   "cell_type": "markdown",
   "metadata": {
    "id": "wtwTwqvr3tMd"
   },
   "source": [
    "---\n",
    "## Part 2: Multivariate time series\n",
    "\n",
    "\n",
    "Multivariate time series data is a type of data that consists of multiple variables or features, each of which is measured over time. The smartphone accelerometer is such a multivariate sensor that measures the rate of change of the phone's velocity in three dimensions, providing information about the phone's movement.\n",
    "\n",
    "<img src=\"https://www.mathworks.com/help/supportpkg/android/ref/simulinkandroidsupportpackage_galaxys4_accelerometer.png\"  width=\"40%\">\n",
    "\n",
    "By collecting accelerometer data over time, we can generate a multivariate time series dataset that includes information about the acceleration in each of the X, Y, and Z directions at different points in time. This data can be used to analyze patterns in the movement of the smartphone, such as how often the user takes steps or changes direction or how fast they are moving. This type of data is useful in a variety of applications, such as activity recognition, gait analysis, and fall detection."
   ]
  },
  {
   "cell_type": "markdown",
   "metadata": {},
   "source": [
    "### Multivariate Time Series Data Exploration\n",
    "\n",
    "We have provided a sensor measurement from the accelerometer in the assignment folder. **Load the 'accelerometer.json' file and verify that indeed three axis (x,y,z) are available in this dataset.**"
   ]
  },
  {
   "cell_type": "code",
   "execution_count": 212,
   "metadata": {},
   "outputs": [
    {
     "data": {
      "text/html": [
       "<div>\n",
       "<style scoped>\n",
       "    .dataframe tbody tr th:only-of-type {\n",
       "        vertical-align: middle;\n",
       "    }\n",
       "\n",
       "    .dataframe tbody tr th {\n",
       "        vertical-align: top;\n",
       "    }\n",
       "\n",
       "    .dataframe thead th {\n",
       "        text-align: right;\n",
       "    }\n",
       "</style>\n",
       "<table border=\"1\" class=\"dataframe\">\n",
       "  <thead>\n",
       "    <tr style=\"text-align: right;\">\n",
       "      <th></th>\n",
       "      <th>time</th>\n",
       "      <th>x</th>\n",
       "      <th>y</th>\n",
       "      <th>z</th>\n",
       "    </tr>\n",
       "  </thead>\n",
       "  <tbody>\n",
       "    <tr>\n",
       "      <th>0</th>\n",
       "      <td>1672579500003000000</td>\n",
       "      <td>-0.879863</td>\n",
       "      <td>-8.577272</td>\n",
       "      <td>-0.284188</td>\n",
       "    </tr>\n",
       "    <tr>\n",
       "      <th>1</th>\n",
       "      <td>1672579500035000000</td>\n",
       "      <td>-0.607685</td>\n",
       "      <td>-10.669960</td>\n",
       "      <td>-0.848984</td>\n",
       "    </tr>\n",
       "    <tr>\n",
       "      <th>2</th>\n",
       "      <td>1672579500066000000</td>\n",
       "      <td>0.631767</td>\n",
       "      <td>-11.265374</td>\n",
       "      <td>-1.396511</td>\n",
       "    </tr>\n",
       "    <tr>\n",
       "      <th>3</th>\n",
       "      <td>1672579500097000000</td>\n",
       "      <td>2.201471</td>\n",
       "      <td>-8.854506</td>\n",
       "      <td>-1.410224</td>\n",
       "    </tr>\n",
       "    <tr>\n",
       "      <th>4</th>\n",
       "      <td>1672579500128000000</td>\n",
       "      <td>1.296971</td>\n",
       "      <td>-8.280754</td>\n",
       "      <td>-1.953661</td>\n",
       "    </tr>\n",
       "    <tr>\n",
       "      <th>...</th>\n",
       "      <td>...</td>\n",
       "      <td>...</td>\n",
       "      <td>...</td>\n",
       "      <td>...</td>\n",
       "    </tr>\n",
       "    <tr>\n",
       "      <th>46107</th>\n",
       "      <td>1672580940785000000</td>\n",
       "      <td>0.069933</td>\n",
       "      <td>0.040813</td>\n",
       "      <td>9.673765</td>\n",
       "    </tr>\n",
       "    <tr>\n",
       "      <th>46108</th>\n",
       "      <td>1672580940817000000</td>\n",
       "      <td>0.082913</td>\n",
       "      <td>0.044735</td>\n",
       "      <td>9.666238</td>\n",
       "    </tr>\n",
       "    <tr>\n",
       "      <th>46109</th>\n",
       "      <td>1672580940848000000</td>\n",
       "      <td>0.096555</td>\n",
       "      <td>0.059834</td>\n",
       "      <td>9.672067</td>\n",
       "    </tr>\n",
       "    <tr>\n",
       "      <th>46110</th>\n",
       "      <td>1672580940879000000</td>\n",
       "      <td>0.069262</td>\n",
       "      <td>0.043343</td>\n",
       "      <td>9.682868</td>\n",
       "    </tr>\n",
       "    <tr>\n",
       "      <th>46111</th>\n",
       "      <td>1672580940910000000</td>\n",
       "      <td>0.070531</td>\n",
       "      <td>0.061735</td>\n",
       "      <td>9.659218</td>\n",
       "    </tr>\n",
       "  </tbody>\n",
       "</table>\n",
       "<p>46112 rows × 4 columns</p>\n",
       "</div>"
      ],
      "text/plain": [
       "                      time         x          y         z\n",
       "0      1672579500003000000 -0.879863  -8.577272 -0.284188\n",
       "1      1672579500035000000 -0.607685 -10.669960 -0.848984\n",
       "2      1672579500066000000  0.631767 -11.265374 -1.396511\n",
       "3      1672579500097000000  2.201471  -8.854506 -1.410224\n",
       "4      1672579500128000000  1.296971  -8.280754 -1.953661\n",
       "...                    ...       ...        ...       ...\n",
       "46107  1672580940785000000  0.069933   0.040813  9.673765\n",
       "46108  1672580940817000000  0.082913   0.044735  9.666238\n",
       "46109  1672580940848000000  0.096555   0.059834  9.672067\n",
       "46110  1672580940879000000  0.069262   0.043343  9.682868\n",
       "46111  1672580940910000000  0.070531   0.061735  9.659218\n",
       "\n",
       "[46112 rows x 4 columns]"
      ]
     },
     "execution_count": 212,
     "metadata": {},
     "output_type": "execute_result"
    }
   ],
   "source": [
    "df = pd.read_json(\"data/accelerometer.json\")\n",
    "df"
   ]
  },
  {
   "cell_type": "markdown",
   "metadata": {},
   "source": [
    "We don't have a 'elapsed_seconds' column in this dataframe. This can however be an interesting column to create by ourselves.\n",
    "\n",
    "**Create the 'elapsed_seconds' column. You can do this either by:**\n",
    "1) **Using the cummulative sum function from the differences between the UNIX times in the 'time' column. Take into account that these differences will be in nanoseconds and we want the elapsed_seconds**\n",
    "\n",
    "2) **Using the cummulative sum function from the differences between the UTC timestamps, generated from the UNIX 'time' column. Going from UNIX to UTC can be done similar as in part 1.**\n"
   ]
  },
  {
   "cell_type": "code",
   "execution_count": 213,
   "metadata": {
    "scrolled": true
   },
   "outputs": [
    {
     "data": {
      "text/html": [
       "<div>\n",
       "<style scoped>\n",
       "    .dataframe tbody tr th:only-of-type {\n",
       "        vertical-align: middle;\n",
       "    }\n",
       "\n",
       "    .dataframe tbody tr th {\n",
       "        vertical-align: top;\n",
       "    }\n",
       "\n",
       "    .dataframe thead th {\n",
       "        text-align: right;\n",
       "    }\n",
       "</style>\n",
       "<table border=\"1\" class=\"dataframe\">\n",
       "  <thead>\n",
       "    <tr style=\"text-align: right;\">\n",
       "      <th></th>\n",
       "      <th>time</th>\n",
       "      <th>x</th>\n",
       "      <th>y</th>\n",
       "      <th>z</th>\n",
       "      <th>elapsed_seconds</th>\n",
       "    </tr>\n",
       "  </thead>\n",
       "  <tbody>\n",
       "    <tr>\n",
       "      <th>0</th>\n",
       "      <td>1672579500003000000</td>\n",
       "      <td>-0.879863</td>\n",
       "      <td>-8.577272</td>\n",
       "      <td>-0.284188</td>\n",
       "      <td>0</td>\n",
       "    </tr>\n",
       "    <tr>\n",
       "      <th>1</th>\n",
       "      <td>1672579500035000000</td>\n",
       "      <td>-0.607685</td>\n",
       "      <td>-10.669960</td>\n",
       "      <td>-0.848984</td>\n",
       "      <td>0</td>\n",
       "    </tr>\n",
       "    <tr>\n",
       "      <th>2</th>\n",
       "      <td>1672579500066000000</td>\n",
       "      <td>0.631767</td>\n",
       "      <td>-11.265374</td>\n",
       "      <td>-1.396511</td>\n",
       "      <td>0</td>\n",
       "    </tr>\n",
       "    <tr>\n",
       "      <th>3</th>\n",
       "      <td>1672579500097000000</td>\n",
       "      <td>2.201471</td>\n",
       "      <td>-8.854506</td>\n",
       "      <td>-1.410224</td>\n",
       "      <td>0</td>\n",
       "    </tr>\n",
       "    <tr>\n",
       "      <th>4</th>\n",
       "      <td>1672579500128000000</td>\n",
       "      <td>1.296971</td>\n",
       "      <td>-8.280754</td>\n",
       "      <td>-1.953661</td>\n",
       "      <td>0</td>\n",
       "    </tr>\n",
       "    <tr>\n",
       "      <th>...</th>\n",
       "      <td>...</td>\n",
       "      <td>...</td>\n",
       "      <td>...</td>\n",
       "      <td>...</td>\n",
       "      <td>...</td>\n",
       "    </tr>\n",
       "    <tr>\n",
       "      <th>46106</th>\n",
       "      <td>1672580940754000000</td>\n",
       "      <td>0.085620</td>\n",
       "      <td>0.052958</td>\n",
       "      <td>9.664286</td>\n",
       "      <td>1440</td>\n",
       "    </tr>\n",
       "    <tr>\n",
       "      <th>46107</th>\n",
       "      <td>1672580940785000000</td>\n",
       "      <td>0.069933</td>\n",
       "      <td>0.040813</td>\n",
       "      <td>9.673765</td>\n",
       "      <td>1440</td>\n",
       "    </tr>\n",
       "    <tr>\n",
       "      <th>46108</th>\n",
       "      <td>1672580940817000000</td>\n",
       "      <td>0.082913</td>\n",
       "      <td>0.044735</td>\n",
       "      <td>9.666238</td>\n",
       "      <td>1440</td>\n",
       "    </tr>\n",
       "    <tr>\n",
       "      <th>46109</th>\n",
       "      <td>1672580940848000000</td>\n",
       "      <td>0.096555</td>\n",
       "      <td>0.059834</td>\n",
       "      <td>9.672067</td>\n",
       "      <td>1440</td>\n",
       "    </tr>\n",
       "    <tr>\n",
       "      <th>46110</th>\n",
       "      <td>1672580940879000000</td>\n",
       "      <td>0.069262</td>\n",
       "      <td>0.043343</td>\n",
       "      <td>9.682868</td>\n",
       "      <td>1440</td>\n",
       "    </tr>\n",
       "  </tbody>\n",
       "</table>\n",
       "<p>46111 rows × 5 columns</p>\n",
       "</div>"
      ],
      "text/plain": [
       "                      time         x          y         z  elapsed_seconds\n",
       "0      1672579500003000000 -0.879863  -8.577272 -0.284188                0\n",
       "1      1672579500035000000 -0.607685 -10.669960 -0.848984                0\n",
       "2      1672579500066000000  0.631767 -11.265374 -1.396511                0\n",
       "3      1672579500097000000  2.201471  -8.854506 -1.410224                0\n",
       "4      1672579500128000000  1.296971  -8.280754 -1.953661                0\n",
       "...                    ...       ...        ...       ...              ...\n",
       "46106  1672580940754000000  0.085620   0.052958  9.664286             1440\n",
       "46107  1672580940785000000  0.069933   0.040813  9.673765             1440\n",
       "46108  1672580940817000000  0.082913   0.044735  9.666238             1440\n",
       "46109  1672580940848000000  0.096555   0.059834  9.672067             1440\n",
       "46110  1672580940879000000  0.069262   0.043343  9.682868             1440\n",
       "\n",
       "[46111 rows x 5 columns]"
      ]
     },
     "execution_count": 213,
     "metadata": {},
     "output_type": "execute_result"
    }
   ],
   "source": [
    "elapsed_min1 = np.cumsum(np.diff(pd.to_datetime(df['time'])))\n",
    "df.drop(df.tail(1).index,inplace=True) # drop last row\n",
    "df['elapsed_seconds'] = elapsed_min1\n",
    "df['elapsed_seconds'] = df['elapsed_seconds'].dt.seconds\n",
    "df"
   ]
  },
  {
   "cell_type": "markdown",
   "metadata": {},
   "source": [
    "**What is the total duration in minutes? Try to give a programmatic answer by using the 'elapsed_seconds' column  and e.g. the max() function** "
   ]
  },
  {
   "cell_type": "code",
   "execution_count": 215,
   "metadata": {},
   "outputs": [
    {
     "name": "stdout",
     "output_type": "stream",
     "text": [
      "The total duration in minutes is: 24.0\n"
     ]
    }
   ],
   "source": [
    "total_duration = df['elapsed_seconds'].max() / 60\n",
    "\n",
    "print('The total duration in minutes is: {}'.format(round(total_duration,2)))"
   ]
  },
  {
   "cell_type": "markdown",
   "metadata": {},
   "source": [
    "You can now plot the three axis of the accelerometer and investigate the signal based on the time series representation. We made all of our previous plots in matplotlib. In terms of possible interaction with the plot, matplotlib is somewhat limited..\n",
    "\n",
    "We provided the full code to plot this accelerometer in plotly using our own plotly-resampler. Plotly is a very intuitive plotting framework and provides tools for pannin and zooming in plots. It was however very slow when large amounts of data (read: time series data) had to be provided within these plots. Plotly-resampler resolve this issue by downsampling (aggregating) the data respective to the view and then plotting the aggregated points. When you interact with the plot (panning, zooming, ...), callbacks are used to aggregate data and update the figure.\n",
    "\n",
    "**Run the cell below and pan or zoom in the data to see the advantage of Ploty and Plotly-resampler. When you hover with you mouse on the plot, you will see an option panel on the top right that you can use. You can also select certain regions in the plot itself to change the view. The reset axes option can always be used to go back to the original full signal view.***"
   ]
  },
  {
   "cell_type": "code",
   "execution_count": 231,
   "metadata": {},
   "outputs": [
    {
     "data": {
      "application/vnd.jupyter.widget-view+json": {
       "model_id": "199fd7217d9f4e1d9e7626f5c3508223",
       "version_major": 2,
       "version_minor": 0
      },
      "text/plain": [
       "FigureWidgetResampler({\n",
       "    'data': [{'name': '<b style=\"color:sandybrown\">[R]</b> x <i style=\"color:#fc9944\">~1</i>',\n",
       "              'showlegend': True,\n",
       "              'type': 'scattergl',\n",
       "              'uid': '311c14fb-c720-4d96-97d5-8067ea12bdcc',\n",
       "              'x': array([   0,    0,    1, ..., 1438, 1440, 1440], dtype=int64),\n",
       "              'y': array([-0.87986344,  4.4970884 , -3.354029  , ...,  0.09196805,  0.09655464,\n",
       "                           0.06926191])},\n",
       "             {'name': '<b style=\"color:sandybrown\">[R]</b> y <i style=\"color:#fc9944\">~1</i>',\n",
       "              'showlegend': True,\n",
       "              'type': 'scattergl',\n",
       "              'uid': '72a1050e-0e03-42a1-ad2c-001b435eef7e',\n",
       "              'x': array([   0,    1,    1, ..., 1438, 1439, 1440], dtype=int64),\n",
       "              'y': array([ -8.577272  , -14.179268  ,  -8.755231  , ...,   0.02670113,\n",
       "                            0.05647245,   0.04334277])},\n",
       "             {'name': '<b style=\"color:sandybrown\">[R]</b> z <i style=\"color:#fc9944\">~1</i>',\n",
       "              'showlegend': True,\n",
       "              'type': 'scattergl',\n",
       "              'uid': '7c1ac62b-7212-40da-ac1e-6362ef9096af',\n",
       "              'x': array([   0,    1,    1, ..., 1438, 1440, 1440], dtype=int64),\n",
       "              'y': array([-0.28418764,  8.825894  , -5.7511587 , ...,  9.649747  ,  9.65752   ,\n",
       "                           9.682868  ])}],\n",
       "    'layout': {'template': '...'}\n",
       "})"
      ]
     },
     "execution_count": 231,
     "metadata": {},
     "output_type": "execute_result"
    }
   ],
   "source": [
    "fig = FigureWidgetResampler(go.Figure())\n",
    "fig.add_trace(go.Scattergl(name='x', showlegend=True), hf_x=df['elapsed_seconds'], hf_y=df['x'])\n",
    "fig.add_trace(go.Scattergl(name='y', showlegend=True), hf_x=df['elapsed_seconds'], hf_y=df['y'])\n",
    "fig.add_trace(go.Scattergl(name='z', showlegend=True), hf_x=df['elapsed_seconds'], hf_y=df['z'])\n",
    "\n",
    "fig"
   ]
  },
  {
   "cell_type": "markdown",
   "metadata": {},
   "source": [
    "**The accelermeter window is a representation of multiple human activities (standing, sitting, lying down, walking, jumping etc). Can you give a brief overview of the activities performed in this dataset? List them in your answer below and provide the start and end time for each activity (you can use the elapsed_time column). Use a combination of the interactive Plotly plot and e.g. the smartphone figure in the beginning of part 2 to make the correct conclusions**"
   ]
  },
  {
   "cell_type": "code",
   "execution_count": null,
   "metadata": {},
   "outputs": [],
   "source": [
    "Answer6 = \"\"\"\n",
    "From second X till second Y someone performed Activity Z\n",
    "...\n",
    "\"\"\"\n",
    "print(Answer6)"
   ]
  },
  {
   "cell_type": "markdown",
   "metadata": {},
   "source": [
    "### Multivariate Time Series Feature Engeneering\n",
    "\n",
    "Similar as within the univariate case, we can calculate features from this univarate timeseries. We can calculate featuers for each variable individually (e.g. mean values for x, y & z) but more interesting are features which combine information form multiple variables together. \n",
    "\n",
    "One such feature is the activity index: \n",
    "Given a dataframe with x,y,z accelerometer values, the activity index is the square root of the mean variance over the 3 axis.\n",
    "\n",
    "$$ activity\\_index = \\sqrt{{\\frac {1}{3}}\\sum_{i}^3 Var(channel[i])} $$\n",
    "with channel[i] either x,y or z.\n",
    "\n",
    "**Implement the activity index in the function below. You can use the var function of the numpy package to calculate the variance.**"
   ]
  },
  {
   "cell_type": "code",
   "execution_count": 228,
   "metadata": {},
   "outputs": [],
   "source": [
    "def calc_activity_index(dataframe, channels=['x','y','z']):\n",
    "    \"\"\"\n",
    "    Compute activity index of sensor signals.\n",
    "    :param signal_df: dataframe housing desired sensor signals\n",
    "    :param channels: channels of signal to compute activity index\n",
    "    \"\"\"\n",
    "    vars = [np.var(dataframe[channel]) for channel in channels]\n",
    "    activity_index = np.sqrt(1/3 * np.sum(vars))\n",
    "    \n",
    "    return activity_index"
   ]
  },
  {
   "cell_type": "markdown",
   "metadata": {},
   "source": [
    "**Next, verify that your function works by calculating the activity index for three selected regions in the dataframe above. Use e.g. `df[(df['elapsed_seconds']>30) & (df['elapsed_seconds']<50)]` to select a region with high, medium and a low activity index respectively.**"
   ]
  },
  {
   "cell_type": "code",
   "execution_count": 230,
   "metadata": {},
   "outputs": [
    {
     "name": "stdout",
     "output_type": "stream",
     "text": [
      "The activity index for the selected high activity region is: 2.479436251364169\n",
      "The activity index for the selected medium activity region is: 0.5556274425863499\n",
      "The activity index for the selected low activity region is: 0.12140776218100181\n"
     ]
    }
   ],
   "source": [
    "# make a dataframe with only the high activity region\n",
    "high_activity_region = df[(df['elapsed_seconds'] > 30) & (df['elapsed_seconds'] < 50)]\n",
    "high_activity_index = calc_activity_index(high_activity_region)\n",
    "print('The activity index for the selected high activity region is: {}'.format(high_activity_index))\n",
    "\n",
    "# make a dataframe with only the medium activity region\n",
    "medium_activity_region = df[(df['elapsed_seconds'] > 1000) & (df['elapsed_seconds'] < 1030)]\n",
    "medium_activity_index = calc_activity_index(medium_activity_region)\n",
    "print('The activity index for the selected medium activity region is: {}'.format(medium_activity_index))\n",
    "\n",
    "# make a dataframe with only the low activity region\n",
    "low_activity_region = df[(df['elapsed_seconds'] > 560) & (df['elapsed_seconds'] < 580)]\n",
    "low_activity_index = calc_activity_index(low_activity_region)\n",
    "print('The activity index for the selected low activity region is: {}'.format(low_activity_index))\n"
   ]
  },
  {
   "cell_type": "markdown",
   "metadata": {},
   "source": [
    "**Is this behaviour as expected?**"
   ]
  },
  {
   "cell_type": "code",
   "execution_count": null,
   "metadata": {},
   "outputs": [],
   "source": [
    "Answer7 = \"\"\"\n",
    "This behaviour is expected, as the variability of the activity increases proportionally to its variance. This can have different reasons, such as a\n",
    "greater possible range of values.\n",
    "\"\"\"\n",
    "print(Answer7)"
   ]
  },
  {
   "cell_type": "markdown",
   "metadata": {},
   "source": [
    "Of course, the activity index could vary over time within our dataframes and it is probably a better idea to calculate the activity index in windows of X seconds.\n",
    "\n",
    "**Calculate the activity index on windows with a frequency of 10 seconds. You will need a UTC timestamp index to select these windows. If you didn't create this timestamp in the past, you can do it here.**"
   ]
  },
  {
   "cell_type": "code",
   "execution_count": 234,
   "metadata": {},
   "outputs": [
    {
     "data": {
      "text/html": [
       "<div>\n",
       "<style scoped>\n",
       "    .dataframe tbody tr th:only-of-type {\n",
       "        vertical-align: middle;\n",
       "    }\n",
       "\n",
       "    .dataframe tbody tr th {\n",
       "        vertical-align: top;\n",
       "    }\n",
       "\n",
       "    .dataframe thead th {\n",
       "        text-align: right;\n",
       "    }\n",
       "</style>\n",
       "<table border=\"1\" class=\"dataframe\">\n",
       "  <thead>\n",
       "    <tr style=\"text-align: right;\">\n",
       "      <th></th>\n",
       "      <th>time</th>\n",
       "      <th>x</th>\n",
       "      <th>y</th>\n",
       "      <th>z</th>\n",
       "      <th>elapsed_seconds</th>\n",
       "      <th>utc_time</th>\n",
       "    </tr>\n",
       "    <tr>\n",
       "      <th>utc_time</th>\n",
       "      <th></th>\n",
       "      <th></th>\n",
       "      <th></th>\n",
       "      <th></th>\n",
       "      <th></th>\n",
       "      <th></th>\n",
       "    </tr>\n",
       "  </thead>\n",
       "  <tbody>\n",
       "    <tr>\n",
       "      <th>2023-01-01 13:25:00.003</th>\n",
       "      <td>1672579500003000000</td>\n",
       "      <td>-0.879863</td>\n",
       "      <td>-8.577272</td>\n",
       "      <td>-0.284188</td>\n",
       "      <td>0</td>\n",
       "      <td>2023-01-01 13:25:00.003</td>\n",
       "    </tr>\n",
       "    <tr>\n",
       "      <th>2023-01-01 13:25:00.035</th>\n",
       "      <td>1672579500035000000</td>\n",
       "      <td>-0.607685</td>\n",
       "      <td>-10.669960</td>\n",
       "      <td>-0.848984</td>\n",
       "      <td>0</td>\n",
       "      <td>2023-01-01 13:25:00.035</td>\n",
       "    </tr>\n",
       "    <tr>\n",
       "      <th>2023-01-01 13:25:00.066</th>\n",
       "      <td>1672579500066000000</td>\n",
       "      <td>0.631767</td>\n",
       "      <td>-11.265374</td>\n",
       "      <td>-1.396511</td>\n",
       "      <td>0</td>\n",
       "      <td>2023-01-01 13:25:00.066</td>\n",
       "    </tr>\n",
       "    <tr>\n",
       "      <th>2023-01-01 13:25:00.097</th>\n",
       "      <td>1672579500097000000</td>\n",
       "      <td>2.201471</td>\n",
       "      <td>-8.854506</td>\n",
       "      <td>-1.410224</td>\n",
       "      <td>0</td>\n",
       "      <td>2023-01-01 13:25:00.097</td>\n",
       "    </tr>\n",
       "    <tr>\n",
       "      <th>2023-01-01 13:25:00.128</th>\n",
       "      <td>1672579500128000000</td>\n",
       "      <td>1.296971</td>\n",
       "      <td>-8.280754</td>\n",
       "      <td>-1.953661</td>\n",
       "      <td>0</td>\n",
       "      <td>2023-01-01 13:25:00.128</td>\n",
       "    </tr>\n",
       "    <tr>\n",
       "      <th>...</th>\n",
       "      <td>...</td>\n",
       "      <td>...</td>\n",
       "      <td>...</td>\n",
       "      <td>...</td>\n",
       "      <td>...</td>\n",
       "      <td>...</td>\n",
       "    </tr>\n",
       "    <tr>\n",
       "      <th>2023-01-01 13:25:09.847</th>\n",
       "      <td>1672579509847000000</td>\n",
       "      <td>-1.043382</td>\n",
       "      <td>-8.976858</td>\n",
       "      <td>-0.469637</td>\n",
       "      <td>9</td>\n",
       "      <td>2023-01-01 13:25:09.847</td>\n",
       "    </tr>\n",
       "    <tr>\n",
       "      <th>2023-01-01 13:25:09.878</th>\n",
       "      <td>1672579509878000000</td>\n",
       "      <td>-2.779970</td>\n",
       "      <td>-10.104054</td>\n",
       "      <td>0.195581</td>\n",
       "      <td>9</td>\n",
       "      <td>2023-01-01 13:25:09.878</td>\n",
       "    </tr>\n",
       "    <tr>\n",
       "      <th>2023-01-01 13:25:09.909</th>\n",
       "      <td>1672579509909000000</td>\n",
       "      <td>-2.967917</td>\n",
       "      <td>-11.292133</td>\n",
       "      <td>0.473775</td>\n",
       "      <td>9</td>\n",
       "      <td>2023-01-01 13:25:09.909</td>\n",
       "    </tr>\n",
       "    <tr>\n",
       "      <th>2023-01-01 13:25:09.941</th>\n",
       "      <td>1672579509941000000</td>\n",
       "      <td>-1.496533</td>\n",
       "      <td>-10.764992</td>\n",
       "      <td>-0.000977</td>\n",
       "      <td>9</td>\n",
       "      <td>2023-01-01 13:25:09.941</td>\n",
       "    </tr>\n",
       "    <tr>\n",
       "      <th>2023-01-01 13:25:09.972</th>\n",
       "      <td>1672579509972000000</td>\n",
       "      <td>-0.419878</td>\n",
       "      <td>-9.782612</td>\n",
       "      <td>-0.537370</td>\n",
       "      <td>10</td>\n",
       "      <td>2023-01-01 13:25:09.972</td>\n",
       "    </tr>\n",
       "  </tbody>\n",
       "</table>\n",
       "<p>320 rows × 6 columns</p>\n",
       "</div>"
      ],
      "text/plain": [
       "                                        time         x          y         z  \\\n",
       "utc_time                                                                      \n",
       "2023-01-01 13:25:00.003  1672579500003000000 -0.879863  -8.577272 -0.284188   \n",
       "2023-01-01 13:25:00.035  1672579500035000000 -0.607685 -10.669960 -0.848984   \n",
       "2023-01-01 13:25:00.066  1672579500066000000  0.631767 -11.265374 -1.396511   \n",
       "2023-01-01 13:25:00.097  1672579500097000000  2.201471  -8.854506 -1.410224   \n",
       "2023-01-01 13:25:00.128  1672579500128000000  1.296971  -8.280754 -1.953661   \n",
       "...                                      ...       ...        ...       ...   \n",
       "2023-01-01 13:25:09.847  1672579509847000000 -1.043382  -8.976858 -0.469637   \n",
       "2023-01-01 13:25:09.878  1672579509878000000 -2.779970 -10.104054  0.195581   \n",
       "2023-01-01 13:25:09.909  1672579509909000000 -2.967917 -11.292133  0.473775   \n",
       "2023-01-01 13:25:09.941  1672579509941000000 -1.496533 -10.764992 -0.000977   \n",
       "2023-01-01 13:25:09.972  1672579509972000000 -0.419878  -9.782612 -0.537370   \n",
       "\n",
       "                         elapsed_seconds                utc_time  \n",
       "utc_time                                                          \n",
       "2023-01-01 13:25:00.003                0 2023-01-01 13:25:00.003  \n",
       "2023-01-01 13:25:00.035                0 2023-01-01 13:25:00.035  \n",
       "2023-01-01 13:25:00.066                0 2023-01-01 13:25:00.066  \n",
       "2023-01-01 13:25:00.097                0 2023-01-01 13:25:00.097  \n",
       "2023-01-01 13:25:00.128                0 2023-01-01 13:25:00.128  \n",
       "...                                  ...                     ...  \n",
       "2023-01-01 13:25:09.847                9 2023-01-01 13:25:09.847  \n",
       "2023-01-01 13:25:09.878                9 2023-01-01 13:25:09.878  \n",
       "2023-01-01 13:25:09.909                9 2023-01-01 13:25:09.909  \n",
       "2023-01-01 13:25:09.941                9 2023-01-01 13:25:09.941  \n",
       "2023-01-01 13:25:09.972               10 2023-01-01 13:25:09.972  \n",
       "\n",
       "[320 rows x 6 columns]"
      ]
     },
     "execution_count": 234,
     "metadata": {},
     "output_type": "execute_result"
    }
   ],
   "source": [
    "# make a utc time index (optional)\n",
    "df['utc_time'] = pd.to_datetime(df['time'])\n",
    "df.index = df['utc_time']\n",
    "df"
   ]
  },
  {
   "cell_type": "code",
   "execution_count": 235,
   "metadata": {},
   "outputs": [
    {
     "data": {
      "text/plain": [
       "utc_time\n",
       "2023-01-01 13:25:00.003    1.202778\n",
       "2023-01-01 13:25:10.003    1.336351\n",
       "2023-01-01 13:25:20.003    2.315781\n",
       "2023-01-01 13:25:30.003    2.462448\n",
       "2023-01-01 13:25:40.003    2.446481\n",
       "                             ...   \n",
       "2023-01-01 13:48:20.003    0.008144\n",
       "2023-01-01 13:48:30.003    0.007717\n",
       "2023-01-01 13:48:40.003    0.008368\n",
       "2023-01-01 13:48:50.003    0.007519\n",
       "2023-01-01 13:49:00.003    0.007044\n",
       "Freq: 10S, Length: 145, dtype: float64"
      ]
     },
     "execution_count": 235,
     "metadata": {},
     "output_type": "execute_result"
    }
   ],
   "source": [
    "# make groups with frequency 10s\n",
    "ten_seconds_groups = df.groupby(pd.Grouper(origin='start', freq='10S'))\n",
    "\n",
    "# apply the activity index calculation to the windows\n",
    "activity_index_every_ten_seconds = ten_seconds_groups.apply(calc_activity_index)\n",
    "activity_index_every_ten_seconds"
   ]
  },
  {
   "cell_type": "markdown",
   "metadata": {},
   "source": [
    "The activity_index_every_ten_seconds returned every 10 seconds a value. This is actually an univariate time series, created from a multivariate one. We can visualize visualize this univaraite time series. <br>\n",
    "**Make a plot from the activity_index_every_ten_seconds dataframe. You can either use matplotlib code from part 1 or use pltoly code from above.**"
   ]
  },
  {
   "cell_type": "code",
   "execution_count": 237,
   "metadata": {},
   "outputs": [
    {
     "data": {
      "image/png": "[encoded data removed]",
      "text/plain": [
       "<Figure size 1500x500 with 1 Axes>"
      ]
     },
     "metadata": {},
     "output_type": "display_data"
    }
   ],
   "source": [
    "fig, axes = plt.subplots(1, figsize=(15, 5))\n",
    "\n",
    "axes.plot(activity_index_every_ten_seconds, label='Activity')\n",
    "axes.set_title(\"Multivariate Signal\")\n",
    "axes.legend()\n",
    "plt.show()"
   ]
  },
  {
   "cell_type": "markdown",
   "metadata": {},
   "source": [
    "Of course, python packages exists which can generate a large amount of features based on timeseries data.\n",
    "One such common used python package is tsfresh: https://tsfresh.readthedocs.io/en/latest/\n",
    "\n",
    "Take your time to read the quick example of this python package and try to understand the required dataframe representation.\n",
    "\n",
    "Similar to provided example in the documentation, we have a multivariate time series dataframe (X,Y,Z values). \n",
    "We also have a time column to sort our dataframe.\n",
    "What is currently missing, is an id column. \n",
    "\n",
    "We only have only one file, so we could try to create an id column with a constant value here."
   ]
  },
  {
   "cell_type": "code",
   "execution_count": 238,
   "metadata": {},
   "outputs": [],
   "source": [
    "df['id'] = 1"
   ]
  },
  {
   "cell_type": "markdown",
   "metadata": {},
   "source": [
    "Next, we can apply the tsfresh feature extraction tool to create a large amount of features.<br>\n",
    "*note: to speed up this process, we will only extract features on the first 1000 rows of our dataframe.*"
   ]
  },
  {
   "cell_type": "code",
   "execution_count": 240,
   "metadata": {},
   "outputs": [
    {
     "name": "stderr",
     "output_type": "stream",
     "text": [
      "Feature Extraction: 100%|██████████| 3/3 [00:05<00:00,  1.67s/it]\n"
     ]
    },
    {
     "data": {
      "text/html": [
       "<div>\n",
       "<style scoped>\n",
       "    .dataframe tbody tr th:only-of-type {\n",
       "        vertical-align: middle;\n",
       "    }\n",
       "\n",
       "    .dataframe tbody tr th {\n",
       "        vertical-align: top;\n",
       "    }\n",
       "\n",
       "    .dataframe thead th {\n",
       "        text-align: right;\n",
       "    }\n",
       "</style>\n",
       "<table border=\"1\" class=\"dataframe\">\n",
       "  <thead>\n",
       "    <tr style=\"text-align: right;\">\n",
       "      <th></th>\n",
       "      <th>y__variance_larger_than_standard_deviation</th>\n",
       "      <th>y__has_duplicate_max</th>\n",
       "      <th>y__has_duplicate_min</th>\n",
       "      <th>y__has_duplicate</th>\n",
       "      <th>y__sum_values</th>\n",
       "      <th>y__abs_energy</th>\n",
       "      <th>y__mean_abs_change</th>\n",
       "      <th>y__mean_change</th>\n",
       "      <th>y__mean_second_derivative_central</th>\n",
       "      <th>y__median</th>\n",
       "      <th>...</th>\n",
       "      <th>x__fourier_entropy__bins_5</th>\n",
       "      <th>x__fourier_entropy__bins_10</th>\n",
       "      <th>x__fourier_entropy__bins_100</th>\n",
       "      <th>x__permutation_entropy__dimension_3__tau_1</th>\n",
       "      <th>x__permutation_entropy__dimension_4__tau_1</th>\n",
       "      <th>x__permutation_entropy__dimension_5__tau_1</th>\n",
       "      <th>x__permutation_entropy__dimension_6__tau_1</th>\n",
       "      <th>x__permutation_entropy__dimension_7__tau_1</th>\n",
       "      <th>x__query_similarity_count__query_None__threshold_0.0</th>\n",
       "      <th>x__mean_n_absolute_max__number_of_maxima_7</th>\n",
       "    </tr>\n",
       "  </thead>\n",
       "  <tbody>\n",
       "    <tr>\n",
       "      <th>1</th>\n",
       "      <td>1.0</td>\n",
       "      <td>0.0</td>\n",
       "      <td>0.0</td>\n",
       "      <td>0.0</td>\n",
       "      <td>-9910.286977</td>\n",
       "      <td>101964.351598</td>\n",
       "      <td>0.944153</td>\n",
       "      <td>-0.003396</td>\n",
       "      <td>0.002006</td>\n",
       "      <td>-9.800408</td>\n",
       "      <td>...</td>\n",
       "      <td>0.811408</td>\n",
       "      <td>1.339614</td>\n",
       "      <td>3.038357</td>\n",
       "      <td>1.613933</td>\n",
       "      <td>2.679759</td>\n",
       "      <td>3.866918</td>\n",
       "      <td>5.046807</td>\n",
       "      <td>6.032104</td>\n",
       "      <td>NaN</td>\n",
       "      <td>5.367624</td>\n",
       "    </tr>\n",
       "  </tbody>\n",
       "</table>\n",
       "<p>1 rows × 2364 columns</p>\n",
       "</div>"
      ],
      "text/plain": [
       "   y__variance_larger_than_standard_deviation  y__has_duplicate_max  \\\n",
       "1                                         1.0                   0.0   \n",
       "\n",
       "   y__has_duplicate_min  y__has_duplicate  y__sum_values  y__abs_energy  \\\n",
       "1                   0.0               0.0   -9910.286977  101964.351598   \n",
       "\n",
       "   y__mean_abs_change  y__mean_change  y__mean_second_derivative_central  \\\n",
       "1            0.944153       -0.003396                           0.002006   \n",
       "\n",
       "   y__median  ...  x__fourier_entropy__bins_5  x__fourier_entropy__bins_10  \\\n",
       "1  -9.800408  ...                    0.811408                     1.339614   \n",
       "\n",
       "   x__fourier_entropy__bins_100  x__permutation_entropy__dimension_3__tau_1  \\\n",
       "1                      3.038357                                    1.613933   \n",
       "\n",
       "   x__permutation_entropy__dimension_4__tau_1  \\\n",
       "1                                    2.679759   \n",
       "\n",
       "   x__permutation_entropy__dimension_5__tau_1  \\\n",
       "1                                    3.866918   \n",
       "\n",
       "   x__permutation_entropy__dimension_6__tau_1  \\\n",
       "1                                    5.046807   \n",
       "\n",
       "   x__permutation_entropy__dimension_7__tau_1  \\\n",
       "1                                    6.032104   \n",
       "\n",
       "   x__query_similarity_count__query_None__threshold_0.0  \\\n",
       "1                                                NaN      \n",
       "\n",
       "   x__mean_n_absolute_max__number_of_maxima_7  \n",
       "1                                    5.367624  \n",
       "\n",
       "[1 rows x 2364 columns]"
      ]
     },
     "execution_count": 240,
     "metadata": {},
     "output_type": "execute_result"
    }
   ],
   "source": [
    "df = df.iloc[0:1000,:]\n",
    "\n",
    "#note: extract_features is a tsfresh function\n",
    "extracted_features = extract_features(df[['x','y','z','id','time']], column_id=\"id\", column_sort=\"time\")\n",
    "\n",
    "extracted_features"
   ]
  },
  {
   "cell_type": "markdown",
   "metadata": {},
   "source": [
    "**How many features are generated?**"
   ]
  },
  {
   "cell_type": "code",
   "execution_count": 246,
   "metadata": {},
   "outputs": [
    {
     "name": "stdout",
     "output_type": "stream",
     "text": [
      "tsfresh extracted 2364 features, with 788 feaures per sensor.\n"
     ]
    }
   ],
   "source": [
    "nr_of_features = extracted_features.shape[1] # number of features per sensor\n",
    "\n",
    "print(f\"tsfresh extracted {nr_of_features} features.\")"
   ]
  },
  {
   "cell_type": "markdown",
   "metadata": {},
   "source": [
    "You should be aware that we only have one row with a large amount of features. This means that we generated features for the whole timespan (1000 rows) of the dataframes. This is might not be very interesting. As illustrated before, generating features over a predifned window would be more interesting. **Therefore, one can manipulate the id column to represent the windows. Values belonging to the same window should have the same id.**\n",
    "\n",
    "**Calculate tsfresh features for each 10s window. Take a look at the ngroup() groupby function as this will help you to identify the 'id' column.**"
   ]
  },
  {
   "cell_type": "code",
   "execution_count": 247,
   "metadata": {},
   "outputs": [
    {
     "name": "stderr",
     "output_type": "stream",
     "text": [
      "Feature Extraction: 100%|██████████| 12/12 [00:04<00:00,  2.86it/s]\n"
     ]
    },
    {
     "data": {
      "text/html": [
       "<div>\n",
       "<style scoped>\n",
       "    .dataframe tbody tr th:only-of-type {\n",
       "        vertical-align: middle;\n",
       "    }\n",
       "\n",
       "    .dataframe tbody tr th {\n",
       "        vertical-align: top;\n",
       "    }\n",
       "\n",
       "    .dataframe thead th {\n",
       "        text-align: right;\n",
       "    }\n",
       "</style>\n",
       "<table border=\"1\" class=\"dataframe\">\n",
       "  <thead>\n",
       "    <tr style=\"text-align: right;\">\n",
       "      <th></th>\n",
       "      <th>z__variance_larger_than_standard_deviation</th>\n",
       "      <th>z__has_duplicate_max</th>\n",
       "      <th>z__has_duplicate_min</th>\n",
       "      <th>z__has_duplicate</th>\n",
       "      <th>z__sum_values</th>\n",
       "      <th>z__abs_energy</th>\n",
       "      <th>z__mean_abs_change</th>\n",
       "      <th>z__mean_change</th>\n",
       "      <th>z__mean_second_derivative_central</th>\n",
       "      <th>z__median</th>\n",
       "      <th>...</th>\n",
       "      <th>y__fourier_entropy__bins_5</th>\n",
       "      <th>y__fourier_entropy__bins_10</th>\n",
       "      <th>y__fourier_entropy__bins_100</th>\n",
       "      <th>y__permutation_entropy__dimension_3__tau_1</th>\n",
       "      <th>y__permutation_entropy__dimension_4__tau_1</th>\n",
       "      <th>y__permutation_entropy__dimension_5__tau_1</th>\n",
       "      <th>y__permutation_entropy__dimension_6__tau_1</th>\n",
       "      <th>y__permutation_entropy__dimension_7__tau_1</th>\n",
       "      <th>y__query_similarity_count__query_None__threshold_0.0</th>\n",
       "      <th>y__mean_n_absolute_max__number_of_maxima_7</th>\n",
       "    </tr>\n",
       "  </thead>\n",
       "  <tbody>\n",
       "    <tr>\n",
       "      <th>0</th>\n",
       "      <td>1.0</td>\n",
       "      <td>0.0</td>\n",
       "      <td>0.0</td>\n",
       "      <td>0.0</td>\n",
       "      <td>10.875182</td>\n",
       "      <td>778.571808</td>\n",
       "      <td>0.549772</td>\n",
       "      <td>-0.000794</td>\n",
       "      <td>0.000045</td>\n",
       "      <td>0.034257</td>\n",
       "      <td>...</td>\n",
       "      <td>0.670679</td>\n",
       "      <td>1.137382</td>\n",
       "      <td>2.907289</td>\n",
       "      <td>1.694542</td>\n",
       "      <td>2.869257</td>\n",
       "      <td>4.099134</td>\n",
       "      <td>5.115089</td>\n",
       "      <td>5.547444</td>\n",
       "      <td>NaN</td>\n",
       "      <td>12.820094</td>\n",
       "    </tr>\n",
       "    <tr>\n",
       "      <th>1</th>\n",
       "      <td>1.0</td>\n",
       "      <td>0.0</td>\n",
       "      <td>0.0</td>\n",
       "      <td>0.0</td>\n",
       "      <td>152.399317</td>\n",
       "      <td>756.292623</td>\n",
       "      <td>0.633962</td>\n",
       "      <td>0.004629</td>\n",
       "      <td>-0.002990</td>\n",
       "      <td>0.352261</td>\n",
       "      <td>...</td>\n",
       "      <td>0.826690</td>\n",
       "      <td>1.372378</td>\n",
       "      <td>2.957837</td>\n",
       "      <td>1.643021</td>\n",
       "      <td>2.753468</td>\n",
       "      <td>3.908331</td>\n",
       "      <td>4.915541</td>\n",
       "      <td>5.452921</td>\n",
       "      <td>NaN</td>\n",
       "      <td>14.543600</td>\n",
       "    </tr>\n",
       "    <tr>\n",
       "      <th>2</th>\n",
       "      <td>1.0</td>\n",
       "      <td>0.0</td>\n",
       "      <td>0.0</td>\n",
       "      <td>0.0</td>\n",
       "      <td>125.935608</td>\n",
       "      <td>1837.429602</td>\n",
       "      <td>1.225710</td>\n",
       "      <td>0.000452</td>\n",
       "      <td>0.002767</td>\n",
       "      <td>-0.184786</td>\n",
       "      <td>...</td>\n",
       "      <td>0.183378</td>\n",
       "      <td>0.262742</td>\n",
       "      <td>0.712805</td>\n",
       "      <td>1.492996</td>\n",
       "      <td>2.354835</td>\n",
       "      <td>3.260480</td>\n",
       "      <td>4.084563</td>\n",
       "      <td>4.724340</td>\n",
       "      <td>NaN</td>\n",
       "      <td>16.874409</td>\n",
       "    </tr>\n",
       "    <tr>\n",
       "      <th>3</th>\n",
       "      <td>1.0</td>\n",
       "      <td>0.0</td>\n",
       "      <td>0.0</td>\n",
       "      <td>0.0</td>\n",
       "      <td>18.980522</td>\n",
       "      <td>219.813607</td>\n",
       "      <td>1.261762</td>\n",
       "      <td>0.066069</td>\n",
       "      <td>-0.094386</td>\n",
       "      <td>0.010930</td>\n",
       "      <td>...</td>\n",
       "      <td>0.955081</td>\n",
       "      <td>1.258655</td>\n",
       "      <td>1.683997</td>\n",
       "      <td>1.556109</td>\n",
       "      <td>2.293868</td>\n",
       "      <td>2.814970</td>\n",
       "      <td>3.166995</td>\n",
       "      <td>3.347877</td>\n",
       "      <td>NaN</td>\n",
       "      <td>14.898019</td>\n",
       "    </tr>\n",
       "  </tbody>\n",
       "</table>\n",
       "<p>4 rows × 2364 columns</p>\n",
       "</div>"
      ],
      "text/plain": [
       "   z__variance_larger_than_standard_deviation  z__has_duplicate_max  \\\n",
       "0                                         1.0                   0.0   \n",
       "1                                         1.0                   0.0   \n",
       "2                                         1.0                   0.0   \n",
       "3                                         1.0                   0.0   \n",
       "\n",
       "   z__has_duplicate_min  z__has_duplicate  z__sum_values  z__abs_energy  \\\n",
       "0                   0.0               0.0      10.875182     778.571808   \n",
       "1                   0.0               0.0     152.399317     756.292623   \n",
       "2                   0.0               0.0     125.935608    1837.429602   \n",
       "3                   0.0               0.0      18.980522     219.813607   \n",
       "\n",
       "   z__mean_abs_change  z__mean_change  z__mean_second_derivative_central  \\\n",
       "0            0.549772       -0.000794                           0.000045   \n",
       "1            0.633962        0.004629                          -0.002990   \n",
       "2            1.225710        0.000452                           0.002767   \n",
       "3            1.261762        0.066069                          -0.094386   \n",
       "\n",
       "   z__median  ...  y__fourier_entropy__bins_5  y__fourier_entropy__bins_10  \\\n",
       "0   0.034257  ...                    0.670679                     1.137382   \n",
       "1   0.352261  ...                    0.826690                     1.372378   \n",
       "2  -0.184786  ...                    0.183378                     0.262742   \n",
       "3   0.010930  ...                    0.955081                     1.258655   \n",
       "\n",
       "   y__fourier_entropy__bins_100  y__permutation_entropy__dimension_3__tau_1  \\\n",
       "0                      2.907289                                    1.694542   \n",
       "1                      2.957837                                    1.643021   \n",
       "2                      0.712805                                    1.492996   \n",
       "3                      1.683997                                    1.556109   \n",
       "\n",
       "   y__permutation_entropy__dimension_4__tau_1  \\\n",
       "0                                    2.869257   \n",
       "1                                    2.753468   \n",
       "2                                    2.354835   \n",
       "3                                    2.293868   \n",
       "\n",
       "   y__permutation_entropy__dimension_5__tau_1  \\\n",
       "0                                    4.099134   \n",
       "1                                    3.908331   \n",
       "2                                    3.260480   \n",
       "3                                    2.814970   \n",
       "\n",
       "   y__permutation_entropy__dimension_6__tau_1  \\\n",
       "0                                    5.115089   \n",
       "1                                    4.915541   \n",
       "2                                    4.084563   \n",
       "3                                    3.166995   \n",
       "\n",
       "   y__permutation_entropy__dimension_7__tau_1  \\\n",
       "0                                    5.547444   \n",
       "1                                    5.452921   \n",
       "2                                    4.724340   \n",
       "3                                    3.347877   \n",
       "\n",
       "   y__query_similarity_count__query_None__threshold_0.0  \\\n",
       "0                                                NaN      \n",
       "1                                                NaN      \n",
       "2                                                NaN      \n",
       "3                                                NaN      \n",
       "\n",
       "   y__mean_n_absolute_max__number_of_maxima_7  \n",
       "0                                   12.820094  \n",
       "1                                   14.543600  \n",
       "2                                   16.874409  \n",
       "3                                   14.898019  \n",
       "\n",
       "[4 rows x 2364 columns]"
      ]
     },
     "execution_count": 247,
     "metadata": {},
     "output_type": "execute_result"
    }
   ],
   "source": [
    "# Create a new ID for each window of 10s, take a look at the ngroup function\n",
    "df['id'] = df.groupby(pd.Grouper(freq='10s')).ngroup()\n",
    "\n",
    "extracted_features = extract_features(df[['x','y','z','id','time']], column_id=\"id\", column_sort=\"time\")\n",
    "\n",
    "extracted_features"
   ]
  },
  {
   "cell_type": "markdown",
   "metadata": {},
   "source": [
    "**For how many windows did we generate features? (keep in mind that we only generated features for the first 1000 rows of the original signal)**"
   ]
  },
  {
   "cell_type": "code",
   "execution_count": null,
   "metadata": {},
   "outputs": [],
   "source": [
    "nr_of_windows = # YOUR CODE HERE\n",
    "\n",
    "print(\"tsfresh extracted features for {} windows.\".format(nr_of_windows))"
   ]
  },
  {
   "cell_type": "markdown",
   "metadata": {},
   "source": [
    "Not all features discriminate the different windows. Especially the features which share similar values in each windows are less of interest. **Remove the columns from the extracted_features dataframe where all the values in these columns are the same. How many interesting features to we keep?**"
   ]
  },
  {
   "cell_type": "code",
   "execution_count": null,
   "metadata": {},
   "outputs": [],
   "source": [
    "#count number of unique values in each column (you can use the nunique pandas function)\n",
    "nunique = # YOUR CODE HERE\n",
    "\n",
    "#select the columns for which the nunique values are equal to the amount of rows (all have the same value)\n",
    "# YOUR CODE HERE, CHANGE NONE\n",
    "cols_to_drop = nunique[nunique==None].index\n",
    "\n",
    "\n",
    "#drop these columns from our dataframe.\n",
    "extracted_features = # YOUR CODE HERE"
   ]
  },
  {
   "cell_type": "code",
   "execution_count": null,
   "metadata": {},
   "outputs": [],
   "source": [
    "nr_of_unique_values = # YOUR CODE HERE\n",
    "\n",
    "print(\"After removing the columns which have unique values in all the rows, we keep {} features\".format(nr_of_unique_values))"
   ]
  },
  {
   "cell_type": "markdown",
   "metadata": {},
   "source": [
    "# End of lab\n",
    "---\n",
    "\n",
    "In this lab, you had in introduction about time series analysis.<br>\n",
    "you analysed both univariate and multivariate signals, created features both manually and by using python packages and used plots to understand and visualize the obtained signals.\n",
    "\n",
    "Make sure you provided your name in the first cell of this practicum and **Zip** your lab assignment folder and name the archive: `Surname_Name.zip` <br> Keep the same folder structure as the provided lab assignment."
   ]
  }
 ],
 "metadata": {
  "colab": {
   "provenance": []
  },
  "kernelspec": {
   "display_name": "Python 3 (ipykernel)",
   "language": "python",
   "name": "python3"
  },
  "language_info": {
   "codemirror_mode": {
    "name": "ipython",
    "version": 3
   },
   "file_extension": ".py",
   "mimetype": "text/x-python",
   "name": "python",
   "nbconvert_exporter": "python",
   "pygments_lexer": "ipython3",
   "version": "3.10.10"
  }
 },
 "nbformat": 4,
 "nbformat_minor": 1
}
