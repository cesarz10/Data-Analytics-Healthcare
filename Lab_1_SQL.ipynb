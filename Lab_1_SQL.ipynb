{
 "cells": [
  {
   "cell_type": "markdown",
   "metadata": {},
   "source": [
    "### Submission guidelines"
   ]
  },
  {
   "cell_type": "markdown",
   "metadata": {},
   "source": [
    "1. Fill in your name in the notebook in the top cell.\n",
    "2. Fill in the gaps in the code where indicated. <br> Make sure that you:<br> - fill in any place that says \"YOUR CODE HERE\" or \"YOUR ANSWER HERE\" <br> - do **not leave any** `raise NotImplementedError()` in the code\n",
    "3. Do **NOT change the variable names**! However, you can add comments in the code.\n",
    "4. Do **NOT remove any of the cells** of the notebook!\n",
    "5. Discussion is allowed, but every student needs to hand a personal version of the lab. Plagiarism will be sanctioned!   \n",
    "6. Before submitting, restart your kernel & **make sure that every cell runs**.<br>Code that doesn't run will not be scored.<br>The notebooks with all source code, and optional extra files need to be handed in using Ufora.<br> Make sure all your notebooks are already executed when you upload them (i.e. there should be output after the cells). \n",
    "7. **Zip** your lab assignment folder and name the archive: `Surname_Name.zip` <br> Keep the same folder structure as the provided lab assignment!<br> - <span style='color: red'>Do not rename any of the notebooks or files</span>!<br>\n",
    "\n"
   ]
  },
  {
   "cell_type": "code",
   "execution_count": null,
   "metadata": {},
   "outputs": [],
   "source": [
    "NAME = \"Cesar_Zapata\""
   ]
  },
  {
   "cell_type": "markdown",
   "metadata": {},
   "source": [
    "\n",
    "Final tip: make sure you have answered every question and filled in all the required code by running through the notebook and searching for *YOUR ANSWER HERE* and *YOUR CODE HERE*!\n",
    "\n",
    "Good luck!"
   ]
  },
  {
   "cell_type": "markdown",
   "metadata": {},
   "source": [
    "---"
   ]
  },
  {
   "cell_type": "markdown",
   "metadata": {
    "deletable": false,
    "editable": false,
    "nbgrader": {
     "cell_type": "markdown",
     "checksum": "f407ec5663c7a1fa63995c03115c1154",
     "grade": false,
     "grade_id": "cell-cd377ca39649a9fc",
     "locked": true,
     "schema_version": 3,
     "solution": false,
     "task": false
    }
   },
   "source": [
    "# Lab: SQL\n"
   ]
  },
  {
   "cell_type": "markdown",
   "metadata": {
    "deletable": false,
    "editable": false,
    "nbgrader": {
     "cell_type": "markdown",
     "checksum": "8ddc12063e21c068c61b89cc80f0f211",
     "grade": false,
     "grade_id": "cell-fa71f3b9880236e7",
     "locked": true,
     "schema_version": 3,
     "solution": false,
     "task": false
    }
   },
   "source": [
    "## Why SQL?\n",
    "\n",
    "In small scale data exploration and analysis we use data from [flatfiles](https://www.wikiwand.com/en/Flat-file_database) (e.g., a few CSV files). This means you have loaded all data from the flatfiles into your computer's memory. This approach is OK in small scale settings where all data fits in your computer's memory.\n",
    "\n",
    "For many purposes, loading *all* data from flatfiles into memory is not ideal, certainly not when the same queries are executed repeatedly. For example, every time you visit your Facebook homepage, *many* queries are executed against the huge amount of data Facebook has - you don't want to impose that first all data must be loaded into memory in such cases. You want your query to be executed fast, only on the data that matters to the query, and preferably you want that the results of popular queries are cached (remembered for faster retrieval). Data is therefore often stored in relational databases, and many applications execute queries on that data, using a querying language such as Structured Query Language (SQL).\n",
    "\n",
    "To understand the basics of how relational databases structure the data differently than in flatfiles and why that allows for efficient querying, refer to this basic hypothetical flatfile example:\n",
    "\n",
    "```\n",
    "\"Name\",  \"Age\", \"Height\",  \"Time\", \"Heart rate\"\n",
    "\"Penny\",  30,      182,     \"8:00\",     65\n",
    "\"Penny\",  30,      182,     \"9:00\",     71\n",
    "\"Penny\",  30,      182,    \"10:00\",     72\n",
    "\"Penny\",  30,      182,    \"11:00\",     68\n",
    "```\n",
    "\n",
    "Observe that many redundant data is stored in the flatfile example above, i.e., the age and height for the same person.\n",
    "A relational database will split the data over multiple concepts (so splitting the data over multiple tables) and model the relations between it.\n",
    "The above data could have been modeled in a relational database with a `patients` table:\n",
    "\n",
    "```\n",
    "\"Patient ID\", \"Name\", \"Age\", \"Height\"\n",
    "\"1\",          \"Penny\",  30,    182\n",
    "```\n",
    "\n",
    "and a `measurements` table, linked to the patients with the `Patient ID` column:\n",
    "\n",
    "```\n",
    "\"Patient ID\", \"Time\", \"Heart rate\"\n",
    "\"1\",          \"8:00\",          65\n",
    "\"1\",          \"9:00\",          71\n",
    "\"1\",         \"10:00\",          72\n",
    "\"1\",         \"11:00\",          68\n",
    "```\n",
    "\n",
    "Because of this structuring, relational databases allow to:\n",
    "- **store data efficiently**: in the above example, the patient information is not repeated anymore for every measurement, as opposed to how it was done in the flatfile.\n",
    "- **query data efficiently**: the querying engine must only load the data required for the query, e.g. only the records from the measurements table about the patient with ID 1. \n",
    "- **prevent data corruption**: correcting the age of Penny above only requires modifying one row in the patient table, whereas mistakes can easily happen in the flatfile, where all rows about Penny must be modified.\n",
    "- **lock records in tables during a transaction** and commit modifications to the records if the transaction completed successfully or do a rollback in case the transaction must be cancelled for some reason.\n",
    "\n",
    "\n",
    "## This lab\n",
    "\n",
    "In this lab, you will practice writing SQL queries, in order to extract data from the MIMIC-III (v1.4) database. The extracted data will be used in a later lab, in which you will apply machine learning techniques.\n",
    "\n",
    "This lab should take you maximum 5 hours to complete. If you detect that something is taking you many hours, endangering you to complete your lab in 5 hours, contact us.  \n",
    "After submitting this notebook, automated tests will evaluate your queries.\n",
    "\n",
    "### <a style='color:red'> Query limits</a>\n",
    "\n",
    "This year we setup the database on a server (accessible through a connection string). To limit the (parallel) web traffic between our server and all your computers, we require that almost all queries are executed with a certain *limit*, e.g, `SOME QUERY ... LIMIT 5;` -> the *LIMIT 5* ensures that only the first 5 rows are returned.\n",
    "\n",
    "In this notebook we added the required limits to each query. **Do NOT alter these limits as our automated tests will check them!**"
   ]
  },
  {
   "cell_type": "markdown",
   "metadata": {
    "deletable": false,
    "editable": false,
    "nbgrader": {
     "cell_type": "markdown",
     "checksum": "63754bf036252be653738f4cf88e5eca",
     "grade": false,
     "grade_id": "cell-b70cdf331bbd1ec3",
     "locked": true,
     "schema_version": 3,
     "solution": false,
     "task": false
    }
   },
   "source": [
    "### The MIMIC-III database\n",
    "\n",
    "We set up the MIMIC-III database for you on a PostgreSQL server.\n",
    "In order to set up the database we executed the required SQL instructions from [this repository](https://github.com/MIT-LCP/mimic-code).\n",
    "\n",
    "After executing the SQL instructions [in this file](https://github.com/MIT-LCP/mimic-code/blob/master/buildmimic/postgres/postgres_create_tables_pg10.sql) all tables, their columns, and interrelations required to hold the MIMIC data were initialized.\n",
    "\n",
    "#### First question: category of the above SQL queries\n",
    "\n",
    "**Question**: Remember the theory class about SQL, or re-open the slides. Considering what the SQL instructions achieved above, what category of SQL queries do they belong to: DML or DDL? Motivate, in short, why."
   ]
  },
  {
   "cell_type": "markdown",
   "metadata": {
    "deletable": false,
    "nbgrader": {
     "cell_type": "markdown",
     "checksum": "fe409a4623a094fd48f77ed7df1ee01b",
     "grade": true,
     "grade_id": "cell-895a37c523b317e3",
     "locked": false,
     "points": 2,
     "schema_version": 3,
     "solution": true,
     "task": false
    }
   },
   "source": [
    "**Answer**:\n",
    ">\n",
    "\n",
    "YOUR ANSWER HERE"
   ]
  },
  {
   "cell_type": "markdown",
   "metadata": {
    "deletable": false,
    "editable": false,
    "nbgrader": {
     "cell_type": "markdown",
     "checksum": "23743f0f700a5426e17947d2bdb8bdbb",
     "grade": false,
     "grade_id": "cell-3e8db38a185d5fd8",
     "locked": true,
     "schema_version": 3,
     "solution": false,
     "task": false
    }
   },
   "source": [
    "# Introduction to database schema of MIMIC-III\n",
    "\n",
    "For most applications, databases rapidly grow in number of tables and interrelationships. So, often a **Entity Relationship Diagram (ERD)** is made to quickly overview the database structure.\n",
    "\n",
    "You can find an interactive ERD for MIMIC-III (`mimiciii`) at https://mit-lcp.github.io/mimic-schema-spy/relationships.html.\n",
    "\n",
    "For the remainder of the lab, we will however focus on these 4 tables of the `mimiciii` database:\n",
    "\n",
    "- patients\n",
    "- icustays: admissions of patients to the intensive care unit (ICU).\n",
    "- admissions: Hospital admissions associated with an ICU stay.\n",
    "- services: Hospital services that patients were under during their hospital stay.\n",
    "\n",
    "**Tip**: use this to check out the table's properties mentioned above https://mit-lcp.github.io/mimic-schema-spy/index.html\n",
    "\n",
    "**Tip**: Given the limited number of tables we work with, the above ERD link will not be very helpful to you, *however* that website also provides you with **descriptions of what less intuitive column names mean**, such as `dod_ssn`: see https://mit-lcp.github.io/mimic-schema-spy/tables/patients.html. You'll need this further on in this lab for building queries.\n",
    "\n",
    "Another option is checking the comments on tables and columns. The web page https://mit-lcp.github.io/mimic-schema-spy/tables/patients.html was actually constructed by reading these table and column properties."
   ]
  },
  {
   "cell_type": "markdown",
   "metadata": {
    "deletable": false,
    "editable": false,
    "nbgrader": {
     "cell_type": "markdown",
     "checksum": "6194338a1f08c7ae19b7d6987919beef",
     "grade": false,
     "grade_id": "cell-e3dc44994f026489",
     "locked": true,
     "schema_version": 3,
     "solution": false,
     "task": false
    }
   },
   "source": [
    "# Executing SQL queries against the database\n",
    "\n",
    "There are several ways to execute SQL queries:\n",
    "\n",
    "- Using a **graphical interface** (`pgAdmin` for PostgreSQL)\n",
    "- From the **command line, using the SQL Shell** (`psql` for PostgreSQL), this is particularly practical\n",
    "  * for quickly trying out test queries in environments in which the graphical interface is unavailable, \n",
    "  * or when you want to create scripts that must execute a set of queries, such that these queries can be triggered without having to open the graphical interface.\n",
    "- From **application code, using a library** (e.g. `sqlalchemy` or `psycopg2` for PostgreSQL)  \n",
    "\n",
    "For this lab, we are going to query the MIMIC-III database from some code in this notebook, using the `sqlalchemy` library (uses `psycopg2` under the hood). As we host the database on a server, you will first need to connect to the database over the internet before you can start querying.\n",
    "\n",
    "**Note**:\n",
    "> if you work on linux make sure to install this package first `libpq-dev`, this is only relevant when you got an install error on the `psycopg2` package!"
   ]
  },
  {
   "cell_type": "code",
   "execution_count": null,
   "metadata": {},
   "outputs": [],
   "source": [
    "# Install the requirements\n",
    "!pip install psycopg2-binary pandas 'sqlalchemy<2.0'"
   ]
  },
  {
   "cell_type": "code",
   "execution_count": null,
   "metadata": {},
   "outputs": [],
   "source": [
    "import sqlalchemy\n",
    "import pandas as pd"
   ]
  },
  {
   "cell_type": "code",
   "execution_count": null,
   "metadata": {
    "deletable": false,
    "editable": false,
    "nbgrader": {
     "cell_type": "code",
     "checksum": "832a1d9c2f0fcd3541636afd92cf6ee5",
     "grade": true,
     "grade_id": "cell-1788cb04aa5cc13c",
     "locked": true,
     "points": 0,
     "schema_version": 3,
     "solution": false,
     "task": false
    }
   },
   "outputs": [],
   "source": [
    "# Create the connection to the database \n",
    "user = \"student\"\n",
    "password = \"dahcc\"\n",
    "host = \"<ASK TA's>\"\n",
    "port = 5432\n",
    "\n",
    "\n",
    "conn = sqlalchemy.create_engine(\n",
    "    f\"postgresql://{user}:{password}@{host}:{port}/mimic\",\n",
    "    connect_args={\"options\": '-c statement_timeout=15s'}\n",
    ")"
   ]
  },
  {
   "cell_type": "code",
   "execution_count": null,
   "metadata": {},
   "outputs": [],
   "source": [
    "# Note how `mimiciii` represents the database name\n",
    "# and `icustays` represents a table\n",
    "query = \"\"\"\n",
    "SELECT *\n",
    "FROM mimiciii.icustays as stays\n",
    "JOIN mimiciii.patients p ON stays.subject_id = p.subject_id\n",
    "LIMIT 5;\n",
    "\"\"\"\n",
    "pd.read_sql_query(query, conn)"
   ]
  },
  {
   "cell_type": "markdown",
   "metadata": {
    "deletable": false,
    "editable": false,
    "nbgrader": {
     "cell_type": "markdown",
     "checksum": "0397aa7a5556ab308c63771dab1518c4",
     "grade": false,
     "grade_id": "cell-1f0a37d207c8e9af",
     "locked": true,
     "schema_version": 3,
     "solution": false,
     "task": false
    }
   },
   "source": [
    "The above code returns a connection, ready for you to use for sending queries to the database engine.\n",
    "\n",
    "It's up to you from now on.\n",
    "\n",
    "Use the following resources for help to complete your lab:\n",
    "- about constructing SQL queries:    the theory slides\n",
    "- about MIMIC's less interpretable column names:    https://mit-lcp.github.io/mimic-schema-spy/tables/patients.html\n",
    "- about what is possible with SQL specifically on PostgreSQL database servers:    the PostgreSQL documentation (https://www.postgresql.org/docs/12/)\n",
    "- about the querying library you are using:    the psycopg2 documentation (https://www.psycopg.org/docs/)\n",
    "\n",
    "You'll probably only need the first two resources.\n",
    "\n",
    "Let's test our first query.\n"
   ]
  },
  {
   "cell_type": "code",
   "execution_count": null,
   "metadata": {
    "pycharm": {
     "name": "#%%\n"
    }
   },
   "outputs": [],
   "source": [
    "# This shoud return a  count of 46520\n",
    "query = \"\"\"\n",
    "SELECT COUNT(*)\n",
    "FROM mimiciii.patients;\n",
    "\"\"\"\n",
    "pd.read_sql_query(query, conn)"
   ]
  },
  {
   "cell_type": "code",
   "execution_count": null,
   "metadata": {
    "pycharm": {
     "name": "#%%\n"
    }
   },
   "outputs": [],
   "source": [
    "# This shoud return the first 5 rows of the patients table\n",
    "query = \"\"\"\n",
    "SELECT *\n",
    "FROM mimiciii.patients\n",
    "LIMIT 5;\n",
    "\"\"\"\n",
    "pd.read_sql_query(query, conn)"
   ]
  },
  {
   "cell_type": "markdown",
   "metadata": {
    "deletable": false,
    "editable": false,
    "nbgrader": {
     "cell_type": "markdown",
     "checksum": "cd7ba5562d38a285cdd8281a3f9a0275",
     "grade": false,
     "grade_id": "cell-a04cdeeb0b1125a4",
     "locked": true,
     "schema_version": 3,
     "solution": false,
     "task": false
    },
    "pycharm": {
     "name": "#%% md\n"
    }
   },
   "source": [
    "## Investigating ICU stays recorded in the MIMIC-III database\n",
    "\n",
    "The goal of this lab is to show you how you would extract data from a database for machine learning purposes.\n",
    "\n",
    "The goal of a machine learning project could be to investigate the mortality of people that stayed at the Intensive Care Unit (ICU).\n",
    "\n",
    "The `icustays` table will thus be the main point of interest from which we will extract data.\n",
    "\n",
    "> First, can you fill the query below such that the cell will print the **amount of stays at the ICU** that are recorded in this dataset?\n",
    "\n",
    "> Hint: do not just print all patients to avoid unnecessarily burdening your database: **this query requires an aggregate row function**."
   ]
  },
  {
   "cell_type": "code",
   "execution_count": null,
   "metadata": {
    "deletable": false,
    "nbgrader": {
     "cell_type": "code",
     "checksum": "d4ab5a2b2378ff4431fb2a4321aaaa56",
     "grade": false,
     "grade_id": "cell-f870640e3160ab9a",
     "locked": false,
     "schema_version": 3,
     "solution": true,
     "task": false
    }
   },
   "outputs": [],
   "source": [
    "query = \"\"\"\n",
    "#+++ your answer here +++\n",
    "\"\"\"\n",
    "# YOUR CODE HERE\n",
    "raise NotImplementedError()\n",
    "\n",
    "df_result = pd.read_sql_query(query, conn)\n",
    "df_result"
   ]
  },
  {
   "cell_type": "code",
   "execution_count": null,
   "metadata": {
    "deletable": false,
    "editable": false,
    "nbgrader": {
     "cell_type": "code",
     "checksum": "99e0a00d0fca51cf5598412d0f3ed7a1",
     "grade": true,
     "grade_id": "cell-5c5343d25ce3e256",
     "locked": true,
     "points": 0.5,
     "schema_version": 3,
     "solution": false,
     "task": false
    }
   },
   "outputs": [],
   "source": [
    "############################# READ ONLY #############################"
   ]
  },
  {
   "cell_type": "markdown",
   "metadata": {
    "deletable": false,
    "editable": false,
    "nbgrader": {
     "cell_type": "markdown",
     "checksum": "4583468fdedbe7fee47babebb15e5d8f",
     "grade": false,
     "grade_id": "cell-24314a22c7041d8d",
     "locked": true,
     "schema_version": 3,
     "solution": false,
     "task": false
    }
   },
   "source": [
    "> It may be interesting to first get an idea of **what the `icustays` records look like**. Query only 5 rows from this table."
   ]
  },
  {
   "cell_type": "code",
   "execution_count": null,
   "metadata": {
    "deletable": false,
    "nbgrader": {
     "cell_type": "code",
     "checksum": "77cd8ad5d023f763095087c6b82e44ae",
     "grade": false,
     "grade_id": "cell-8dba24c5564991ad",
     "locked": false,
     "schema_version": 3,
     "solution": true,
     "task": false
    }
   },
   "outputs": [],
   "source": [
    "query = \"\"\"\n",
    "#+++ your answer here +++\n",
    "LIMIT 5;\n",
    "\"\"\"\n",
    "# YOUR CODE HERE\n",
    "raise NotImplementedError()\n",
    "\n",
    "df_result = pd.read_sql_query(query, conn)\n",
    "df_result"
   ]
  },
  {
   "cell_type": "code",
   "execution_count": null,
   "metadata": {
    "deletable": false,
    "editable": false,
    "nbgrader": {
     "cell_type": "code",
     "checksum": "cb42395422b36ed73c464901acbdf3df",
     "grade": true,
     "grade_id": "cell-ffd6e3fe04785503",
     "locked": true,
     "points": 0.5,
     "schema_version": 3,
     "solution": false,
     "task": false
    }
   },
   "outputs": [],
   "source": [
    "############################# READ ONLY #############################"
   ]
  },
  {
   "cell_type": "markdown",
   "metadata": {
    "deletable": false,
    "editable": false,
    "nbgrader": {
     "cell_type": "markdown",
     "checksum": "5d7c881d9f06eb90a66b44adc2238c75",
     "grade": false,
     "grade_id": "cell-215cc9f7fce8dac4",
     "locked": true,
     "schema_version": 3,
     "solution": false,
     "task": false
    }
   },
   "source": [
    "> **Curious to see what the record length of a patient's visit to the ICU is?** List all stays at the ICU, in descending length of stay. Limit the result set to only 10 items. Give the resulting column name the more intuitive name 'length_of_stay'.\n",
    "\n",
    "Hints:\n",
    "\n",
    "1. Not all column names are intuitive. Use https://mit-lcp.github.io/mimic-schema-spy/tables/icustays.html.\n",
    "2. Notice something weird? A special value may pop up in the result, stating that the length of stay is not known. Note that it is printed with a different name here due to conversion to python datatypes, you need to know however what the equivalent name for that is in database terms to complete your query. Add a filter that will remove these values (database naming) for now, such that you get a proper answer to your question of what the record stay is."
   ]
  },
  {
   "cell_type": "code",
   "execution_count": null,
   "metadata": {
    "deletable": false,
    "nbgrader": {
     "cell_type": "code",
     "checksum": "25e68d7e65d4e27a4a57dd53144ed9e2",
     "grade": false,
     "grade_id": "cell-a49f3d4e9b48bc97",
     "locked": false,
     "schema_version": 3,
     "solution": true,
     "task": false
    }
   },
   "outputs": [],
   "source": [
    "query = \"\"\"\n",
    "#+++ your answer here +++\n",
    "LIMIT 10;\n",
    "\"\"\"\n",
    "# YOUR CODE HERE\n",
    "raise NotImplementedError()\n",
    "\n",
    "df_result = pd.read_sql_query(query, conn)\n",
    "df_result"
   ]
  },
  {
   "cell_type": "code",
   "execution_count": null,
   "metadata": {
    "deletable": false,
    "editable": false,
    "nbgrader": {
     "cell_type": "code",
     "checksum": "1db9af36674a8b270b1d4ca25a5ddfcd",
     "grade": true,
     "grade_id": "cell-4aacd67a75c39ada",
     "locked": true,
     "points": 1,
     "schema_version": 3,
     "solution": false,
     "task": false
    }
   },
   "outputs": [],
   "source": [
    "############################# READ ONLY #############################"
   ]
  },
  {
   "cell_type": "markdown",
   "metadata": {
    "deletable": false,
    "editable": false,
    "nbgrader": {
     "cell_type": "markdown",
     "checksum": "95625b4bf4ad1c6c95bd079b12f283f1",
     "grade": false,
     "grade_id": "cell-6bf81a27bd044085",
     "locked": true,
     "schema_version": 3,
     "solution": false,
     "task": false
    }
   },
   "source": [
    "### Collecting basic features about the patients that stayed in the ICU\n",
    "\n",
    "> All patient information is available in the patients table, while we have worked on the icustays table. Query only 5 records from the patients table to get an idea of what they look like."
   ]
  },
  {
   "cell_type": "code",
   "execution_count": null,
   "metadata": {
    "deletable": false,
    "nbgrader": {
     "cell_type": "code",
     "checksum": "a658fbacf0dc8fdb92434ffa384dc4f8",
     "grade": false,
     "grade_id": "cell-ea44b068d2784989",
     "locked": false,
     "schema_version": 3,
     "solution": true,
     "task": false
    }
   },
   "outputs": [],
   "source": [
    "query = \"\"\"\n",
    "#+++ your answer here +++\n",
    "LIMIT 5;\n",
    "\"\"\"\n",
    "# YOUR CODE HERE\n",
    "raise NotImplementedError()\n",
    "df_result = pd.read_sql_query(query, conn)\n",
    "df_result"
   ]
  },
  {
   "cell_type": "code",
   "execution_count": null,
   "metadata": {
    "deletable": false,
    "editable": false,
    "nbgrader": {
     "cell_type": "code",
     "checksum": "3cef8d52ccaf2af840fc784bddfce2e3",
     "grade": true,
     "grade_id": "cell-426b5add0bb7eb38",
     "locked": true,
     "points": 0.5,
     "schema_version": 3,
     "solution": false,
     "task": false
    }
   },
   "outputs": [],
   "source": [
    "############################# READ ONLY #############################"
   ]
  },
  {
   "cell_type": "markdown",
   "metadata": {
    "deletable": false,
    "editable": false,
    "nbgrader": {
     "cell_type": "markdown",
     "checksum": "7c7ca52fce69d666f6cdf29881d4d933",
     "grade": false,
     "grade_id": "cell-cd10690e47c05383",
     "locked": true,
     "schema_version": 3,
     "solution": false,
     "task": false
    }
   },
   "source": [
    "> The features we are going to collect are, however, about the **ICU stays**. Query 5 rows about ICU stays below and add the patient info in the rows.\n",
    "\n",
    "Hints: \n",
    "\n",
    "1. Think about how multiple tables can be combined, refer back to the theory slides if necessary. \n",
    "2. Check the printed rows above or the table overview website to see which column links both tables."
   ]
  },
  {
   "cell_type": "code",
   "execution_count": null,
   "metadata": {
    "deletable": false,
    "nbgrader": {
     "cell_type": "code",
     "checksum": "80ddbd8da965229a79bc686dc8197fd7",
     "grade": false,
     "grade_id": "cell-f745574ac700246c",
     "locked": false,
     "schema_version": 3,
     "solution": true,
     "task": false
    }
   },
   "outputs": [],
   "source": [
    "query = \"\"\"\n",
    "#+++ your answer here +++\n",
    "LIMIT 5;\n",
    "\"\"\"\n",
    "# YOUR CODE HERE\n",
    "raise NotImplementedError()\n",
    "\n",
    "df_result = pd.read_sql_query(query, conn)\n",
    "df_result"
   ]
  },
  {
   "cell_type": "code",
   "execution_count": null,
   "metadata": {
    "deletable": false,
    "editable": false,
    "nbgrader": {
     "cell_type": "code",
     "checksum": "b1f9156035eea23f77ed70854b6ae912",
     "grade": true,
     "grade_id": "cell-1ce79c050e0ba20b",
     "locked": true,
     "points": 1,
     "schema_version": 3,
     "solution": false,
     "task": false
    }
   },
   "outputs": [],
   "source": [
    "############################# READ ONLY #############################"
   ]
  },
  {
   "cell_type": "markdown",
   "metadata": {
    "deletable": false,
    "editable": false,
    "nbgrader": {
     "cell_type": "markdown",
     "checksum": "4205d112e71cc83bb102b68293630d98",
     "grade": false,
     "grade_id": "cell-4205f19c498d625b",
     "locked": true,
     "schema_version": 3,
     "solution": false,
     "task": false
    }
   },
   "source": [
    "**Question**: Look back to the column you used for linking both tables. Tell us below:\n",
    "\n",
    "- What sort of key is used for this in the icustays table,\n",
    "- What sort of key is used for this in the patients table."
   ]
  },
  {
   "cell_type": "markdown",
   "metadata": {
    "deletable": false,
    "nbgrader": {
     "cell_type": "markdown",
     "checksum": "37939c8e361d912f60aed9bfdff024ba",
     "grade": true,
     "grade_id": "cell-850811efd707ee99",
     "locked": false,
     "points": 1,
     "schema_version": 3,
     "solution": true,
     "task": false
    }
   },
   "source": [
    "**Answer**:\n",
    ">\n",
    "\n",
    "YOUR ANSWER HERE"
   ]
  },
  {
   "cell_type": "markdown",
   "metadata": {
    "deletable": false,
    "editable": false,
    "nbgrader": {
     "cell_type": "markdown",
     "checksum": "3e7ffd77f500ff91416e2fcb50e0c5ba",
     "grade": false,
     "grade_id": "cell-ddd39d956ad16905",
     "locked": true,
     "schema_version": 3,
     "solution": false,
     "task": false
    }
   },
   "source": [
    "> Many people end up in the hospital many times in their lives. Can you group the ICU stays by patient and count the number of rows? The result then is, of course, the number of ICU stays per patient. Give the count the alias 'number_of_stays', sort it in descending order and limit to 20 counts.  \n",
    "> The output should contain 2 columns; `subject_id` and `number_of_stays`."
   ]
  },
  {
   "cell_type": "code",
   "execution_count": null,
   "metadata": {
    "deletable": false,
    "nbgrader": {
     "cell_type": "code",
     "checksum": "b8f204369e09d87ff0c3b09151e5f7c8",
     "grade": false,
     "grade_id": "cell-a741120588a412f7",
     "locked": false,
     "schema_version": 3,
     "solution": true,
     "task": false
    }
   },
   "outputs": [],
   "source": [
    "query = \"\"\"\n",
    "#+++ your answer here +++\n",
    "LIMIT 20;\n",
    "\"\"\"\n",
    "# YOUR CODE HERE\n",
    "raise NotImplementedError()\n",
    "\n",
    "df_result = pd.read_sql_query(query, conn)\n",
    "df_result"
   ]
  },
  {
   "cell_type": "code",
   "execution_count": null,
   "metadata": {
    "deletable": false,
    "editable": false,
    "nbgrader": {
     "cell_type": "code",
     "checksum": "2058f3358fe4af9bdbcc3f8cafdac1d3",
     "grade": true,
     "grade_id": "cell-e73cf551c895cad6",
     "locked": true,
     "points": 2,
     "schema_version": 3,
     "solution": false,
     "task": false
    }
   },
   "outputs": [],
   "source": [
    "############################# READ ONLY #############################"
   ]
  },
  {
   "cell_type": "markdown",
   "metadata": {
    "deletable": false,
    "editable": false,
    "nbgrader": {
     "cell_type": "markdown",
     "checksum": "b9a9b01f521e789893e2002174a0e04c",
     "grade": false,
     "grade_id": "cell-93d7626a0482af71",
     "locked": true,
     "schema_version": 3,
     "solution": false,
     "task": false
    }
   },
   "source": [
    "> Some queries get complicated. You can often check your results in another way. Count, for your champion of ICU stays above, the number of stays in the icustays table. Does it match with the number of stays you have listed above? If not, revise your above query and verify your result again with the query below."
   ]
  },
  {
   "cell_type": "code",
   "execution_count": null,
   "metadata": {
    "deletable": false,
    "nbgrader": {
     "cell_type": "code",
     "checksum": "3290b702e2e8fabfc8f9cb269fc8b48f",
     "grade": false,
     "grade_id": "cell-fecfb4283e49e419",
     "locked": false,
     "schema_version": 3,
     "solution": true,
     "task": false
    }
   },
   "outputs": [],
   "source": [
    "query = \"\"\"\n",
    "#+++ your answer here +++\n",
    "\"\"\"\n",
    "# YOUR CODE HERE\n",
    "raise NotImplementedError()\n",
    "\n",
    "df_result = pd.read_sql_query(query, conn)\n",
    "df_result"
   ]
  },
  {
   "cell_type": "code",
   "execution_count": null,
   "metadata": {
    "deletable": false,
    "editable": false,
    "nbgrader": {
     "cell_type": "code",
     "checksum": "11f59c729e7b2a1035fefbf0a0c0c1a8",
     "grade": true,
     "grade_id": "cell-e0d32f59df4b0315",
     "locked": true,
     "points": 1,
     "schema_version": 3,
     "solution": false,
     "task": false
    }
   },
   "outputs": [],
   "source": [
    "############################# READ ONLY #############################"
   ]
  },
  {
   "cell_type": "markdown",
   "metadata": {
    "deletable": false,
    "editable": false,
    "nbgrader": {
     "cell_type": "markdown",
     "checksum": "319e889890729d666605d3ba392f690d",
     "grade": false,
     "grade_id": "cell-8ebce708f4ffd7d4",
     "locked": true,
     "schema_version": 3,
     "solution": false,
     "task": false
    }
   },
   "source": [
    "> The goal of the machine learning lab will be to predict mortality. Let's first just look at what the mortality rate actually is in the ICU. Find out how many people have a decease date between the intime and outtime (inclusive) of their icustay. Remember you can use https://mit-lcp.github.io/mimic-schema-spy/tables/patients.html, for example to find out which column holds a person's decease date. Use the \"general\" decease date column, not the one recorded by the hospital or from the social security records, as the \"general\" decease date column is filled in the most."
   ]
  },
  {
   "cell_type": "code",
   "execution_count": null,
   "metadata": {
    "deletable": false,
    "nbgrader": {
     "cell_type": "code",
     "checksum": "cd50f60f9e91a2ca934298716e4a2d31",
     "grade": false,
     "grade_id": "cell-cd850596d3120a17",
     "locked": false,
     "schema_version": 3,
     "solution": true,
     "task": false
    }
   },
   "outputs": [],
   "source": [
    "query = \"\"\"\n",
    "#+++ your answer here +++\n",
    "\"\"\"\n",
    "# YOUR CODE HERE\n",
    "raise NotImplementedError()\n",
    "\n",
    "df_result = pd.read_sql_query(query, conn)\n",
    "df_result"
   ]
  },
  {
   "cell_type": "code",
   "execution_count": null,
   "metadata": {
    "deletable": false,
    "editable": false,
    "nbgrader": {
     "cell_type": "code",
     "checksum": "ba3e414dcb9e1d0bd26b2ebe81404a99",
     "grade": true,
     "grade_id": "cell-f061df1aca084382",
     "locked": true,
     "points": 1,
     "schema_version": 3,
     "solution": false,
     "task": false
    }
   },
   "outputs": [],
   "source": [
    "############################# READ ONLY #############################"
   ]
  },
  {
   "cell_type": "markdown",
   "metadata": {
    "deletable": false,
    "editable": false,
    "nbgrader": {
     "cell_type": "markdown",
     "checksum": "5e436898b8c60a64cdaf6c9c66ff3dce",
     "grade": false,
     "grade_id": "cell-d3172ff762f7439f",
     "locked": true,
     "schema_version": 3,
     "solution": false,
     "task": false
    }
   },
   "source": [
    "> Now calculate the number of people that have been in the ICU. Remember: you cannot just count the number of records in the icustays table, since we detected some champions in staying in the ICU often. In other words: count the DIFFERENT people having stayed in the ICU."
   ]
  },
  {
   "cell_type": "code",
   "execution_count": null,
   "metadata": {
    "deletable": false,
    "nbgrader": {
     "cell_type": "code",
     "checksum": "8fa0435d70cd8ec20e8bd40914abcece",
     "grade": false,
     "grade_id": "cell-a313bbf27521a8cf",
     "locked": false,
     "schema_version": 3,
     "solution": true,
     "task": false
    }
   },
   "outputs": [],
   "source": [
    "query = \"\"\"\n",
    "#+++ your answer here +++\n",
    "\"\"\"\n",
    "# YOUR CODE HERE\n",
    "raise NotImplementedError()\n",
    "\n",
    "df_result = pd.read_sql_query(query, conn)\n",
    "df_result"
   ]
  },
  {
   "cell_type": "code",
   "execution_count": null,
   "metadata": {
    "deletable": false,
    "editable": false,
    "nbgrader": {
     "cell_type": "code",
     "checksum": "a7ca5fb6e7f1519dbe42823f3241929b",
     "grade": true,
     "grade_id": "cell-972ddb71f5487b22",
     "locked": true,
     "points": 1,
     "schema_version": 3,
     "solution": false,
     "task": false
    }
   },
   "outputs": [],
   "source": [
    "############################# READ ONLY #############################"
   ]
  },
  {
   "cell_type": "markdown",
   "metadata": {
    "deletable": false,
    "editable": false,
    "nbgrader": {
     "cell_type": "markdown",
     "checksum": "06343c7e629217fe34d6d9fbaa04ba06",
     "grade": false,
     "grade_id": "cell-c1b5989662fffd0b",
     "locked": true,
     "schema_version": 3,
     "solution": false,
     "task": false
    }
   },
   "source": [
    "> Now, in order to calculate the mortality rate in the ICU, **create a nested query** that reuses your last two queries and essentially divides the result of the deaths count by the patient count and multiplies by 100 to get the percentage. Give the result the alias \"mortality_rate_at_ICU\". If your result is 0, it is likely because you performed an integer division. Convert the queried patient count *and* patient count to float."
   ]
  },
  {
   "cell_type": "code",
   "execution_count": null,
   "metadata": {
    "deletable": false,
    "nbgrader": {
     "cell_type": "code",
     "checksum": "1cca55e225f9db7e0d9679c9845d3481",
     "grade": false,
     "grade_id": "cell-ff9d9bdc4b7c55a8",
     "locked": false,
     "schema_version": 3,
     "solution": true,
     "task": false
    }
   },
   "outputs": [],
   "source": [
    "query = \"\"\"\n",
    "#+++ your answer here +++\n",
    "\"\"\"\n",
    "# YOUR CODE HERE\n",
    "raise NotImplementedError()\n",
    "\n",
    "df_result = pd.read_sql_query(query, conn)\n",
    "df_result"
   ]
  },
  {
   "cell_type": "code",
   "execution_count": null,
   "metadata": {
    "deletable": false,
    "editable": false,
    "nbgrader": {
     "cell_type": "code",
     "checksum": "f8164a614327350e625a34384d9d4163",
     "grade": true,
     "grade_id": "cell-347fff6ec62626db",
     "locked": true,
     "points": 3,
     "schema_version": 3,
     "solution": false,
     "task": false
    }
   },
   "outputs": [],
   "source": [
    "############################# READ ONLY #############################"
   ]
  },
  {
   "cell_type": "markdown",
   "metadata": {
    "deletable": false,
    "editable": false,
    "nbgrader": {
     "cell_type": "markdown",
     "checksum": "3ea83b97ba846952a70f95e3153a945d",
     "grade": false,
     "grade_id": "cell-dc27618627ddf5a2",
     "locked": true,
     "schema_version": 3,
     "solution": false,
     "task": false
    }
   },
   "source": [
    "> Copy your death count query to the cell below. Can you modify it to group it by date and sort the death count in descending order? Limit your results to 15 daycounts.  \n",
    "> The output should contain 2 columns; `dod` and `count`."
   ]
  },
  {
   "cell_type": "code",
   "execution_count": null,
   "metadata": {
    "deletable": false,
    "nbgrader": {
     "cell_type": "code",
     "checksum": "3f1158bbc6f40cd71a38d2c11476c017",
     "grade": false,
     "grade_id": "cell-053d3332a1ea7d69",
     "locked": false,
     "schema_version": 3,
     "solution": true,
     "task": false
    }
   },
   "outputs": [],
   "source": [
    "query = \"\"\"\n",
    "#+++ your answer here +++\n",
    "LIMIT 15;\n",
    "\"\"\"\n",
    "# YOUR CODE HERE\n",
    "raise NotImplementedError()\n",
    "\n",
    "df_result = pd.read_sql_query(query, conn)\n",
    "df_result"
   ]
  },
  {
   "cell_type": "code",
   "execution_count": null,
   "metadata": {
    "deletable": false,
    "editable": false,
    "nbgrader": {
     "cell_type": "code",
     "checksum": "b5463634bce18c7b291344c47d61ecfb",
     "grade": true,
     "grade_id": "cell-b4f24b7fdaa8d3e7",
     "locked": true,
     "points": 3,
     "schema_version": 3,
     "solution": false,
     "task": false
    }
   },
   "outputs": [],
   "source": [
    "############################# READ ONLY #############################"
   ]
  },
  {
   "cell_type": "markdown",
   "metadata": {
    "deletable": false,
    "editable": false,
    "nbgrader": {
     "cell_type": "markdown",
     "checksum": "79ba3263a35b4ee768ba3582e21e3113",
     "grade": false,
     "grade_id": "cell-c012705583fdcffd",
     "locked": true,
     "schema_version": 3,
     "solution": false,
     "task": false
    }
   },
   "source": [
    "> One important feature about patients for predicting mortality will be the patient's age. List 20 icustays records with their corresponding age.\n",
    "\n",
    "1. First print the age as = ICU entering time - patient birthdate\n",
    "2. The result so far will be in number of days. You may see ages listed in hours, minutes and seconds instead for patients in the ICU, think about how that is possible (it certainly is). Anyway, the results as you see them are printed by the python framework like that, what the database returns is **number of days**. Modify your select statement to end up with the number of years. Check the documentation https://www.postgresql.org/docs/12/functions-datetime.html for a function to extract **epochs**, add casting to float and using simple mathematics on that.\n",
    "3. Sort the ages in descending order. Unrealistic ages will be listed. The creators of the MIMIC database have replaced all ages > 89 with values of about 300, because the exact age would otherwise make deceased patients identifiable. Modify your SQL statement such that patients with an age > 89 all have the age of exactly 300 years; and to avoid having to repeat your age calculation statement, consider the query you had as an inner query (```(SELECT ... ) AS patient_ages```) and build your age modification query as an outer query around it."
   ]
  },
  {
   "cell_type": "code",
   "execution_count": null,
   "metadata": {
    "deletable": false,
    "nbgrader": {
     "cell_type": "code",
     "checksum": "c290c49aa9f62edd95d9fc757aff63e9",
     "grade": false,
     "grade_id": "cell-1e45829573c73ec1",
     "locked": false,
     "schema_version": 3,
     "solution": true,
     "task": false
    }
   },
   "outputs": [],
   "source": [
    "query = \"\"\"\n",
    "#+++ your answer here +++\n",
    "LIMIT 20;\n",
    "\"\"\"\n",
    "# YOUR CODE HERE\n",
    "raise NotImplementedError()\n",
    "\n",
    "df_result = pd.read_sql_query(query, conn)\n",
    "df_result"
   ]
  },
  {
   "cell_type": "code",
   "execution_count": null,
   "metadata": {
    "deletable": false,
    "editable": false,
    "nbgrader": {
     "cell_type": "code",
     "checksum": "b2609455450841fc9ffc53267249340d",
     "grade": true,
     "grade_id": "cell-fc7ed802354e083d",
     "locked": true,
     "points": 4,
     "schema_version": 3,
     "solution": false,
     "task": false
    }
   },
   "outputs": [],
   "source": [
    "############################# READ ONLY #############################"
   ]
  },
  {
   "cell_type": "markdown",
   "metadata": {
    "deletable": false,
    "editable": false,
    "nbgrader": {
     "cell_type": "markdown",
     "checksum": "8b43e0ac95a301504a5635a32c93cc7f",
     "grade": false,
     "grade_id": "cell-406c60853171b5c2",
     "locked": true,
     "schema_version": 3,
     "solution": false,
     "task": false
    }
   },
   "source": [
    "> Check your query's result: copy your query to the below cell, remove the 20 records limit and print `df_result.describe()` instead of just `df_result`."
   ]
  },
  {
   "cell_type": "code",
   "execution_count": null,
   "metadata": {
    "deletable": false,
    "nbgrader": {
     "cell_type": "code",
     "checksum": "282ce25da9c23fa999d4ca4094d0ba17",
     "grade": false,
     "grade_id": "cell-2ffb1d21c01c90ec",
     "locked": false,
     "schema_version": 3,
     "solution": true,
     "task": false
    }
   },
   "outputs": [],
   "source": [
    "query = \"\"\"\n",
    "#+++ your answer here +++\n",
    "\"\"\"\n",
    "# YOUR CODE HERE\n",
    "raise NotImplementedError()\n",
    "\n",
    "df_result = pd.read_sql_query(query, conn)\n",
    "df_result.describe()"
   ]
  },
  {
   "cell_type": "code",
   "execution_count": null,
   "metadata": {
    "deletable": false,
    "editable": false,
    "nbgrader": {
     "cell_type": "code",
     "checksum": "2e8aa7b9f4bf5ac435e8d3b2c0718495",
     "grade": true,
     "grade_id": "cell-90b62faa43f487a4",
     "locked": true,
     "points": 0.5,
     "schema_version": 3,
     "solution": false,
     "task": false
    }
   },
   "outputs": [],
   "source": [
    "############################# READ ONLY #############################"
   ]
  },
  {
   "cell_type": "markdown",
   "metadata": {
    "deletable": false,
    "editable": false,
    "nbgrader": {
     "cell_type": "markdown",
     "checksum": "b76bb3f016e21349a6c66fcd4171792a",
     "grade": false,
     "grade_id": "cell-bdba0162b0fd0826",
     "locked": true,
     "schema_version": 3,
     "solution": false,
     "task": false
    }
   },
   "source": [
    "The maximum patient age should now of course be 300 years. If not, check and improve your query.\n",
    "\n",
    "## Extracting the diagnoses"
   ]
  },
  {
   "cell_type": "markdown",
   "metadata": {
    "deletable": false,
    "editable": false,
    "nbgrader": {
     "cell_type": "markdown",
     "checksum": "8dacd528da1e9f1a851819138a79f134",
     "grade": false,
     "grade_id": "cell-33dba4382ded45c5",
     "locked": true,
     "schema_version": 3,
     "solution": false,
     "task": false
    }
   },
   "source": [
    "> Query just 5 records from the `diagnoses_icd` table to have a first look at its records."
   ]
  },
  {
   "cell_type": "code",
   "execution_count": null,
   "metadata": {
    "deletable": false,
    "nbgrader": {
     "cell_type": "code",
     "checksum": "ccff42656ef9cab3906a3e311a3e1cf5",
     "grade": false,
     "grade_id": "cell-c12ff3416a78326c",
     "locked": false,
     "schema_version": 3,
     "solution": true,
     "task": false
    }
   },
   "outputs": [],
   "source": [
    "query = \"\"\"\n",
    "#+++ your answer here +++\n",
    "LIMIT 5;\n",
    "\"\"\"\n",
    "# YOUR CODE HERE\n",
    "raise NotImplementedError()\n",
    "\n",
    "df_result = pd.read_sql_query(query, conn)\n",
    "df_result"
   ]
  },
  {
   "cell_type": "code",
   "execution_count": null,
   "metadata": {
    "deletable": false,
    "editable": false,
    "nbgrader": {
     "cell_type": "code",
     "checksum": "96073079b67378c59048636770b3f4e1",
     "grade": true,
     "grade_id": "cell-c38792ab3528a00c",
     "locked": true,
     "points": 0.5,
     "schema_version": 3,
     "solution": false,
     "task": false
    }
   },
   "outputs": [],
   "source": [
    "############################# READ ONLY #############################"
   ]
  },
  {
   "cell_type": "markdown",
   "metadata": {
    "deletable": false,
    "editable": false,
    "nbgrader": {
     "cell_type": "markdown",
     "checksum": "b6e82ee2dca0bdb612fe248ed6f60634",
     "grade": false,
     "grade_id": "cell-89db89901a7b2538",
     "locked": true,
     "schema_version": 3,
     "solution": false,
     "task": false
    }
   },
   "source": [
    "> The `icd9_code` is a code, internationally agreed upon, that tells which disease was diagnosed for a patient (determined by the `subject_id`) during one of his hospital admissions (determined by the `hadm_id`). Now, using those 2 keys, link the `icd9_code` to the icustays table records. Limit your results to 5 ICU stays for now. Beware: you'll need to link the tables using 2 keys now! Also: use a special type of join to make sure that ICU stays for which patients couldn't get a diagnosis are still in the results.  \n",
    "> The output columns should be; `icd9_code, row_id, subject_id, hadm_id, icustay_id, dbsource, first_careunit, last_careunit, first_wardid, last_wardid, intime, outtime, los`"
   ]
  },
  {
   "cell_type": "code",
   "execution_count": null,
   "metadata": {
    "deletable": false,
    "nbgrader": {
     "cell_type": "code",
     "checksum": "f02c52eb26ebe5ce43162ce978d140e6",
     "grade": false,
     "grade_id": "cell-7048d6d4f7bb5b0f",
     "locked": false,
     "schema_version": 3,
     "solution": true,
     "task": false
    }
   },
   "outputs": [],
   "source": [
    "query = \"\"\"\n",
    "#+++ your answer here +++\n",
    "LIMIT 5;\n",
    "\"\"\"\n",
    "# YOUR CODE HERE\n",
    "raise NotImplementedError()\n",
    "\n",
    "df_result = pd.read_sql_query(query, conn)\n",
    "df_result"
   ]
  },
  {
   "cell_type": "code",
   "execution_count": null,
   "metadata": {
    "deletable": false,
    "editable": false,
    "nbgrader": {
     "cell_type": "code",
     "checksum": "cece6915301854e9438ffeca92d90099",
     "grade": true,
     "grade_id": "cell-656d5ceaf7bffc0e",
     "locked": true,
     "points": 2,
     "schema_version": 3,
     "solution": false,
     "task": false
    }
   },
   "outputs": [],
   "source": [
    "############################# READ ONLY #############################"
   ]
  },
  {
   "cell_type": "markdown",
   "metadata": {
    "deletable": false,
    "editable": false,
    "nbgrader": {
     "cell_type": "markdown",
     "checksum": "6b7b046c3a07a918243248a49966b88e",
     "grade": false,
     "grade_id": "cell-8f611ddcc8f0efc7",
     "locked": true,
     "schema_version": 3,
     "solution": false,
     "task": false
    }
   },
   "source": [
    "> Copy the query of above and add a filter to check *how many* ICU stays actually *didn't get a diagnosis*. That of course also means you need to remove the LIMIT from your query here."
   ]
  },
  {
   "cell_type": "code",
   "execution_count": null,
   "metadata": {
    "deletable": false,
    "nbgrader": {
     "cell_type": "code",
     "checksum": "2658e67a81dee705679902494eb4e5ed",
     "grade": false,
     "grade_id": "cell-39530b8e266b2b72",
     "locked": false,
     "schema_version": 3,
     "solution": true,
     "task": false
    }
   },
   "outputs": [],
   "source": [
    "query = \"\"\"\n",
    "#+++ your answer here +++\n",
    "\"\"\"\n",
    "# YOUR CODE HERE\n",
    "raise NotImplementedError()\n",
    "\n",
    "df_result = pd.read_sql_query(query, conn)\n",
    "df_result"
   ]
  },
  {
   "cell_type": "code",
   "execution_count": null,
   "metadata": {
    "deletable": false,
    "editable": false,
    "nbgrader": {
     "cell_type": "code",
     "checksum": "05f5a96f0c0fde15aee153eedb5c9f1b",
     "grade": true,
     "grade_id": "cell-4a815ee8577f1a63",
     "locked": true,
     "points": 1,
     "schema_version": 3,
     "solution": false,
     "task": false
    }
   },
   "outputs": [],
   "source": [
    "############################# READ ONLY #############################"
   ]
  },
  {
   "cell_type": "markdown",
   "metadata": {
    "deletable": false,
    "editable": false,
    "nbgrader": {
     "cell_type": "markdown",
     "checksum": "22f5f45c2955137271d5cda7e5dba0e4",
     "grade": false,
     "grade_id": "cell-b0ae4e811822f253",
     "locked": true,
     "schema_version": 3,
     "solution": false,
     "task": false
    }
   },
   "source": [
    "> Now, going back to the query that listed the ICD codes (you can copy it below): we're of course not familiar with these codes. So modify your query to add a join below with the `d_icd_diagnoses` table, such that the name of the diagnosed disease is shown for each record. Only select the columns `subject_id, hadm_id, icustay_id, intime, outtime, row_id, icd9_code, short_title, long_title` (in this exact order). Limit the results to 5 rows."
   ]
  },
  {
   "cell_type": "code",
   "execution_count": null,
   "metadata": {
    "deletable": false,
    "nbgrader": {
     "cell_type": "code",
     "checksum": "4e07dd17e5bab2db6c21d6e9e0b79b73",
     "grade": false,
     "grade_id": "cell-a260f8dfe93a12ce",
     "locked": false,
     "schema_version": 3,
     "solution": true,
     "task": false
    }
   },
   "outputs": [],
   "source": [
    "query = \"\"\"\n",
    "#+++ your answer here +++\n",
    "LIMIT 5;\n",
    "\"\"\"\n",
    "# YOUR CODE HERE\n",
    "raise NotImplementedError()\n",
    "\n",
    "df_result = pd.read_sql_query(query, conn)\n",
    "df_result"
   ]
  },
  {
   "cell_type": "code",
   "execution_count": null,
   "metadata": {
    "deletable": false,
    "editable": false,
    "nbgrader": {
     "cell_type": "code",
     "checksum": "6c25d739b7765c5214b6118a87605fb9",
     "grade": true,
     "grade_id": "cell-f8dfcb74a8422ae3",
     "locked": true,
     "points": 2,
     "schema_version": 3,
     "solution": false,
     "task": false
    }
   },
   "outputs": [],
   "source": [
    "############################# READ ONLY #############################"
   ]
  },
  {
   "cell_type": "markdown",
   "metadata": {
    "deletable": false,
    "editable": false,
    "nbgrader": {
     "cell_type": "markdown",
     "checksum": "e06273da6771b9fd7fe548f548342837",
     "grade": false,
     "grade_id": "cell-e462d7af6517353b",
     "locked": true,
     "schema_version": 3,
     "solution": false,
     "task": false
    }
   },
   "source": [
    "## Extracting vital signs of the patients\n",
    "\n",
    "You will aggregate vital sign measurements of patients during the first 24 hours after ICU admission, such that in the machine learning lab, you will have aggregate information about the patient's health that will (clearly) still show most information about their condition - before their treatment started working. \n",
    "\n",
    "Of course, maybe some patients will have been cured in less than 24 hours, but on the other hand we want to gather enough vital signs about patients that stayed in the ICU for a long time. So it's merely a trade-off and we just picked \"a\" timeframe after hospital admission that intuitively makes sense.\n",
    "\n",
    "> Query 5 rows of the d_items table first to again get an idea of the content."
   ]
  },
  {
   "cell_type": "code",
   "execution_count": null,
   "metadata": {
    "deletable": false,
    "nbgrader": {
     "cell_type": "code",
     "checksum": "bf49f1048db8f3109a75509619ebb1dd",
     "grade": false,
     "grade_id": "cell-774dfe6be3739b79",
     "locked": false,
     "schema_version": 3,
     "solution": true,
     "task": false
    }
   },
   "outputs": [],
   "source": [
    "query = \"\"\"\n",
    "#+++ your answer here +++\n",
    "LIMIT 5;\n",
    "\"\"\"\n",
    "# YOUR CODE HERE\n",
    "raise NotImplementedError()\n",
    "\n",
    "df_result = pd.read_sql_query(query, conn)\n",
    "df_result"
   ]
  },
  {
   "cell_type": "code",
   "execution_count": null,
   "metadata": {
    "deletable": false,
    "editable": false,
    "nbgrader": {
     "cell_type": "code",
     "checksum": "191e5775f5065f4cd44680b5ef7cd766",
     "grade": true,
     "grade_id": "cell-98d0fbc4df6d0c70",
     "locked": true,
     "points": 0.5,
     "schema_version": 3,
     "solution": false,
     "task": false
    }
   },
   "outputs": [],
   "source": [
    "############################# READ ONLY #############################"
   ]
  },
  {
   "cell_type": "markdown",
   "metadata": {
    "deletable": false,
    "editable": false,
    "nbgrader": {
     "cell_type": "markdown",
     "checksum": "18281a0997ae3f66d24c8f6d1f0eb4f2",
     "grade": false,
     "grade_id": "cell-cf067f37286c1702",
     "locked": true,
     "schema_version": 3,
     "solution": false,
     "task": false
    }
   },
   "source": [
    "> Search for d_items that have a label that contain the word 'Heart'. There is no need for a record limit on your query."
   ]
  },
  {
   "cell_type": "code",
   "execution_count": null,
   "metadata": {
    "deletable": false,
    "nbgrader": {
     "cell_type": "code",
     "checksum": "afb221d1ee3898976edc238509f1e672",
     "grade": false,
     "grade_id": "cell-9eddee26fd769514",
     "locked": false,
     "schema_version": 3,
     "solution": true,
     "task": false
    }
   },
   "outputs": [],
   "source": [
    "query = \"\"\"\n",
    "#+++ your answer here +++\n",
    "\"\"\"\n",
    "# YOUR CODE HERE\n",
    "raise NotImplementedError()\n",
    "\n",
    "df_result = pd.read_sql_query(query, conn)\n",
    "df_result"
   ]
  },
  {
   "cell_type": "code",
   "execution_count": null,
   "metadata": {
    "deletable": false,
    "editable": false,
    "nbgrader": {
     "cell_type": "code",
     "checksum": "7a5044327d6ef8473850ed0e63a0c649",
     "grade": true,
     "grade_id": "cell-ff2826e82b0e390a",
     "locked": true,
     "points": 1,
     "schema_version": 3,
     "solution": false,
     "task": false
    }
   },
   "outputs": [],
   "source": [
    "############################# READ ONLY #############################"
   ]
  },
  {
   "cell_type": "markdown",
   "metadata": {
    "deletable": false,
    "editable": false,
    "nbgrader": {
     "cell_type": "markdown",
     "checksum": "83d72fe0865828d739d683b7b5e58f09",
     "grade": false,
     "grade_id": "cell-8775d95d1eab1816",
     "locked": true,
     "schema_version": 3,
     "solution": false,
     "task": false
    }
   },
   "source": [
    "> So there are many measurements about patient's heart condition. Let's keep it simple and focus on just 'Heart Rate'. Query just these records (again, there is no need for a limit)."
   ]
  },
  {
   "cell_type": "code",
   "execution_count": null,
   "metadata": {
    "deletable": false,
    "nbgrader": {
     "cell_type": "code",
     "checksum": "f9312ae4ca8a23934cf94858e3ca19cb",
     "grade": false,
     "grade_id": "cell-489af70bbb627829",
     "locked": false,
     "schema_version": 3,
     "solution": true,
     "task": false
    }
   },
   "outputs": [],
   "source": [
    "query = \"\"\"\n",
    "#+++ your answer here +++\n",
    "\"\"\"\n",
    "# YOUR CODE HERE\n",
    "raise NotImplementedError()\n",
    "\n",
    "df_result = pd.read_sql_query(query, conn)\n",
    "df_result"
   ]
  },
  {
   "cell_type": "code",
   "execution_count": null,
   "metadata": {
    "deletable": false,
    "editable": false,
    "nbgrader": {
     "cell_type": "code",
     "checksum": "764accce62e7b6f51fca99cd8b089155",
     "grade": true,
     "grade_id": "cell-bdcd8158906288d6",
     "locked": true,
     "points": 1,
     "schema_version": 3,
     "solution": false,
     "task": false
    }
   },
   "outputs": [],
   "source": [
    "############################# READ ONLY #############################"
   ]
  },
  {
   "cell_type": "markdown",
   "metadata": {
    "deletable": false,
    "editable": false,
    "nbgrader": {
     "cell_type": "markdown",
     "checksum": "cd2ca3b817f5a6ce22b08129f5e12ef5",
     "grade": false,
     "grade_id": "cell-2ac494831bf8aaa5",
     "locked": true,
     "schema_version": 3,
     "solution": false,
     "task": false
    }
   },
   "source": [
    "The above should print 2 results. \n",
    "\n",
    "> Now aggregate heart rate for 1 patient:\n",
    "\n",
    "1. start from the icustays table and join it with the chartevents\n",
    "2. count all chartevents that are Heart Rate measurements (**itemid = 211 instead of on the label 'Heart Rate'**, that's faster to execute) about the patient with subject_id 13033, **within 1 day after the intime of the patient in the ICU**.\n",
    "3. modify your query to group by the icustay_id, such that it will print the count of chartevents per ICU stay.\n",
    "4. modify your select statement from chartevent counts to the following aggregates of chartevents' `valuenum`: minimum, maximum, average and standard deviation. You may want to check the postgreSQL documentation for the function names for these aggregations.\n",
    "\n",
    "The output should have the following columns: `lowest_heart_rate, highest_heart_rate, heart_rate_avg, heart_rate_stdv` (in this exact order)."
   ]
  },
  {
   "cell_type": "code",
   "execution_count": null,
   "metadata": {
    "deletable": false,
    "nbgrader": {
     "cell_type": "code",
     "checksum": "e08372afb6152effcfb0f3b067fa9e08",
     "grade": false,
     "grade_id": "cell-4d1c89afa2cc21d3",
     "locked": false,
     "schema_version": 3,
     "solution": true,
     "task": false
    }
   },
   "outputs": [],
   "source": [
    "query = \"\"\"\n",
    "#+++ your answer here +++\n",
    "\"\"\"\n",
    "# YOUR CODE HERE\n",
    "raise NotImplementedError()\n",
    "\n",
    "df_result = pd.read_sql_query(query, conn)\n",
    "df_result"
   ]
  },
  {
   "cell_type": "code",
   "execution_count": null,
   "metadata": {
    "deletable": false,
    "editable": false,
    "nbgrader": {
     "cell_type": "code",
     "checksum": "6458fd7c35568a534d12f9cd7d86cf00",
     "grade": true,
     "grade_id": "cell-934f5a938a3a497c",
     "locked": true,
     "points": 2,
     "schema_version": 3,
     "solution": false,
     "task": false
    }
   },
   "outputs": [],
   "source": [
    "############################# READ ONLY #############################"
   ]
  },
  {
   "cell_type": "markdown",
   "metadata": {
    "deletable": false,
    "editable": false,
    "nbgrader": {
     "cell_type": "markdown",
     "checksum": "fab0159ea7f029e9998318751e37b6ac",
     "grade": false,
     "grade_id": "cell-def695e8c26f0bb3",
     "locked": true,
     "schema_version": 3,
     "solution": false,
     "task": false
    }
   },
   "source": [
    "## BONUS: Final extraction of a full CSV file of readily usable features for machine learning purposes\n",
    "\n",
    "> <div style='color:red'>\n",
    "    This question is <b>bonus</b> and will not be graded, however, we highly encourage to atleast attempt this task!\n",
    "</div>\n",
    "    \n",
    "It is now up to you to create one big query to combine all the information you extracted piece by piece above.\n",
    "We help you assemble your bigger query:\n",
    "1. Start with selecting from icustays (and name the columns like that!): hospital_admission_id, patient_id, first_icu_care_unit, last_icu_care_unit, first_icu_ward_id, last_icu_ward_id, icu_in_time, icu_out_time, length_of_stay_in_ICU\n",
    "2. Join with the patients table and add the features patient_gender\n",
    "3. Add the calculation of patient_age in the SELECT statement just like you have added it in the SELECT of a query you wrote earlier, then consider the entire query you had so far as a subquery, around which you write the outer query you made before to correct ages: 300 if older than 89 otherwise just the patient's age; in the SELECT of the outer query, select all columns from the inner query *and* the corrected age (patient_age_corrected).\n",
    "3. Add the mortality labels: previously, we established that a patient died during the ICU stay if his date of death (dod) was between the intime and outtime of the icustay. Add this in a CASE WHEN condition for a new column in the inner query, called died_during_ICU_stay and make it True when the condition is met, else False. Verify by running the entire query that this mortality label is in the results.\n",
    "4. Add the disease labels: in the inner query, add the joins with the icustays table with the diagnoses_icd and d_icd_diagnoses tables and select the dname.long_title as diagnosed_disease (still in the inner query). Verify by running the entire query that this disease label is in the results.\n",
    "5. Join your **inner** query with the heart rate aggregation query you made above - give it an alias, e.g. patient_heart_agg, and join on the icustay_id. Modify your outer query's select statement to make it include the columns resulting from the heart rate aggregation subquery.\n",
    "6. Change the last line in your cell to no longer make it print `df_result` but to write it to a CSV file: `df_result.to_csv(path_or_buf='icustays_features_and_labels.csv')`. Execute and already test if the CSV is generated.\n",
    "7. Remove the limit on the number of icustays that you normally still have in your query and execute the query. It may take longer to execute due to the big amount of data to process.\n",
    "\n",
    "**Note**: you may notice that multiple records are created for the same patient and ICU visit, due to the fact that at that time, the patient received multiple diagnoses. That is fine.\n",
    "\n",
    "> As this takes a lot of server-time to execute the query, we ask you to only provide the query string in the markdown cell below, on which (non-graded) feedback will be given."
   ]
  },
  {
   "cell_type": "markdown",
   "metadata": {
    "deletable": false,
    "nbgrader": {
     "cell_type": "markdown",
     "checksum": "7345565e23a32281a8e06fa0e5ce1661",
     "grade": true,
     "grade_id": "cell-12ebf49f117758ba",
     "locked": false,
     "points": 0,
     "schema_version": 3,
     "solution": true,
     "task": false
    }
   },
   "source": [
    "**Answer**:\n",
    "\n",
    "```sql\n",
    "-- your query here!\n",
    "LIMIT 5;\n",
    "```\n",
    "\n",
    "YOUR ANSWER HERE\n"
   ]
  },
  {
   "cell_type": "markdown",
   "metadata": {
    "deletable": false,
    "editable": false,
    "nbgrader": {
     "cell_type": "markdown",
     "checksum": "6c53f5164d4b6084e9b39de17e030f66",
     "grade": false,
     "grade_id": "cell-e0e990c8d5fd8ccf",
     "locked": true,
     "schema_version": 3,
     "solution": false,
     "task": false
    }
   },
   "source": [
    "The CSV file you extracted contains a collection of interesting features about patient visits to the ICU that will be reused in the machine learning lab.\n",
    "\n",
    "In that lab, you will predict things like diagnoses or mortality, but note that your predictions will only be as strong as the information that you extracted, which was mainly the patient's vital signs.\n",
    "Many patients in a hospital are also subjected to blood and urine tests, about which there is *also* data in the MIMIC database. Also adding information about this to your extracted data will probably make your predictions better. But that falls out of the scope of this lab assignment though. This lab was long enough already ;-)"
   ]
  },
  {
   "cell_type": "markdown",
   "metadata": {
    "deletable": false,
    "editable": false,
    "nbgrader": {
     "cell_type": "markdown",
     "checksum": "14a8f2c3e07a3932e0ca91655f12544a",
     "grade": false,
     "grade_id": "cell-b120af9eb2ea3a2b",
     "locked": true,
     "schema_version": 3,
     "solution": false,
     "task": false
    }
   },
   "source": [
    "## Material You Need to Submit\n",
    "\n",
    "For this lab session, the notebook containing all code snippets and query results (\\*) needs to be handed in using Ufora. \n",
    "\n",
    "Upload your notebook before next week, i.e., 7/03/2023 11:59PM CET!\n",
    "\n",
    "(\\*) Make sure all your notebooks are handed in already executed (i.e. there should be output after the cells)."
   ]
  }
 ],
 "metadata": {
  "kernelspec": {
   "display_name": "Python 3 (ipykernel)",
   "language": "python",
   "name": "python3"
  },
  "language_info": {
   "codemirror_mode": {
    "name": "ipython",
    "version": 3
   },
   "file_extension": ".py",
   "mimetype": "text/x-python",
   "name": "python",
   "nbconvert_exporter": "python",
   "pygments_lexer": "ipython3",
   "version": "3.10.10"
  },
  "vscode": {
   "interpreter": {
    "hash": "36da2e88fbfbea45630aa2831ecf7171d64005bab6d8e3555239c557b61762eb"
   }
  }
 },
 "nbformat": 4,
 "nbformat_minor": 4
}
