{
 "cells": [
  {
   "cell_type": "markdown",
   "metadata": {},
   "source": [
    "# Using RDFLib for  querying the integrated datasets\n",
    "\n",
    "In this part of the lab, we will learn how to query the integrated dataset in a python application."
   ]
  },
  {
   "cell_type": "markdown",
   "metadata": {},
   "source": [
    "First make sure you have all the needed packages installed:"
   ]
  },
  {
   "cell_type": "code",
   "execution_count": null,
   "metadata": {},
   "outputs": [],
   "source": [
    "!pip3 install rdflib"
   ]
  },
  {
   "cell_type": "markdown",
   "metadata": {},
   "source": [
    "RDFLib will be used to query the integrated dataset using SPARQL queries.\n",
    "\n",
    "More information on RDFLib can be found [here](https://rdflib.readthedocs.io/en/stable/)"
   ]
  },
  {
   "cell_type": "markdown",
   "metadata": {},
   "source": [
    "First we have to load the integrated dataset we created in Part 2 of the lab.\n",
    "\n",
    "**IMPORTANT** here we assume that the solution of part 2 is stored in the file triples.ttl in the same folder as this notebook. "
   ]
  },
  {
   "cell_type": "code",
   "execution_count": null,
   "metadata": {},
   "outputs": [],
   "source": [
    "import rdflib\n",
    "g = rdflib.Graph()\n",
    "g.parse(\"triples.ttl\",format=\"turtle\")"
   ]
  },
  {
   "cell_type": "markdown",
   "metadata": {},
   "source": [
    "We will use the following function to help print out the results:"
   ]
  },
  {
   "cell_type": "code",
   "execution_count": null,
   "metadata": {},
   "outputs": [],
   "source": [
    "def query(query_str):\n",
    "    qres = g.query(query_str)\n",
    "    if len(qres) ==0:\n",
    "        print('No results found')\n",
    "    else:\n",
    "        for row in qres:\n",
    "            print( [str(item) for item in row])"
   ]
  },
  {
   "cell_type": "markdown",
   "metadata": {},
   "source": [
    "The following example shows how we can retrieve the first and last name of the patients through a single query, even though they initially originated from different files:"
   ]
  },
  {
   "cell_type": "code",
   "execution_count": null,
   "metadata": {
    "scrolled": true
   },
   "outputs": [],
   "source": [
    "query_str= \"\"\"\n",
    "        PREFIX schema: <http://schema.org/>\n",
    "        PREFIX obo: <http://purl.obolibrary.org/obo/>\n",
    "        SELECT *\n",
    "        WHERE {\n",
    "          ?patient obo:firstName ?givenName. \n",
    "          ?patient obo:lastName  ?lastName. \n",
    "          \n",
    "        }\"\"\"\n",
    "query(query_str)"
   ]
  },
  {
   "cell_type": "markdown",
   "metadata": {},
   "source": [
    "# Querying exercise\n",
    "\n",
    "In the following, you will be presented with three predefined queries. It is up to you to try to understand the function of each query. You can execute the queries to get a better insight into which data each query retrieves.\n"
   ]
  },
  {
   "cell_type": "markdown",
   "metadata": {},
   "source": [
    "Query 1:"
   ]
  },
  {
   "cell_type": "code",
   "execution_count": null,
   "metadata": {},
   "outputs": [],
   "source": [
    "query_str= \"\"\"\n",
    "        PREFIX obo: <http://purl.obolibrary.org/obo/>\n",
    "        PREFIX schema: <http://schema.org/>\n",
    "\n",
    "        SELECT  ?firstName ?lastName\n",
    "        WHERE {\n",
    "          ?p a obo:Person. \n",
    "          ?p obo:firstName ?firstName.\n",
    "          ?p obo:lastName ?lastName.\n",
    "          ?p obo:has_disease [obo:has_symptom [a obo:WeightLoss]]\n",
    "        }\"\"\"\n",
    "query(query_str)"
   ]
  },
  {
   "cell_type": "markdown",
   "metadata": {},
   "source": [
    "Query 1: What data does Query 1 retrieve?:\n",
    "\n",
    "- [ ] a) Retrieves the patient's first and last name who do not have weight loss as one of their disease symptoms.\n",
    "- [ ] b) Retrieves the patient's first and last name who have weight loss as one of their disease symptoms.\n",
    "- [ ] c) Retrieves the patient IDs who have weight loss as one of their disease symptoms.\n",
    "- [ ] d) Retrieves the patient IDs who have a disease with weight loss as the only disease symptom.\n"
   ]
  },
  {
   "cell_type": "markdown",
   "metadata": {},
   "source": [
    "Query 2:"
   ]
  },
  {
   "cell_type": "code",
   "execution_count": null,
   "metadata": {},
   "outputs": [],
   "source": [
    "query_str= \"\"\"\n",
    "        PREFIX obo: <http://purl.obolibrary.org/obo/>\n",
    "        SELECT (Count(?p) as ?num_patients) ?country\n",
    "        WHERE {\n",
    "          ?p a obo:Person; obo:citizenOf ?country; obo:has_disease ?disease.\n",
    "          }\n",
    "          GROUP BY ?country\n",
    "          ORDER BY DESC(?num_patients)\n",
    "          \"\"\"\n",
    "query(query_str)"
   ]
  },
  {
   "cell_type": "markdown",
   "metadata": {},
   "source": [
    "Query 2: What data does Query 2 retrieve?:\n",
    "\n",
    "- [ ] a) Retrieves for each country, the number of patients that have at least one disease, ordered according to the number of patients in a descending fashion.\n",
    "- [ ] b) Counts the patients that have a country definition, ordered in function of the country.\n",
    "- [ ] c) Retrieves for each disease, the number of patients that have that disease.\n",
    "- [ ] d) Counts the number of diseases each person has and orders them by country."
   ]
  },
  {
   "cell_type": "markdown",
   "metadata": {},
   "source": [
    "Query 3: \n"
   ]
  },
  {
   "cell_type": "code",
   "execution_count": null,
   "metadata": {},
   "outputs": [],
   "source": [
    "query_str= \"\"\"\n",
    "        PREFIX obo: <http://purl.obolibrary.org/obo/>\n",
    "        PREFIX xsd: <http://www.w3.org/2001/XMLSchema#>\n",
    "        SELECT ?p ?age\n",
    "        WHERE {\n",
    "          ?p a obo:Person; \n",
    "             obo:has_disease ?d;\n",
    "             obo:hasAge ?age\n",
    "          \n",
    "          FILTER(xsd:integer(?age) > \"30\"^^xsd:integer)\n",
    "        }\"\"\"\n",
    "query(query_str)"
   ]
  },
  {
   "cell_type": "markdown",
   "metadata": {},
   "source": [
    "Query 3: What data does Query 3 retrieve?:\n",
    "\n",
    "- [ ] a) Retrieves the age of each patient that has a disease.\n",
    "- [ ] b) Counts the patients that are older than 30 and have at least one disease.\n",
    "- [ ] c) Retrieves the patients that are older than 30 and have at least one disease.\n",
    "- [ ] d) Counts the number of diseases each person has.\n"
   ]
  },
  {
   "cell_type": "code",
   "execution_count": null,
   "metadata": {},
   "outputs": [],
   "source": []
  }
 ],
 "metadata": {
  "kernelspec": {
   "display_name": "Python 3 (ipykernel)",
   "language": "python",
   "name": "python3"
  },
  "language_info": {
   "codemirror_mode": {
    "name": "ipython",
    "version": 2
   },
   "file_extension": ".py",
   "mimetype": "text/x-python",
   "name": "python",
   "nbconvert_exporter": "python",
   "pygments_lexer": "ipython2",
   "version": "2.7.16"
  }
 },
 "nbformat": 4,
 "nbformat_minor": 2
}
