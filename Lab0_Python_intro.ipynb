{
  "cells": [
    {
      "cell_type": "code",
      "execution_count": null,
      "metadata": {
        "id": "YzLpzweH7exR"
      },
      "outputs": [],
      "source": [
        "NAME = \"\""
      ]
    },
    {
      "cell_type": "markdown",
      "metadata": {
        "id": "0LkOzLqR2kOF",
        "toc-hr-collapsed": false
      },
      "source": [
        "# Lab 0: Introduction to python\n",
        "\n"
      ]
    },
    {
      "cell_type": "markdown",
      "metadata": {
        "id": "c4lKm9J72kOJ"
      },
      "source": [
        "## Python:\n",
        "   * an open source programming language\n",
        "   * a pool of functionalities are easily called (packages)\n",
        "   * commonly used by data scientists\n",
        "   * easy to learn, easy to use\n",
        "   \n",
        "    "
      ]
    },
    {
      "cell_type": "markdown",
      "metadata": {
        "id": "wmIl2bLVzjNd"
      },
      "source": [
        "Python is free and open source, available for all operating systems from [python.org](http://python.org/). \n",
        "\n",
        "We will be writing and executing our Python code within Colab. \n",
        "\n",
        "Google defines this in the following way.  Colaboratory, or “Colab” for short, is a product from Google Research. Colab allows anybody to write and execute arbitrary python code through the browser, and is especially well suited to machine learning, data analysis and education. More technically, Colab is a hosted Jupyter notebook service that requires no setup to use, while providing free access to computing resources including GPUs. \n",
        "\n",
        "So basically Colab allows you to write Python code and run it \"in the cloud\".  It saves your code and you can import existing ipynb files (Jupyter notebook files which will be explained below) and export them as well (to turn them in for grading).\n",
        "\n",
        "Open [Colab's intro webpage](https://colab.research.google.com/notebooks/intro.ipynb?utm_source=scs-index#scrollTo=5fCEDCU_qrC0) in a new window and read through the Getting Started and Data Science sections.  \n",
        "\n",
        "Then click on \"Overview of Colaboratory\" and read through that page.  \n",
        "\n",
        "As you already know, to upload a new ipynb file to Colab, just click on 'File'-> 'Upload Notebook' and search for the file you want to edit in Colab."
      ]
    },
    {
      "cell_type": "markdown",
      "metadata": {
        "id": "a5P__w_9zjNe"
      },
      "source": [
        "## Jupyter\n",
        "The Jupyter Notebook is an interactive environment for writing and running code. The notebook is capable of running code in a wide range of languages. However, each notebook is associated with a single kernel. The notebooks of this course are all associated with the IPython kernel, and therefore run Python code.\n",
        "\n",
        "The .ipynb file extension is used for notebooks. \n",
        "\n",
        "### Code cells allow you to enter and run code\n",
        "As you have read on the Colab webpages, run a code cell using `Shift-Enter` or `Ctrl-Shift-Enter` or pressing the arrow to the left of the code cell when it is selected.  \n",
        "\n",
        "A notebook may be downloaded in either a .ipynb or .py file from the menu option File | Download as. Choosing the .py option downloads a Python .py script, in which all rich output has been removed and the content of markdown cells have been inserted as comments. Of course if a lab that you complete for this course requires you to write up a text answer to a question, remember to download the .ipynb file to turn in, and not just the .py file."
      ]
    },
    {
      "cell_type": "markdown",
      "metadata": {
        "id": "EkzsP3-42kOL"
      },
      "source": [
        "## Python Introduction\n",
        "Python is a dynamic, interpreted language. Source code does not declare the types of variables or parameters or methods -- just assign to them and go. This makes the code short and flexible, and you lose the compile-time type checking in the source code. Python tracks the types of all values at runtime and flags code that does not make sense as it runs. It raises a runtime error if the code tries to read from a variable that has not been given a value.\n",
        "An excellent way to see how Python code works is to run the code below. Like C++ and Java, Python is case sensitive so \"a\" and \"A\" are different variables. The end of a line marks the end of a statement, so unlike C++ and Java, Python does not require a semicolon at the end of each statement. Comments begin with a '#' and extend to the end of the line.\n",
        "\n",
        "### Tools:\n",
        " * an IPython console: Execute python commands one-by-one\n",
        " * Spyder: IDE  - python environment, similar to eclipse or matlab\n",
        " * Jupyter Notebook: The Jupyter Notebook is an open-source web application that allows you to create and share documents that contain live code, equations, visualizations and narrative text. **We highly recommend this tool and will use this during the practicals!**"
      ]
    },
    {
      "cell_type": "markdown",
      "metadata": {
        "id": "VfluhGr62kOM"
      },
      "source": [
        "### Basics for notebook \n",
        "How to **run a cell**: Press the ▶ button above to run it\n"
      ]
    },
    {
      "cell_type": "code",
      "execution_count": null,
      "metadata": {
        "id": "l_eB47Bf2kON",
        "jupyter": {
          "outputs_hidden": false
        }
      },
      "outputs": [],
      "source": [
        "print('Hello world')"
      ]
    },
    {
      "cell_type": "markdown",
      "metadata": {
        "id": "DUOYh7weM5h3"
      },
      "source": [
        "You can also use the Alt-Enter keyboard shortcut to run the current cell and insert a new one below."
      ]
    },
    {
      "cell_type": "markdown",
      "metadata": {
        "id": "oooKiRyq2kOO"
      },
      "source": [
        "**Autocompletion**: Press **TAB** to a semifinalized command\n",
        "\n",
        "Example      \n",
        "Type ```ma``` in the following cell and then **TAB**\n",
        "\n",
        "NOTE: If this does not immediately work, go to Tools | Settings | Editor  and then uncheck 'Automatically trigger code inspection'"
      ]
    },
    {
      "cell_type": "code",
      "execution_count": null,
      "metadata": {
        "id": "D6OpEqed2kOP"
      },
      "outputs": [],
      "source": [
        "ma"
      ]
    },
    {
      "cell_type": "markdown",
      "metadata": {
        "id": "miBSiIhx2kOP"
      },
      "source": [
        "So you can see that by pressing the **TAB**, the notebook helps you by giving several options.\n",
        "\n",
        "Now you can fill in the following cell with the command ```max``` and then press **SHIFT+TAB**.\n",
        "What do you observe?"
      ]
    },
    {
      "cell_type": "code",
      "execution_count": null,
      "metadata": {
        "id": "4vsMJ8An2kOQ",
        "jupyter": {
          "outputs_hidden": false
        }
      },
      "outputs": [],
      "source": [
        "max"
      ]
    },
    {
      "cell_type": "markdown",
      "metadata": {
        "id": "sMKU0HbV2kOQ",
        "toc-hr-collapsed": true
      },
      "source": [
        "## 1. Basics in python   \n",
        "In jupyter notebook we can type simple commands (such as assignments, summations etc.) in the cells and execute them in the way we saw above.   \n",
        "Try to execute the following commands:"
      ]
    },
    {
      "cell_type": "code",
      "execution_count": null,
      "metadata": {
        "id": "pdGCOgLG2kOQ"
      },
      "outputs": [],
      "source": [
        "a = 8"
      ]
    },
    {
      "cell_type": "code",
      "execution_count": null,
      "metadata": {
        "id": "R5o-f-kO2kOR",
        "jupyter": {
          "outputs_hidden": false
        }
      },
      "outputs": [],
      "source": [
        "a"
      ]
    },
    {
      "cell_type": "code",
      "execution_count": null,
      "metadata": {
        "id": "LOjYMVOP2kOR",
        "jupyter": {
          "outputs_hidden": false
        }
      },
      "outputs": [],
      "source": [
        "a + 4"
      ]
    },
    {
      "cell_type": "code",
      "execution_count": null,
      "metadata": {
        "id": "9_AloPM92kOR",
        "jupyter": {
          "outputs_hidden": false
        }
      },
      "outputs": [],
      "source": [
        "a / 3"
      ]
    },
    {
      "cell_type": "markdown",
      "metadata": {
        "id": "gGHmQ6EH2kOR"
      },
      "source": [
        "In python there are 4 types of scalars:\n",
        "* Integer\n",
        "* Float\n",
        "* Complex number\n",
        "* Boolean   \n",
        "You can change the type of a variable by using casting:\n"
      ]
    },
    {
      "cell_type": "code",
      "execution_count": null,
      "metadata": {
        "id": "SkC_Poz_2kOR",
        "jupyter": {
          "outputs_hidden": false
        }
      },
      "outputs": [],
      "source": [
        "float(a)"
      ]
    },
    {
      "cell_type": "markdown",
      "metadata": {
        "id": "Yb_Fn0jk2kOS"
      },
      "source": [
        "There are also different operators. The basic ones are the following:   \n",
        "summation (+), subtraction (-), division (/), multiplication (\\*) , modulo (%), exponentiation (\\*\\*)   \n",
        "Try to execute the following cells to see examples:"
      ]
    },
    {
      "cell_type": "code",
      "execution_count": null,
      "metadata": {
        "id": "sYPNHhfR2kOS",
        "jupyter": {
          "outputs_hidden": false
        }
      },
      "outputs": [],
      "source": [
        "a%2"
      ]
    },
    {
      "cell_type": "code",
      "execution_count": null,
      "metadata": {
        "id": "bUPi6Cfu2kOS",
        "jupyter": {
          "outputs_hidden": false
        }
      },
      "outputs": [],
      "source": [
        "a**2"
      ]
    },
    {
      "cell_type": "code",
      "execution_count": null,
      "metadata": {
        "id": "wI7-h-bV2kOS",
        "jupyter": {
          "outputs_hidden": false
        }
      },
      "outputs": [],
      "source": [
        "print(a-2)\n",
        "print(a+a)"
      ]
    },
    {
      "cell_type": "markdown",
      "metadata": {
        "id": "ENgYYaN12kOS"
      },
      "source": [
        "### Lists   \n",
        "List in python is an ordered collection of objects. These objects can be scalars, strings, other lists etc. "
      ]
    },
    {
      "cell_type": "code",
      "execution_count": null,
      "metadata": {
        "id": "pODBrZMh2kOT",
        "jupyter": {
          "outputs_hidden": false
        }
      },
      "outputs": [],
      "source": [
        "list = [1, 2, 3, 4, 'x', [1,2,3], 100, 200]\n",
        "print (list)"
      ]
    },
    {
      "cell_type": "markdown",
      "metadata": {
        "id": "LARLhm3s2kOT"
      },
      "source": [
        "We can access the elements of a list by using indices starting from 0."
      ]
    },
    {
      "cell_type": "code",
      "execution_count": null,
      "metadata": {
        "id": "cjc53xaT2kOT",
        "jupyter": {
          "outputs_hidden": false
        }
      },
      "outputs": [],
      "source": [
        "print(list[0])\n",
        "print(list[1])\n"
      ]
    },
    {
      "cell_type": "markdown",
      "metadata": {
        "id": "P-Og7I6A2kOT"
      },
      "source": [
        "Negative indices count from the back. "
      ]
    },
    {
      "cell_type": "code",
      "execution_count": null,
      "metadata": {
        "id": "EdEQroAE2kOT",
        "jupyter": {
          "outputs_hidden": false
        }
      },
      "outputs": [],
      "source": [
        "print(list[-1])\n",
        "print(list[-2])"
      ]
    },
    {
      "cell_type": "markdown",
      "metadata": {
        "id": "a5TojWd-2kOT"
      },
      "source": [
        "**Slicing**: take sublists of a list    \n",
        "You can use a starting and an ending index with a \":\" symbol in between for this purpose.   \n",
        "Example syntax: `list[start:stop]`"
      ]
    },
    {
      "cell_type": "code",
      "execution_count": null,
      "metadata": {
        "id": "4h4zRaM_2kOT",
        "jupyter": {
          "outputs_hidden": false
        }
      },
      "outputs": [],
      "source": [
        "#take the first 4 elements of the list \n",
        "list[0:4] "
      ]
    },
    {
      "cell_type": "markdown",
      "metadata": {
        "id": "HY6jjwmz2kOU"
      },
      "source": [
        "We can see that the indices of the printed elements satisfy the condition start <= index < stop, i.e., the last printed element has the index stop-1    \n",
        "\n",
        "**Functions**: List is a data structure on which basic functions can be applied.\n"
      ]
    },
    {
      "cell_type": "code",
      "execution_count": null,
      "metadata": {
        "id": "VoSrLWVJ2kOU",
        "jupyter": {
          "outputs_hidden": false
        }
      },
      "outputs": [],
      "source": [
        "#Insert an element to a list:\n",
        "list.append(1000)\n",
        "print(list)"
      ]
    },
    {
      "cell_type": "code",
      "execution_count": null,
      "metadata": {
        "id": "lWnUGX6E2kOU",
        "jupyter": {
          "outputs_hidden": false
        }
      },
      "outputs": [],
      "source": [
        "#Pop an element from a list (return the last element and remove it from the list)\n",
        "list.pop()\n",
        "print(list)"
      ]
    },
    {
      "cell_type": "code",
      "execution_count": null,
      "metadata": {
        "id": "lQ9aqf6v2kOU",
        "jupyter": {
          "outputs_hidden": false
        }
      },
      "outputs": [],
      "source": [
        "#extend a list\n",
        "list2 = [2,3,4]\n",
        "list.extend(list2)\n",
        "print(list)"
      ]
    },
    {
      "cell_type": "markdown",
      "metadata": {
        "id": "XUOsqso83Erx"
      },
      "source": [
        "Here are some other common list methods.\n",
        "* list.append(elem) -- adds a single element to the end of the list. Common error: does not return the new list, just modifies the original.\n",
        "* list.insert(index, elem) -- inserts the element at the given index, shifting elements to the right.\n",
        "* list.extend(list2) adds the elements in list2 to the end of the list. Using + or += on a list is similar to using extend().\n",
        "* list.index(elem) -- searches for the given element from the start of the list and returns its index. Throws a ValueError if the element does not appear (use \"in\" to check without a ValueError).\n",
        "* list.remove(elem) -- searches for the first instance of the given element and removes it (throws ValueError if not present)\n",
        "* list.sort() -- sorts the list in place (does not return it). \n",
        "* list.reverse() -- reverses the list in place (does not return it)\n",
        "* list.pop(index) -- removes and returns the element at the given index. Returns the rightmost element if index is omitted (roughly the opposite of append()).\n",
        "\n",
        "Notice that these are <i>methods</i> on a list object, while len() is a function that takes the list (or string or whatever) as an argument."
      ]
    },
    {
      "cell_type": "markdown",
      "metadata": {
        "id": "8PpKdRyj2kOU"
      },
      "source": [
        "### Strings   \n",
        "String is a sequence of characters.\n"
      ]
    },
    {
      "cell_type": "code",
      "execution_count": null,
      "metadata": {
        "id": "jBvbaNgU2kOU",
        "jupyter": {
          "outputs_hidden": false
        }
      },
      "outputs": [],
      "source": [
        "string = 'New string blah'\n",
        "print(string)"
      ]
    },
    {
      "cell_type": "markdown",
      "metadata": {
        "id": "MHyD-ddW2kOV"
      },
      "source": [
        "We can use slicing as in lists."
      ]
    },
    {
      "cell_type": "code",
      "execution_count": null,
      "metadata": {
        "id": "J6cBv2ut2kOV",
        "jupyter": {
          "outputs_hidden": false
        }
      },
      "outputs": [],
      "source": [
        "string[1:3]"
      ]
    },
    {
      "cell_type": "markdown",
      "metadata": {
        "id": "x0ak0btf2kOV"
      },
      "source": [
        "**Functions**: There are several functions for handling strings."
      ]
    },
    {
      "cell_type": "code",
      "execution_count": null,
      "metadata": {
        "id": "4eo-1t_P2kOV",
        "jupyter": {
          "outputs_hidden": false
        }
      },
      "outputs": [],
      "source": [
        "string.upper()"
      ]
    },
    {
      "cell_type": "code",
      "execution_count": null,
      "metadata": {
        "id": "ZbrgX6rs2kOV",
        "jupyter": {
          "outputs_hidden": false
        }
      },
      "outputs": [],
      "source": [
        "string.replace('New', 'Old', )"
      ]
    },
    {
      "cell_type": "code",
      "execution_count": null,
      "metadata": {
        "id": "4VCxiqgI2kOV",
        "jupyter": {
          "outputs_hidden": false
        }
      },
      "outputs": [],
      "source": [
        "# concatenation of strings using the + operator\n",
        "string + ' blah blah'"
      ]
    },
    {
      "cell_type": "markdown",
      "metadata": {
        "id": "awc_p7No0aT_"
      },
      "source": [
        "Here are some of the most common string methods:\n",
        "\n",
        "* s.lower(), s.upper() -- returns the lowercase or uppercase version of the string\n",
        "* s.strip() -- returns a string with whitespace removed from the start and end\n",
        "* s.isalpha()/s.isdigit()/s.isspace()... -- tests if all the string chars are in the various character classes\n",
        "* s.startswith('other'), s.endswith('other') -- tests if the string starts or ends with the given other string\n",
        "* s.find('other') -- searches for the given other string (not a regular expression) within s, and returns the first index where it begins or -1 if not found\n",
        "* s.replace('old', 'new') -- returns a string where all occurrences of 'old' have been replaced by 'new'\n",
        "* s.split('delim') -- returns a list of substrings separated by the given delimiter. The delimiter is not a regular expression, it's just text. 'aaa,bbb,ccc'.split(',') -> ['aaa', 'bbb', 'ccc']. As a convenient special case s.split() (with no arguments) splits on all whitespace chars.\n",
        "* s.join(list) -- opposite of split(), joins the elements in the given list together using the string as the delimiter. e.g. '---'.join(['aaa', 'bbb', 'ccc']) -> aaa---bbb---ccc\n",
        "\n",
        "A google search for \"python str\" should lead you to the official python.org string methods which lists all the str methods."
      ]
    },
    {
      "cell_type": "markdown",
      "metadata": {
        "id": "bw5wymcg7exZ"
      },
      "source": [
        "### Control structures\n",
        "As in all programming languages, in python, we can encode control structures i.e. blocks of code which are executed if specific conditions are satisfied."
      ]
    },
    {
      "cell_type": "code",
      "execution_count": null,
      "metadata": {
        "id": "rJrIOqNL7exZ"
      },
      "outputs": [],
      "source": [
        "# if-else statement\n",
        "x =  5\n",
        "if x < 5:\n",
        "    print('x < 5')\n",
        "else:\n",
        "    print('x >= 5')\n",
        "    "
      ]
    },
    {
      "cell_type": "code",
      "execution_count": null,
      "metadata": {
        "id": "UM1X74dc7exZ"
      },
      "outputs": [],
      "source": [
        "#if-else if\n",
        "x =  5\n",
        "if x < 5:\n",
        "    print('x < 5')\n",
        "elif x == 5:\n",
        "    print('x = 5')    \n",
        "else:\n",
        "    print('x > 5')"
      ]
    },
    {
      "cell_type": "code",
      "execution_count": null,
      "metadata": {
        "id": "Ll2Bb3cF7exZ"
      },
      "outputs": [],
      "source": [
        "# while loops\n",
        "x = 5\n",
        "while (x < 10):\n",
        "    print(x)\n",
        "    x+=1 #!! we should always change the value of the variable which appears in the while condition"
      ]
    },
    {
      "cell_type": "code",
      "execution_count": null,
      "metadata": {
        "id": "UMzbzmIc7exZ"
      },
      "outputs": [],
      "source": [
        "#for loops (when we know the number of times that a block should be executed)\n",
        "for i in range(5):\n",
        "    print(i)"
      ]
    },
    {
      "cell_type": "code",
      "execution_count": null,
      "metadata": {
        "id": "SOQfVvO57exZ"
      },
      "outputs": [],
      "source": [
        "#combination of the previous structures\n",
        "[i for i in range(10) if i % 2 == 0]"
      ]
    },
    {
      "cell_type": "markdown",
      "metadata": {
        "id": "hfxrA5lPz8Jl"
      },
      "source": [
        "### Functions\n",
        "\n",
        "In python, as in other programming languages, it is very useful to organize the code into subroutines called functions. Functions usually are implemented for a specific job, they take an input (arguments) and they return their output which is the result of their job. See the following example with a function which returns the squared sum of two numbers."
      ]
    },
    {
      "cell_type": "code",
      "execution_count": null,
      "metadata": {
        "id": "sirNkGw40Afc"
      },
      "outputs": [],
      "source": [
        "#function\n",
        "def squared_sum(num1, num2=0):\n",
        "    #input: two numbers\n",
        "    #output: squared sum of two numbers\n",
        "    return((num1+num2)**2)\n",
        "\n",
        "#function call\n",
        "squared_sum(3,4)"
      ]
    },
    {
      "cell_type": "markdown",
      "metadata": {
        "id": "xMLUicItzjNp"
      },
      "source": [
        "<div class=\"alert alert-success\">\n",
        "\n",
        "<b>EXERCISE</b>: **Both_ends.  \n",
        "Given a string s, return a string made of the first 2 and the last 2 chars of the original string,\n",
        "so 'spring' yields 'spng'. However, if the string length is less than 2, return instead the empty string.**\n",
        "</div>"
      ]
    },
    {
      "cell_type": "code",
      "execution_count": null,
      "metadata": {
        "deletable": false,
        "id": "5ar2Zx3S0ul0",
        "nbgrader": {
          "cell_type": "code",
          "checksum": "d941ae041de33bc8e4c0dc85d3b99448",
          "grade": true,
          "grade_id": "cell-14043aa0123180f3",
          "locked": false,
          "points": 3,
          "schema_version": 3,
          "solution": true,
          "task": false
        }
      },
      "outputs": [],
      "source": [
        "def both_ends(s):\n",
        "    # YOUR CODE HERE\n",
        "    raise NotImplementedError()\n",
        "    return"
      ]
    },
    {
      "cell_type": "markdown",
      "metadata": {
        "id": "USgeP97607dk"
      },
      "source": [
        "Test your code below."
      ]
    },
    {
      "cell_type": "code",
      "execution_count": null,
      "metadata": {
        "id": "MVZSQ0Ip0ylj"
      },
      "outputs": [],
      "source": [
        "both_ends('spring')"
      ]
    },
    {
      "cell_type": "code",
      "execution_count": null,
      "metadata": {
        "id": "Zj6pZ6rD0zzb"
      },
      "outputs": [],
      "source": [
        "both_ends('Hello')"
      ]
    },
    {
      "cell_type": "code",
      "execution_count": null,
      "metadata": {
        "id": "2qhKJWph0zhr"
      },
      "outputs": [],
      "source": [
        "both_ends('a')"
      ]
    },
    {
      "cell_type": "code",
      "execution_count": null,
      "metadata": {
        "id": "44Y_WEMk0zT0"
      },
      "outputs": [],
      "source": [
        "both_ends('xyz')"
      ]
    },
    {
      "cell_type": "markdown",
      "metadata": {
        "id": "-YgXoqR11EAs"
      },
      "source": [
        "<div class=\"alert alert-success\">\n",
        "\n",
        "<b>EXERCISE</b>: **Fix_start.**\n",
        "Given a string s, return a string where all occurences of its first char have been changed to ' \\* ', except do not change the first char itself. E.g. 'babble' yields 'ba\\*\\*le'.\n",
        "Assume that the string is length 1 or more.\n",
        "\n",
        "Hint: s.replace(stra, strb) returns a version of string s where all instances of stra have been replaced by strb.\n",
        "</div>\n"
      ]
    },
    {
      "cell_type": "code",
      "execution_count": null,
      "metadata": {
        "deletable": false,
        "id": "SRottMlT1sUz",
        "nbgrader": {
          "cell_type": "code",
          "checksum": "fb5a2d8c7a4a0a2e46d9bbf54f4a4910",
          "grade": true,
          "grade_id": "cell-23bf2fb2c9007c84",
          "locked": false,
          "points": 3,
          "schema_version": 3,
          "solution": true,
          "task": false
        }
      },
      "outputs": [],
      "source": [
        "def fix_start(s):\n",
        "    # YOUR CODE HERE\n",
        "    raise NotImplementedError()\n",
        "    return"
      ]
    },
    {
      "cell_type": "markdown",
      "metadata": {
        "id": "OUf7L7YY13X7"
      },
      "source": [
        "Test your code."
      ]
    },
    {
      "cell_type": "code",
      "execution_count": null,
      "metadata": {
        "id": "EQ58VAEi1tjr"
      },
      "outputs": [],
      "source": [
        "fix_start('babble')"
      ]
    },
    {
      "cell_type": "code",
      "execution_count": null,
      "metadata": {
        "id": "57rhILJG1tdi"
      },
      "outputs": [],
      "source": [
        "fix_start('aardvark')"
      ]
    },
    {
      "cell_type": "code",
      "execution_count": null,
      "metadata": {
        "id": "8dMhXFPe1tWT"
      },
      "outputs": [],
      "source": [
        "fix_start('google')"
      ]
    },
    {
      "cell_type": "code",
      "execution_count": null,
      "metadata": {
        "id": "m5nKHkhZ1tKi"
      },
      "outputs": [],
      "source": [
        "fix_start('donut')"
      ]
    },
    {
      "cell_type": "markdown",
      "metadata": {
        "id": "sm4La1K01_aL"
      },
      "source": [
        "<div class=\"alert alert-success\">\n",
        "\n",
        "<b>EXERCISE</b>: **MixUp.  \n",
        "Given strings a and b, return a single string with a and b separated by a space 'a b', except swap the first 2 chars of each string. \n",
        "<br />E.g. 'mix', 'pod' -> 'pox mid' <br />&nbsp;&nbsp;&nbsp;&nbsp;&nbsp;&nbsp;&nbsp;'dog', 'dinner' -> 'dig donner'\n",
        "<br />Assume a and b are length 2 or more.**\n",
        "</div>"
      ]
    },
    {
      "cell_type": "code",
      "execution_count": null,
      "metadata": {
        "deletable": false,
        "id": "kK9bhCNu2Kat",
        "nbgrader": {
          "cell_type": "code",
          "checksum": "d002cf6b458f87fd4cc82f4b08a60525",
          "grade": true,
          "grade_id": "cell-c3f6e2e6c8b87f27",
          "locked": false,
          "points": 3,
          "schema_version": 3,
          "solution": true,
          "task": false
        }
      },
      "outputs": [],
      "source": [
        "def mix_up(a, b):\n",
        "    # YOUR CODE HERE\n",
        "    raise NotImplementedError()\n",
        "    return"
      ]
    },
    {
      "cell_type": "markdown",
      "metadata": {
        "id": "_-EQZHgf2PaC"
      },
      "source": [
        "Test your code."
      ]
    },
    {
      "cell_type": "code",
      "execution_count": null,
      "metadata": {
        "id": "rpqD6ON82QnK"
      },
      "outputs": [],
      "source": [
        "mix_up('mix', 'pod')"
      ]
    },
    {
      "cell_type": "code",
      "execution_count": null,
      "metadata": {
        "id": "dHKJaioh2UXa"
      },
      "outputs": [],
      "source": [
        "mix_up('dog', 'dinner')"
      ]
    },
    {
      "cell_type": "code",
      "execution_count": null,
      "metadata": {
        "id": "4f0KJHqC2XAC"
      },
      "outputs": [],
      "source": [
        "mix_up('gnash', 'sport')"
      ]
    },
    {
      "cell_type": "code",
      "execution_count": null,
      "metadata": {
        "id": "V2t1AivB2ZpS"
      },
      "outputs": [],
      "source": [
        "mix_up('pezzy', 'firm')"
      ]
    },
    {
      "cell_type": "markdown",
      "metadata": {
        "id": "cbcIicW82kOV"
      },
      "source": [
        "### Dictionaries\n",
        "A dictionary is an unordered collection of key-value pairs."
      ]
    },
    {
      "cell_type": "code",
      "execution_count": null,
      "metadata": {
        "id": "2ItpCIXH2kOW"
      },
      "outputs": [],
      "source": [
        "#key: name, value: number of kids\n",
        "dict = {'Emmy':3, 'Frank':2, 'Josef':1}"
      ]
    },
    {
      "cell_type": "code",
      "execution_count": null,
      "metadata": {
        "id": "JQIWd5P-2kOW",
        "jupyter": {
          "outputs_hidden": false
        }
      },
      "outputs": [],
      "source": [
        "#How many kids does Frank have?\n",
        "dict['Frank']"
      ]
    },
    {
      "cell_type": "code",
      "execution_count": null,
      "metadata": {
        "id": "9J4e68vD2kOW",
        "jupyter": {
          "outputs_hidden": false
        }
      },
      "outputs": [],
      "source": [
        "# add elements\n",
        "dict['Ian'] = 2\n",
        "print(dict)"
      ]
    },
    {
      "cell_type": "code",
      "execution_count": null,
      "metadata": {
        "id": "5RqlnUGK2kOW",
        "jupyter": {
          "outputs_hidden": false
        }
      },
      "outputs": [],
      "source": [
        "#delete elements\n",
        "del dict['Frank']\n",
        "print(dict)"
      ]
    },
    {
      "cell_type": "code",
      "execution_count": null,
      "metadata": {
        "id": "s57r5cl_2kOW",
        "jupyter": {
          "outputs_hidden": false
        }
      },
      "outputs": [],
      "source": [
        "#concatenate dictionaries\n",
        "dict2 = {'Peter':3, 'Josef':4}\n",
        "dict.update(dict2)\n",
        "dict"
      ]
    },
    {
      "cell_type": "code",
      "execution_count": null,
      "metadata": {
        "id": "1tRPLhyT2kOW",
        "jupyter": {
          "outputs_hidden": false
        }
      },
      "outputs": [],
      "source": [
        "#return keys and values separately\n",
        "print(dict.keys())\n",
        "print(dict.values())"
      ]
    },
    {
      "cell_type": "markdown",
      "metadata": {
        "id": "sLVcBtWJ3dMB"
      },
      "source": [
        "<div class=\"alert alert-success\">\n",
        "\n",
        "<b>EXERCISE</b>:  **front_x.** <br/>\n",
        "Given a list of strings, return a list with the strings in sorted order, except group all the strings that begin with 'x' first. <br/>\n",
        "E.g. ['mix', 'xyz', 'apple', 'xanadu', 'aardvark'] yields ['xanadu', 'xyz', 'aardvark', 'apple', 'mix']\n",
        "<br /> Hint: this can be done by making 2 lists and sorting each of them before combining them.\n",
        "</div>"
      ]
    },
    {
      "cell_type": "code",
      "execution_count": null,
      "metadata": {
        "deletable": false,
        "id": "GItILckp30uC",
        "nbgrader": {
          "cell_type": "code",
          "checksum": "239da5cf2941c9c87aa5b8fb22e39f0a",
          "grade": true,
          "grade_id": "cell-c4705c614443dcb8",
          "locked": false,
          "points": 3,
          "schema_version": 3,
          "solution": true,
          "task": false
        }
      },
      "outputs": [],
      "source": [
        "def front_x(words):\n",
        "    # YOUR CODE HERE\n",
        "    raise NotImplementedError()\n",
        "    return"
      ]
    },
    {
      "cell_type": "markdown",
      "metadata": {
        "id": "4z3q0vE_34Cx"
      },
      "source": [
        "Test your code."
      ]
    },
    {
      "cell_type": "code",
      "execution_count": null,
      "metadata": {
        "id": "bCVb8IpJ35yB"
      },
      "outputs": [],
      "source": [
        "front_x(['bbb', 'ccc', 'axx', 'xzz', 'xaa'])"
      ]
    },
    {
      "cell_type": "code",
      "execution_count": null,
      "metadata": {
        "id": "VNWMzSpk39gp"
      },
      "outputs": [],
      "source": [
        "front_x(['ccc', 'bbb', 'aaa', 'xcc', 'xaa'])"
      ]
    },
    {
      "cell_type": "code",
      "execution_count": null,
      "metadata": {
        "id": "NO0c9TOK3_sR"
      },
      "outputs": [],
      "source": [
        "front_x(['mix', 'xyz', 'apple', 'xanadu', 'aardvark'])"
      ]
    },
    {
      "cell_type": "markdown",
      "metadata": {
        "id": "GNHB1mtS4WSA"
      },
      "source": [
        "<div class=\"alert alert-success\">\n",
        "\n",
        "<b>EXERCISE</b>:   **print_words & print_top** <br />\n",
        "Implement a <b>print_words(filename)</b> function that counts how often each word appears in the text and prints: <br /> word1 count1 <br /> word2 count2 <br /> ... <br />\n",
        "\n",
        "Print the above list in order sorted by word (python will sort punctuation to come before letters -- that's fine).\n",
        "\n",
        "Store all the words as lowercase, so 'The' and 'the' count as the same word.\n",
        "\n",
        "Implement a <b>print_top(filename)</b> which is similar to print_words() but which prints just the top 20 most common words sorted so the most common word is first, then the next most common, and so on.\n",
        "\n",
        "Use str.split() (no arguments) to split on all whitespace.\n",
        "\n",
        "Optional: define a helper function that reads a file and builds and returns a word/count dict for it to avoid code duplication inside print_words() and print_top().\n",
        "</div>"
      ]
    },
    {
      "cell_type": "code",
      "execution_count": null,
      "metadata": {
        "deletable": false,
        "id": "Hw6nUp014q7J",
        "nbgrader": {
          "cell_type": "code",
          "checksum": "ef19c73aeff4510d576518a543e40930",
          "grade": true,
          "grade_id": "cell-869488c96f231caf",
          "locked": false,
          "points": 1,
          "schema_version": 3,
          "solution": true,
          "task": false
        }
      },
      "outputs": [],
      "source": [
        "## +++your code here+++\n",
        "## Define optional helper function\n",
        "# YOUR CODE HERE\n",
        "raise NotImplementedError()"
      ]
    },
    {
      "cell_type": "code",
      "execution_count": null,
      "metadata": {
        "deletable": false,
        "id": "qVd6QOiB4vFH",
        "nbgrader": {
          "cell_type": "code",
          "checksum": "788fddf14403a025f8038cb7481b4aab",
          "grade": true,
          "grade_id": "cell-78b5d9b11c5b15ea",
          "locked": false,
          "points": 4,
          "schema_version": 3,
          "solution": true,
          "task": false
        }
      },
      "outputs": [],
      "source": [
        "## +++your code here+++\n",
        "## Define print_words(filename) function\n",
        "# YOUR CODE HERE\n",
        "raise NotImplementedError()"
      ]
    },
    {
      "cell_type": "code",
      "execution_count": null,
      "metadata": {
        "deletable": false,
        "id": "4Yyx8Gea4xJH",
        "nbgrader": {
          "cell_type": "code",
          "checksum": "217596b25cedaad251cb559fe6720d19",
          "grade": true,
          "grade_id": "cell-3a10d200cac1636f",
          "locked": false,
          "points": 2,
          "schema_version": 3,
          "solution": true,
          "task": false
        }
      },
      "outputs": [],
      "source": [
        "## +++your code here+++\n",
        "## Define print_top(filename) function\n",
        "# YOUR CODE HERE\n",
        "raise NotImplementedError()"
      ]
    },
    {
      "cell_type": "markdown",
      "metadata": {
        "id": "CBeBDHQ-4zNI"
      },
      "source": [
        "Test your code."
      ]
    },
    {
      "cell_type": "code",
      "execution_count": null,
      "metadata": {
        "deletable": false,
        "id": "PAHI2fgH40gX",
        "nbgrader": {
          "cell_type": "code",
          "checksum": "6cad7b59d43466f496a2a2ab7d8bd174",
          "grade": true,
          "grade_id": "cell-21b61beaf795647b",
          "locked": false,
          "points": 1,
          "schema_version": 3,
          "solution": true,
          "task": false
        }
      },
      "outputs": [],
      "source": [
        "## +++your test code here+++\n",
        "# YOUR CODE HERE\n",
        "raise NotImplementedError()"
      ]
    },
    {
      "cell_type": "markdown",
      "metadata": {
        "id": "pPSaD-uH2kOX"
      },
      "source": [
        "### Importing packages  \n",
        "The power of python lies in the numerous packages which implement functionalities that facilitate the programming of its users. There are packages for storing and handing data, for running machine learing algorithms, for plotting etc.   \n",
        "Next, we will discuss two packages that are very helpful in handling data.\n",
        "\n",
        "Firstly, let's see how we can import a package:\n",
        "\n",
        "* `import package-name`\n",
        "* `from package-name import function-name` , imports a specific function from a package\n",
        "* `from package-name import *` , imports subset of a package\n",
        "* `import package-name as shortcut-of-package-name`\n"
      ]
    },
    {
      "cell_type": "markdown",
      "metadata": {
        "id": "iuJ5ufKz2kOY",
        "toc-hr-collapsed": true
      },
      "source": [
        "## 2. Numpy\n",
        "\n",
        "NumPy is the fundamental package for scientific computing with Python. It contains a powerful N-dimensional array/vector/matrix object and useful functions for linear algebra, Fourier transforms, and random number capabilities. In the numpy package the terminology used for vectors, matrices and higher-dimensional data sets is array.\n",
        "\n",
        "The recommended convention to import numpy is:"
      ]
    },
    {
      "cell_type": "code",
      "execution_count": null,
      "metadata": {
        "id": "SSPOLBAE2kOY"
      },
      "outputs": [],
      "source": [
        "import numpy as np"
      ]
    },
    {
      "cell_type": "markdown",
      "metadata": {
        "id": "cuQ1Obfx2kOY"
      },
      "source": [
        "### Basics"
      ]
    },
    {
      "cell_type": "code",
      "execution_count": null,
      "metadata": {
        "id": "Wn9vRucD2kOY",
        "jupyter": {
          "outputs_hidden": false
        }
      },
      "outputs": [],
      "source": [
        "# vector\n",
        "V = np.array([1, 2, 3, 4])\n",
        "V"
      ]
    },
    {
      "cell_type": "code",
      "execution_count": null,
      "metadata": {
        "id": "beA4fJCl2kOY",
        "jupyter": {
          "outputs_hidden": false
        }
      },
      "outputs": [],
      "source": [
        "#2-D array\n",
        "N = np.array([[1,2], [3,4]])\n",
        "N"
      ]
    },
    {
      "cell_type": "markdown",
      "metadata": {
        "id": "i3BHNe0t2kOY"
      },
      "source": [
        "The `V` and `N` objects are both of the type `ndarray` that the `numpy` module provides.\n",
        "You can obtain shape information from an `ndarray` by using the `shape` property. "
      ]
    },
    {
      "cell_type": "code",
      "execution_count": null,
      "metadata": {
        "id": "fAJ417N32kOY",
        "jupyter": {
          "outputs_hidden": false
        }
      },
      "outputs": [],
      "source": [
        "print(V.shape)\n",
        "print(N.shape)"
      ]
    },
    {
      "cell_type": "markdown",
      "metadata": {
        "id": "UYBdkG-s_wpa"
      },
      "source": [
        "You can also check the number of the elements of an array by using the property `size`. You can try it for the arrays `V` and `N` in the following cell."
      ]
    },
    {
      "cell_type": "code",
      "execution_count": null,
      "metadata": {
        "id": "jzvqN02y_xli"
      },
      "outputs": [],
      "source": [
        "V.size"
      ]
    },
    {
      "cell_type": "markdown",
      "metadata": {
        "id": "nfNEGypM2kOZ"
      },
      "source": [
        "You can explicitly define the type of an array by using the `dtype` argument. Common types that can be used with `dtype` are: int, float, complex, bool, object, etc."
      ]
    },
    {
      "cell_type": "code",
      "execution_count": null,
      "metadata": {
        "id": "EFk5LYp82kOZ",
        "jupyter": {
          "outputs_hidden": false
        }
      },
      "outputs": [],
      "source": [
        "N = np.array([[1,2], [3,4]], dtype=float)\n",
        "N"
      ]
    },
    {
      "cell_type": "markdown",
      "metadata": {
        "id": "PQalcyFR2kOZ"
      },
      "source": [
        "If you want to change the type of an array try the function `astype()` of the numpy package. "
      ]
    },
    {
      "cell_type": "code",
      "execution_count": null,
      "metadata": {
        "id": "JPoJCizY2kOZ",
        "jupyter": {
          "outputs_hidden": false
        }
      },
      "outputs": [],
      "source": [
        "N_int = N.astype(int)\n",
        "N_int"
      ]
    },
    {
      "cell_type": "markdown",
      "metadata": {
        "id": "sWMUtRDG2kOZ"
      },
      "source": [
        "### Function-generated arrays\n",
        "For larger arrays it is impractical to initialize the data manually, using explicit python lists. Instead we can use one of the many functions in numpy that generates arrays of different forms. Some of the more common are:\n",
        "   * `arange` , creates an array of consecutive values or by using a specific step-ahead\n",
        "   * `linspace` , numbers over a specified interval \n",
        "   * `random` , array of random numbers\n",
        "   * `zeros` or `ones`, array full of zeros or ones   \n",
        "   \n",
        "Example: Create a vector with values ranging from 2 to 10 with a step of 2"
      ]
    },
    {
      "cell_type": "code",
      "execution_count": null,
      "metadata": {
        "id": "SGwG7kxy2kOZ",
        "jupyter": {
          "outputs_hidden": false
        }
      },
      "outputs": [],
      "source": [
        "#arange\n",
        "array_a = np.arange(2,11,2)\n",
        "array_a"
      ]
    },
    {
      "cell_type": "code",
      "execution_count": null,
      "metadata": {
        "id": "meV5okKs2kOZ",
        "jupyter": {
          "outputs_hidden": false
        }
      },
      "outputs": [],
      "source": [
        "#linspace \n",
        "array_b = np.linspace(2, 11, 5)\n",
        "array_b"
      ]
    },
    {
      "cell_type": "code",
      "execution_count": null,
      "metadata": {
        "id": "0XNaiTtR2kOZ",
        "jupyter": {
          "outputs_hidden": false
        }
      },
      "outputs": [],
      "source": [
        "#random\n",
        "array_c = np.random.random(3)\n",
        "array_c"
      ]
    },
    {
      "cell_type": "code",
      "execution_count": null,
      "metadata": {
        "id": "WYLfWPxs2kOa",
        "jupyter": {
          "outputs_hidden": false
        }
      },
      "outputs": [],
      "source": [
        "#initialization with zeros\n",
        "array_d = np.zeros(5)\n",
        "array_d"
      ]
    },
    {
      "cell_type": "markdown",
      "metadata": {
        "id": "VnUUkaP92kOa"
      },
      "source": [
        "<div class=\"alert alert-success\">\n",
        "\n",
        "<b>EXERCISE</b>: **Create a vector with values ranging from 4 to 19 with steps of 1**\n",
        "</div>"
      ]
    },
    {
      "cell_type": "code",
      "execution_count": null,
      "metadata": {
        "deletable": false,
        "id": "VjWvxkHS2kOa",
        "nbgrader": {
          "cell_type": "code",
          "checksum": "61da9a1adf2c12f7813d3a6493f3c547",
          "grade": true,
          "grade_id": "cell-f13789e200cde150",
          "locked": false,
          "points": 1,
          "schema_version": 3,
          "solution": true,
          "task": false
        }
      },
      "outputs": [],
      "source": [
        "# YOUR CODE HERE\n",
        "raise NotImplementedError()"
      ]
    },
    {
      "cell_type": "markdown",
      "metadata": {
        "id": "hnUmaSuv2kOa"
      },
      "source": [
        "<div class=\"alert alert-success\">\n",
        "\n",
        "<b>EXERCISE</b>: **Create a 5x5 identity matrix (look into docs!)**\n",
        "</div>\n"
      ]
    },
    {
      "cell_type": "code",
      "execution_count": null,
      "metadata": {
        "deletable": false,
        "id": "w6TjlOyF2kOa",
        "nbgrader": {
          "cell_type": "code",
          "checksum": "f54ffade90c5ac27a555d5f1f82937c0",
          "grade": true,
          "grade_id": "cell-382e3b0601ea8b4e",
          "locked": false,
          "points": 1,
          "schema_version": 3,
          "solution": true,
          "task": false
        }
      },
      "outputs": [],
      "source": [
        "# YOUR CODE HERE\n",
        "raise NotImplementedError()"
      ]
    },
    {
      "cell_type": "markdown",
      "metadata": {
        "id": "GpLUNecs2kOa"
      },
      "source": [
        "### Indexing and slicing\n",
        "Indexing and slicing are following the same rationale as in `python lists` (see above). **Remember that the indexing starts from 0.**"
      ]
    },
    {
      "cell_type": "code",
      "execution_count": null,
      "metadata": {
        "id": "4DZf6bku2kOa",
        "jupyter": {
          "outputs_hidden": false
        }
      },
      "outputs": [],
      "source": [
        "# take the 5th element of an array\n",
        "array_e = np.arange(1,11)\n",
        "array_e[4]"
      ]
    },
    {
      "cell_type": "markdown",
      "metadata": {
        "id": "3tIqH_Tz2kOa"
      },
      "source": [
        "For 2D-arrays the first index indicates the index of the row (starting from 0) and the second one the index of the column (again starting from 0). See the example below."
      ]
    },
    {
      "cell_type": "code",
      "execution_count": null,
      "metadata": {
        "id": "9HL0dvE92kOa",
        "jupyter": {
          "outputs_hidden": false
        }
      },
      "outputs": [],
      "source": [
        "#indices of a 2d-array\n",
        "array_f = np.random.random((3,3))\n",
        "print(array_f)\n",
        "element_0_2 = array_f[0,2]\n",
        "print(element_0_2)"
      ]
    },
    {
      "cell_type": "markdown",
      "metadata": {
        "id": "4LDbfms32kOb"
      },
      "source": [
        "We can select an entire row or column by substituting an index with the : symbol"
      ]
    },
    {
      "cell_type": "code",
      "execution_count": null,
      "metadata": {
        "id": "s4DtkhaO2kOb",
        "jupyter": {
          "outputs_hidden": false
        }
      },
      "outputs": [],
      "source": [
        "array_f[:,2] #3rd column"
      ]
    },
    {
      "cell_type": "code",
      "execution_count": null,
      "metadata": {
        "id": "mglTTQsA2kOb",
        "jupyter": {
          "outputs_hidden": false
        }
      },
      "outputs": [],
      "source": [
        "array_f[0,:] #1st row"
      ]
    },
    {
      "cell_type": "markdown",
      "metadata": {
        "id": "bQDMZCiu2kOb"
      },
      "source": [
        "For slicing, we use the same syntax as in lists, i.e., if M is an ndarray we can write `M[start:stop:step]`."
      ]
    },
    {
      "cell_type": "code",
      "execution_count": null,
      "metadata": {
        "id": "y1CeGEau2kOb",
        "jupyter": {
          "outputs_hidden": false
        }
      },
      "outputs": [],
      "source": [
        "array_g = np.arange(10)\n",
        "array_g[1:3]"
      ]
    },
    {
      "cell_type": "markdown",
      "metadata": {
        "id": "61_2pwuM2kOb"
      },
      "source": [
        "We can omit any of the 3 parameters (`start`, `stop`, `step`) selecting the rest of the elements."
      ]
    },
    {
      "cell_type": "code",
      "execution_count": null,
      "metadata": {
        "id": "b5IUwkZS2kOb",
        "jupyter": {
          "outputs_hidden": false
        }
      },
      "outputs": [],
      "source": [
        "#take the values after the index 5 (including the elemenent in the 5th position)\n",
        "array_g[5:]"
      ]
    },
    {
      "cell_type": "code",
      "execution_count": null,
      "metadata": {
        "id": "mYXljDiJ2kOb",
        "jupyter": {
          "outputs_hidden": false
        }
      },
      "outputs": [],
      "source": [
        "#take the values before the index 5 (without the elemenent in the 5th position)\n",
        "array_g[:5]"
      ]
    },
    {
      "cell_type": "markdown",
      "metadata": {
        "id": "UbOrBPaZ2kOb"
      },
      "source": [
        "<div class=\"alert alert-success\">\n",
        "\n",
        "<b>EXERCISE</b>: **Create a null vector of size 10 except for the fifth value which should be equal to 1.**\n",
        "</div> "
      ]
    },
    {
      "cell_type": "code",
      "execution_count": null,
      "metadata": {
        "deletable": false,
        "id": "Xn8yIeof2kOc",
        "nbgrader": {
          "cell_type": "code",
          "checksum": "830e87d23a49e0d6c9ccb1b5474c8e14",
          "grade": true,
          "grade_id": "cell-09e79e2c6c0a57cf",
          "locked": false,
          "points": 2,
          "schema_version": 3,
          "solution": true,
          "task": false
        }
      },
      "outputs": [],
      "source": [
        "# YOUR CODE HERE\n",
        "raise NotImplementedError()"
      ]
    },
    {
      "cell_type": "markdown",
      "metadata": {
        "id": "_SfONFw02kOc"
      },
      "source": [
        "**Fancy indexing**: when an array or a list is used instead of an index. See the example below."
      ]
    },
    {
      "cell_type": "code",
      "execution_count": null,
      "metadata": {
        "id": "_HgwNOG82kOc",
        "jupyter": {
          "outputs_hidden": false
        }
      },
      "outputs": [],
      "source": [
        "ind = [2,4,6]\n",
        "array_i = np.zeros(10) #initialization\n",
        "array_i[ind] = 1 # put 1 in the positions specified by the list \"ind\" \n",
        "array_i"
      ]
    },
    {
      "cell_type": "markdown",
      "metadata": {
        "id": "K8ilFCWl2kOc"
      },
      "source": [
        "**Boolean indexing**: mask out specific elements using as a mask a boolean numpy array.    \n",
        "Example:"
      ]
    },
    {
      "cell_type": "code",
      "execution_count": null,
      "metadata": {
        "id": "X8BEf4Jq2kOc",
        "jupyter": {
          "outputs_hidden": false
        }
      },
      "outputs": [],
      "source": [
        "A = np.arange(1,6)\n",
        "print(A)\n",
        "mask = np.array([True, False, False, True, False])\n",
        "A[mask]"
      ]
    },
    {
      "cell_type": "markdown",
      "metadata": {
        "id": "OqRH1zhn2kOc"
      },
      "source": [
        "We can use this feature to select elements that satisfy specific conditions.   \n",
        "Example:"
      ]
    },
    {
      "cell_type": "code",
      "execution_count": null,
      "metadata": {
        "id": "bb6WiZ5m2kOd",
        "jupyter": {
          "outputs_hidden": false
        }
      },
      "outputs": [],
      "source": [
        "A = np.random.random((3,3))\n",
        "print(A)\n",
        "mask = A > 0.5\n",
        "print(mask)\n",
        "A_masked = A[mask]\n",
        "A_masked"
      ]
    },
    {
      "cell_type": "markdown",
      "metadata": {
        "id": "lqN2sFpJ2kOd"
      },
      "source": [
        "<div class=\"alert alert-success\">\n",
        "\n",
        "<b>EXERCISE</b>: **Change all even numbers into zero-values**\n",
        "</div> \n"
      ]
    },
    {
      "cell_type": "code",
      "execution_count": null,
      "metadata": {
        "deletable": false,
        "id": "GlDdcv922kOd",
        "jupyter": {
          "outputs_hidden": false
        },
        "nbgrader": {
          "cell_type": "code",
          "checksum": "3ef03fa1d55580968715302c3dc9c247",
          "grade": true,
          "grade_id": "cell-e768a1999c0e9134",
          "locked": false,
          "points": 3,
          "schema_version": 3,
          "solution": true,
          "task": false
        }
      },
      "outputs": [],
      "source": [
        "#start by creating an array of 15 elements randomly\n",
        "# YOUR CODE HERE\n",
        "raise NotImplementedError()"
      ]
    },
    {
      "cell_type": "markdown",
      "metadata": {
        "id": "ua_p9Ulp2kOd"
      },
      "source": [
        "### Linear algebra   \n",
        "Vectorizing code is the key to writing efficient numerical calculation with Python/Numpy. That means that as much as possible of a program should be formulated in terms of matrix and vector operations."
      ]
    },
    {
      "cell_type": "code",
      "execution_count": null,
      "metadata": {
        "id": "b7aNPfof2kOd",
        "jupyter": {
          "outputs_hidden": false
        }
      },
      "outputs": [],
      "source": [
        "A = np.arange(25).reshape(5,5)\n",
        "A"
      ]
    },
    {
      "cell_type": "code",
      "execution_count": null,
      "metadata": {
        "id": "dwtT8vKf2kOd",
        "jupyter": {
          "outputs_hidden": false
        }
      },
      "outputs": [],
      "source": [
        "A + 1 + A*2"
      ]
    },
    {
      "cell_type": "markdown",
      "metadata": {
        "id": "M7YXA-DO2kOd"
      },
      "source": [
        "When we add, subtract, multiply and divide arrays with each other, the default behaviour is the element-wise mode:"
      ]
    },
    {
      "cell_type": "code",
      "execution_count": null,
      "metadata": {
        "id": "NmjO715N2kOd",
        "jupyter": {
          "outputs_hidden": false
        }
      },
      "outputs": [],
      "source": [
        "A*A"
      ]
    },
    {
      "cell_type": "markdown",
      "metadata": {
        "id": "bEf_aWg22kOe"
      },
      "source": [
        "Basic operations on numpy arrays (addition, etc.) are elementwise. Nevertheless, It’s also possible to do operations on arrays of different sizes if Numpy can transform these arrays so that they all have the same size: this conversion is called broadcasting."
      ]
    },
    {
      "cell_type": "code",
      "execution_count": null,
      "metadata": {
        "id": "jn8YdO2Z2kOe",
        "jupyter": {
          "outputs_hidden": false
        }
      },
      "outputs": [],
      "source": [
        "x, y = np.arange(5), np.arange(5).reshape((5, 1))\n",
        "import matplotlib.pyplot as plt\n",
        "%matplotlib inline\n",
        "distance = np.sqrt(x ** 2 + y ** 2)\n",
        "distance\n",
        "plt.pcolor(distance)    \n",
        "plt.colorbar()"
      ]
    },
    {
      "cell_type": "markdown",
      "metadata": {
        "id": "BSMZ42qj2kOe"
      },
      "source": [
        "**Matrix algebra**: We can perform matrix multiplication by using two functions: the `matmul()` or the `dot()`.\n",
        "You can see the [docs](https://docs.scipy.org/doc/numpy-1.13.0/reference/generated/numpy.matmul.html) for their difference."
      ]
    },
    {
      "cell_type": "code",
      "execution_count": null,
      "metadata": {
        "id": "aINwVH_C2kOe",
        "jupyter": {
          "outputs_hidden": false
        }
      },
      "outputs": [],
      "source": [
        "np.dot(A,A)"
      ]
    },
    {
      "cell_type": "markdown",
      "metadata": {
        "id": "ybF1GIfa2kOe"
      },
      "source": [
        "**Statistics**: Often it is useful to store datasets in Numpy arrays. Numpy provides a number of functions to calculate statistics of datasets in arrays."
      ]
    },
    {
      "cell_type": "code",
      "execution_count": null,
      "metadata": {
        "id": "EAGgv2Kh2kOe",
        "jupyter": {
          "outputs_hidden": false
        }
      },
      "outputs": [],
      "source": [
        "a = np.random.random(40)\n",
        "print('Mean value is', np.mean(a))\n",
        "print('Median value is',  np.median(a))\n",
        "print('Std is', np.std(a))\n",
        "print('Variance is', np.var(a))\n",
        "print('Min is', a.min())\n",
        "print('Element of minimum value is', a.argmin())\n",
        "print('Max is', a.max())\n",
        "print('Sum is', np.sum(a))\n",
        "print('Prod', np.prod(a))\n",
        "print('Cumsum is', np.cumsum(a)[-1])\n",
        "print('CumProd of 5 first elements is', np.cumprod(a)[4])\n",
        "print('Unique values in this array are:', np.unique(np.random.randint(1,6,10)))\n",
        "print('85% Percentile value is: ', np.percentile(a, 85))"
      ]
    },
    {
      "cell_type": "markdown",
      "metadata": {
        "id": "-tlkcYnG2kOe"
      },
      "source": [
        "**Sorting**"
      ]
    },
    {
      "cell_type": "code",
      "execution_count": null,
      "metadata": {
        "id": "y3Uwi0qn2kOe",
        "jupyter": {
          "outputs_hidden": false
        }
      },
      "outputs": [],
      "source": [
        "a = np.random.random(40)\n",
        "print(a.argsort()) # Returns the indices that would sort an array.\n",
        "a.sort() #sorts in place!\n",
        "print(a.argsort())"
      ]
    },
    {
      "cell_type": "markdown",
      "metadata": {
        "id": "y8W3ZoWW2kOf"
      },
      "source": [
        "**Concatenating arrays**"
      ]
    },
    {
      "cell_type": "code",
      "execution_count": null,
      "metadata": {
        "id": "xtD5X4EN2kOf",
        "jupyter": {
          "outputs_hidden": false
        }
      },
      "outputs": [],
      "source": [
        "a = np.array([[1,2], [2,4]])\n",
        "b = np.array([[5,6]])\n",
        "print(np.concatenate((a, b), axis = 0))\n",
        "print(np.concatenate((a, b.T), axis = 1)) # use .T to transpose a matrix"
      ]
    },
    {
      "cell_type": "markdown",
      "metadata": {
        "id": "LrSQBfsm2kOf"
      },
      "source": [
        "### View and copy\n",
        "As mentioned before in the introduction to basic Python, assignments in Python usually do not copy the underlying objects, but keep the same memory space attached to an object. This improves the performance, and is important for example when objects are passed between functions, to avoid an excessive amount of memory copying when it is not necessary (technical term: pass by reference). To circumvent this, the copy-function can be used."
      ]
    },
    {
      "cell_type": "code",
      "execution_count": null,
      "metadata": {
        "id": "_pobxL132kOf",
        "jupyter": {
          "outputs_hidden": false
        }
      },
      "outputs": [],
      "source": [
        "A = np.array([[1, 2], [3, 4]])\n",
        "B = A # Same memory space as A; changing B will change A!\n",
        "C = A.copy() # New object, new memory space.\n",
        "B[0,0] = 5\n",
        "print(A)\n",
        "C[0,0] = 10\n",
        "print(A)\n",
        "print(C)"
      ]
    },
    {
      "cell_type": "markdown",
      "metadata": {
        "id": "tLuk2fqS5eqA"
      },
      "source": [
        "<div class=\"alert alert-success\">\n",
        "\n",
        "<b>EXERCISE</b>:  **Write the following system of equations in the matrix form (Y = A * X) and solve it using NumPy. Check that it worked.**\n",
        "</div> \n",
        "\n",
        "> $2.x_1 + x_2 +x_3 = 9$ <br /> \n",
        "> $x_1 +2.x_2 + x_4 = 8 $ <br />\n",
        "> $x_1 + 2.x_2 + 3.x_3 + 2.x_4 = 7 $ <br />\n",
        "> $2.x_2 + x_3 +2.x_4 = 6 $"
      ]
    },
    {
      "cell_type": "code",
      "execution_count": null,
      "metadata": {
        "deletable": false,
        "nbgrader": {
          "cell_type": "code",
          "checksum": "04017f2ff119f7d78226aa032b7f68be",
          "grade": true,
          "grade_id": "cell-b983d5f3b06190b9",
          "locked": false,
          "points": 5,
          "schema_version": 3,
          "solution": true,
          "task": false
        },
        "id": "4tqAGJ8I7exi"
      },
      "outputs": [],
      "source": [
        "# YOUR CODE HERE\n",
        "raise NotImplementedError()"
      ]
    },
    {
      "cell_type": "markdown",
      "metadata": {
        "id": "QeD9lAsI2kOf",
        "toc-hr-collapsed": true
      },
      "source": [
        "## 3. Pandas data structures\n",
        "For data-intensive work in Python the Pandas library has become essential. Pandas is designed to work with tabular or structured data (like R dataframe, SQL table, Excel spreadsheet, etc.).  \n",
        "What is pandas?\n",
        "* Pandas can be thought of as special arrays where columns represent variables and rows observations. In contrast to NumPy arrays, it gives better support for heterogeneous data types.\n",
        "\n",
        "* Powerful for working with missing data, working with time series data, for reading and writing your data, for reshaping, grouping, merging your data, etc."
      ]
    },
    {
      "cell_type": "code",
      "execution_count": null,
      "metadata": {
        "id": "qdyRbDoG2kOf"
      },
      "outputs": [],
      "source": [
        "# import pandas package\n",
        "import pandas as pd"
      ]
    },
    {
      "cell_type": "markdown",
      "metadata": {
        "id": "itkFIF1x2kOf"
      },
      "source": [
        "### Data structures    \n",
        "Pandas consists of two fundamental object types, both built upon NumPy arrays: the Series object, and the DataFrame object.    \n",
        "\n",
        "**Series**   \n",
        "A Series is a basic holder for one-dimensional labeled data. It can be created much as a NumPy array is created:"
      ]
    },
    {
      "cell_type": "code",
      "execution_count": null,
      "metadata": {
        "id": "YYaTWdDy2kOg",
        "jupyter": {
          "outputs_hidden": false
        }
      },
      "outputs": [],
      "source": [
        "s = pd.Series([0.1, 0.2, 0.3, 0.4])\n",
        "s"
      ]
    },
    {
      "cell_type": "markdown",
      "metadata": {
        "id": "46xoxg5O2kOg"
      },
      "source": [
        "The difference with the numpy arrays is that in series we can use various indexing ways.  \n",
        "We can take the indices and the values of the data structure `s` by using the following properties.\n"
      ]
    },
    {
      "cell_type": "code",
      "execution_count": null,
      "metadata": {
        "id": "vpP1hh-02kOg",
        "jupyter": {
          "outputs_hidden": false
        }
      },
      "outputs": [],
      "source": [
        "print(s.index)\n",
        "print(s.values)"
      ]
    },
    {
      "cell_type": "markdown",
      "metadata": {
        "id": "wU69aYfC2kOg"
      },
      "source": [
        "We can also explicitly define the indexing of a series:"
      ]
    },
    {
      "cell_type": "code",
      "execution_count": null,
      "metadata": {
        "id": "gCqRAzeM2kOg",
        "jupyter": {
          "outputs_hidden": false
        }
      },
      "outputs": [],
      "source": [
        "s2 = pd.Series(np.arange(4), index=['a', 'b', 'c', 'd'])\n",
        "print(s2)\n",
        "print(s2['d']) #print the value of the series in the position 'd'"
      ]
    },
    {
      "cell_type": "markdown",
      "metadata": {
        "id": "c5VluFgG2kOg"
      },
      "source": [
        "A Series object is similar to an **ordered** dictionary in which each key is mapped to a specific value.   \n",
        "In fact, it's possible to construct a series directly from a Python dictionary:"
      ]
    },
    {
      "cell_type": "code",
      "execution_count": null,
      "metadata": {
        "id": "0hexomDg2kOg",
        "jupyter": {
          "outputs_hidden": false
        }
      },
      "outputs": [],
      "source": [
        "pop_dict = {'Germany': 81.3, \n",
        "            'Belgium': 11.3, \n",
        "            'France': 64.3, \n",
        "            'United Kingdom': 64.9, \n",
        "            'Netherlands': 16.9}\n",
        "population = pd.Series(pop_dict)\n",
        "population"
      ]
    },
    {
      "cell_type": "markdown",
      "metadata": {
        "id": "5mLVQlKK2kOg"
      },
      "source": [
        "Slicing and indexing works as expected:"
      ]
    },
    {
      "cell_type": "code",
      "execution_count": null,
      "metadata": {
        "id": "EO_njlI22kOh",
        "jupyter": {
          "outputs_hidden": false
        }
      },
      "outputs": [],
      "source": [
        "print(population['Germany'])\n",
        "print(population[population > 60]) #remember boolean indexing \n",
        "print(population['France':'Netherlands'])"
      ]
    },
    {
      "cell_type": "markdown",
      "metadata": {
        "id": "0POo_XKz2kOh"
      },
      "source": [
        "Element-wise operations:"
      ]
    },
    {
      "cell_type": "code",
      "execution_count": null,
      "metadata": {
        "id": "z_m1JUm-2kOh",
        "jupyter": {
          "outputs_hidden": false
        }
      },
      "outputs": [],
      "source": [
        "population / 100"
      ]
    },
    {
      "cell_type": "markdown",
      "metadata": {
        "id": "-UQBmD-C2kOh"
      },
      "source": [
        "Useful functions:"
      ]
    },
    {
      "cell_type": "code",
      "execution_count": null,
      "metadata": {
        "id": "V9IUxGTZ2kOh",
        "jupyter": {
          "outputs_hidden": false
        }
      },
      "outputs": [],
      "source": [
        "print(population.mean())\n",
        "print(population.max())"
      ]
    },
    {
      "cell_type": "markdown",
      "metadata": {
        "id": "ET1Cb_ef2kOh"
      },
      "source": [
        "**DataFrames: Multi-dimensional Data**   \n",
        "A DataFrame is a tablular data structure (multi-dimensional object to hold labeled data) comprised of rows and columns, akin to a spreadsheet, database table, or R's data.frame object. You can think of it as multiple Series objects that share the same index.   \n",
        "\n",
        "One of the most common ways of creating a dataframe is from a dictionary of arrays or lists."
      ]
    },
    {
      "cell_type": "code",
      "execution_count": null,
      "metadata": {
        "id": "2kADghfG2kOh",
        "jupyter": {
          "outputs_hidden": false
        }
      },
      "outputs": [],
      "source": [
        "data = {'country': ['Belgium', 'France', 'Germany', 'Netherlands', 'United Kingdom'],\n",
        "        'population': [11.3, 64.3, 81.3, 16.9, 64.9],\n",
        "        'area': [30510, 671308, 357050, 41526, 244820],\n",
        "        'capital': ['Brussels', 'Paris', 'Berlin', 'Amsterdam', 'London']}\n",
        "countries = pd.DataFrame(data)\n",
        "countries"
      ]
    },
    {
      "cell_type": "markdown",
      "metadata": {
        "id": "6eJjKW_G2kOh"
      },
      "source": [
        "A DataFrame has besides an index attribute, also a columns attribute:"
      ]
    },
    {
      "cell_type": "code",
      "execution_count": null,
      "metadata": {
        "id": "gbbnpzQ52kOh",
        "jupyter": {
          "outputs_hidden": false
        }
      },
      "outputs": [],
      "source": [
        "countries.columns"
      ]
    },
    {
      "cell_type": "markdown",
      "metadata": {
        "id": "z5u2xB0Y2kOh"
      },
      "source": [
        "An overview of that information can be given with the info() method:"
      ]
    },
    {
      "cell_type": "code",
      "execution_count": null,
      "metadata": {
        "id": "ZyOhRxlP2kOi",
        "jupyter": {
          "outputs_hidden": false
        }
      },
      "outputs": [],
      "source": [
        "countries.info()"
      ]
    },
    {
      "cell_type": "markdown",
      "metadata": {
        "id": "4z_SEc2b2kOi"
      },
      "source": [
        "To access a Series representing a column in the data, use typical indexing syntax:"
      ]
    },
    {
      "cell_type": "code",
      "execution_count": null,
      "metadata": {
        "id": "LXc9A_Ra2kOi",
        "jupyter": {
          "outputs_hidden": false
        }
      },
      "outputs": [],
      "source": [
        "countries['capital']"
      ]
    },
    {
      "cell_type": "markdown",
      "metadata": {
        "id": "2jDRlxk42kOi"
      },
      "source": [
        "If we don't like what the index looks like, we can reset it and set one of our columns:\n"
      ]
    },
    {
      "cell_type": "code",
      "execution_count": null,
      "metadata": {
        "id": "BC8914kf2kOi",
        "jupyter": {
          "outputs_hidden": false
        }
      },
      "outputs": [],
      "source": [
        "countries = countries.set_index('country')\n",
        "countries"
      ]
    },
    {
      "cell_type": "markdown",
      "metadata": {
        "id": "MbIuT5JB2kOi"
      },
      "source": [
        "Adding a new column to the dataframe is very simple:"
      ]
    },
    {
      "cell_type": "code",
      "execution_count": null,
      "metadata": {
        "id": "aYsc3hK12kOi",
        "jupyter": {
          "outputs_hidden": false
        }
      },
      "outputs": [],
      "source": [
        "countries['density'] = countries['population']*1000000 / countries['area']\n",
        "countries"
      ]
    },
    {
      "cell_type": "markdown",
      "metadata": {
        "id": "U4Q5icmY2kOi"
      },
      "source": [
        "Masking also works as expected:"
      ]
    },
    {
      "cell_type": "code",
      "execution_count": null,
      "metadata": {
        "id": "2FgkxYSr2kOi",
        "jupyter": {
          "outputs_hidden": false
        }
      },
      "outputs": [],
      "source": [
        "countries[countries['density'] > 300]"
      ]
    },
    {
      "cell_type": "markdown",
      "metadata": {
        "id": "zHgdLQSd2kOj"
      },
      "source": [
        "One useful method to use is the describe method, which computes summary statistics for each column:"
      ]
    },
    {
      "cell_type": "code",
      "execution_count": null,
      "metadata": {
        "id": "8lS_cPp42kOj",
        "jupyter": {
          "outputs_hidden": false
        }
      },
      "outputs": [],
      "source": [
        "countries.describe()"
      ]
    },
    {
      "cell_type": "markdown",
      "metadata": {
        "id": "artTD5xA2kOj"
      },
      "source": [
        "For more advanced indexing, you have some extra attributes:   \n",
        "* loc: selection by label   \n",
        "* iloc: selection by position"
      ]
    },
    {
      "cell_type": "code",
      "execution_count": null,
      "metadata": {
        "id": "Bg3oFium2kOj",
        "jupyter": {
          "outputs_hidden": false
        }
      },
      "outputs": [],
      "source": [
        "countries.loc['Germany', 'area']"
      ]
    },
    {
      "cell_type": "markdown",
      "metadata": {
        "id": "BOsKIgHu2kOj"
      },
      "source": [
        "Similar to numpy indexing, you can use `iloc`:"
      ]
    },
    {
      "cell_type": "code",
      "execution_count": null,
      "metadata": {
        "id": "OAi_wunQ2kOj",
        "jupyter": {
          "outputs_hidden": false
        }
      },
      "outputs": [],
      "source": [
        "countries.iloc[2, 0]"
      ]
    },
    {
      "cell_type": "markdown",
      "metadata": {
        "id": "VB-VuH_92kOj"
      },
      "source": [
        "### Plotting\n",
        "We can visualize the data by using the packages matplotlib and seaborn:"
      ]
    },
    {
      "cell_type": "code",
      "execution_count": null,
      "metadata": {
        "id": "0M5XO4fX2kOj"
      },
      "outputs": [],
      "source": [
        "%matplotlib inline\n",
        "import matplotlib.pyplot as plt\n",
        "import seaborn\n",
        "%matplotlib inline\n",
        "plt.style.use('seaborn-white')"
      ]
    },
    {
      "cell_type": "code",
      "execution_count": null,
      "metadata": {
        "id": "T1YWIG762kOk",
        "jupyter": {
          "outputs_hidden": false
        }
      },
      "outputs": [],
      "source": [
        "countries.plot()"
      ]
    },
    {
      "cell_type": "markdown",
      "metadata": {
        "id": "uxSwEpW52kOk"
      },
      "source": [
        "This plot is not so informative though, but we can visualise the data of each column separately.   \n",
        "You can also  play with the different keywords: 'line', 'bar', 'hist', 'density', 'area', 'pie', 'scatter', 'hexbin'   \n",
        "See the examples below."
      ]
    },
    {
      "cell_type": "code",
      "execution_count": null,
      "metadata": {
        "id": "mc61gjG12kOk",
        "jupyter": {
          "outputs_hidden": false
        }
      },
      "outputs": [],
      "source": [
        "countries['population'].plot(kind='bar')"
      ]
    },
    {
      "cell_type": "code",
      "execution_count": null,
      "metadata": {
        "id": "5zWC3ffc2kOk",
        "jupyter": {
          "outputs_hidden": false
        }
      },
      "outputs": [],
      "source": [
        "countries['population'].plot(kind='pie')"
      ]
    },
    {
      "cell_type": "markdown",
      "metadata": {
        "id": "OWu5sBGZ2kOk"
      },
      "source": [
        "For examining possible correlations, a scatter plot is usually quite useful: "
      ]
    },
    {
      "cell_type": "code",
      "execution_count": null,
      "metadata": {
        "id": "lukYE2VF2kOl",
        "jupyter": {
          "outputs_hidden": false
        }
      },
      "outputs": [],
      "source": [
        "countries.plot.scatter('population', 'area')"
      ]
    },
    {
      "cell_type": "markdown",
      "metadata": {
        "id": "p5r4yMn72kOl"
      },
      "source": [
        "**Reading from file**     \n",
        "A wide range of input/output formats are natively supported by pandas:   \n",
        "* CSV, text\n",
        "* SQL database\n",
        "* Excel\n",
        "* HDF5\n",
        "* json\n",
        "* html\n",
        "* pickle   \n",
        "etc.\n",
        "\n"
      ]
    },
    {
      "cell_type": "markdown",
      "metadata": {
        "id": "f05wzQkA2kOl"
      },
      "source": [
        "## 4. The iris example \n",
        "For the rest of our first lab we will explore the *iris* dataset, which is stored as a .csv file. This famous (Fisher’s or Anderson’s) iris dataset contains measurements (in centimeters) of the sepal length and width and petal length and width,\n",
        "respectively, of 120 iris flowers. Each of these flowers belongs to one of 3 species of iris. These species\n",
        "are Iris setosa, I. versicolor, and I. virginica. \n",
        "To do it so, we should firstly load the data as:"
      ]
    },
    {
      "cell_type": "code",
      "execution_count": null,
      "metadata": {
        "id": "39IUPDww6z7L"
      },
      "outputs": [],
      "source": [
        "!gdown --id 1XUttA8ZOZBDWx58O-XBCsHB6HAerA6-b"
      ]
    },
    {
      "cell_type": "code",
      "execution_count": null,
      "metadata": {
        "id": "W9jhbHCv6h4E"
      },
      "outputs": [],
      "source": [
        "!wget -O pc5.py https://drive.google.com/file/d/1uKo1XRIeKUfN3CM7yybQwFRI36TYIzgK/view?usp=sharing"
      ]
    },
    {
      "cell_type": "code",
      "execution_count": null,
      "metadata": {
        "id": "14g3pK6r2kOl",
        "jupyter": {
          "outputs_hidden": false
        }
      },
      "outputs": [],
      "source": [
        "iris = pd.read_csv('iris.csv')"
      ]
    },
    {
      "cell_type": "code",
      "execution_count": null,
      "metadata": {
        "id": "F2ynk1Sf2kOl",
        "jupyter": {
          "outputs_hidden": false
        }
      },
      "outputs": [],
      "source": [
        "iris.head()"
      ]
    },
    {
      "cell_type": "markdown",
      "metadata": {
        "id": "gSvKU-jb2kOl"
      },
      "source": [
        "<div class=\"alert alert-success\">\n",
        "\n",
        "<b>EXERCISE</b>: **Calculate the basic statistics for the dataset**\n",
        "</div> \n"
      ]
    },
    {
      "cell_type": "code",
      "execution_count": null,
      "metadata": {
        "deletable": false,
        "id": "ji6Ihj8-2kOl",
        "jupyter": {
          "outputs_hidden": false
        },
        "nbgrader": {
          "cell_type": "code",
          "checksum": "de8e6941bb44be1d3a6f6aca48c8a75e",
          "grade": true,
          "grade_id": "cell-6c10af3104de6d21",
          "locked": false,
          "points": 1,
          "schema_version": 3,
          "solution": true,
          "task": false
        }
      },
      "outputs": [],
      "source": [
        "# YOUR CODE HERE\n",
        "raise NotImplementedError()"
      ]
    },
    {
      "cell_type": "markdown",
      "metadata": {
        "id": "3N1KJm6M2kOl"
      },
      "source": [
        "<div class=\"alert alert-success\">\n",
        "\n",
        "<b>EXERCISE</b>: **Create a scatter plot of the “sepal length” versus the “sepal width”.**\n",
        "</div>  "
      ]
    },
    {
      "cell_type": "code",
      "execution_count": null,
      "metadata": {
        "deletable": false,
        "id": "gi7b97m22kOl",
        "jupyter": {
          "outputs_hidden": false
        },
        "nbgrader": {
          "cell_type": "code",
          "checksum": "3f8c8656cd2e3811e9a775d8e36f6447",
          "grade": true,
          "grade_id": "cell-f3988cc16557ca96",
          "locked": false,
          "points": 1,
          "schema_version": 3,
          "solution": true,
          "task": false
        }
      },
      "outputs": [],
      "source": [
        "# YOUR CODE HERE\n",
        "raise NotImplementedError()"
      ]
    },
    {
      "cell_type": "markdown",
      "metadata": {
        "id": "pHkKF9Vx2kOl"
      },
      "source": [
        "<div class=\"alert alert-success\">\n",
        "\n",
        "<b>EXERCISE</b>: **Create a frequency histogram of the variable “sepal length”.**\n",
        "</div>      "
      ]
    },
    {
      "cell_type": "code",
      "execution_count": null,
      "metadata": {
        "deletable": false,
        "id": "4Qa_Dydz2kOm",
        "jupyter": {
          "outputs_hidden": false
        },
        "nbgrader": {
          "cell_type": "code",
          "checksum": "c3f669b4ae07e75afb308353929d34db",
          "grade": true,
          "grade_id": "cell-9e6e90e15dbcb052",
          "locked": false,
          "points": 2,
          "schema_version": 3,
          "solution": true,
          "task": false
        }
      },
      "outputs": [],
      "source": [
        "# YOUR CODE HERE\n",
        "raise NotImplementedError()"
      ]
    },
    {
      "cell_type": "markdown",
      "metadata": {
        "id": "v0IYlvFg2kOm"
      },
      "source": [
        "<div class=\"alert alert-success\">\n",
        "\n",
        "<b>EXERCISE</b>: **Create a scatter plot of the \"petal length\" versus the \"petal width\" incorporating the species information as well.**     \n",
        "Hint! You can use 'replace' functions or 'cat.codes', see docs, to transform categorical data to numeric values\n",
        "</div>  \n",
        "\n"
      ]
    },
    {
      "cell_type": "code",
      "execution_count": null,
      "metadata": {
        "deletable": false,
        "id": "zh-Pa4h12kOm",
        "jupyter": {
          "outputs_hidden": false
        },
        "nbgrader": {
          "cell_type": "code",
          "checksum": "92592c7a922fab7b12ee67b7d463cd91",
          "grade": true,
          "grade_id": "cell-07b9e9078354c675",
          "locked": false,
          "points": 4,
          "schema_version": 3,
          "solution": true,
          "task": false
        }
      },
      "outputs": [],
      "source": [
        "# YOUR CODE HERE\n",
        "raise NotImplementedError()"
      ]
    },
    {
      "cell_type": "markdown",
      "metadata": {
        "id": "joRAg_MyjiDl"
      },
      "source": [
        "## 5. Python classes \n",
        "Python is an object-oriented programming language. With this philosophy, creating and using classes and instances becomes really easy."
      ]
    },
    {
      "cell_type": "markdown",
      "metadata": {
        "id": "LOtOtHqIkXV7"
      },
      "source": [
        "### Create a class\n",
        "Classes work like a blueprint for the creation of objects."
      ]
    },
    {
      "cell_type": "code",
      "execution_count": null,
      "metadata": {
        "id": "YtYnP9vrkW14"
      },
      "outputs": [],
      "source": [
        "class Student:\n",
        "    pass"
      ]
    },
    {
      "cell_type": "markdown",
      "metadata": {
        "id": "LuR99IM6lHyE"
      },
      "source": [
        "### Define what happens when a user creates an instance of the class\n",
        "This is done by defining a method called .__init__(). For every new Student object we create, .__init__() sets the initial state of the instance's attributes."
      ]
    },
    {
      "cell_type": "code",
      "execution_count": null,
      "metadata": {
        "id": "2pDOVgnflHHJ"
      },
      "outputs": [],
      "source": [
        "class Student:\n",
        "    def __init__(self, name, surname, age, gender, courses):\n",
        "        self.name = name\n",
        "        self.surname = surname\n",
        "        self.age = age\n",
        "        self.gender = gender\n",
        "        self.courses = courses"
      ]
    },
    {
      "cell_type": "markdown",
      "metadata": {
        "id": "W8QJ_uH6nR4v"
      },
      "source": [
        "\n",
        "### Instantiate an Object\n"
      ]
    },
    {
      "cell_type": "code",
      "execution_count": null,
      "metadata": {
        "id": "M5dyqO7mnaCD"
      },
      "outputs": [],
      "source": [
        "Student()"
      ]
    },
    {
      "cell_type": "code",
      "execution_count": null,
      "metadata": {
        "id": "a_xCXDZ5ndSQ"
      },
      "outputs": [],
      "source": [
        "std1 = Student(\"John\", \"Doe\", 20, \"M\", [\"Biology\", \"Linear Algebra\", \"Predictive Modeling\"])"
      ]
    },
    {
      "cell_type": "markdown",
      "metadata": {
        "id": "hxUISjlqoO41"
      },
      "source": [
        "### Accessing the instance's attributes\n",
        "This can be easily done using dot notation."
      ]
    },
    {
      "cell_type": "code",
      "execution_count": null,
      "metadata": {
        "id": "txAwGw6Zoqwj"
      },
      "outputs": [],
      "source": [
        "std1"
      ]
    },
    {
      "cell_type": "code",
      "execution_count": null,
      "metadata": {
        "id": "zYD3Gj7RoAbD"
      },
      "outputs": [],
      "source": [
        "std1.age"
      ]
    },
    {
      "cell_type": "markdown",
      "metadata": {
        "id": "ziSqZyc6pH4w"
      },
      "source": [
        "### Modifying the attribute of an instance\n",
        "You can change the .age attribute of the Student object really easily.\n",
        "\n",
        "Custom objects are mutable. An object is mutable if it can be dynamically updated. Objects like lists and dictionaries are mutable, but strings and tuples are not."
      ]
    },
    {
      "cell_type": "code",
      "execution_count": null,
      "metadata": {
        "id": "xQv0mK6oooiY"
      },
      "outputs": [],
      "source": [
        "std1.age = 21"
      ]
    },
    {
      "cell_type": "code",
      "execution_count": null,
      "metadata": {
        "id": "3UANuAmOp675"
      },
      "outputs": [],
      "source": [
        "std1.age"
      ]
    },
    {
      "cell_type": "markdown",
      "metadata": {
        "id": "Mln2m42JqEdy"
      },
      "source": [
        "### Instance Methods\n",
        "Instance methods are functions defined in a class and can only be called from an instance of that class. "
      ]
    },
    {
      "cell_type": "code",
      "execution_count": null,
      "metadata": {
        "id": "ksDU7KY2p-fu"
      },
      "outputs": [],
      "source": [
        "class Student:\n",
        "    def __init__(self, name, surname, age, gender, courses):\n",
        "        self.name = name\n",
        "        self.surname = surname\n",
        "        self.age = age\n",
        "        self.gender = gender\n",
        "        self.courses = courses\n",
        "\n",
        "    # Instance method\n",
        "    def get_num_courses(self):\n",
        "        return len(self.courses)\n",
        "\n",
        "    # Another instance method\n",
        "    def get_full_name(self):\n",
        "        return self.name +' '+self.surname"
      ]
    },
    {
      "cell_type": "code",
      "execution_count": null,
      "metadata": {
        "id": "9hDa4TI8stFo"
      },
      "outputs": [],
      "source": [
        "std1 = Student(\"John\", \"Doe\", 20, \"M\", [\"Biology\", \"Linear Algebra\", \"Predictive Modeling\"])"
      ]
    },
    {
      "cell_type": "code",
      "execution_count": null,
      "metadata": {
        "id": "oN_-UzF-stwQ"
      },
      "outputs": [],
      "source": [
        "std1.get_full_name()"
      ]
    }
  ],
  "metadata": {
    "colab": {
      "collapsed_sections": [
        "pPSaD-uH2kOX"
      ],
      "provenance": []
    },
    "kernelspec": {
      "display_name": "Python 3",
      "language": "python",
      "name": "python3"
    },
    "language_info": {
      "codemirror_mode": {
        "name": "ipython",
        "version": 3
      },
      "file_extension": ".py",
      "mimetype": "text/x-python",
      "name": "python",
      "nbconvert_exporter": "python",
      "pygments_lexer": "ipython3",
      "version": "3.9.0"
    },
    "toc-autonumbering": false
  },
  "nbformat": 4,
  "nbformat_minor": 0
}