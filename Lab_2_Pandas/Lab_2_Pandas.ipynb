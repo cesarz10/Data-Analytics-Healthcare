{
 "cells": [
  {
   "cell_type": "markdown",
   "id": "e2f696b2",
   "metadata": {},
   "source": [
    "### Submission guidelines"
   ]
  },
  {
   "cell_type": "markdown",
   "id": "0b5df323",
   "metadata": {},
   "source": [
    "1. Fill in your name in the notebook in the top cell.\n",
    "2. Fill in the gaps in the code where indicated. <br> Make sure that you:<br> - fill in any place that says `YOUR CODE HERE` or \"YOUR ANSWER HERE\" <br> - **do not leave any `raise NotImplementedErrors`** in the code\n",
    "3. Do **NOT change the variable names**, however, you can add comments in the code.\n",
    "4. Do **NOT remove any of the cells** of the notebook!\n",
    "5. Discussion is allowed, but every student needs to hand a personal version of the lab. Plagiarism will be sanctioned!   \n",
    "6. Before submitting, restart your kernel & **make sure that every cell runs**.<br>Code that doesn't run will not be scored.<br>The notebooks with all source code, and optional extra files need to be handed in using Ufora.<br> Make sure all your notebooks are already executed when you upload them (i.e. there should be output after the cells). \n",
    "7. **Zip** your lab assignment folder and name the archive: `Surname_Name.zip` <br> Keep the same folder structure as the provided lab assignment!<br><span style='color: red'>Do not rename any of the notebooks or files</span>!<br>\n",
    "\n"
   ]
  },
  {
   "cell_type": "code",
   "execution_count": 1,
   "id": "82f66fb8",
   "metadata": {},
   "outputs": [],
   "source": [
    "NAME = \"Cesar Zapata\""
   ]
  },
  {
   "cell_type": "markdown",
   "id": "069ee9cc",
   "metadata": {},
   "source": [
    "\n",
    "Final tip: make sure you have answered every question and filled in all the required code by running through the notebook and searching for *YOUR ANSWER HERE* and *YOUR CODE HERE*!\n",
    "\n",
    "Good luck!"
   ]
  },
  {
   "cell_type": "markdown",
   "id": "170b1993",
   "metadata": {},
   "source": [
    "---"
   ]
  },
  {
   "cell_type": "markdown",
   "id": "046ab63c",
   "metadata": {
    "deletable": false,
    "editable": false,
    "nbgrader": {
     "cell_type": "markdown",
     "checksum": "4c4284eef7cd788ffc0c957f4b28a1fc",
     "grade": false,
     "grade_id": "cell-03c0a153a463fd61",
     "locked": true,
     "schema_version": 3,
     "solution": false,
     "task": false
    }
   },
   "source": [
    "# Lab: Pandas\n",
    "\n",
    "This lab will focus on data cleanup, analysis and visualization.\n",
    "\n",
    "Three new libraries will be used: *matplotlib* and *seaborn*, both visualization libraries, and *pandas* a data manipulation library. While Pandas does share some functionality with SQL in regards to data manipulation, Pandas is often more easy to use in an interactive way, as is typically done in data exploration (assuming one is more fluent in Python than SQL).\n",
    "\n",
    "Pandas enables us to use DataFrames. A DataFrame is a two-dimensional size-mutable, potentially heterogeneous tabular data structure with labeled axes (rows and columns).\n",
    "A dataframe can be created from a numpy ndarray, a list of dictionaries, and many other options.\n",
    "Dataframes support many types of data manipulation operations and can be used to plot the data in various ways.\n",
    "Throughout this lab you will have to get familiar with pandas. The [pandas API documentation](https://pandas.pydata.org/pandas-docs/stable/reference/index.html) wil be your first source of information to check when you want to know more about pandas. A second handy reference is the [Pandas Cheat Sheet](https://pandas.pydata.org/Pandas_Cheat_Sheet.pdf).\n",
    "\n",
    "If this is your first pandas experience, we advise to do the [10 minutes of pandas](https://pandas.pydata.org/pandas-docs/stable/getting_started/10min.html).\n",
    "\n",
    "Note that all exercises in this lab are meant to be solved using Pandas. Avoid coding functionality that is already available in Pandas. (For example, you should not need any `for` loop in your code!)"
   ]
  },
  {
   "cell_type": "markdown",
   "id": "d22befa7",
   "metadata": {
    "deletable": false,
    "editable": false,
    "nbgrader": {
     "cell_type": "markdown",
     "checksum": "84e05d09801835055dd60c41b5193ddf",
     "grade": false,
     "grade_id": "cell-507427f5fb812905",
     "locked": true,
     "schema_version": 3,
     "solution": false,
     "task": false
    }
   },
   "source": [
    "## Mimic-III\n",
    "\n",
    "This lab uses data from the Mimic dataset. However, to avoid SQL queries, we will work with local data (and limit ourselves to the smaller tables).\n",
    "\n",
    "You can refer to online sources for more details on the data format:\n",
    "- https://mimic.physionet.org/gettingstarted/overview/\n",
    "- https://mit-lcp.github.io/mimic-schema-spy/tables/patients.html"
   ]
  },
  {
   "cell_type": "code",
   "execution_count": 1,
   "id": "e3705251",
   "metadata": {
    "deletable": false,
    "editable": false,
    "nbgrader": {
     "cell_type": "code",
     "checksum": "92d4f84e7146e43138e73cd80c7b03a8",
     "grade": false,
     "grade_id": "cell-7ca84038321ac8e2",
     "locked": true,
     "schema_version": 3,
     "solution": false,
     "task": false
    }
   },
   "outputs": [],
   "source": [
    "import pandas as pd\n",
    "import numpy as np\n",
    "import matplotlib.pyplot as plt\n",
    "import seaborn as sns\n",
    "\n",
    "%matplotlib inline"
   ]
  },
  {
   "cell_type": "code",
   "execution_count": 145,
   "id": "0603cec3",
   "metadata": {},
   "outputs": [
    {
     "name": "stdout",
     "output_type": "stream",
     "text": [
      "Fill in the hostname!\n"
     ]
    }
   ],
   "source": [
    "# Either load in the data using the database credentials from last lab.\n",
    "import psycopg2\n",
    "\n",
    "try:\n",
    "    conn = psycopg2.connect(dbname='mimic',\n",
    "                            user='student',\n",
    "                            password='dahcc',\n",
    "                            host=\"193.190.127.226\",\n",
    "                            port=5432,\n",
    "                            options='-c statement_timeout=15s')\n",
    "\n",
    "    admissions = pd.read_sql_query(\"SELECT * FROM mimiciii.admissions;\", conn)\n",
    "    patients = pd.read_sql_query(\"SELECT * FROM mimiciii.patients;\", conn)\n",
    "    items = pd.read_sql_query(\"SELECT * FROM mimiciii.d_items;\", conn)\n",
    "except psycopg2.OperationalError:\n",
    "    print(\"Fill in the hostname!\")\n",
    "\n",
    "# Or load them by downloading the files from the MIMIC website.\n",
    "# These CSV files are part of the MIMIC-III dataset: https://mimic.physionet.org/gettingstarted/dbsetup/\n",
    "\n",
    "admissions = pd.read_csv('data/ADMISSIONS.csv', parse_dates=['ADMITTIME', 'DISCHTIME', 'EDREGTIME', 'EDOUTTIME']).rename(columns=str.lower)\n",
    "patients = pd.read_csv('data/PATIENTS.csv', parse_dates=['DOB', 'DOD', 'DOD_HOSP', 'DOD_SSN']).rename(columns=str.lower)\n",
    "items = pd.read_csv('data/D_ITEMS.csv').rename(columns=str.lower)"
   ]
  },
  {
   "cell_type": "code",
   "execution_count": 146,
   "id": "16bb7b8a",
   "metadata": {
    "deletable": false,
    "editable": false,
    "nbgrader": {
     "cell_type": "code",
     "checksum": "05313c197664e4856ba54ce11a18658f",
     "grade": true,
     "grade_id": "cell-4c997ff3d47c3c15",
     "locked": true,
     "points": 0,
     "schema_version": 3,
     "solution": false,
     "task": false
    }
   },
   "outputs": [],
   "source": [
    "# Note: if you use the downloaded files, do not include them in your submission to Ufora.\n"
   ]
  },
  {
   "cell_type": "code",
   "execution_count": 147,
   "id": "d105b9d0",
   "metadata": {},
   "outputs": [
    {
     "data": {
      "text/html": [
       "<div>\n",
       "<style scoped>\n",
       "    .dataframe tbody tr th:only-of-type {\n",
       "        vertical-align: middle;\n",
       "    }\n",
       "\n",
       "    .dataframe tbody tr th {\n",
       "        vertical-align: top;\n",
       "    }\n",
       "\n",
       "    .dataframe thead th {\n",
       "        text-align: right;\n",
       "    }\n",
       "</style>\n",
       "<table border=\"1\" class=\"dataframe\">\n",
       "  <thead>\n",
       "    <tr style=\"text-align: right;\">\n",
       "      <th></th>\n",
       "      <th>row_id</th>\n",
       "      <th>subject_id</th>\n",
       "      <th>hadm_id</th>\n",
       "      <th>admittime</th>\n",
       "      <th>dischtime</th>\n",
       "      <th>deathtime</th>\n",
       "      <th>admission_type</th>\n",
       "      <th>admission_location</th>\n",
       "      <th>discharge_location</th>\n",
       "      <th>insurance</th>\n",
       "      <th>language</th>\n",
       "      <th>religion</th>\n",
       "      <th>marital_status</th>\n",
       "      <th>ethnicity</th>\n",
       "      <th>edregtime</th>\n",
       "      <th>edouttime</th>\n",
       "      <th>diagnosis</th>\n",
       "      <th>hospital_expire_flag</th>\n",
       "      <th>has_chartevents_data</th>\n",
       "    </tr>\n",
       "  </thead>\n",
       "  <tbody>\n",
       "    <tr>\n",
       "      <th>0</th>\n",
       "      <td>21</td>\n",
       "      <td>22</td>\n",
       "      <td>165315</td>\n",
       "      <td>2196-04-09 12:26:00</td>\n",
       "      <td>2196-04-10 15:54:00</td>\n",
       "      <td>NaN</td>\n",
       "      <td>EMERGENCY</td>\n",
       "      <td>EMERGENCY ROOM ADMIT</td>\n",
       "      <td>DISC-TRAN CANCER/CHLDRN H</td>\n",
       "      <td>Private</td>\n",
       "      <td>NaN</td>\n",
       "      <td>UNOBTAINABLE</td>\n",
       "      <td>MARRIED</td>\n",
       "      <td>WHITE</td>\n",
       "      <td>2196-04-09 10:06:00</td>\n",
       "      <td>2196-04-09 13:24:00</td>\n",
       "      <td>BENZODIAZEPINE OVERDOSE</td>\n",
       "      <td>0</td>\n",
       "      <td>1</td>\n",
       "    </tr>\n",
       "    <tr>\n",
       "      <th>1</th>\n",
       "      <td>22</td>\n",
       "      <td>23</td>\n",
       "      <td>152223</td>\n",
       "      <td>2153-09-03 07:15:00</td>\n",
       "      <td>2153-09-08 19:10:00</td>\n",
       "      <td>NaN</td>\n",
       "      <td>ELECTIVE</td>\n",
       "      <td>PHYS REFERRAL/NORMAL DELI</td>\n",
       "      <td>HOME HEALTH CARE</td>\n",
       "      <td>Medicare</td>\n",
       "      <td>NaN</td>\n",
       "      <td>CATHOLIC</td>\n",
       "      <td>MARRIED</td>\n",
       "      <td>WHITE</td>\n",
       "      <td>NaT</td>\n",
       "      <td>NaT</td>\n",
       "      <td>CORONARY ARTERY DISEASE\\CORONARY ARTERY BYPASS...</td>\n",
       "      <td>0</td>\n",
       "      <td>1</td>\n",
       "    </tr>\n",
       "    <tr>\n",
       "      <th>2</th>\n",
       "      <td>23</td>\n",
       "      <td>23</td>\n",
       "      <td>124321</td>\n",
       "      <td>2157-10-18 19:34:00</td>\n",
       "      <td>2157-10-25 14:00:00</td>\n",
       "      <td>NaN</td>\n",
       "      <td>EMERGENCY</td>\n",
       "      <td>TRANSFER FROM HOSP/EXTRAM</td>\n",
       "      <td>HOME HEALTH CARE</td>\n",
       "      <td>Medicare</td>\n",
       "      <td>ENGL</td>\n",
       "      <td>CATHOLIC</td>\n",
       "      <td>MARRIED</td>\n",
       "      <td>WHITE</td>\n",
       "      <td>NaT</td>\n",
       "      <td>NaT</td>\n",
       "      <td>BRAIN MASS</td>\n",
       "      <td>0</td>\n",
       "      <td>1</td>\n",
       "    </tr>\n",
       "    <tr>\n",
       "      <th>3</th>\n",
       "      <td>24</td>\n",
       "      <td>24</td>\n",
       "      <td>161859</td>\n",
       "      <td>2139-06-06 16:14:00</td>\n",
       "      <td>2139-06-09 12:48:00</td>\n",
       "      <td>NaN</td>\n",
       "      <td>EMERGENCY</td>\n",
       "      <td>TRANSFER FROM HOSP/EXTRAM</td>\n",
       "      <td>HOME</td>\n",
       "      <td>Private</td>\n",
       "      <td>NaN</td>\n",
       "      <td>PROTESTANT QUAKER</td>\n",
       "      <td>SINGLE</td>\n",
       "      <td>WHITE</td>\n",
       "      <td>NaT</td>\n",
       "      <td>NaT</td>\n",
       "      <td>INTERIOR MYOCARDIAL INFARCTION</td>\n",
       "      <td>0</td>\n",
       "      <td>1</td>\n",
       "    </tr>\n",
       "    <tr>\n",
       "      <th>4</th>\n",
       "      <td>25</td>\n",
       "      <td>25</td>\n",
       "      <td>129635</td>\n",
       "      <td>2160-11-02 02:06:00</td>\n",
       "      <td>2160-11-05 14:55:00</td>\n",
       "      <td>NaN</td>\n",
       "      <td>EMERGENCY</td>\n",
       "      <td>EMERGENCY ROOM ADMIT</td>\n",
       "      <td>HOME</td>\n",
       "      <td>Private</td>\n",
       "      <td>NaN</td>\n",
       "      <td>UNOBTAINABLE</td>\n",
       "      <td>MARRIED</td>\n",
       "      <td>WHITE</td>\n",
       "      <td>2160-11-02 01:01:00</td>\n",
       "      <td>2160-11-02 04:27:00</td>\n",
       "      <td>ACUTE CORONARY SYNDROME</td>\n",
       "      <td>0</td>\n",
       "      <td>1</td>\n",
       "    </tr>\n",
       "  </tbody>\n",
       "</table>\n",
       "</div>"
      ],
      "text/plain": [
       "   row_id  subject_id  hadm_id           admittime           dischtime  \\\n",
       "0      21          22   165315 2196-04-09 12:26:00 2196-04-10 15:54:00   \n",
       "1      22          23   152223 2153-09-03 07:15:00 2153-09-08 19:10:00   \n",
       "2      23          23   124321 2157-10-18 19:34:00 2157-10-25 14:00:00   \n",
       "3      24          24   161859 2139-06-06 16:14:00 2139-06-09 12:48:00   \n",
       "4      25          25   129635 2160-11-02 02:06:00 2160-11-05 14:55:00   \n",
       "\n",
       "  deathtime admission_type         admission_location  \\\n",
       "0       NaN      EMERGENCY       EMERGENCY ROOM ADMIT   \n",
       "1       NaN       ELECTIVE  PHYS REFERRAL/NORMAL DELI   \n",
       "2       NaN      EMERGENCY  TRANSFER FROM HOSP/EXTRAM   \n",
       "3       NaN      EMERGENCY  TRANSFER FROM HOSP/EXTRAM   \n",
       "4       NaN      EMERGENCY       EMERGENCY ROOM ADMIT   \n",
       "\n",
       "          discharge_location insurance language           religion  \\\n",
       "0  DISC-TRAN CANCER/CHLDRN H   Private      NaN       UNOBTAINABLE   \n",
       "1           HOME HEALTH CARE  Medicare      NaN           CATHOLIC   \n",
       "2           HOME HEALTH CARE  Medicare     ENGL           CATHOLIC   \n",
       "3                       HOME   Private      NaN  PROTESTANT QUAKER   \n",
       "4                       HOME   Private      NaN       UNOBTAINABLE   \n",
       "\n",
       "  marital_status ethnicity           edregtime           edouttime  \\\n",
       "0        MARRIED     WHITE 2196-04-09 10:06:00 2196-04-09 13:24:00   \n",
       "1        MARRIED     WHITE                 NaT                 NaT   \n",
       "2        MARRIED     WHITE                 NaT                 NaT   \n",
       "3         SINGLE     WHITE                 NaT                 NaT   \n",
       "4        MARRIED     WHITE 2160-11-02 01:01:00 2160-11-02 04:27:00   \n",
       "\n",
       "                                           diagnosis  hospital_expire_flag  \\\n",
       "0                            BENZODIAZEPINE OVERDOSE                     0   \n",
       "1  CORONARY ARTERY DISEASE\\CORONARY ARTERY BYPASS...                     0   \n",
       "2                                         BRAIN MASS                     0   \n",
       "3                     INTERIOR MYOCARDIAL INFARCTION                     0   \n",
       "4                            ACUTE CORONARY SYNDROME                     0   \n",
       "\n",
       "   has_chartevents_data  \n",
       "0                     1  \n",
       "1                     1  \n",
       "2                     1  \n",
       "3                     1  \n",
       "4                     1  "
      ]
     },
     "execution_count": 147,
     "metadata": {},
     "output_type": "execute_result"
    }
   ],
   "source": [
    "admissions.head(5)"
   ]
  },
  {
   "cell_type": "code",
   "execution_count": 148,
   "id": "9f4afcb9",
   "metadata": {},
   "outputs": [
    {
     "data": {
      "text/html": [
       "<div>\n",
       "<style scoped>\n",
       "    .dataframe tbody tr th:only-of-type {\n",
       "        vertical-align: middle;\n",
       "    }\n",
       "\n",
       "    .dataframe tbody tr th {\n",
       "        vertical-align: top;\n",
       "    }\n",
       "\n",
       "    .dataframe thead th {\n",
       "        text-align: right;\n",
       "    }\n",
       "</style>\n",
       "<table border=\"1\" class=\"dataframe\">\n",
       "  <thead>\n",
       "    <tr style=\"text-align: right;\">\n",
       "      <th></th>\n",
       "      <th>row_id</th>\n",
       "      <th>subject_id</th>\n",
       "      <th>gender</th>\n",
       "      <th>dob</th>\n",
       "      <th>dod</th>\n",
       "      <th>dod_hosp</th>\n",
       "      <th>dod_ssn</th>\n",
       "      <th>expire_flag</th>\n",
       "    </tr>\n",
       "  </thead>\n",
       "  <tbody>\n",
       "    <tr>\n",
       "      <th>0</th>\n",
       "      <td>234</td>\n",
       "      <td>249</td>\n",
       "      <td>F</td>\n",
       "      <td>2075-03-13</td>\n",
       "      <td>NaT</td>\n",
       "      <td>NaT</td>\n",
       "      <td>NaT</td>\n",
       "      <td>0</td>\n",
       "    </tr>\n",
       "    <tr>\n",
       "      <th>1</th>\n",
       "      <td>235</td>\n",
       "      <td>250</td>\n",
       "      <td>F</td>\n",
       "      <td>2164-12-27</td>\n",
       "      <td>2188-11-22</td>\n",
       "      <td>2188-11-22</td>\n",
       "      <td>NaT</td>\n",
       "      <td>1</td>\n",
       "    </tr>\n",
       "    <tr>\n",
       "      <th>2</th>\n",
       "      <td>236</td>\n",
       "      <td>251</td>\n",
       "      <td>M</td>\n",
       "      <td>2090-03-15</td>\n",
       "      <td>NaT</td>\n",
       "      <td>NaT</td>\n",
       "      <td>NaT</td>\n",
       "      <td>0</td>\n",
       "    </tr>\n",
       "    <tr>\n",
       "      <th>3</th>\n",
       "      <td>237</td>\n",
       "      <td>252</td>\n",
       "      <td>M</td>\n",
       "      <td>2078-03-06</td>\n",
       "      <td>NaT</td>\n",
       "      <td>NaT</td>\n",
       "      <td>NaT</td>\n",
       "      <td>0</td>\n",
       "    </tr>\n",
       "    <tr>\n",
       "      <th>4</th>\n",
       "      <td>238</td>\n",
       "      <td>253</td>\n",
       "      <td>F</td>\n",
       "      <td>2089-11-26</td>\n",
       "      <td>NaT</td>\n",
       "      <td>NaT</td>\n",
       "      <td>NaT</td>\n",
       "      <td>0</td>\n",
       "    </tr>\n",
       "  </tbody>\n",
       "</table>\n",
       "</div>"
      ],
      "text/plain": [
       "   row_id  subject_id gender        dob        dod   dod_hosp dod_ssn  \\\n",
       "0     234         249      F 2075-03-13        NaT        NaT     NaT   \n",
       "1     235         250      F 2164-12-27 2188-11-22 2188-11-22     NaT   \n",
       "2     236         251      M 2090-03-15        NaT        NaT     NaT   \n",
       "3     237         252      M 2078-03-06        NaT        NaT     NaT   \n",
       "4     238         253      F 2089-11-26        NaT        NaT     NaT   \n",
       "\n",
       "   expire_flag  \n",
       "0            0  \n",
       "1            1  \n",
       "2            0  \n",
       "3            0  \n",
       "4            0  "
      ]
     },
     "execution_count": 148,
     "metadata": {},
     "output_type": "execute_result"
    }
   ],
   "source": [
    "patients.head(5)"
   ]
  },
  {
   "cell_type": "code",
   "execution_count": 149,
   "id": "1962b375",
   "metadata": {},
   "outputs": [
    {
     "data": {
      "text/html": [
       "<div>\n",
       "<style scoped>\n",
       "    .dataframe tbody tr th:only-of-type {\n",
       "        vertical-align: middle;\n",
       "    }\n",
       "\n",
       "    .dataframe tbody tr th {\n",
       "        vertical-align: top;\n",
       "    }\n",
       "\n",
       "    .dataframe thead th {\n",
       "        text-align: right;\n",
       "    }\n",
       "</style>\n",
       "<table border=\"1\" class=\"dataframe\">\n",
       "  <thead>\n",
       "    <tr style=\"text-align: right;\">\n",
       "      <th></th>\n",
       "      <th>row_id</th>\n",
       "      <th>itemid</th>\n",
       "      <th>label</th>\n",
       "      <th>abbreviation</th>\n",
       "      <th>dbsource</th>\n",
       "      <th>linksto</th>\n",
       "      <th>category</th>\n",
       "      <th>unitname</th>\n",
       "      <th>param_type</th>\n",
       "      <th>conceptid</th>\n",
       "    </tr>\n",
       "  </thead>\n",
       "  <tbody>\n",
       "    <tr>\n",
       "      <th>0</th>\n",
       "      <td>457</td>\n",
       "      <td>497</td>\n",
       "      <td>Patient controlled analgesia (PCA) [Inject]</td>\n",
       "      <td>NaN</td>\n",
       "      <td>carevue</td>\n",
       "      <td>chartevents</td>\n",
       "      <td>NaN</td>\n",
       "      <td>NaN</td>\n",
       "      <td>NaN</td>\n",
       "      <td>NaN</td>\n",
       "    </tr>\n",
       "    <tr>\n",
       "      <th>1</th>\n",
       "      <td>458</td>\n",
       "      <td>498</td>\n",
       "      <td>PCA Lockout (Min)</td>\n",
       "      <td>NaN</td>\n",
       "      <td>carevue</td>\n",
       "      <td>chartevents</td>\n",
       "      <td>NaN</td>\n",
       "      <td>NaN</td>\n",
       "      <td>NaN</td>\n",
       "      <td>NaN</td>\n",
       "    </tr>\n",
       "    <tr>\n",
       "      <th>2</th>\n",
       "      <td>459</td>\n",
       "      <td>499</td>\n",
       "      <td>PCA Medication</td>\n",
       "      <td>NaN</td>\n",
       "      <td>carevue</td>\n",
       "      <td>chartevents</td>\n",
       "      <td>NaN</td>\n",
       "      <td>NaN</td>\n",
       "      <td>NaN</td>\n",
       "      <td>NaN</td>\n",
       "    </tr>\n",
       "    <tr>\n",
       "      <th>3</th>\n",
       "      <td>460</td>\n",
       "      <td>500</td>\n",
       "      <td>PCA Total Dose</td>\n",
       "      <td>NaN</td>\n",
       "      <td>carevue</td>\n",
       "      <td>chartevents</td>\n",
       "      <td>NaN</td>\n",
       "      <td>NaN</td>\n",
       "      <td>NaN</td>\n",
       "      <td>NaN</td>\n",
       "    </tr>\n",
       "    <tr>\n",
       "      <th>4</th>\n",
       "      <td>461</td>\n",
       "      <td>501</td>\n",
       "      <td>PCV Exh Vt (Obser)</td>\n",
       "      <td>NaN</td>\n",
       "      <td>carevue</td>\n",
       "      <td>chartevents</td>\n",
       "      <td>NaN</td>\n",
       "      <td>NaN</td>\n",
       "      <td>NaN</td>\n",
       "      <td>NaN</td>\n",
       "    </tr>\n",
       "  </tbody>\n",
       "</table>\n",
       "</div>"
      ],
      "text/plain": [
       "   row_id  itemid                                        label abbreviation  \\\n",
       "0     457     497  Patient controlled analgesia (PCA) [Inject]          NaN   \n",
       "1     458     498                            PCA Lockout (Min)          NaN   \n",
       "2     459     499                               PCA Medication          NaN   \n",
       "3     460     500                               PCA Total Dose          NaN   \n",
       "4     461     501                           PCV Exh Vt (Obser)          NaN   \n",
       "\n",
       "  dbsource      linksto category unitname param_type  conceptid  \n",
       "0  carevue  chartevents      NaN      NaN        NaN        NaN  \n",
       "1  carevue  chartevents      NaN      NaN        NaN        NaN  \n",
       "2  carevue  chartevents      NaN      NaN        NaN        NaN  \n",
       "3  carevue  chartevents      NaN      NaN        NaN        NaN  \n",
       "4  carevue  chartevents      NaN      NaN        NaN        NaN  "
      ]
     },
     "execution_count": 149,
     "metadata": {},
     "output_type": "execute_result"
    }
   ],
   "source": [
    "items.head(5)"
   ]
  },
  {
   "cell_type": "markdown",
   "id": "02b609af",
   "metadata": {
    "deletable": false,
    "editable": false,
    "nbgrader": {
     "cell_type": "markdown",
     "checksum": "4ce5e6720ce3553469f9f5bf33d4b282",
     "grade": false,
     "grade_id": "cell-fc4585b5c2b96b21",
     "locked": true,
     "schema_version": 3,
     "solution": false,
     "task": false
    }
   },
   "source": [
    "## Data Cleanup\n",
    "\n",
    "Data quality can depend quite a bit depending on the source of the data. Luckily, the MIMIC dataset already has good quality as it is based on the database dumps.\n",
    "\n",
    "**Verify all ids in all tables are unique.**"
   ]
  },
  {
   "cell_type": "code",
   "execution_count": 150,
   "id": "25df0779",
   "metadata": {
    "deletable": false,
    "nbgrader": {
     "cell_type": "code",
     "checksum": "28bc460fa7d9f8ec5e66502db3bc1d24",
     "grade": false,
     "grade_id": "cell-013086c790bf7224",
     "locked": false,
     "schema_version": 3,
     "solution": true,
     "task": false
    }
   },
   "outputs": [
    {
     "name": "stdout",
     "output_type": "stream",
     "text": [
      "unique subject ids: 46520\n",
      "subject records: 46520\n",
      "\n",
      "unique admissions: 58976\n",
      "admission records: 58976\n",
      "unique item ids: 12487\n",
      "item records: 12483\n"
     ]
    }
   ],
   "source": [
    "number_unique_subject_ids = patients['subject_id'].nunique()\n",
    "number_subject_records = patients['subject_id'].count()\n",
    "number_unique_admission_ids = admissions['hadm_id'].nunique()\n",
    "number_admission_records = admissions['hadm_id'].count()\n",
    "number_unique_item_ids = items['itemid'].nunique()\n",
    "number_item_records = items['label'].count()\n",
    "\n",
    "print(f\"unique subject ids: {number_unique_subject_ids}\\nsubject records: {number_subject_records}\\n\")\n",
    "print(f\"unique admissions: {number_unique_admission_ids}\\nadmission records: {number_admission_records}\")\n",
    "print(f\"unique item ids: {number_unique_item_ids}\\nitem records: {number_item_records}\")\n",
    "\n",
    "# Every id in the tables is unique!"
   ]
  },
  {
   "cell_type": "code",
   "execution_count": 151,
   "id": "8cdbc649",
   "metadata": {
    "deletable": false,
    "editable": false,
    "nbgrader": {
     "cell_type": "code",
     "checksum": "662ccd437cb2e639b4bea634a0fda095",
     "grade": true,
     "grade_id": "cell-c2b61fc07c1b2e2a",
     "locked": true,
     "points": 1,
     "schema_version": 3,
     "solution": false,
     "task": false
    }
   },
   "outputs": [
    {
     "name": "stdout",
     "output_type": "stream",
     "text": [
      "Subjects: 46520 46520\n",
      "Admissions: 58976 58976\n",
      "Items: 12487 12483\n"
     ]
    }
   ],
   "source": [
    "print(\"Subjects:\", number_unique_subject_ids, number_subject_records)\n",
    "print(\"Admissions:\", number_unique_admission_ids, number_admission_records)\n",
    "print(\"Items:\", number_unique_item_ids, number_item_records)\n"
   ]
  },
  {
   "cell_type": "markdown",
   "id": "70c03aee",
   "metadata": {
    "deletable": false,
    "editable": false,
    "nbgrader": {
     "cell_type": "markdown",
     "checksum": "4d1d67aa30831b1ace5b730fff0238cd",
     "grade": false,
     "grade_id": "cell-3ba41f8d97f7b789",
     "locked": true,
     "schema_version": 3,
     "solution": false,
     "task": false
    }
   },
   "source": [
    "The [D_ITEMS documentation](https://mimic.physionet.org/mimictables/d_items/) mentions that the entries originate from 2 different databases, so multiple itemids exist for the same label.\n",
    "**Find ALL labels that have multiple itemids. (Assume only perfect matches are duplicates, do not bother with abbreviations.)**"
   ]
  },
  {
   "cell_type": "code",
   "execution_count": 152,
   "id": "539f8b68",
   "metadata": {},
   "outputs": [
    {
     "data": {
      "text/html": [
       "<div>\n",
       "<style scoped>\n",
       "    .dataframe tbody tr th:only-of-type {\n",
       "        vertical-align: middle;\n",
       "    }\n",
       "\n",
       "    .dataframe tbody tr th {\n",
       "        vertical-align: top;\n",
       "    }\n",
       "\n",
       "    .dataframe thead th {\n",
       "        text-align: right;\n",
       "    }\n",
       "</style>\n",
       "<table border=\"1\" class=\"dataframe\">\n",
       "  <thead>\n",
       "    <tr style=\"text-align: right;\">\n",
       "      <th></th>\n",
       "      <th>row_id</th>\n",
       "      <th>itemid</th>\n",
       "      <th>label</th>\n",
       "      <th>abbreviation</th>\n",
       "      <th>dbsource</th>\n",
       "      <th>linksto</th>\n",
       "      <th>category</th>\n",
       "      <th>unitname</th>\n",
       "      <th>param_type</th>\n",
       "      <th>conceptid</th>\n",
       "    </tr>\n",
       "  </thead>\n",
       "  <tbody>\n",
       "    <tr>\n",
       "      <th>475</th>\n",
       "      <td>212</td>\n",
       "      <td>211</td>\n",
       "      <td>Heart Rate</td>\n",
       "      <td>NaN</td>\n",
       "      <td>carevue</td>\n",
       "      <td>chartevents</td>\n",
       "      <td>NaN</td>\n",
       "      <td>NaN</td>\n",
       "      <td>NaN</td>\n",
       "      <td>NaN</td>\n",
       "    </tr>\n",
       "    <tr>\n",
       "      <th>11498</th>\n",
       "      <td>12712</td>\n",
       "      <td>220045</td>\n",
       "      <td>Heart Rate</td>\n",
       "      <td>HR</td>\n",
       "      <td>metavision</td>\n",
       "      <td>chartevents</td>\n",
       "      <td>Routine Vital Signs</td>\n",
       "      <td>bpm</td>\n",
       "      <td>Numeric</td>\n",
       "      <td>NaN</td>\n",
       "    </tr>\n",
       "  </tbody>\n",
       "</table>\n",
       "</div>"
      ],
      "text/plain": [
       "       row_id  itemid       label abbreviation    dbsource      linksto  \\\n",
       "475       212     211  Heart Rate          NaN     carevue  chartevents   \n",
       "11498   12712  220045  Heart Rate           HR  metavision  chartevents   \n",
       "\n",
       "                  category unitname param_type  conceptid  \n",
       "475                    NaN      NaN        NaN        NaN  \n",
       "11498  Routine Vital Signs      bpm    Numeric        NaN  "
      ]
     },
     "execution_count": 152,
     "metadata": {},
     "output_type": "execute_result"
    }
   ],
   "source": [
    "# E.g.: \"Heart Rate\" is a duplicate label\n",
    "items[(items.itemid == 211) | (items.itemid == 220045)]"
   ]
  },
  {
   "cell_type": "code",
   "execution_count": 153,
   "id": "7be1156e",
   "metadata": {
    "deletable": false,
    "nbgrader": {
     "cell_type": "code",
     "checksum": "913778884c67ffe2339062e87b25c6e5",
     "grade": false,
     "grade_id": "cell-7169c8a0401934dc",
     "locked": false,
     "schema_version": 3,
     "solution": true,
     "task": false
    }
   },
   "outputs": [
    {
     "name": "stdout",
     "output_type": "stream",
     "text": [
      "['2ND ISOLATE', 'ALBUMIN', 'ALCOHOL', 'ALCOHOL 10%DRIP G/HR', 'ALCOHOL 5% DRIP G/HR', 'ALCOHOL GTT ML/HR', 'ALT', 'APROTANIN', 'APROTININE', 'APROTONIN', 'ART Lumen Volume', 'AST', 'ATG', 'Abdominal Assessment', 'Acetylcysteine', 'Acetylcysteine mg/hr', 'Activity', 'Activity Tolerance', 'Acyclovir', 'Adenosine', 'Airway Type', 'Albumin', 'Albumin 25%', 'Albumin 5%', 'Alcohol Gm/hour', 'Ambisome', 'Aminophylline', 'Aminosyn 3.5%', 'Amiodarone', 'Amiodarone mg/hr', 'Ammonia', 'Amphotericin', 'Ampicillin', 'Amylase', 'Anxiety', 'Apnea Interval', 'Aprotinin cc/hr', 'Argatroban', 'Arterial Base Excess', 'Arterial Line ordered on POE', 'Arterial line sutured', 'Assistance Device', 'Assisted Systole', 'Ataxia', 'Ativan', 'Auditory Disturbance', 'Augmented Diastole', 'Autofluorescence AF (Bronch)', 'BAEDP', 'BLADDER PRESSURE', 'BUN', 'Back Care', 'Barrier precautions in place (A-Line)', 'Barrier precautions in place (Bronch)', 'Barrier precautions in place (Intubation)', 'Barrier precautions in place (LP)', 'Barrier precautions in place (PACEN)', 'Barrier precautions in place (THCEN)', 'Baseline Current/mA', 'Bath', 'Bed Bath', 'Behavior', 'Bicarb', 'Bivalirudin', 'Bladder Irrigation', 'Bladder Pressure', 'Blood (EBV)', 'Bougie (Intubation)', 'Bowel Sounds', 'Braden Activity', 'Braden Mobility', 'Braden Moisture', 'Braden Nutrition', 'Brushings (Bronch)', 'Bupivacaine', 'C.O.', 'CA GLUCONATE', 'CAM-ICU Disorganized thinking', 'CAM-ICU Inattention', 'CARIPORIDE', 'CARIPORIDE CC/HR', 'CARIPORIDE ML/HR', 'CARIPROSIDE', 'CEFAZOLIN', 'CT #1 Crepitus', 'CT #1 Drainage', 'CT #1 Dressing', 'CT #1 Suction Amount', 'CT #2 Crepitus', 'CT #2 Drainage', 'CT #2 Dressing', 'CT #2 Suction Amount', 'CT #3 Crepitus', 'CT #3 Drainage', 'CT #3 Dressing', 'CT #3 Suction Amount', 'CT #4 Crepitus', 'CT #4 Drainage', 'CT #4 Dressing', 'CT #4 Suction Amount', 'CT scan', 'CT site', 'CVP Alarm [High]', 'CVP Alarm [Low]', 'Ca++ Gluconate', 'Calcium', 'Calcium Chloride', 'Calcium Gluconate', 'Cath Lab Intake', 'Cefazolin', 'Ceftazidime', 'Cell Saver', 'Central Line ordered on POE', 'Cervical Collar Type', 'Chest Tube Site #3', 'Chest Tube Site #4', 'Chest X-Ray', 'Cholesterol', 'Circulation/Skin Integrity', 'Cisat mcg/kg/hr', 'Cisat mcg/kg/min', 'Cisatracurium', 'Citrate', 'Clindamycin', 'Code Status', 'Collar Care', 'Communication', 'Conscious sedation used (Bronch)', 'Corneal Reflex Left', 'Corneal Reflex Right', 'Cough Effort', 'Cough Reflex', 'Cough Type', 'Cough/Deep Breath', 'Creatinine', 'Cryoprecipitate', 'Cuff Pressure', 'Current Goal', 'Cyclosporin', 'Cyclosporine', 'D-Dimer', 'D10W bolus', 'D5 Aminosyn 3.5%', 'D5NS', 'D5W', 'D5W & 40Gm CaGluc', 'DRAIN FLUSH', 'Daily Wake Up', 'Daily Wake Up Deferred', 'Daily Weight', 'Demerol', 'Dextran', 'Dextran 40', 'Dextrose 10%', 'Dextrose 20%', 'Dialysis Access Site', 'Dialysis Access Type', 'Diet Type', 'Differential-Atyps', 'Differential-Bands', 'Differential-Basos', 'Differential-Eos', 'Differential-Lymphs', 'Differential-Monos', 'Digoxin', 'Dilantin', 'Diltiazem', 'Dobutamine', 'Dopamine', 'Doppler BP', 'Dressing applied and dated (LP)', 'Dressing applied and dated (PACEN)', 'Dressing applied and dated (THCEN)', 'Drowsiness', 'ECMO', 'EEG', 'EKG', 'EPIDURAL', 'ETOH Grams/hour', 'ETT Position Change', 'ETT Re-taped', 'Ectopy Frequency 2', 'Ectopy Type 2', 'Education Barrier', 'Education Handout', 'Education Learner', 'Education Method', 'Education Readiness', 'Education Response', 'Emesis', 'Endobronchial ultrasound (EBUS) (Bronch)', 'Ensure', 'Ensure Plus', 'Epidural', 'Epidural Appearance', 'Epidural Location', 'Epidural Medication', 'Epinephrine', 'Erythromycin', 'Esmolol', 'Eye Care', 'FENOLDOPAM', 'FK506', 'FLOLAN', 'FLUID,OTHER', 'FUSOBACTERIUM SPECIES', 'Face to Face Eval (Violent)', 'Facial Droop', 'Factor VIII', 'Family Communication', 'Fentanyl', 'Fibrinogen', 'Fick (PA line)', 'Flatus', 'Flolan', 'Fluconazole', 'Folate', 'Foley', 'Folic Acid', 'Follow-up X-RAY Ordered (PICC)', 'Follow-up X-RAY Ordered (THCEN)', 'Follow-up X-RAYordered (PA Line)', 'Follow-up chest X-RAY ordered (CVL)', 'Follows Commands', 'Fosphenytoin', 'Free Water', 'Fresh Frozen Plasma', 'GI #1 Tube Place Check', 'GI #1 Tube Place Method', 'GI #2 Tube Place Check', 'GI #2 Tube Place Method', 'GI #3 Tube Place Check', 'GI #3 Tube Place Method', 'GI Tube #1 [Site]', 'GI Tube #2 [Site]', 'GT Flush', 'GU Catheter Size', 'Gag Reflex', 'Gastric Meds', 'Gentamicin', 'Glucagon infusion', 'Graft/Flap Pulse', 'HR Alarm [High]', 'HR Alarm [Low]', 'Hand Cleansing Prior to Procedure (PICC)', 'Hand Cleansing prior to procedure (Intubation)', 'Hand cleansing prior to procedure (A-Line)', 'Hand cleansing prior to procedure (Bronch)', 'Hand cleansing prior to procedure (CVL)', 'Hand cleansing prior to procedure (LP)', 'Hand cleansing prior to procedure (PA Line)', 'Hand cleansing prior to procedure (PACEN)', 'Hand cleansing prior to procedure (THCEN)', 'Head of Bed', 'Headache', 'Health Care Proxy', 'Heart Rate', 'Heart Rhythm', 'Heart Sounds', 'Heliox', 'Hemodialysis', 'Hemoglobin', 'Hep Flush', 'Hernia', 'Hernia [Left]', 'Hernia [Right]', 'Hydralazine', 'IABP Mean', 'INR', 'IV #1 [Location]', 'IV #2 [Location]', 'IV #3 [Location]', 'IV #4 [Location]', 'IV #5 [Location]', 'IVIG', 'IVPPI', 'Immediate complications (CVL)', 'Immediate complications (PICC)', 'Incentive Spirometry', 'Insertion kit used (A-Line)', 'Insertion kit used (CVL)', 'Insertion kit used (PA line)', 'Insertion kit used (PACEN)', 'Insertion kit used (PICC Line)', 'Insertion kit used (THCEN)', 'Insomnia', 'Inspiratory Time', 'Insulin', 'Ionized Calcium', 'Is alternative vascular access present (CVL)', 'Isoproterenol', 'Isuprel', 'JP DRAIN', 'K Phos', 'K phos', 'KCL', 'KETAMINE MG/HR', 'KPHOS', 'KPhos', 'Keflex', 'Ketamine', 'Ketamine 100mg/50ml', 'Kphos', 'LDH', 'LL Strength/Movement', 'LLL Lung Sounds', 'LR', 'LU Strength/Movement', 'LUL Lung Sounds', 'LUMBAR DRAIN', 'Lactic Acid', 'Lasix', 'Lepirudin', 'Lidocaine', 'Lipase', 'Lipids 20%', 'Lumbar Puncture', 'MEROPENEM', 'METHYLPRED 450MG/HR', 'MVI', 'Magnesium', 'Magnesium Sulfate', 'Mannitol', 'Mannitol 20%', 'Marital Status', 'Mean Airway Pressure', 'Meropenem', 'Methylprednisolone', 'MgSO4', 'Midazolam', 'Milrinone', 'Minute Volume', 'Mixed Venous O2% Sat', 'Morphine Sulfate', 'Mucomyst', 'Multivitamin', 'NMB Medication', 'NS Bolus', 'NS bolus', 'Na Phos', 'Narcan', 'Nasal Congestion', 'Nasogastric', 'Nerve Stimulated', 'Nesiritide', 'Neuro Drain Landmark', 'Neuro Symptoms', 'Nicardipine', 'Nicardipine (mg/h)', 'Nicardipine gtt', 'Nicardipine mg/hr', 'Nipple Type', 'Nitric Oxide', 'Nitroprusside', 'Novasource', 'Nutren 2.0 (3/4)', 'OR EBL', 'Octreotide', 'Oral Care', 'Oral Cavity', 'Orientation', 'Orthostatic HR lying', 'Ostomy Care', 'Oxacillin', 'PA line ordered on POE', 'PACU PO Intake', 'PANTOPRAZOLE', 'PCWP', 'PENICILLIN G', 'PERITONEAL FLUID', 'PICC Ordered on POE', 'PLEURAL FLUID', 'PORPHYROMONAS SPECIES', 'PPN', 'PROTONIX', 'PROTONIX DRIP', 'PROTONIX MG/HR', 'PTT', 'Pacer Rate', 'Pain Cause', 'Pain Level', 'Pain Location', 'Pain Present', 'Pain Type', 'Pantoprazole', 'Paracentesis', 'Parameters Checked', 'Paroxysmal Sweats', 'Peak Insp. Pressure', 'Peritoneal Fluid', 'Phenobarbital', 'Phosphorous', 'Photodynamic therapy PDT (Bronch)', 'Pin Care', 'Plateau Pressure', 'Platelet Count', 'Platelets', 'Position', 'Position Change', 'Potassium', 'Potassium Chloride', 'Potassium Phosphate', 'Pre-Admission Intake', 'Precedex', 'Precedex (mcg/kg/hr)', 'Precedex mcg/kg/hr', 'Primo study cc/hr', 'Procainamide', 'Procan', 'Procan Napa', 'Pronator Drift', 'Propofol', 'Protonix', 'Protonix gtt', 'Protonix mg/hr', 'QTc', 'QUINIDINE', 'RL Strength/Movement', 'RLL Lung Sounds', 'RU Strength/Movement', 'RUL Lung Sounds', 'Range of Motion', 'Ranitidine', 'Readmission', 'Religion', 'Replaced previous Arterial line over wire', 'Respiratory Effort', 'Respiratory Pattern', 'Respiratory Rate', 'Restraint Device (Violent)', 'Restraint Location', 'Restraint Type', 'Restraint/Seclusion Observer Sheet', 'Restraints Evaluated', 'Rifampin', 'Riker-SAS Scale', 'Risk for Falls', 'SOLUMEDROL DRIP', 'SOLUMEDROL DRIP.', 'SOLUMEDROL MG/KG/HR', 'SPIT', 'STUDY DRUG', 'SWAB', 'Safety Measures', 'Sed Rate', 'Seizure', 'Seizure Activity', 'Seizure Duration', 'Seizure Pads', 'Sensory Level', 'Serum Osmolality', 'Service', 'Side Rails', 'Site cleaned with ChloraPrep (PACEN)', 'Site cleaned with ChloraPrep(TM) (A-Line)', 'Site cleaned with ChloraPrep(TM) (CVL)', 'Site cleaned with ChloraPrep(TM) (PICC)', 'Site cleansed with ChloraPrep (THCEN)', 'Sitter', 'Skin Care', 'Skin Color', 'Skin Condition', 'Skin Integrity', 'Slope', 'Slurred Speech', 'Sodium Bicarb', 'Sodium Chloride', 'Solumedrol', 'Speech', 'Spiritual Support', 'Spits', 'Spontaneous Movement', 'Sputum Consistency', 'Sputum Source', 'Sterile Water', 'Sterile field maintained throughout procedure (A-Line)', 'Sterile field maintained throughout procedure (CVL)', 'Sterile field maintained throughout procedure (PA line)', 'Sterile field maintained throughout procedure (PICC)', 'Stool Guaiac', 'Stool Management', 'Stool [Color]', 'Stylette (Intubation)', 'Sucrose', 'Support Systems', 'SvO2', 'Sweating', 'System Integrity', 'TF Residual', 'THAM', 'TISSUE', 'TOF Response/Twitch', 'TPA', 'TPA MG/HR', 'TPN', 'Tactile Disturbances', 'Therapeutic Bed', 'Thermodilution (PA line)', 'Thiamine', 'Thoracentesis', 'Thrombin', 'Tobramycin', 'Total PEEP Level', 'Total Protein', 'Trach Care', 'Traction/Immobile #1', 'Traction/Immobile #2', 'Traction/Immobile #3', 'Traction/Immobile #4', 'Transbronchial biopsy (Bronch)', 'Transbronchial needle aspirate (Bronch)', 'Transparent dressing applied and dated (CVL)', 'Transparent dressing applied and dated (PA line)', 'Transparent dressing applied and dated (PICC)', 'Triglyceride', 'Tube Secured (Intubation)', 'Turn', 'URINE', 'Umbi hernia', 'Unable to complete Airway Assessment (Intubation)', 'Untoward Effect', 'Uric Acid', 'Urine Source', 'VEN Lumen Volume', 'Vancomycin', 'Vasopressin', 'Vecuronium', 'Ventilator Mode', 'Ventilator Type', 'Ventricular Drain', 'Verapamil', 'Visual Disturbances', 'Void', 'WBC', 'Whole Blood', 'XYGRIS', 'Xigris', 'Xygris', 'Yawning', '[Color]', 'albumin', 'alcohol gtt', 'alteplase', 'aprotanin', 'aprotanine', 'aprotinin cc/hr', 'aprotinine', 'bupivacaine', 'cariporide', 'circ', 'cisatricurium', 'corlopam mcgs/kg/min', 'cyclosporin', 'cyclosporine', 'd5w 10gm ca+ glucon', 'demerol', 'dexmedetomidine', 'enema', 'epidural', 'flolan', 'glucagon', 'ileostomy', 'intrathecal catheter', 'j-tube flush', 'methadone', 'methylprednisolone', 'mucomyst', 'mucous fistula', 'multivitamins', 'mushroom catheter', 'ngt residual', 'nicardipine gtt', 'nimbex', 'nimbex mcg/kg/min', 'normal saline bolus', 'ns bolus', 'octreotide', 'ostomy', 'other', 'pad change', 'pantoprazole', 'pigtail flush', 'protonics', 'protonix', 'protonix 80mg/250cc', 'rectal tube', 'right arm', 'rituximab', 'sodium bicarb', 'solumedrol drip', 'study drug', 'thoracentesis', 'vasopressin unit/min', 'xigris mcg/kg/hr', 'xygris']\n"
     ]
    }
   ],
   "source": [
    "grouped_lbl = items.groupby('label')['itemid'].nunique() # unique values of id (ignores nan) - grouped by label\n",
    "duplicate_labels = grouped_lbl[grouped_lbl > 1].index.tolist() # if it appears more than 1 time, put it in the list\n",
    "\n",
    "print(duplicate_labels)"
   ]
  },
  {
   "cell_type": "code",
   "execution_count": 154,
   "id": "2222d40d",
   "metadata": {
    "deletable": false,
    "editable": false,
    "nbgrader": {
     "cell_type": "code",
     "checksum": "9845be3d7e523729018a30c165809927",
     "grade": true,
     "grade_id": "cell-921e7a2b9f30c798",
     "locked": true,
     "points": 2,
     "schema_version": 3,
     "solution": false,
     "task": false
    }
   },
   "outputs": [],
   "source": [
    "assert(\"Heart Rate\" in duplicate_labels)\n"
   ]
  },
  {
   "cell_type": "markdown",
   "id": "1bfe0693",
   "metadata": {
    "deletable": false,
    "editable": false,
    "nbgrader": {
     "cell_type": "markdown",
     "checksum": "d50d4c6fbd5ab01f2f9063264a3dc4ce",
     "grade": false,
     "grade_id": "cell-e5c79079d6effe56",
     "locked": true,
     "schema_version": 3,
     "solution": false,
     "task": false
    }
   },
   "source": [
    "**Knowing these duplicate features, describe how would you would work around this issue or adjust the data.**\n",
    "Describe which assumptions you are making in that approach (in regard to how the data would be used)."
   ]
  },
  {
   "cell_type": "markdown",
   "id": "50b4a143",
   "metadata": {
    "deletable": false,
    "nbgrader": {
     "cell_type": "markdown",
     "checksum": "fb99c31320ccb6204abd69bdeacf5ac9",
     "grade": true,
     "grade_id": "cell-6d1e68e22236badd",
     "locked": false,
     "points": 1,
     "schema_version": 3,
     "solution": true,
     "task": false
    }
   },
   "source": [
    "YOUR ANSWER HERE"
   ]
  },
  {
   "cell_type": "markdown",
   "id": "2a844c73",
   "metadata": {
    "deletable": false,
    "editable": false,
    "nbgrader": {
     "cell_type": "markdown",
     "checksum": "3482941fb3c2972ab3f5e46181a66730",
     "grade": false,
     "grade_id": "cell-624a7b24afa8ee3d",
     "locked": true,
     "schema_version": 3,
     "solution": false,
     "task": false
    }
   },
   "source": [
    "## Feature Engineering\n",
    "\n",
    "Sometimes you'll want add new (derived) features to a dataset for easier visualisations or machine learning methods.\n",
    "\n",
    "The following APIs may get you started:\n",
    "\n",
    "- [Timestamp](https://pandas.pydata.org/pandas-docs/stable/reference/api/pandas.Timestamp.html)\n",
    "- [Series.dt](https://pandas.pydata.org/pandas-docs/stable/reference/api/pandas.Series.dt.html)\n",
    "- [transform](https://pandas.pydata.org/pandas-docs/stable/reference/api/pandas.DataFrame.transform.html)\n",
    "- [apply](https://pandas.pydata.org/pandas-docs/stable/reference/api/pandas.DataFrame.apply.html)\n",
    "\n",
    "**Add a `admit_duration` column**\n",
    "\n",
    "Calculate the admission time (in days) and add it as a new column `admit_duration` to the admissions dataframe."
   ]
  },
  {
   "cell_type": "code",
   "execution_count": 155,
   "id": "5465d97e",
   "metadata": {
    "deletable": false,
    "nbgrader": {
     "cell_type": "code",
     "checksum": "1b5984023662722216411a2f1fea9e01",
     "grade": false,
     "grade_id": "cell-06ff8665b67bddcf",
     "locked": false,
     "schema_version": 3,
     "solution": true,
     "task": false
    }
   },
   "outputs": [
    {
     "name": "stdout",
     "output_type": "stream",
     "text": [
      "0        1 days 03:28:00\n",
      "1        5 days 11:55:00\n",
      "2        6 days 18:26:00\n",
      "3        2 days 20:34:00\n",
      "4        3 days 12:49:00\n",
      "              ...       \n",
      "58971    2 days 17:49:00\n",
      "58972    0 days 13:10:00\n",
      "58973    8 days 04:53:00\n",
      "58974   41 days 10:42:00\n",
      "58975    1 days 14:35:00\n",
      "Name: admit_duration, Length: 58976, dtype: timedelta64[ns]\n"
     ]
    }
   ],
   "source": [
    "admissions['admit_duration'] = (admissions['dischtime'] - admissions['admittime'])\n",
    "print(admissions['admit_duration'])"
   ]
  },
  {
   "cell_type": "code",
   "execution_count": 156,
   "id": "dafc6918",
   "metadata": {
    "deletable": false,
    "editable": false,
    "nbgrader": {
     "cell_type": "code",
     "checksum": "339cbe6a5a0b909d367ffe5aaf193875",
     "grade": true,
     "grade_id": "cell-0b3e1b80db290e6e",
     "locked": true,
     "points": 1,
     "schema_version": 3,
     "solution": false,
     "task": false
    }
   },
   "outputs": [],
   "source": [
    "assert(\"admit_duration\" in admissions.columns)\n"
   ]
  },
  {
   "cell_type": "markdown",
   "id": "7e272f89",
   "metadata": {
    "deletable": false,
    "editable": false,
    "nbgrader": {
     "cell_type": "markdown",
     "checksum": "10c77fb6649abdb8f276aa3b337dca02",
     "grade": false,
     "grade_id": "cell-28a7a1fdb44982ee",
     "locked": true,
     "schema_version": 3,
     "solution": false,
     "task": false
    }
   },
   "source": [
    "**Add an `admit_age` column**\n",
    "\n",
    "Calculate the age of patients (in years) for each admission and add it as a new  column `admit_age` to the admissions dataframe. Keep in mind how the dates were changed according to the dataset documentation. (Correct for patients that would be 300 years old - set their age to 89.) Use the `merge` method to link patients to admissions, similar as you would perform a JOIN in SQL."
   ]
  },
  {
   "cell_type": "code",
   "execution_count": 157,
   "id": "e9bc8511",
   "metadata": {
    "deletable": false,
    "nbgrader": {
     "cell_type": "code",
     "checksum": "f2685b0e24150f86c400247c019f8a0d",
     "grade": false,
     "grade_id": "cell-c64ee93282ca8a13",
     "locked": false,
     "schema_version": 3,
     "solution": true,
     "task": false
    }
   },
   "outputs": [
    {
     "name": "stdout",
     "output_type": "stream",
     "text": [
      "0        64.925394\n",
      "1        71.129363\n",
      "2        75.252567\n",
      "3        39.014374\n",
      "4        58.948665\n",
      "           ...    \n",
      "58971    19.397673\n",
      "58972    83.449692\n",
      "58973    42.529774\n",
      "58974    60.766598\n",
      "58975    63.718001\n",
      "Name: admit_age, Length: 58976, dtype: float64\n"
     ]
    }
   ],
   "source": [
    "# print(admissions['religion'].unique())\n",
    "admissions = admissions.merge(patients, how='left', on='subject_id')\n",
    "age = (admissions['admittime'][0] - admissions['dob'][0])\n",
    "# print(admissions['religion'].unique())\n",
    "\n",
    "admissions['admit_age'] = admissions.apply(lambda adm: ((adm['admittime'].to_pydatetime() - adm['dob'].to_pydatetime()).days / 365.25), axis=1)\n",
    "print(admissions['admit_age'])\n"
   ]
  },
  {
   "cell_type": "code",
   "execution_count": 158,
   "id": "fb15698d",
   "metadata": {
    "deletable": false,
    "editable": false,
    "nbgrader": {
     "cell_type": "code",
     "checksum": "f65f479d5cfcd3b0dfc37acd2e22db7f",
     "grade": true,
     "grade_id": "cell-10fd1c184bf42fc5",
     "locked": true,
     "points": 2,
     "schema_version": 3,
     "solution": false,
     "task": false
    }
   },
   "outputs": [
    {
     "name": "stdout",
     "output_type": "stream",
     "text": [
      "Before 89y cap: 311.55373032169746\n",
      "After 89y cap: 89.0\n"
     ]
    }
   ],
   "source": [
    "print(f\"Before 89y cap: {admissions['admit_age'].max()}\")\n",
    "admissions['admit_age'] = [89 if (age >= 299) else age for age in admissions['admit_age']]\n",
    "print(f\"After 89y cap: {admissions['admit_age'].max()}\")\n",
    "\n",
    "assert('admit_age' in admissions.columns)\n"
   ]
  },
  {
   "cell_type": "markdown",
   "id": "cbe03530",
   "metadata": {
    "deletable": false,
    "editable": false,
    "nbgrader": {
     "cell_type": "markdown",
     "checksum": "892a3ef923651237357c907c258bf2fb",
     "grade": false,
     "grade_id": "cell-24e8ce7fa1ad9d52",
     "locked": true,
     "schema_version": 3,
     "solution": false,
     "task": false
    }
   },
   "source": [
    "**Add a `status` column**\n",
    "\n",
    "Create a new column that indicates if a patient is alive, died inside the hospital, or died outside the hospital\n",
    "Use `ALIVE`, `HOSPITAL_DEATH`, `DEATH` as possible values.\n",
    "Add these entries to a new column called `status` in the patients dataframe."
   ]
  },
  {
   "cell_type": "code",
   "execution_count": 193,
   "id": "9d4cdd01",
   "metadata": {
    "deletable": false,
    "nbgrader": {
     "cell_type": "code",
     "checksum": "81206dce0f9f3ae936bf279411696132",
     "grade": false,
     "grade_id": "cell-03fdc76ecd027062",
     "locked": false,
     "schema_version": 3,
     "solution": true,
     "task": false
    }
   },
   "outputs": [
    {
     "name": "stdout",
     "output_type": "stream",
     "text": [
      "['ALIVE' 'HOSPITAL_DEATH' 'DEATH']\n"
     ]
    }
   ],
   "source": [
    "# if the patient did not die in the hospital but has an expired flag -> DEATH\n",
    "patients['status'] = patients.apply(lambda pat: ('ALIVE' if pat['expire_flag'] != 1 else ('DEATH' if pd.isnull(pat['dod_hosp']) else 'HOSPITAL_DEATH')), axis=1)\n",
    "\n",
    "print(patients['status'].unique())"
   ]
  },
  {
   "cell_type": "code",
   "execution_count": 194,
   "id": "bb1695aa",
   "metadata": {
    "deletable": false,
    "editable": false,
    "nbgrader": {
     "cell_type": "code",
     "checksum": "93ed36b5b09f0bf62b0770b5a0904f3f",
     "grade": true,
     "grade_id": "cell-be6631191d355179",
     "locked": true,
     "points": 2,
     "schema_version": 3,
     "solution": false,
     "task": false
    }
   },
   "outputs": [],
   "source": [
    "assert('status' in patients.columns)\n"
   ]
  },
  {
   "cell_type": "markdown",
   "id": "6e74f9d3",
   "metadata": {
    "deletable": false,
    "editable": false,
    "nbgrader": {
     "cell_type": "markdown",
     "checksum": "a85152abc982d6227260f8def21a9797",
     "grade": false,
     "grade_id": "cell-c119153d30ad9d36",
     "locked": true,
     "schema_version": 3,
     "solution": false,
     "task": false
    }
   },
   "source": [
    "## Data Analysis\n",
    "\n",
    "Often, one starts with exploratory data analysis to get a feel of the structure and quality of the data. A need for additional cleanup may become apparant.\n",
    "In later stages, you will have a better view of what you wish to learn from the data.\n",
    "\n",
    "**How many admissions stated a `BUDDHIST` religion?** "
   ]
  },
  {
   "cell_type": "code",
   "execution_count": 195,
   "id": "4d15a255",
   "metadata": {
    "deletable": false,
    "nbgrader": {
     "cell_type": "code",
     "checksum": "befaa23d56148f82bcd27b1d637bd13c",
     "grade": false,
     "grade_id": "cell-54630b75c1488653",
     "locked": false,
     "schema_version": 3,
     "solution": true,
     "task": false
    }
   },
   "outputs": [
    {
     "name": "stdout",
     "output_type": "stream",
     "text": [
      "267\n"
     ]
    }
   ],
   "source": [
    "num_buddhists = len(admissions[admissions['religion'] == 'BUDDHIST'])\n",
    "print(num_buddhists)\n",
    "\n",
    "# print(admissions['religion'])"
   ]
  },
  {
   "cell_type": "code",
   "execution_count": 196,
   "id": "a0abd384",
   "metadata": {
    "deletable": false,
    "editable": false,
    "nbgrader": {
     "cell_type": "code",
     "checksum": "754737612ddd8dc5393055f3a9dfc4d8",
     "grade": true,
     "grade_id": "cell-a4ceea21029fbf76",
     "locked": true,
     "points": 0,
     "schema_version": 3,
     "solution": false,
     "task": false
    }
   },
   "outputs": [
    {
     "name": "stdout",
     "output_type": "stream",
     "text": [
      "There are 267 buddhists.\n"
     ]
    }
   ],
   "source": [
    "print(f\"There are {num_buddhists} buddhists.\")"
   ]
  },
  {
   "cell_type": "markdown",
   "id": "4db071fa",
   "metadata": {
    "deletable": false,
    "editable": false,
    "nbgrader": {
     "cell_type": "markdown",
     "checksum": "bad8b16068bb8c832108e725ca1a0c6c",
     "grade": false,
     "grade_id": "cell-e69de94c87c150da",
     "locked": true,
     "schema_version": 3,
     "solution": false,
     "task": false
    }
   },
   "source": [
    "**How many admissions stated a `MARRIED` marital status?**"
   ]
  },
  {
   "cell_type": "code",
   "execution_count": 197,
   "id": "66439c1a",
   "metadata": {
    "deletable": false,
    "nbgrader": {
     "cell_type": "code",
     "checksum": "871adb2887d2e0b5dcfd6a34d12b1600",
     "grade": false,
     "grade_id": "cell-9116012e3da7c3d5",
     "locked": false,
     "schema_version": 3,
     "solution": true,
     "task": false
    }
   },
   "outputs": [
    {
     "name": "stdout",
     "output_type": "stream",
     "text": [
      "24239\n"
     ]
    }
   ],
   "source": [
    "num_married = len(admissions[admissions['marital_status'] == 'MARRIED'])\n",
    "print(num_married)\n",
    "# print(admissions['marital_status'])\n"
   ]
  },
  {
   "cell_type": "code",
   "execution_count": 198,
   "id": "1efda4de",
   "metadata": {
    "deletable": false,
    "editable": false,
    "nbgrader": {
     "cell_type": "code",
     "checksum": "0f3f50b579d3505b84ed8a7a82b18143",
     "grade": true,
     "grade_id": "cell-b0c82d3c355dee5c",
     "locked": true,
     "points": 0,
     "schema_version": 3,
     "solution": false,
     "task": false
    }
   },
   "outputs": [
    {
     "name": "stdout",
     "output_type": "stream",
     "text": [
      "There are 24239 married people.\n"
     ]
    }
   ],
   "source": [
    "print(f\"There are {num_married} married people.\")"
   ]
  },
  {
   "cell_type": "markdown",
   "id": "b1b4b844",
   "metadata": {
    "deletable": false,
    "editable": false,
    "nbgrader": {
     "cell_type": "markdown",
     "checksum": "090a177bdecdf4424544f813e9b9921f",
     "grade": false,
     "grade_id": "cell-4947344f303111b6",
     "locked": true,
     "schema_version": 3,
     "solution": false,
     "task": false
    }
   },
   "source": [
    "**How many admissions stated a `MARRIED` `BUDDIST`?**"
   ]
  },
  {
   "cell_type": "code",
   "execution_count": 199,
   "id": "7b4be521",
   "metadata": {
    "deletable": false,
    "nbgrader": {
     "cell_type": "code",
     "checksum": "dcc07541bf163a1e78bc00e150cd648a",
     "grade": false,
     "grade_id": "cell-cb99a399dc0a3b6a",
     "locked": false,
     "schema_version": 3,
     "solution": true,
     "task": false
    }
   },
   "outputs": [
    {
     "name": "stdout",
     "output_type": "stream",
     "text": [
      "133\n"
     ]
    }
   ],
   "source": [
    "num_married_buddhists = len(admissions[(admissions['religion'] == 'BUDDHIST') & (admissions['marital_status'] == 'MARRIED')])\n",
    "print(num_married_buddhists)\n"
   ]
  },
  {
   "cell_type": "code",
   "execution_count": 200,
   "id": "ac7a345a",
   "metadata": {
    "deletable": false,
    "editable": false,
    "nbgrader": {
     "cell_type": "code",
     "checksum": "cc400ad5d16eca1c6ea1de284062b828",
     "grade": true,
     "grade_id": "cell-c7e1cea9e69438ca",
     "locked": true,
     "points": 1,
     "schema_version": 3,
     "solution": false,
     "task": false
    }
   },
   "outputs": [
    {
     "name": "stdout",
     "output_type": "stream",
     "text": [
      "There are 133 married buddhists.\n"
     ]
    }
   ],
   "source": [
    "print(f\"There are {num_married_buddhists} married buddhists.\")\n"
   ]
  },
  {
   "cell_type": "markdown",
   "id": "a4b7fef2",
   "metadata": {
    "deletable": false,
    "editable": false,
    "nbgrader": {
     "cell_type": "markdown",
     "checksum": "781282f9c38130dbef26f739237d0e49",
     "grade": false,
     "grade_id": "cell-d39123c10d62f748",
     "locked": true,
     "schema_version": 3,
     "solution": false,
     "task": false
    }
   },
   "source": [
    "**Create a dataframe showing the counts of every religion (rows) and every marital status (columns).**\n",
    "\n",
    "Use one of the following:\n",
    "- [pivot_table](https://pandas.pydata.org/pandas-docs/stable/reference/api/pandas.pivot_table.html)\n",
    "- [crosstab](https://pandas.pydata.org/pandas-docs/stable/reference/api/pandas.crosstab.html)\n",
    "- [groupby](https://pandas.pydata.org/pandas-docs/stable/reference/api/pandas.DataFrame.groupby.html)"
   ]
  },
  {
   "cell_type": "code",
   "execution_count": 201,
   "id": "86cbd68e",
   "metadata": {
    "deletable": false,
    "nbgrader": {
     "cell_type": "code",
     "checksum": "d3a81a8b74859bb13605889f650d09aa",
     "grade": false,
     "grade_id": "cell-e2c82576da90feb9",
     "locked": false,
     "schema_version": 3,
     "solution": true,
     "task": false
    }
   },
   "outputs": [
    {
     "name": "stdout",
     "output_type": "stream",
     "text": [
      "<class 'pandas.core.frame.DataFrame'>\n"
     ]
    },
    {
     "data": {
      "text/html": [
       "<div>\n",
       "<style scoped>\n",
       "    .dataframe tbody tr th:only-of-type {\n",
       "        vertical-align: middle;\n",
       "    }\n",
       "\n",
       "    .dataframe tbody tr th {\n",
       "        vertical-align: top;\n",
       "    }\n",
       "\n",
       "    .dataframe thead th {\n",
       "        text-align: right;\n",
       "    }\n",
       "</style>\n",
       "<table border=\"1\" class=\"dataframe\">\n",
       "  <thead>\n",
       "    <tr style=\"text-align: right;\">\n",
       "      <th>marital_status</th>\n",
       "      <th>DIVORCED</th>\n",
       "      <th>LIFE PARTNER</th>\n",
       "      <th>MARRIED</th>\n",
       "      <th>SEPARATED</th>\n",
       "      <th>SINGLE</th>\n",
       "      <th>UNKNOWN (DEFAULT)</th>\n",
       "      <th>WIDOWED</th>\n",
       "    </tr>\n",
       "    <tr>\n",
       "      <th>religion</th>\n",
       "      <th></th>\n",
       "      <th></th>\n",
       "      <th></th>\n",
       "      <th></th>\n",
       "      <th></th>\n",
       "      <th></th>\n",
       "      <th></th>\n",
       "    </tr>\n",
       "  </thead>\n",
       "  <tbody>\n",
       "    <tr>\n",
       "      <th>7TH DAY ADVENTIST</th>\n",
       "      <td>2</td>\n",
       "      <td>0</td>\n",
       "      <td>42</td>\n",
       "      <td>1</td>\n",
       "      <td>23</td>\n",
       "      <td>0</td>\n",
       "      <td>5</td>\n",
       "    </tr>\n",
       "    <tr>\n",
       "      <th>BAPTIST</th>\n",
       "      <td>2</td>\n",
       "      <td>0</td>\n",
       "      <td>10</td>\n",
       "      <td>0</td>\n",
       "      <td>10</td>\n",
       "      <td>0</td>\n",
       "      <td>6</td>\n",
       "    </tr>\n",
       "    <tr>\n",
       "      <th>BUDDHIST</th>\n",
       "      <td>8</td>\n",
       "      <td>1</td>\n",
       "      <td>133</td>\n",
       "      <td>1</td>\n",
       "      <td>63</td>\n",
       "      <td>0</td>\n",
       "      <td>12</td>\n",
       "    </tr>\n",
       "    <tr>\n",
       "      <th>CATHOLIC</th>\n",
       "      <td>1265</td>\n",
       "      <td>5</td>\n",
       "      <td>9488</td>\n",
       "      <td>219</td>\n",
       "      <td>4347</td>\n",
       "      <td>52</td>\n",
       "      <td>2899</td>\n",
       "    </tr>\n",
       "    <tr>\n",
       "      <th>CHRISTIAN SCIENTIST</th>\n",
       "      <td>14</td>\n",
       "      <td>0</td>\n",
       "      <td>149</td>\n",
       "      <td>16</td>\n",
       "      <td>122</td>\n",
       "      <td>2</td>\n",
       "      <td>34</td>\n",
       "    </tr>\n",
       "    <tr>\n",
       "      <th>EPISCOPALIAN</th>\n",
       "      <td>86</td>\n",
       "      <td>0</td>\n",
       "      <td>362</td>\n",
       "      <td>3</td>\n",
       "      <td>128</td>\n",
       "      <td>1</td>\n",
       "      <td>113</td>\n",
       "    </tr>\n",
       "    <tr>\n",
       "      <th>GREEK ORTHODOX</th>\n",
       "      <td>23</td>\n",
       "      <td>0</td>\n",
       "      <td>246</td>\n",
       "      <td>4</td>\n",
       "      <td>73</td>\n",
       "      <td>1</td>\n",
       "      <td>71</td>\n",
       "    </tr>\n",
       "    <tr>\n",
       "      <th>HEBREW</th>\n",
       "      <td>0</td>\n",
       "      <td>0</td>\n",
       "      <td>11</td>\n",
       "      <td>0</td>\n",
       "      <td>2</td>\n",
       "      <td>0</td>\n",
       "      <td>3</td>\n",
       "    </tr>\n",
       "    <tr>\n",
       "      <th>HINDU</th>\n",
       "      <td>0</td>\n",
       "      <td>0</td>\n",
       "      <td>47</td>\n",
       "      <td>0</td>\n",
       "      <td>12</td>\n",
       "      <td>1</td>\n",
       "      <td>10</td>\n",
       "    </tr>\n",
       "    <tr>\n",
       "      <th>JEHOVAH'S WITNESS</th>\n",
       "      <td>16</td>\n",
       "      <td>0</td>\n",
       "      <td>57</td>\n",
       "      <td>9</td>\n",
       "      <td>34</td>\n",
       "      <td>0</td>\n",
       "      <td>11</td>\n",
       "    </tr>\n",
       "    <tr>\n",
       "      <th>JEWISH</th>\n",
       "      <td>255</td>\n",
       "      <td>1</td>\n",
       "      <td>2571</td>\n",
       "      <td>22</td>\n",
       "      <td>735</td>\n",
       "      <td>15</td>\n",
       "      <td>1234</td>\n",
       "    </tr>\n",
       "    <tr>\n",
       "      <th>LUTHERAN</th>\n",
       "      <td>0</td>\n",
       "      <td>0</td>\n",
       "      <td>1</td>\n",
       "      <td>0</td>\n",
       "      <td>0</td>\n",
       "      <td>0</td>\n",
       "      <td>0</td>\n",
       "    </tr>\n",
       "    <tr>\n",
       "      <th>METHODIST</th>\n",
       "      <td>0</td>\n",
       "      <td>0</td>\n",
       "      <td>2</td>\n",
       "      <td>2</td>\n",
       "      <td>2</td>\n",
       "      <td>1</td>\n",
       "      <td>0</td>\n",
       "    </tr>\n",
       "    <tr>\n",
       "      <th>MUSLIM</th>\n",
       "      <td>12</td>\n",
       "      <td>0</td>\n",
       "      <td>100</td>\n",
       "      <td>3</td>\n",
       "      <td>46</td>\n",
       "      <td>0</td>\n",
       "      <td>17</td>\n",
       "    </tr>\n",
       "    <tr>\n",
       "      <th>NOT SPECIFIED</th>\n",
       "      <td>563</td>\n",
       "      <td>6</td>\n",
       "      <td>4589</td>\n",
       "      <td>107</td>\n",
       "      <td>3797</td>\n",
       "      <td>50</td>\n",
       "      <td>935</td>\n",
       "    </tr>\n",
       "    <tr>\n",
       "      <th>OTHER</th>\n",
       "      <td>129</td>\n",
       "      <td>0</td>\n",
       "      <td>1126</td>\n",
       "      <td>28</td>\n",
       "      <td>709</td>\n",
       "      <td>23</td>\n",
       "      <td>254</td>\n",
       "    </tr>\n",
       "    <tr>\n",
       "      <th>PROTESTANT QUAKER</th>\n",
       "      <td>593</td>\n",
       "      <td>1</td>\n",
       "      <td>3011</td>\n",
       "      <td>131</td>\n",
       "      <td>1710</td>\n",
       "      <td>20</td>\n",
       "      <td>1044</td>\n",
       "    </tr>\n",
       "    <tr>\n",
       "      <th>ROMANIAN EAST. ORTH</th>\n",
       "      <td>5</td>\n",
       "      <td>0</td>\n",
       "      <td>31</td>\n",
       "      <td>0</td>\n",
       "      <td>20</td>\n",
       "      <td>0</td>\n",
       "      <td>11</td>\n",
       "    </tr>\n",
       "    <tr>\n",
       "      <th>UNITARIAN-UNIVERSALIST</th>\n",
       "      <td>4</td>\n",
       "      <td>0</td>\n",
       "      <td>68</td>\n",
       "      <td>0</td>\n",
       "      <td>18</td>\n",
       "      <td>0</td>\n",
       "      <td>13</td>\n",
       "    </tr>\n",
       "    <tr>\n",
       "      <th>UNOBTAINABLE</th>\n",
       "      <td>227</td>\n",
       "      <td>1</td>\n",
       "      <td>2041</td>\n",
       "      <td>24</td>\n",
       "      <td>1352</td>\n",
       "      <td>178</td>\n",
       "      <td>519</td>\n",
       "    </tr>\n",
       "  </tbody>\n",
       "</table>\n",
       "</div>"
      ],
      "text/plain": [
       "marital_status          DIVORCED  LIFE PARTNER  MARRIED  SEPARATED  SINGLE  \\\n",
       "religion                                                                     \n",
       "7TH DAY ADVENTIST              2             0       42          1      23   \n",
       "BAPTIST                        2             0       10          0      10   \n",
       "BUDDHIST                       8             1      133          1      63   \n",
       "CATHOLIC                    1265             5     9488        219    4347   \n",
       "CHRISTIAN SCIENTIST           14             0      149         16     122   \n",
       "EPISCOPALIAN                  86             0      362          3     128   \n",
       "GREEK ORTHODOX                23             0      246          4      73   \n",
       "HEBREW                         0             0       11          0       2   \n",
       "HINDU                          0             0       47          0      12   \n",
       "JEHOVAH'S WITNESS             16             0       57          9      34   \n",
       "JEWISH                       255             1     2571         22     735   \n",
       "LUTHERAN                       0             0        1          0       0   \n",
       "METHODIST                      0             0        2          2       2   \n",
       "MUSLIM                        12             0      100          3      46   \n",
       "NOT SPECIFIED                563             6     4589        107    3797   \n",
       "OTHER                        129             0     1126         28     709   \n",
       "PROTESTANT QUAKER            593             1     3011        131    1710   \n",
       "ROMANIAN EAST. ORTH            5             0       31          0      20   \n",
       "UNITARIAN-UNIVERSALIST         4             0       68          0      18   \n",
       "UNOBTAINABLE                 227             1     2041         24    1352   \n",
       "\n",
       "marital_status          UNKNOWN (DEFAULT)  WIDOWED  \n",
       "religion                                            \n",
       "7TH DAY ADVENTIST                       0        5  \n",
       "BAPTIST                                 0        6  \n",
       "BUDDHIST                                0       12  \n",
       "CATHOLIC                               52     2899  \n",
       "CHRISTIAN SCIENTIST                     2       34  \n",
       "EPISCOPALIAN                            1      113  \n",
       "GREEK ORTHODOX                          1       71  \n",
       "HEBREW                                  0        3  \n",
       "HINDU                                   1       10  \n",
       "JEHOVAH'S WITNESS                       0       11  \n",
       "JEWISH                                 15     1234  \n",
       "LUTHERAN                                0        0  \n",
       "METHODIST                               1        0  \n",
       "MUSLIM                                  0       17  \n",
       "NOT SPECIFIED                          50      935  \n",
       "OTHER                                  23      254  \n",
       "PROTESTANT QUAKER                      20     1044  \n",
       "ROMANIAN EAST. ORTH                     0       11  \n",
       "UNITARIAN-UNIVERSALIST                  0       13  \n",
       "UNOBTAINABLE                          178      519  "
      ]
     },
     "execution_count": 201,
     "metadata": {},
     "output_type": "execute_result"
    }
   ],
   "source": [
    "religion_marital_df = pd.crosstab(admissions['religion'], admissions['marital_status'])\n",
    "# print(admissions.keys())\n",
    "\n",
    "print(type(religion_marital_df))\n",
    "religion_marital_df"
   ]
  },
  {
   "cell_type": "code",
   "execution_count": 202,
   "id": "898cc520",
   "metadata": {
    "deletable": false,
    "editable": false,
    "nbgrader": {
     "cell_type": "code",
     "checksum": "224734e271a0c0150bf4f96763cc29f3",
     "grade": true,
     "grade_id": "cell-eb6d5ad1d99c5f1a",
     "locked": true,
     "points": 1,
     "schema_version": 3,
     "solution": false,
     "task": false
    }
   },
   "outputs": [],
   "source": [
    "assert('DIVORCED' in religion_marital_df.columns)\n",
    "assert('BAPTIST' in religion_marital_df.index)\n"
   ]
  },
  {
   "cell_type": "markdown",
   "id": "c5fdd9d0",
   "metadata": {
    "deletable": false,
    "editable": false,
    "nbgrader": {
     "cell_type": "markdown",
     "checksum": "4d1331f7b36fc52ad5c81805a1a453f2",
     "grade": false,
     "grade_id": "cell-77a2a2920fe1af9a",
     "locked": true,
     "schema_version": 3,
     "solution": false,
     "task": false
    }
   },
   "source": [
    "**Use `describe` to find the summary statistics of `admit_duration` and `admit_age`.**"
   ]
  },
  {
   "cell_type": "code",
   "execution_count": 203,
   "id": "1a9dd5a1",
   "metadata": {
    "deletable": false,
    "nbgrader": {
     "cell_type": "code",
     "checksum": "24d916ebd3b3207c0ead629e1562ebf1",
     "grade": true,
     "grade_id": "cell-6b9fd940d5e19e28",
     "locked": false,
     "points": 1,
     "schema_version": 3,
     "solution": true,
     "task": false
    }
   },
   "outputs": [
    {
     "name": "stdout",
     "output_type": "stream",
     "text": [
      "Admit duration:\n",
      "count                         58976\n",
      "mean     10 days 03:12:50.349294628\n",
      "std      12 days 10:57:37.335463321\n",
      "min               -1 days +01:19:00\n",
      "25%                 3 days 17:51:00\n",
      "50%                 6 days 11:12:30\n",
      "75%                11 days 19:05:00\n",
      "max               294 days 15:51:00\n",
      "Name: admit_duration, dtype: object\n",
      "\n",
      "\n",
      "Admit age:\n",
      "count    58976.000000\n",
      "mean        55.046911\n",
      "std         27.164346\n",
      "min          0.000000\n",
      "25%         43.487337\n",
      "50%         61.756331\n",
      "75%         75.885010\n",
      "max         89.000000\n",
      "Name: admit_age, dtype: float64\n",
      "\n"
     ]
    }
   ],
   "source": [
    "print(f\"Admit duration:\\n{admissions['admit_duration'].describe()}\\n\")\n",
    "print(f\"\\nAdmit age:\\n{admissions['admit_age'].describe()}\\n\")"
   ]
  },
  {
   "cell_type": "markdown",
   "id": "51e8b5d0",
   "metadata": {
    "deletable": false,
    "editable": false,
    "nbgrader": {
     "cell_type": "markdown",
     "checksum": "8b37aec959d0f0cc95b0f97ba26db603",
     "grade": false,
     "grade_id": "cell-e3720bbb561f4796",
     "locked": true,
     "schema_version": 3,
     "solution": false,
     "task": false
    }
   },
   "source": [
    "## Visualisations\n",
    "\n",
    "Pandas provides [methods](https://pandas.pydata.org/pandas-docs/version/0.23.4/api.html#api-dataframe-plotting) to visualise dataframes/series, though controlling the exact layout may be less intuitive. Alternatively, [matplotlib](https://matplotlib.org/stable/tutorials/introductory/usage.html) provides a fine-grained API for creating visualisations. You will need more calls, but may find it easier to understand as each step is more explicit."
   ]
  },
  {
   "cell_type": "code",
   "execution_count": 204,
   "id": "58cc7638",
   "metadata": {},
   "outputs": [
    {
     "data": {
      "text/plain": [
       "<Axes: ylabel='status'>"
      ]
     },
     "execution_count": 204,
     "metadata": {},
     "output_type": "execute_result"
    },
    {
     "data": {
      "image/png": "[encoded data removed]",
      "text/plain": [
       "<Figure size 400x400 with 1 Axes>"
      ]
     },
     "metadata": {},
     "output_type": "display_data"
    }
   ],
   "source": [
    "# E.g.: Pandas oneliner\n",
    "patients.status.value_counts().plot.pie(autopct='%.2f', figsize=(4,4))"
   ]
  },
  {
   "cell_type": "code",
   "execution_count": 205,
   "id": "19a328e4",
   "metadata": {},
   "outputs": [
    {
     "data": {
      "image/png": "[encoded data removed]",
      "text/plain": [
       "<Figure size 400x400 with 1 Axes>"
      ]
     },
     "metadata": {},
     "output_type": "display_data"
    }
   ],
   "source": [
    "# E.g.: Matplotlib\n",
    "plot_data = patients.status.value_counts()\n",
    "fig = plt.figure(figsize=(4,4))\n",
    "plt.pie(plot_data.values, labels=plot_data.index, autopct='%.2f')\n",
    "plt.show()"
   ]
  },
  {
   "cell_type": "markdown",
   "id": "15fb388f",
   "metadata": {
    "deletable": false,
    "editable": false,
    "nbgrader": {
     "cell_type": "markdown",
     "checksum": "32d43b401d6e80d06f4bf5c83b870526",
     "grade": false,
     "grade_id": "cell-67ed33bf19e8ba8c",
     "locked": true,
     "schema_version": 3,
     "solution": false,
     "task": false
    }
   },
   "source": [
    "**Create a piechart for both genders.**\n",
    "\n",
    "Plot 2 piecharts next to each other as above, showing the status of patients, one for each gender."
   ]
  },
  {
   "cell_type": "code",
   "execution_count": 212,
   "id": "a0d76ee4",
   "metadata": {
    "deletable": false,
    "nbgrader": {
     "cell_type": "code",
     "checksum": "d9a072305e5244ca4fd688cf26fb9a77",
     "grade": true,
     "grade_id": "cell-d99c5e95ec9eca29",
     "locked": false,
     "points": 1,
     "schema_version": 3,
     "solution": true,
     "task": false
    }
   },
   "outputs": [
    {
     "data": {
      "image/png": "[encoded data removed]",
      "text/plain": [
       "<Figure size 400x400 with 1 Axes>"
      ]
     },
     "metadata": {},
     "output_type": "display_data"
    },
    {
     "data": {
      "image/png": "[encoded data removed]",
      "text/plain": [
       "<Figure size 400x400 with 1 Axes>"
      ]
     },
     "metadata": {},
     "output_type": "display_data"
    }
   ],
   "source": [
    "# print(patients.keys())\n",
    "plot_status_male = patients[patients['gender'] == 'M'].value_counts(subset=patients['status'])\n",
    "fig = plt.figure(figsize=(4,4))\n",
    "plt.pie(plot_status_male, labels=plot_status_male.index, autopct='%.2f')\n",
    "plt.title(\"Status for Males\")\n",
    "plt.show()\n",
    "\n",
    "\n",
    "plot_status_female = patients[patients['gender'] == 'F'].value_counts(subset=patients['status'])\n",
    "fig = plt.figure(figsize=(4,4))\n",
    "plt.pie(plot_status_female, labels=plot_status_female.index, autopct='%.2f')\n",
    "plt.title(\"Status for Females\")\n",
    "plt.show()"
   ]
  },
  {
   "cell_type": "markdown",
   "id": "22f54588",
   "metadata": {
    "deletable": false,
    "editable": false,
    "nbgrader": {
     "cell_type": "markdown",
     "checksum": "0c374a7f3affba3e66a56850c683c6e4",
     "grade": false,
     "grade_id": "cell-70b29bc22e8797cf",
     "locked": true,
     "schema_version": 3,
     "solution": false,
     "task": false
    }
   },
   "source": [
    "**Histogram of admission time**\n",
    "\n",
    "Create a histogram that shows how many admissions take place at each hour of the day. The x-axis should show the time of day, ranging from 0 to 23 (buckets of one hour). The y-axis should show the number of admissions."
   ]
  },
  {
   "cell_type": "code",
   "execution_count": null,
   "id": "e01cd6db",
   "metadata": {
    "deletable": false,
    "nbgrader": {
     "cell_type": "code",
     "checksum": "f975d57a3c29a9db90095bfc45ef5d4a",
     "grade": true,
     "grade_id": "cell-e33fc99ad8da24d6",
     "locked": false,
     "points": 2,
     "schema_version": 3,
     "solution": true,
     "task": false
    }
   },
   "outputs": [],
   "source": []
  },
  {
   "cell_type": "markdown",
   "id": "a68bfbf8",
   "metadata": {
    "deletable": false,
    "editable": false,
    "nbgrader": {
     "cell_type": "markdown",
     "checksum": "985a82573954780e6fe8d5cd5d875225",
     "grade": false,
     "grade_id": "cell-78a3259cf4975831",
     "locked": true,
     "schema_version": 3,
     "solution": false,
     "task": false
    }
   },
   "source": [
    "**Create a scatter plot that show admission duration per age**\n",
    "\n",
    "Use the alpha parameter to better visualise the concentration of points. Use the figure size or axis limits to ensure enough detail is visible."
   ]
  },
  {
   "cell_type": "code",
   "execution_count": null,
   "id": "7cb0f460",
   "metadata": {
    "deletable": false,
    "nbgrader": {
     "cell_type": "code",
     "checksum": "0ea31cc4326c0a3ab6531a18c4c71632",
     "grade": true,
     "grade_id": "cell-a467f06dd30c149e",
     "locked": false,
     "points": 2,
     "schema_version": 3,
     "solution": true,
     "task": false
    }
   },
   "outputs": [],
   "source": [
    "# YOUR CODE HERE\n",
    "raise NotImplementedError()"
   ]
  },
  {
   "cell_type": "markdown",
   "id": "96ae6e42",
   "metadata": {
    "deletable": false,
    "editable": false,
    "nbgrader": {
     "cell_type": "markdown",
     "checksum": "f44f48d418bf61ee8e7d9316563c89ce",
     "grade": false,
     "grade_id": "cell-3ebb9b16223cbb09",
     "locked": true,
     "schema_version": 3,
     "solution": false,
     "task": false
    }
   },
   "source": [
    "**Create a stack bargraph**\n",
    "\n",
    "Visualise how the number of admission types (`admission_type`) evolves throughout different age groups. Define age groups to somewhat aggregate the data in a way that makes sense (e.g. groups spanning an age range of 5 years). Ensure your axes are labeled and use custom labels to indicate the age groups. In other words: you figure should be understandable without any additional explanation."
   ]
  },
  {
   "cell_type": "code",
   "execution_count": null,
   "id": "2bec2dbb",
   "metadata": {
    "deletable": false,
    "nbgrader": {
     "cell_type": "code",
     "checksum": "7fb335d016b3107173214a8bc95c075c",
     "grade": true,
     "grade_id": "cell-60b7a4b5e86876f5",
     "locked": false,
     "points": 3,
     "schema_version": 3,
     "solution": true,
     "task": false
    }
   },
   "outputs": [],
   "source": [
    "# YOUR CODE HERE\n",
    "raise NotImplementedError()"
   ]
  },
  {
   "cell_type": "code",
   "execution_count": null,
   "id": "b4833e3e",
   "metadata": {},
   "outputs": [],
   "source": []
  }
 ],
 "metadata": {
  "kernelspec": {
   "display_name": "Python 3 (ipykernel)",
   "language": "python",
   "name": "python3"
  },
  "language_info": {
   "codemirror_mode": {
    "name": "ipython",
    "version": 3
   },
   "file_extension": ".py",
   "mimetype": "text/x-python",
   "name": "python",
   "nbconvert_exporter": "python",
   "pygments_lexer": "ipython3",
   "version": "3.10.10"
  }
 },
 "nbformat": 4,
 "nbformat_minor": 5
}
